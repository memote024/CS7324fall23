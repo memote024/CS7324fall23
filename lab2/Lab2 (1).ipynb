{
 "cells": [
  {
   "cell_type": "markdown",
   "id": "0ec67695",
   "metadata": {},
   "source": [
    "# Lab Assignment Two: Exploring Image Data \n",
    "\n",
    "## CS 7324 Fall 2023\n",
    "## Catherine Magee, Morgan Mote, Luv Patel"
   ]
  },
  {
   "cell_type": "markdown",
   "id": "6f18a32e",
   "metadata": {},
   "source": [
    "### -------------------------------------------------------------------------------------------------------"
   ]
  },
  {
   "cell_type": "markdown",
   "id": "fcfb2de7",
   "metadata": {},
   "source": [
    "## Buisness Understanding \n",
    "\n",
    "This dataset is constructed from programs made available by NIST (National Institute of Standards and Technology). The data was collected from a total of 43 people and represents each of their handwriting. The dataset consists of 5,620 instances(rows) and 64 features (columns). The purpose of this dataset is to classify peoples handwriting of numerical values by using object recognition. There are many third parties that would benefit from object reconition such as agricuture and security. For exmaple, an agriculture company can use object recognition to detect the difference between a seedling and a dead plant, and in security we can use object recognition to alert staff of a problematic object. Further object reconition can be used for converting text into speech, which helps blind and visually impared individuals. \n",
    "    \n",
    "    \n",
    "\n",
    " #### Still need to be answered for buisness. \n",
    "Why is this data important? Once you begin modeling, how well would your prediction algorithm need to perform to be considered useful to the identified third parties? Be specific and use your own words to describe the aspects of the data. "
   ]
  },
  {
   "cell_type": "markdown",
   "id": "d5a7c29f",
   "metadata": {},
   "source": [
    "# Data Preparation\n",
    "\n",
    "\n",
    "## Loading the Dataset: Optical Recognition of Handwritten Digits\n",
    "\n",
    "### Data comes as pandas dataframe but will be converted to numpy area. "
   ]
  },
  {
   "cell_type": "code",
   "execution_count": 12,
   "id": "ca7fc913",
   "metadata": {},
   "outputs": [
    {
     "name": "stdout",
     "output_type": "stream",
     "text": [
      "      Attribute1  Attribute2  Attribute3  Attribute4  Attribute5  Attribute6  \\\n",
      "0              0           1           6          15          12           1   \n",
      "1              0           0          10          16           6           0   \n",
      "2              0           0           8          15          16          13   \n",
      "3              0           0           0           3          11          16   \n",
      "4              0           0           5          14           4           0   \n",
      "...          ...         ...         ...         ...         ...         ...   \n",
      "5615           0           0           4          10          13           6   \n",
      "5616           0           0           6          16          13          11   \n",
      "5617           0           0           1          11          15           1   \n",
      "5618           0           0           2          10           7           0   \n",
      "5619           0           0          10          14           8           1   \n",
      "\n",
      "      Attribute7  Attribute8  Attribute9  Attribute10  ...  Attribute56  \\\n",
      "0              0           0           0            7  ...            0   \n",
      "1              0           0           0            7  ...            0   \n",
      "2              0           0           0            1  ...            0   \n",
      "3              0           0           0            0  ...            0   \n",
      "4              0           0           0            0  ...            0   \n",
      "...          ...         ...         ...          ...  ...          ...   \n",
      "5615           0           0           0            1  ...            0   \n",
      "5616           1           0           0            0  ...            0   \n",
      "5617           0           0           0            0  ...            0   \n",
      "5618           0           0           0            0  ...            0   \n",
      "5619           0           0           0            2  ...            0   \n",
      "\n",
      "      Attribute57  Attribute58  Attribute59  Attribute60  Attribute61  \\\n",
      "0               0            0            6           14            7   \n",
      "1               0            0           10           16           15   \n",
      "2               0            0            9           14            0   \n",
      "3               0            0            0            1           15   \n",
      "4               0            0            4           12           14   \n",
      "...           ...          ...          ...          ...          ...   \n",
      "5615            0            0            2           14           15   \n",
      "5616            0            0            6           16           14   \n",
      "5617            0            0            2            9           13   \n",
      "5618            0            0            5           12           16   \n",
      "5619            0            1            8           12           14   \n",
      "\n",
      "      Attribute62  Attribute63  Attribute64  class  \n",
      "0               1            0            0      0  \n",
      "1               3            0            0      0  \n",
      "2               0            0            0      7  \n",
      "3               2            0            0      4  \n",
      "4               7            0            0      6  \n",
      "...           ...          ...          ...    ...  \n",
      "5615            9            0            0      9  \n",
      "5616            6            0            0      0  \n",
      "5617            6            0            0      8  \n",
      "5618           12            0            0      9  \n",
      "5619           12            1            0      8  \n",
      "\n",
      "[5620 rows x 65 columns]\n"
     ]
    }
   ],
   "source": [
    "#pip install ucimlrepo\n",
    "\n",
    "from ucimlrepo import fetch_ucirepo \n",
    "  \n",
    "# fetch dataset \n",
    "optical_recognition_of_handwritten_digits = fetch_ucirepo(id=80) \n",
    "  \n",
    "# data (as pandas dataframes) \n",
    "X = optical_recognition_of_handwritten_digits.data.features \n",
    "y = optical_recognition_of_handwritten_digits.data.targets\n",
    "\n",
    "# metadata \n",
    "print(optical_recognition_of_handwritten_digits.metadata) \n",
    "  \n",
    "# variable information \n",
    "print(optical_recognition_of_handwritten_digits.variables) \n"
   ]
  },
  {
   "cell_type": "code",
   "execution_count": 16,
   "id": "ac22069e",
   "metadata": {},
   "outputs": [
    {
     "name": "stdout",
     "output_type": "stream",
     "text": [
      "[[ 0  1  6 ...  1  0  0]\n",
      " [ 0  0 10 ...  3  0  0]\n",
      " [ 0  0  8 ...  0  0  0]\n",
      " ...\n",
      " [ 0  0  1 ...  6  0  0]\n",
      " [ 0  0  2 ... 12  0  0]\n",
      " [ 0  0 10 ... 12  1  0]]\n"
     ]
    }
   ],
   "source": [
    "import numpy as np\n",
    "X = X.to_numpy()\n",
    "y = y.to_numpy()"
   ]
  },
  {
   "cell_type": "code",
   "execution_count": 18,
   "id": "851978f1",
   "metadata": {},
   "outputs": [
    {
     "name": "stdout",
     "output_type": "stream",
     "text": [
      "0\n",
      "n_samples: 5620\n",
      "n_features: 64\n"
     ]
    }
   ],
   "source": [
    "n_samples, n_features = X.shape\n",
    "\n",
    "\n",
    "print(np.sum(~np.isfinite(X)))\n",
    "print(\"n_samples: {}\".format(n_samples))\n",
    "print(\"n_features: {}\".format(n_features))"
   ]
  },
  {
   "cell_type": "code",
   "execution_count": 34,
   "id": "6cee6228",
   "metadata": {},
   "outputs": [
    {
     "ename": "SyntaxError",
     "evalue": "invalid syntax (3484364932.py, line 3)",
     "output_type": "error",
     "traceback": [
      "\u001b[0;36m  Cell \u001b[0;32mIn[34], line 3\u001b[0;36m\u001b[0m\n\u001b[0;31m    classes = optical_recognition_of_handwritten_digits.class\u001b[0m\n\u001b[0m                                                        ^\u001b[0m\n\u001b[0;31mSyntaxError\u001b[0m\u001b[0;31m:\u001b[0m invalid syntax\n"
     ]
    }
   ],
   "source": [
    "# I think this doesn't work because of poor naming classification\n",
    "\n",
    "classes = optical_recognition_of_handwritten_digits.class\n",
    "\n",
    "print(classes)\n",
    "\n",
    "\n",
    "# This is from the notebook from class. I cannot get our dataset to run these commands. I have been trying for \n",
    "# this since tuesday if you figure it out please let me know \n",
    "\n",
    "names = lfw_people.target_names\n",
    "_, h, w = lfw_people.images.shape\n",
    "n_classes = len(names)\n",
    "print(\"n_classes: {}\".format(n_classes))\n",
    "print(\"Original Image Sizes {} by {}\".format(h,w))\n"
   ]
  },
  {
   "cell_type": "markdown",
   "id": "c33d1f69",
   "metadata": {},
   "source": [
    "## Data Preparation (1 points total)\n",
    "\n",
    "[.5 points] Read in your images as numpy arrays. Resize and recolor images as necessary. \n",
    "[.4 points] Linearize the images to create a table of 1-D image features (each row should be one image).   \n",
    "[.1 points] Visualize several images."
   ]
  },
  {
   "cell_type": "markdown",
   "id": "de0a2aa4",
   "metadata": {},
   "source": [
    "## Data Reduction (6 points total)\n",
    "\n",
    "[.5 points] Perform linear dimensionality reduction of the images using principal components analysis. Visualize the explained variance of each component. Analyze how many dimensions are required to adequately represent your image data. Explain your analysis and conclusion.\n",
    "[.5 points] Perform linear dimensionality reduction of your image data using randomized principle components analysis. Visualize the explained variance of each component. Analyze how many dimensions are required to adequately represent your image data. Explain your analysis and conclusion.\n",
    "[2 points]  Compare the representation using PCA and Randomized PCA. The method you choose to compare dimensionality methods should quantitatively explain which method is better at representing the images with fewer components.  Do you prefer one method over another? Why?\n",
    "[1 points] Perform feature extraction upon the images using any feature extraction technique (e.g., gabor filters, ordered gradients, DAISY, etc.).\n",
    "[2 points] Does this feature extraction method show promise for your prediction task? Why? Use visualizations to analyze this questions. For example, visualize the differences between statistics of extracted features in each target class. Another option, use a heat map of the pairwise differences (ordered by class) among all extracted features. Another option, build a nearest neighbor classifier to see actual classification performance.  "
   ]
  },
  {
   "cell_type": "markdown",
   "id": "8340592f",
   "metadata": {},
   "source": [
    " ## Exceptional Work (1 points total)\n",
    " \n",
    " You have free reign to provide any additional analyses. \n",
    "One idea (required for 7000 level students): Perform feature extraction upon the images using DAISY. Rather than using matching on the images with the total DAISY vector, you will instead use key point matching. You will need to investigate appropriate methods for key point matching using DAISY. NOTE: this often requires some type of brute force matching per pair of images, which can be computationally expensive. Does it do better with key point versus not?"
   ]
  },
  {
   "cell_type": "code",
   "execution_count": null,
   "id": "79b781e3",
   "metadata": {},
   "outputs": [],
   "source": []
  }
 ],
 "metadata": {
  "kernelspec": {
   "display_name": "Python 3 (ipykernel)",
   "language": "python",
   "name": "python3"
  },
  "language_info": {
   "codemirror_mode": {
    "name": "ipython",
    "version": 3
   },
   "file_extension": ".py",
   "mimetype": "text/x-python",
   "name": "python",
   "nbconvert_exporter": "python",
   "pygments_lexer": "ipython3",
   "version": "3.10.9"
  }
 },
 "nbformat": 4,
 "nbformat_minor": 5
}
