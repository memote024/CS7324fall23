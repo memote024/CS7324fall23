{
 "cells": [
  {
   "cell_type": "markdown",
   "id": "0ec67695",
   "metadata": {},
   "source": [
    "# Lab Assignment Two: Exploring Image Data \n",
    "\n",
    "## CS 7324 Fall 2023\n",
    "## Catherine Magee, Morgan Mote, Luv Patel"
   ]
  },
  {
   "cell_type": "markdown",
   "id": "6f18a32e",
   "metadata": {},
   "source": [
    "### -------------------------------------------------------------------------------------------------------"
   ]
  },
  {
   "cell_type": "markdown",
   "id": "d5a7c29f",
   "metadata": {},
   "source": [
    "## Loading the Dataset: Optical Recognition of Handwritten Digits\n",
    "\n",
    "### Data comes as pandas dataframe but will be converted to numpy area. "
   ]
  },
  {
   "cell_type": "code",
   "execution_count": 1,
   "id": "8095e096",
   "metadata": {},
   "outputs": [
    {
     "name": "stdout",
     "output_type": "stream",
     "text": [
      "           name     role         type demographic description units  \\\n",
      "0    Attribute1  Feature      Integer        None        None  None   \n",
      "1    Attribute2  Feature      Integer        None        None  None   \n",
      "2    Attribute3  Feature      Integer        None        None  None   \n",
      "3    Attribute4  Feature      Integer        None        None  None   \n",
      "4    Attribute5  Feature      Integer        None        None  None   \n",
      "..          ...      ...          ...         ...         ...   ...   \n",
      "60  Attribute61  Feature      Integer        None        None  None   \n",
      "61  Attribute62  Feature      Integer        None        None  None   \n",
      "62  Attribute63  Feature      Integer        None        None  None   \n",
      "63  Attribute64  Feature      Integer        None        None  None   \n",
      "64        class   Target  Categorical        None        None  None   \n",
      "\n",
      "   missing_values  \n",
      "0              no  \n",
      "1              no  \n",
      "2              no  \n",
      "3              no  \n",
      "4              no  \n",
      "..            ...  \n",
      "60             no  \n",
      "61             no  \n",
      "62             no  \n",
      "63             no  \n",
      "64             no  \n",
      "\n",
      "[65 rows x 7 columns]\n"
     ]
    }
   ],
   "source": [
    "# pip install ucimlrepo\n",
    "\n",
    "from ucimlrepo import fetch_ucirepo \n",
    "  \n",
    "# fetch dataset \n",
    "optical_recognition_of_handwritten_digits = fetch_ucirepo(id=80) \n",
    "  \n",
    "# data (as pandas dataframes) \n",
    "X = optical_recognition_of_handwritten_digits.data.features \n",
    "y = optical_recognition_of_handwritten_digits.data.targets \n",
    "  \n",
    "# metadata \n",
    "#print(optical_recognition_of_handwritten_digits.metadata) \n",
    "  \n",
    "# variable information \n",
    "print(optical_recognition_of_handwritten_digits.variables)"
   ]
  },
  {
   "cell_type": "markdown",
   "id": "fcfb2de7",
   "metadata": {},
   "source": [
    "## Buisness Understanding \n",
    "\n",
    "This dataset is constructed from programs made available by NIST (National Institute of Standards and Technology). The data was collected from a total of 43 people and represents each of their handwriting. The dataset consists of 5,620 instances(rows) and 64 features (columns). The purpose of this dataset is to classify peoples handwriting of numerical values by using object recognition. There are many third parties that would benefit from object reconition such as agricuture and security. For exmaple, an agriculture company can use object recognition to detect the difference between a seedling and a dead plant, and in security we can use object recognition to alert staff of a problematic object. Further object reconition can be used for converting text into speech, which helps blind and visually impared individuals. \n",
    "    \n",
    "    \n",
    "\n",
    " #### Still need to be answered for buisness. \n",
    "Why is this data important? Once you begin modeling, how well would your prediction algorithm need to perform to be considered useful to the identified third parties? Be specific and use your own words to describe the aspects of the data. "
   ]
  },
  {
   "cell_type": "markdown",
   "id": "c33d1f69",
   "metadata": {},
   "source": [
    "## Data Preparation (1 points total)\n",
    "\n",
    "[.5 points] Read in your images as numpy arrays. Resize and recolor images as necessary. \n",
    "[.4 points] Linearize the images to create a table of 1-D image features (each row should be one image).   \n",
    "[.1 points] Visualize several images."
   ]
  },
  {
   "cell_type": "code",
   "execution_count": 2,
   "id": "f8bd4369",
   "metadata": {},
   "outputs": [],
   "source": [
    "# Since our data set was read in as a pandas dataframe above we will convert them to numpy arrays. \n",
    "X = X.to_numpy()\n",
    "y = y.to_numpy()"
   ]
  },
  {
   "cell_type": "markdown",
   "id": "de0a2aa4",
   "metadata": {},
   "source": [
    "## Data Reduction (6 points total)\n",
    "\n",
    "[.5 points] Perform linear dimensionality reduction of the images using principal components analysis. Visualize the explained variance of each component. Analyze how many dimensions are required to adequately represent your image data. Explain your analysis and conclusion.\n",
    "[.5 points] Perform linear dimensionality reduction of your image data using randomized principle components analysis. Visualize the explained variance of each component. Analyze how many dimensions are required to adequately represent your image data. Explain your analysis and conclusion.\n",
    "[2 points]  Compare the representation using PCA and Randomized PCA. The method you choose to compare dimensionality methods should quantitatively explain which method is better at representing the images with fewer components.  Do you prefer one method over another? Why?\n",
    "[1 points] Perform feature extraction upon the images using any feature extraction technique (e.g., gabor filters, ordered gradients, DAISY, etc.).\n",
    "[2 points] Does this feature extraction method show promise for your prediction task? Why? Use visualizations to analyze this questions. For example, visualize the differences between statistics of extracted features in each target class. Another option, use a heat map of the pairwise differences (ordered by class) among all extracted features. Another option, build a nearest neighbor classifier to see actual classification performance.  "
   ]
  },
  {
   "cell_type": "markdown",
   "id": "8340592f",
   "metadata": {},
   "source": [
    " ## Exceptional Work (1 points total)\n",
    " \n",
    " You have free reign to provide any additional analyses. \n",
    "One idea (required for 7000 level students): Perform feature extraction upon the images using DAISY. Rather than using matching on the images with the total DAISY vector, you will instead use key point matching. You will need to investigate appropriate methods for key point matching using DAISY. NOTE: this often requires some type of brute force matching per pair of images, which can be computationally expensive."
   ]
  },
  {
   "cell_type": "code",
   "execution_count": null,
   "id": "79b781e3",
   "metadata": {},
   "outputs": [],
   "source": []
  }
 ],
 "metadata": {
  "kernelspec": {
   "display_name": "Python 3 (ipykernel)",
   "language": "python",
   "name": "python3"
  },
  "language_info": {
   "codemirror_mode": {
    "name": "ipython",
    "version": 3
   },
   "file_extension": ".py",
   "mimetype": "text/x-python",
   "name": "python",
   "nbconvert_exporter": "python",
   "pygments_lexer": "ipython3",
   "version": "3.10.9"
  }
 },
 "nbformat": 4,
 "nbformat_minor": 5
}
