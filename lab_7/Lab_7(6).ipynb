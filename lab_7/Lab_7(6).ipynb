{
  "nbformat": 4,
  "nbformat_minor": 0,
  "metadata": {
    "colab": {
      "provenance": []
    },
    "kernelspec": {
      "name": "python3",
      "display_name": "Python 3"
    },
    "language_info": {
      "name": "python"
    },
    "widgets": {
      "application/vnd.jupyter.widget-state+json": {
        "ca9835980a984fecb912b6c90c163b7e": {
          "model_module": "@jupyter-widgets/controls",
          "model_name": "HBoxModel",
          "model_module_version": "1.5.0",
          "state": {
            "_dom_classes": [],
            "_model_module": "@jupyter-widgets/controls",
            "_model_module_version": "1.5.0",
            "_model_name": "HBoxModel",
            "_view_count": null,
            "_view_module": "@jupyter-widgets/controls",
            "_view_module_version": "1.5.0",
            "_view_name": "HBoxView",
            "box_style": "",
            "children": [
              "IPY_MODEL_68c2d91c717c42c694307eb862958023",
              "IPY_MODEL_51f00b6b174547ae944886b9ab0f9dd8",
              "IPY_MODEL_d5a6ac263a984889b0f85ef52514c628"
            ],
            "layout": "IPY_MODEL_9950a8772064464fa7f4760dabaa2252"
          }
        },
        "68c2d91c717c42c694307eb862958023": {
          "model_module": "@jupyter-widgets/controls",
          "model_name": "HTMLModel",
          "model_module_version": "1.5.0",
          "state": {
            "_dom_classes": [],
            "_model_module": "@jupyter-widgets/controls",
            "_model_module_version": "1.5.0",
            "_model_name": "HTMLModel",
            "_view_count": null,
            "_view_module": "@jupyter-widgets/controls",
            "_view_module_version": "1.5.0",
            "_view_name": "HTMLView",
            "description": "",
            "description_tooltip": null,
            "layout": "IPY_MODEL_df33d7fe292e492491dcd7872acbcaad",
            "placeholder": "​",
            "style": "IPY_MODEL_4caced1e40764dc3b431f0d1c998d0f1",
            "value": "tokenizer_config.json: 100%"
          }
        },
        "51f00b6b174547ae944886b9ab0f9dd8": {
          "model_module": "@jupyter-widgets/controls",
          "model_name": "FloatProgressModel",
          "model_module_version": "1.5.0",
          "state": {
            "_dom_classes": [],
            "_model_module": "@jupyter-widgets/controls",
            "_model_module_version": "1.5.0",
            "_model_name": "FloatProgressModel",
            "_view_count": null,
            "_view_module": "@jupyter-widgets/controls",
            "_view_module_version": "1.5.0",
            "_view_name": "ProgressView",
            "bar_style": "success",
            "description": "",
            "description_tooltip": null,
            "layout": "IPY_MODEL_0a8ba241bf3b4c09b4148b35e36cee3c",
            "max": 28,
            "min": 0,
            "orientation": "horizontal",
            "style": "IPY_MODEL_d2b8d4ffff374640b1a1624c4307d3df",
            "value": 28
          }
        },
        "d5a6ac263a984889b0f85ef52514c628": {
          "model_module": "@jupyter-widgets/controls",
          "model_name": "HTMLModel",
          "model_module_version": "1.5.0",
          "state": {
            "_dom_classes": [],
            "_model_module": "@jupyter-widgets/controls",
            "_model_module_version": "1.5.0",
            "_model_name": "HTMLModel",
            "_view_count": null,
            "_view_module": "@jupyter-widgets/controls",
            "_view_module_version": "1.5.0",
            "_view_name": "HTMLView",
            "description": "",
            "description_tooltip": null,
            "layout": "IPY_MODEL_d84aade09414410eb5caca897e07139a",
            "placeholder": "​",
            "style": "IPY_MODEL_ec275241d43c46b1a5175eaf9a006445",
            "value": " 28.0/28.0 [00:00&lt;00:00, 1.65kB/s]"
          }
        },
        "9950a8772064464fa7f4760dabaa2252": {
          "model_module": "@jupyter-widgets/base",
          "model_name": "LayoutModel",
          "model_module_version": "1.2.0",
          "state": {
            "_model_module": "@jupyter-widgets/base",
            "_model_module_version": "1.2.0",
            "_model_name": "LayoutModel",
            "_view_count": null,
            "_view_module": "@jupyter-widgets/base",
            "_view_module_version": "1.2.0",
            "_view_name": "LayoutView",
            "align_content": null,
            "align_items": null,
            "align_self": null,
            "border": null,
            "bottom": null,
            "display": null,
            "flex": null,
            "flex_flow": null,
            "grid_area": null,
            "grid_auto_columns": null,
            "grid_auto_flow": null,
            "grid_auto_rows": null,
            "grid_column": null,
            "grid_gap": null,
            "grid_row": null,
            "grid_template_areas": null,
            "grid_template_columns": null,
            "grid_template_rows": null,
            "height": null,
            "justify_content": null,
            "justify_items": null,
            "left": null,
            "margin": null,
            "max_height": null,
            "max_width": null,
            "min_height": null,
            "min_width": null,
            "object_fit": null,
            "object_position": null,
            "order": null,
            "overflow": null,
            "overflow_x": null,
            "overflow_y": null,
            "padding": null,
            "right": null,
            "top": null,
            "visibility": null,
            "width": null
          }
        },
        "df33d7fe292e492491dcd7872acbcaad": {
          "model_module": "@jupyter-widgets/base",
          "model_name": "LayoutModel",
          "model_module_version": "1.2.0",
          "state": {
            "_model_module": "@jupyter-widgets/base",
            "_model_module_version": "1.2.0",
            "_model_name": "LayoutModel",
            "_view_count": null,
            "_view_module": "@jupyter-widgets/base",
            "_view_module_version": "1.2.0",
            "_view_name": "LayoutView",
            "align_content": null,
            "align_items": null,
            "align_self": null,
            "border": null,
            "bottom": null,
            "display": null,
            "flex": null,
            "flex_flow": null,
            "grid_area": null,
            "grid_auto_columns": null,
            "grid_auto_flow": null,
            "grid_auto_rows": null,
            "grid_column": null,
            "grid_gap": null,
            "grid_row": null,
            "grid_template_areas": null,
            "grid_template_columns": null,
            "grid_template_rows": null,
            "height": null,
            "justify_content": null,
            "justify_items": null,
            "left": null,
            "margin": null,
            "max_height": null,
            "max_width": null,
            "min_height": null,
            "min_width": null,
            "object_fit": null,
            "object_position": null,
            "order": null,
            "overflow": null,
            "overflow_x": null,
            "overflow_y": null,
            "padding": null,
            "right": null,
            "top": null,
            "visibility": null,
            "width": null
          }
        },
        "4caced1e40764dc3b431f0d1c998d0f1": {
          "model_module": "@jupyter-widgets/controls",
          "model_name": "DescriptionStyleModel",
          "model_module_version": "1.5.0",
          "state": {
            "_model_module": "@jupyter-widgets/controls",
            "_model_module_version": "1.5.0",
            "_model_name": "DescriptionStyleModel",
            "_view_count": null,
            "_view_module": "@jupyter-widgets/base",
            "_view_module_version": "1.2.0",
            "_view_name": "StyleView",
            "description_width": ""
          }
        },
        "0a8ba241bf3b4c09b4148b35e36cee3c": {
          "model_module": "@jupyter-widgets/base",
          "model_name": "LayoutModel",
          "model_module_version": "1.2.0",
          "state": {
            "_model_module": "@jupyter-widgets/base",
            "_model_module_version": "1.2.0",
            "_model_name": "LayoutModel",
            "_view_count": null,
            "_view_module": "@jupyter-widgets/base",
            "_view_module_version": "1.2.0",
            "_view_name": "LayoutView",
            "align_content": null,
            "align_items": null,
            "align_self": null,
            "border": null,
            "bottom": null,
            "display": null,
            "flex": null,
            "flex_flow": null,
            "grid_area": null,
            "grid_auto_columns": null,
            "grid_auto_flow": null,
            "grid_auto_rows": null,
            "grid_column": null,
            "grid_gap": null,
            "grid_row": null,
            "grid_template_areas": null,
            "grid_template_columns": null,
            "grid_template_rows": null,
            "height": null,
            "justify_content": null,
            "justify_items": null,
            "left": null,
            "margin": null,
            "max_height": null,
            "max_width": null,
            "min_height": null,
            "min_width": null,
            "object_fit": null,
            "object_position": null,
            "order": null,
            "overflow": null,
            "overflow_x": null,
            "overflow_y": null,
            "padding": null,
            "right": null,
            "top": null,
            "visibility": null,
            "width": null
          }
        },
        "d2b8d4ffff374640b1a1624c4307d3df": {
          "model_module": "@jupyter-widgets/controls",
          "model_name": "ProgressStyleModel",
          "model_module_version": "1.5.0",
          "state": {
            "_model_module": "@jupyter-widgets/controls",
            "_model_module_version": "1.5.0",
            "_model_name": "ProgressStyleModel",
            "_view_count": null,
            "_view_module": "@jupyter-widgets/base",
            "_view_module_version": "1.2.0",
            "_view_name": "StyleView",
            "bar_color": null,
            "description_width": ""
          }
        },
        "d84aade09414410eb5caca897e07139a": {
          "model_module": "@jupyter-widgets/base",
          "model_name": "LayoutModel",
          "model_module_version": "1.2.0",
          "state": {
            "_model_module": "@jupyter-widgets/base",
            "_model_module_version": "1.2.0",
            "_model_name": "LayoutModel",
            "_view_count": null,
            "_view_module": "@jupyter-widgets/base",
            "_view_module_version": "1.2.0",
            "_view_name": "LayoutView",
            "align_content": null,
            "align_items": null,
            "align_self": null,
            "border": null,
            "bottom": null,
            "display": null,
            "flex": null,
            "flex_flow": null,
            "grid_area": null,
            "grid_auto_columns": null,
            "grid_auto_flow": null,
            "grid_auto_rows": null,
            "grid_column": null,
            "grid_gap": null,
            "grid_row": null,
            "grid_template_areas": null,
            "grid_template_columns": null,
            "grid_template_rows": null,
            "height": null,
            "justify_content": null,
            "justify_items": null,
            "left": null,
            "margin": null,
            "max_height": null,
            "max_width": null,
            "min_height": null,
            "min_width": null,
            "object_fit": null,
            "object_position": null,
            "order": null,
            "overflow": null,
            "overflow_x": null,
            "overflow_y": null,
            "padding": null,
            "right": null,
            "top": null,
            "visibility": null,
            "width": null
          }
        },
        "ec275241d43c46b1a5175eaf9a006445": {
          "model_module": "@jupyter-widgets/controls",
          "model_name": "DescriptionStyleModel",
          "model_module_version": "1.5.0",
          "state": {
            "_model_module": "@jupyter-widgets/controls",
            "_model_module_version": "1.5.0",
            "_model_name": "DescriptionStyleModel",
            "_view_count": null,
            "_view_module": "@jupyter-widgets/base",
            "_view_module_version": "1.2.0",
            "_view_name": "StyleView",
            "description_width": ""
          }
        },
        "7a7704504e7e4855a20fdf3f5c03a531": {
          "model_module": "@jupyter-widgets/controls",
          "model_name": "HBoxModel",
          "model_module_version": "1.5.0",
          "state": {
            "_dom_classes": [],
            "_model_module": "@jupyter-widgets/controls",
            "_model_module_version": "1.5.0",
            "_model_name": "HBoxModel",
            "_view_count": null,
            "_view_module": "@jupyter-widgets/controls",
            "_view_module_version": "1.5.0",
            "_view_name": "HBoxView",
            "box_style": "",
            "children": [
              "IPY_MODEL_28ee9acba7fa49b6b3c092ef2b54f71f",
              "IPY_MODEL_ba88ec365d224eec9d1464b77c763f92",
              "IPY_MODEL_f6d9af5967b8493a9e0434aa824d3a87"
            ],
            "layout": "IPY_MODEL_e05e48a9a58a4ce9bf43ac7d33e9982d"
          }
        },
        "28ee9acba7fa49b6b3c092ef2b54f71f": {
          "model_module": "@jupyter-widgets/controls",
          "model_name": "HTMLModel",
          "model_module_version": "1.5.0",
          "state": {
            "_dom_classes": [],
            "_model_module": "@jupyter-widgets/controls",
            "_model_module_version": "1.5.0",
            "_model_name": "HTMLModel",
            "_view_count": null,
            "_view_module": "@jupyter-widgets/controls",
            "_view_module_version": "1.5.0",
            "_view_name": "HTMLView",
            "description": "",
            "description_tooltip": null,
            "layout": "IPY_MODEL_df15d74207c04bf583b1a10a17bbc9b9",
            "placeholder": "​",
            "style": "IPY_MODEL_b7f6b933e2514323ab025089f4951e61",
            "value": "vocab.txt: 100%"
          }
        },
        "ba88ec365d224eec9d1464b77c763f92": {
          "model_module": "@jupyter-widgets/controls",
          "model_name": "FloatProgressModel",
          "model_module_version": "1.5.0",
          "state": {
            "_dom_classes": [],
            "_model_module": "@jupyter-widgets/controls",
            "_model_module_version": "1.5.0",
            "_model_name": "FloatProgressModel",
            "_view_count": null,
            "_view_module": "@jupyter-widgets/controls",
            "_view_module_version": "1.5.0",
            "_view_name": "ProgressView",
            "bar_style": "success",
            "description": "",
            "description_tooltip": null,
            "layout": "IPY_MODEL_9c6f242c26814417af8586dc94903d31",
            "max": 231508,
            "min": 0,
            "orientation": "horizontal",
            "style": "IPY_MODEL_5e461ffb092148a8a99468c0f64cfc8a",
            "value": 231508
          }
        },
        "f6d9af5967b8493a9e0434aa824d3a87": {
          "model_module": "@jupyter-widgets/controls",
          "model_name": "HTMLModel",
          "model_module_version": "1.5.0",
          "state": {
            "_dom_classes": [],
            "_model_module": "@jupyter-widgets/controls",
            "_model_module_version": "1.5.0",
            "_model_name": "HTMLModel",
            "_view_count": null,
            "_view_module": "@jupyter-widgets/controls",
            "_view_module_version": "1.5.0",
            "_view_name": "HTMLView",
            "description": "",
            "description_tooltip": null,
            "layout": "IPY_MODEL_fd71f16736ae42b9a90129e08d18a89b",
            "placeholder": "​",
            "style": "IPY_MODEL_5a1463da299e42518971b0d600572351",
            "value": " 232k/232k [00:00&lt;00:00, 4.64MB/s]"
          }
        },
        "e05e48a9a58a4ce9bf43ac7d33e9982d": {
          "model_module": "@jupyter-widgets/base",
          "model_name": "LayoutModel",
          "model_module_version": "1.2.0",
          "state": {
            "_model_module": "@jupyter-widgets/base",
            "_model_module_version": "1.2.0",
            "_model_name": "LayoutModel",
            "_view_count": null,
            "_view_module": "@jupyter-widgets/base",
            "_view_module_version": "1.2.0",
            "_view_name": "LayoutView",
            "align_content": null,
            "align_items": null,
            "align_self": null,
            "border": null,
            "bottom": null,
            "display": null,
            "flex": null,
            "flex_flow": null,
            "grid_area": null,
            "grid_auto_columns": null,
            "grid_auto_flow": null,
            "grid_auto_rows": null,
            "grid_column": null,
            "grid_gap": null,
            "grid_row": null,
            "grid_template_areas": null,
            "grid_template_columns": null,
            "grid_template_rows": null,
            "height": null,
            "justify_content": null,
            "justify_items": null,
            "left": null,
            "margin": null,
            "max_height": null,
            "max_width": null,
            "min_height": null,
            "min_width": null,
            "object_fit": null,
            "object_position": null,
            "order": null,
            "overflow": null,
            "overflow_x": null,
            "overflow_y": null,
            "padding": null,
            "right": null,
            "top": null,
            "visibility": null,
            "width": null
          }
        },
        "df15d74207c04bf583b1a10a17bbc9b9": {
          "model_module": "@jupyter-widgets/base",
          "model_name": "LayoutModel",
          "model_module_version": "1.2.0",
          "state": {
            "_model_module": "@jupyter-widgets/base",
            "_model_module_version": "1.2.0",
            "_model_name": "LayoutModel",
            "_view_count": null,
            "_view_module": "@jupyter-widgets/base",
            "_view_module_version": "1.2.0",
            "_view_name": "LayoutView",
            "align_content": null,
            "align_items": null,
            "align_self": null,
            "border": null,
            "bottom": null,
            "display": null,
            "flex": null,
            "flex_flow": null,
            "grid_area": null,
            "grid_auto_columns": null,
            "grid_auto_flow": null,
            "grid_auto_rows": null,
            "grid_column": null,
            "grid_gap": null,
            "grid_row": null,
            "grid_template_areas": null,
            "grid_template_columns": null,
            "grid_template_rows": null,
            "height": null,
            "justify_content": null,
            "justify_items": null,
            "left": null,
            "margin": null,
            "max_height": null,
            "max_width": null,
            "min_height": null,
            "min_width": null,
            "object_fit": null,
            "object_position": null,
            "order": null,
            "overflow": null,
            "overflow_x": null,
            "overflow_y": null,
            "padding": null,
            "right": null,
            "top": null,
            "visibility": null,
            "width": null
          }
        },
        "b7f6b933e2514323ab025089f4951e61": {
          "model_module": "@jupyter-widgets/controls",
          "model_name": "DescriptionStyleModel",
          "model_module_version": "1.5.0",
          "state": {
            "_model_module": "@jupyter-widgets/controls",
            "_model_module_version": "1.5.0",
            "_model_name": "DescriptionStyleModel",
            "_view_count": null,
            "_view_module": "@jupyter-widgets/base",
            "_view_module_version": "1.2.0",
            "_view_name": "StyleView",
            "description_width": ""
          }
        },
        "9c6f242c26814417af8586dc94903d31": {
          "model_module": "@jupyter-widgets/base",
          "model_name": "LayoutModel",
          "model_module_version": "1.2.0",
          "state": {
            "_model_module": "@jupyter-widgets/base",
            "_model_module_version": "1.2.0",
            "_model_name": "LayoutModel",
            "_view_count": null,
            "_view_module": "@jupyter-widgets/base",
            "_view_module_version": "1.2.0",
            "_view_name": "LayoutView",
            "align_content": null,
            "align_items": null,
            "align_self": null,
            "border": null,
            "bottom": null,
            "display": null,
            "flex": null,
            "flex_flow": null,
            "grid_area": null,
            "grid_auto_columns": null,
            "grid_auto_flow": null,
            "grid_auto_rows": null,
            "grid_column": null,
            "grid_gap": null,
            "grid_row": null,
            "grid_template_areas": null,
            "grid_template_columns": null,
            "grid_template_rows": null,
            "height": null,
            "justify_content": null,
            "justify_items": null,
            "left": null,
            "margin": null,
            "max_height": null,
            "max_width": null,
            "min_height": null,
            "min_width": null,
            "object_fit": null,
            "object_position": null,
            "order": null,
            "overflow": null,
            "overflow_x": null,
            "overflow_y": null,
            "padding": null,
            "right": null,
            "top": null,
            "visibility": null,
            "width": null
          }
        },
        "5e461ffb092148a8a99468c0f64cfc8a": {
          "model_module": "@jupyter-widgets/controls",
          "model_name": "ProgressStyleModel",
          "model_module_version": "1.5.0",
          "state": {
            "_model_module": "@jupyter-widgets/controls",
            "_model_module_version": "1.5.0",
            "_model_name": "ProgressStyleModel",
            "_view_count": null,
            "_view_module": "@jupyter-widgets/base",
            "_view_module_version": "1.2.0",
            "_view_name": "StyleView",
            "bar_color": null,
            "description_width": ""
          }
        },
        "fd71f16736ae42b9a90129e08d18a89b": {
          "model_module": "@jupyter-widgets/base",
          "model_name": "LayoutModel",
          "model_module_version": "1.2.0",
          "state": {
            "_model_module": "@jupyter-widgets/base",
            "_model_module_version": "1.2.0",
            "_model_name": "LayoutModel",
            "_view_count": null,
            "_view_module": "@jupyter-widgets/base",
            "_view_module_version": "1.2.0",
            "_view_name": "LayoutView",
            "align_content": null,
            "align_items": null,
            "align_self": null,
            "border": null,
            "bottom": null,
            "display": null,
            "flex": null,
            "flex_flow": null,
            "grid_area": null,
            "grid_auto_columns": null,
            "grid_auto_flow": null,
            "grid_auto_rows": null,
            "grid_column": null,
            "grid_gap": null,
            "grid_row": null,
            "grid_template_areas": null,
            "grid_template_columns": null,
            "grid_template_rows": null,
            "height": null,
            "justify_content": null,
            "justify_items": null,
            "left": null,
            "margin": null,
            "max_height": null,
            "max_width": null,
            "min_height": null,
            "min_width": null,
            "object_fit": null,
            "object_position": null,
            "order": null,
            "overflow": null,
            "overflow_x": null,
            "overflow_y": null,
            "padding": null,
            "right": null,
            "top": null,
            "visibility": null,
            "width": null
          }
        },
        "5a1463da299e42518971b0d600572351": {
          "model_module": "@jupyter-widgets/controls",
          "model_name": "DescriptionStyleModel",
          "model_module_version": "1.5.0",
          "state": {
            "_model_module": "@jupyter-widgets/controls",
            "_model_module_version": "1.5.0",
            "_model_name": "DescriptionStyleModel",
            "_view_count": null,
            "_view_module": "@jupyter-widgets/base",
            "_view_module_version": "1.2.0",
            "_view_name": "StyleView",
            "description_width": ""
          }
        },
        "92be2ac9fbcb4c81a456d1d73d247050": {
          "model_module": "@jupyter-widgets/controls",
          "model_name": "HBoxModel",
          "model_module_version": "1.5.0",
          "state": {
            "_dom_classes": [],
            "_model_module": "@jupyter-widgets/controls",
            "_model_module_version": "1.5.0",
            "_model_name": "HBoxModel",
            "_view_count": null,
            "_view_module": "@jupyter-widgets/controls",
            "_view_module_version": "1.5.0",
            "_view_name": "HBoxView",
            "box_style": "",
            "children": [
              "IPY_MODEL_31cadf02b7384d3cb70afe4f4c9e94af",
              "IPY_MODEL_79bd19f342cf499cbf7771ac7647af66",
              "IPY_MODEL_e7647789f37b4b1abfd884a383b12cc7"
            ],
            "layout": "IPY_MODEL_23f872493e2e4284a3f9359d105e5fb7"
          }
        },
        "31cadf02b7384d3cb70afe4f4c9e94af": {
          "model_module": "@jupyter-widgets/controls",
          "model_name": "HTMLModel",
          "model_module_version": "1.5.0",
          "state": {
            "_dom_classes": [],
            "_model_module": "@jupyter-widgets/controls",
            "_model_module_version": "1.5.0",
            "_model_name": "HTMLModel",
            "_view_count": null,
            "_view_module": "@jupyter-widgets/controls",
            "_view_module_version": "1.5.0",
            "_view_name": "HTMLView",
            "description": "",
            "description_tooltip": null,
            "layout": "IPY_MODEL_1edf50ec2a484585ae5a75224655a31c",
            "placeholder": "​",
            "style": "IPY_MODEL_39335986c7244e61b07c0121e5c5584a",
            "value": "tokenizer.json: 100%"
          }
        },
        "79bd19f342cf499cbf7771ac7647af66": {
          "model_module": "@jupyter-widgets/controls",
          "model_name": "FloatProgressModel",
          "model_module_version": "1.5.0",
          "state": {
            "_dom_classes": [],
            "_model_module": "@jupyter-widgets/controls",
            "_model_module_version": "1.5.0",
            "_model_name": "FloatProgressModel",
            "_view_count": null,
            "_view_module": "@jupyter-widgets/controls",
            "_view_module_version": "1.5.0",
            "_view_name": "ProgressView",
            "bar_style": "success",
            "description": "",
            "description_tooltip": null,
            "layout": "IPY_MODEL_632c718598d6412aa044629e20d3fbc0",
            "max": 466062,
            "min": 0,
            "orientation": "horizontal",
            "style": "IPY_MODEL_e665d9511de44eeeaed9da339349775b",
            "value": 466062
          }
        },
        "e7647789f37b4b1abfd884a383b12cc7": {
          "model_module": "@jupyter-widgets/controls",
          "model_name": "HTMLModel",
          "model_module_version": "1.5.0",
          "state": {
            "_dom_classes": [],
            "_model_module": "@jupyter-widgets/controls",
            "_model_module_version": "1.5.0",
            "_model_name": "HTMLModel",
            "_view_count": null,
            "_view_module": "@jupyter-widgets/controls",
            "_view_module_version": "1.5.0",
            "_view_name": "HTMLView",
            "description": "",
            "description_tooltip": null,
            "layout": "IPY_MODEL_360db8612bbc4c5893bcf7654162cf95",
            "placeholder": "​",
            "style": "IPY_MODEL_abf93296e4334fbcbfee9ad5e0e29d59",
            "value": " 466k/466k [00:00&lt;00:00, 23.3MB/s]"
          }
        },
        "23f872493e2e4284a3f9359d105e5fb7": {
          "model_module": "@jupyter-widgets/base",
          "model_name": "LayoutModel",
          "model_module_version": "1.2.0",
          "state": {
            "_model_module": "@jupyter-widgets/base",
            "_model_module_version": "1.2.0",
            "_model_name": "LayoutModel",
            "_view_count": null,
            "_view_module": "@jupyter-widgets/base",
            "_view_module_version": "1.2.0",
            "_view_name": "LayoutView",
            "align_content": null,
            "align_items": null,
            "align_self": null,
            "border": null,
            "bottom": null,
            "display": null,
            "flex": null,
            "flex_flow": null,
            "grid_area": null,
            "grid_auto_columns": null,
            "grid_auto_flow": null,
            "grid_auto_rows": null,
            "grid_column": null,
            "grid_gap": null,
            "grid_row": null,
            "grid_template_areas": null,
            "grid_template_columns": null,
            "grid_template_rows": null,
            "height": null,
            "justify_content": null,
            "justify_items": null,
            "left": null,
            "margin": null,
            "max_height": null,
            "max_width": null,
            "min_height": null,
            "min_width": null,
            "object_fit": null,
            "object_position": null,
            "order": null,
            "overflow": null,
            "overflow_x": null,
            "overflow_y": null,
            "padding": null,
            "right": null,
            "top": null,
            "visibility": null,
            "width": null
          }
        },
        "1edf50ec2a484585ae5a75224655a31c": {
          "model_module": "@jupyter-widgets/base",
          "model_name": "LayoutModel",
          "model_module_version": "1.2.0",
          "state": {
            "_model_module": "@jupyter-widgets/base",
            "_model_module_version": "1.2.0",
            "_model_name": "LayoutModel",
            "_view_count": null,
            "_view_module": "@jupyter-widgets/base",
            "_view_module_version": "1.2.0",
            "_view_name": "LayoutView",
            "align_content": null,
            "align_items": null,
            "align_self": null,
            "border": null,
            "bottom": null,
            "display": null,
            "flex": null,
            "flex_flow": null,
            "grid_area": null,
            "grid_auto_columns": null,
            "grid_auto_flow": null,
            "grid_auto_rows": null,
            "grid_column": null,
            "grid_gap": null,
            "grid_row": null,
            "grid_template_areas": null,
            "grid_template_columns": null,
            "grid_template_rows": null,
            "height": null,
            "justify_content": null,
            "justify_items": null,
            "left": null,
            "margin": null,
            "max_height": null,
            "max_width": null,
            "min_height": null,
            "min_width": null,
            "object_fit": null,
            "object_position": null,
            "order": null,
            "overflow": null,
            "overflow_x": null,
            "overflow_y": null,
            "padding": null,
            "right": null,
            "top": null,
            "visibility": null,
            "width": null
          }
        },
        "39335986c7244e61b07c0121e5c5584a": {
          "model_module": "@jupyter-widgets/controls",
          "model_name": "DescriptionStyleModel",
          "model_module_version": "1.5.0",
          "state": {
            "_model_module": "@jupyter-widgets/controls",
            "_model_module_version": "1.5.0",
            "_model_name": "DescriptionStyleModel",
            "_view_count": null,
            "_view_module": "@jupyter-widgets/base",
            "_view_module_version": "1.2.0",
            "_view_name": "StyleView",
            "description_width": ""
          }
        },
        "632c718598d6412aa044629e20d3fbc0": {
          "model_module": "@jupyter-widgets/base",
          "model_name": "LayoutModel",
          "model_module_version": "1.2.0",
          "state": {
            "_model_module": "@jupyter-widgets/base",
            "_model_module_version": "1.2.0",
            "_model_name": "LayoutModel",
            "_view_count": null,
            "_view_module": "@jupyter-widgets/base",
            "_view_module_version": "1.2.0",
            "_view_name": "LayoutView",
            "align_content": null,
            "align_items": null,
            "align_self": null,
            "border": null,
            "bottom": null,
            "display": null,
            "flex": null,
            "flex_flow": null,
            "grid_area": null,
            "grid_auto_columns": null,
            "grid_auto_flow": null,
            "grid_auto_rows": null,
            "grid_column": null,
            "grid_gap": null,
            "grid_row": null,
            "grid_template_areas": null,
            "grid_template_columns": null,
            "grid_template_rows": null,
            "height": null,
            "justify_content": null,
            "justify_items": null,
            "left": null,
            "margin": null,
            "max_height": null,
            "max_width": null,
            "min_height": null,
            "min_width": null,
            "object_fit": null,
            "object_position": null,
            "order": null,
            "overflow": null,
            "overflow_x": null,
            "overflow_y": null,
            "padding": null,
            "right": null,
            "top": null,
            "visibility": null,
            "width": null
          }
        },
        "e665d9511de44eeeaed9da339349775b": {
          "model_module": "@jupyter-widgets/controls",
          "model_name": "ProgressStyleModel",
          "model_module_version": "1.5.0",
          "state": {
            "_model_module": "@jupyter-widgets/controls",
            "_model_module_version": "1.5.0",
            "_model_name": "ProgressStyleModel",
            "_view_count": null,
            "_view_module": "@jupyter-widgets/base",
            "_view_module_version": "1.2.0",
            "_view_name": "StyleView",
            "bar_color": null,
            "description_width": ""
          }
        },
        "360db8612bbc4c5893bcf7654162cf95": {
          "model_module": "@jupyter-widgets/base",
          "model_name": "LayoutModel",
          "model_module_version": "1.2.0",
          "state": {
            "_model_module": "@jupyter-widgets/base",
            "_model_module_version": "1.2.0",
            "_model_name": "LayoutModel",
            "_view_count": null,
            "_view_module": "@jupyter-widgets/base",
            "_view_module_version": "1.2.0",
            "_view_name": "LayoutView",
            "align_content": null,
            "align_items": null,
            "align_self": null,
            "border": null,
            "bottom": null,
            "display": null,
            "flex": null,
            "flex_flow": null,
            "grid_area": null,
            "grid_auto_columns": null,
            "grid_auto_flow": null,
            "grid_auto_rows": null,
            "grid_column": null,
            "grid_gap": null,
            "grid_row": null,
            "grid_template_areas": null,
            "grid_template_columns": null,
            "grid_template_rows": null,
            "height": null,
            "justify_content": null,
            "justify_items": null,
            "left": null,
            "margin": null,
            "max_height": null,
            "max_width": null,
            "min_height": null,
            "min_width": null,
            "object_fit": null,
            "object_position": null,
            "order": null,
            "overflow": null,
            "overflow_x": null,
            "overflow_y": null,
            "padding": null,
            "right": null,
            "top": null,
            "visibility": null,
            "width": null
          }
        },
        "abf93296e4334fbcbfee9ad5e0e29d59": {
          "model_module": "@jupyter-widgets/controls",
          "model_name": "DescriptionStyleModel",
          "model_module_version": "1.5.0",
          "state": {
            "_model_module": "@jupyter-widgets/controls",
            "_model_module_version": "1.5.0",
            "_model_name": "DescriptionStyleModel",
            "_view_count": null,
            "_view_module": "@jupyter-widgets/base",
            "_view_module_version": "1.2.0",
            "_view_name": "StyleView",
            "description_width": ""
          }
        },
        "1c6ff42a2f9b49d5ba7acdf4f0e0224c": {
          "model_module": "@jupyter-widgets/controls",
          "model_name": "HBoxModel",
          "model_module_version": "1.5.0",
          "state": {
            "_dom_classes": [],
            "_model_module": "@jupyter-widgets/controls",
            "_model_module_version": "1.5.0",
            "_model_name": "HBoxModel",
            "_view_count": null,
            "_view_module": "@jupyter-widgets/controls",
            "_view_module_version": "1.5.0",
            "_view_name": "HBoxView",
            "box_style": "",
            "children": [
              "IPY_MODEL_85ca47b5860148e282b2ddcc2edea3ec",
              "IPY_MODEL_e01126ec276b46bfbd682ea005274648",
              "IPY_MODEL_589f2f755ac8456c98d0448731d8ee64"
            ],
            "layout": "IPY_MODEL_714a044aa7474245bfa400b0643871ec"
          }
        },
        "85ca47b5860148e282b2ddcc2edea3ec": {
          "model_module": "@jupyter-widgets/controls",
          "model_name": "HTMLModel",
          "model_module_version": "1.5.0",
          "state": {
            "_dom_classes": [],
            "_model_module": "@jupyter-widgets/controls",
            "_model_module_version": "1.5.0",
            "_model_name": "HTMLModel",
            "_view_count": null,
            "_view_module": "@jupyter-widgets/controls",
            "_view_module_version": "1.5.0",
            "_view_name": "HTMLView",
            "description": "",
            "description_tooltip": null,
            "layout": "IPY_MODEL_3f97ace0178a4da8b651e9e19f52ffb2",
            "placeholder": "​",
            "style": "IPY_MODEL_d94f7f6616ec44eb95f7772b44e249ba",
            "value": "config.json: 100%"
          }
        },
        "e01126ec276b46bfbd682ea005274648": {
          "model_module": "@jupyter-widgets/controls",
          "model_name": "FloatProgressModel",
          "model_module_version": "1.5.0",
          "state": {
            "_dom_classes": [],
            "_model_module": "@jupyter-widgets/controls",
            "_model_module_version": "1.5.0",
            "_model_name": "FloatProgressModel",
            "_view_count": null,
            "_view_module": "@jupyter-widgets/controls",
            "_view_module_version": "1.5.0",
            "_view_name": "ProgressView",
            "bar_style": "success",
            "description": "",
            "description_tooltip": null,
            "layout": "IPY_MODEL_1d182b6fefb14c1ca52eae61ddee7661",
            "max": 570,
            "min": 0,
            "orientation": "horizontal",
            "style": "IPY_MODEL_869c54695f9248e3adb032e4178be994",
            "value": 570
          }
        },
        "589f2f755ac8456c98d0448731d8ee64": {
          "model_module": "@jupyter-widgets/controls",
          "model_name": "HTMLModel",
          "model_module_version": "1.5.0",
          "state": {
            "_dom_classes": [],
            "_model_module": "@jupyter-widgets/controls",
            "_model_module_version": "1.5.0",
            "_model_name": "HTMLModel",
            "_view_count": null,
            "_view_module": "@jupyter-widgets/controls",
            "_view_module_version": "1.5.0",
            "_view_name": "HTMLView",
            "description": "",
            "description_tooltip": null,
            "layout": "IPY_MODEL_8faa9948f6394e1c87816f41bbb67405",
            "placeholder": "​",
            "style": "IPY_MODEL_124b212be0fa4bf8b384db30893fd737",
            "value": " 570/570 [00:00&lt;00:00, 40.5kB/s]"
          }
        },
        "714a044aa7474245bfa400b0643871ec": {
          "model_module": "@jupyter-widgets/base",
          "model_name": "LayoutModel",
          "model_module_version": "1.2.0",
          "state": {
            "_model_module": "@jupyter-widgets/base",
            "_model_module_version": "1.2.0",
            "_model_name": "LayoutModel",
            "_view_count": null,
            "_view_module": "@jupyter-widgets/base",
            "_view_module_version": "1.2.0",
            "_view_name": "LayoutView",
            "align_content": null,
            "align_items": null,
            "align_self": null,
            "border": null,
            "bottom": null,
            "display": null,
            "flex": null,
            "flex_flow": null,
            "grid_area": null,
            "grid_auto_columns": null,
            "grid_auto_flow": null,
            "grid_auto_rows": null,
            "grid_column": null,
            "grid_gap": null,
            "grid_row": null,
            "grid_template_areas": null,
            "grid_template_columns": null,
            "grid_template_rows": null,
            "height": null,
            "justify_content": null,
            "justify_items": null,
            "left": null,
            "margin": null,
            "max_height": null,
            "max_width": null,
            "min_height": null,
            "min_width": null,
            "object_fit": null,
            "object_position": null,
            "order": null,
            "overflow": null,
            "overflow_x": null,
            "overflow_y": null,
            "padding": null,
            "right": null,
            "top": null,
            "visibility": null,
            "width": null
          }
        },
        "3f97ace0178a4da8b651e9e19f52ffb2": {
          "model_module": "@jupyter-widgets/base",
          "model_name": "LayoutModel",
          "model_module_version": "1.2.0",
          "state": {
            "_model_module": "@jupyter-widgets/base",
            "_model_module_version": "1.2.0",
            "_model_name": "LayoutModel",
            "_view_count": null,
            "_view_module": "@jupyter-widgets/base",
            "_view_module_version": "1.2.0",
            "_view_name": "LayoutView",
            "align_content": null,
            "align_items": null,
            "align_self": null,
            "border": null,
            "bottom": null,
            "display": null,
            "flex": null,
            "flex_flow": null,
            "grid_area": null,
            "grid_auto_columns": null,
            "grid_auto_flow": null,
            "grid_auto_rows": null,
            "grid_column": null,
            "grid_gap": null,
            "grid_row": null,
            "grid_template_areas": null,
            "grid_template_columns": null,
            "grid_template_rows": null,
            "height": null,
            "justify_content": null,
            "justify_items": null,
            "left": null,
            "margin": null,
            "max_height": null,
            "max_width": null,
            "min_height": null,
            "min_width": null,
            "object_fit": null,
            "object_position": null,
            "order": null,
            "overflow": null,
            "overflow_x": null,
            "overflow_y": null,
            "padding": null,
            "right": null,
            "top": null,
            "visibility": null,
            "width": null
          }
        },
        "d94f7f6616ec44eb95f7772b44e249ba": {
          "model_module": "@jupyter-widgets/controls",
          "model_name": "DescriptionStyleModel",
          "model_module_version": "1.5.0",
          "state": {
            "_model_module": "@jupyter-widgets/controls",
            "_model_module_version": "1.5.0",
            "_model_name": "DescriptionStyleModel",
            "_view_count": null,
            "_view_module": "@jupyter-widgets/base",
            "_view_module_version": "1.2.0",
            "_view_name": "StyleView",
            "description_width": ""
          }
        },
        "1d182b6fefb14c1ca52eae61ddee7661": {
          "model_module": "@jupyter-widgets/base",
          "model_name": "LayoutModel",
          "model_module_version": "1.2.0",
          "state": {
            "_model_module": "@jupyter-widgets/base",
            "_model_module_version": "1.2.0",
            "_model_name": "LayoutModel",
            "_view_count": null,
            "_view_module": "@jupyter-widgets/base",
            "_view_module_version": "1.2.0",
            "_view_name": "LayoutView",
            "align_content": null,
            "align_items": null,
            "align_self": null,
            "border": null,
            "bottom": null,
            "display": null,
            "flex": null,
            "flex_flow": null,
            "grid_area": null,
            "grid_auto_columns": null,
            "grid_auto_flow": null,
            "grid_auto_rows": null,
            "grid_column": null,
            "grid_gap": null,
            "grid_row": null,
            "grid_template_areas": null,
            "grid_template_columns": null,
            "grid_template_rows": null,
            "height": null,
            "justify_content": null,
            "justify_items": null,
            "left": null,
            "margin": null,
            "max_height": null,
            "max_width": null,
            "min_height": null,
            "min_width": null,
            "object_fit": null,
            "object_position": null,
            "order": null,
            "overflow": null,
            "overflow_x": null,
            "overflow_y": null,
            "padding": null,
            "right": null,
            "top": null,
            "visibility": null,
            "width": null
          }
        },
        "869c54695f9248e3adb032e4178be994": {
          "model_module": "@jupyter-widgets/controls",
          "model_name": "ProgressStyleModel",
          "model_module_version": "1.5.0",
          "state": {
            "_model_module": "@jupyter-widgets/controls",
            "_model_module_version": "1.5.0",
            "_model_name": "ProgressStyleModel",
            "_view_count": null,
            "_view_module": "@jupyter-widgets/base",
            "_view_module_version": "1.2.0",
            "_view_name": "StyleView",
            "bar_color": null,
            "description_width": ""
          }
        },
        "8faa9948f6394e1c87816f41bbb67405": {
          "model_module": "@jupyter-widgets/base",
          "model_name": "LayoutModel",
          "model_module_version": "1.2.0",
          "state": {
            "_model_module": "@jupyter-widgets/base",
            "_model_module_version": "1.2.0",
            "_model_name": "LayoutModel",
            "_view_count": null,
            "_view_module": "@jupyter-widgets/base",
            "_view_module_version": "1.2.0",
            "_view_name": "LayoutView",
            "align_content": null,
            "align_items": null,
            "align_self": null,
            "border": null,
            "bottom": null,
            "display": null,
            "flex": null,
            "flex_flow": null,
            "grid_area": null,
            "grid_auto_columns": null,
            "grid_auto_flow": null,
            "grid_auto_rows": null,
            "grid_column": null,
            "grid_gap": null,
            "grid_row": null,
            "grid_template_areas": null,
            "grid_template_columns": null,
            "grid_template_rows": null,
            "height": null,
            "justify_content": null,
            "justify_items": null,
            "left": null,
            "margin": null,
            "max_height": null,
            "max_width": null,
            "min_height": null,
            "min_width": null,
            "object_fit": null,
            "object_position": null,
            "order": null,
            "overflow": null,
            "overflow_x": null,
            "overflow_y": null,
            "padding": null,
            "right": null,
            "top": null,
            "visibility": null,
            "width": null
          }
        },
        "124b212be0fa4bf8b384db30893fd737": {
          "model_module": "@jupyter-widgets/controls",
          "model_name": "DescriptionStyleModel",
          "model_module_version": "1.5.0",
          "state": {
            "_model_module": "@jupyter-widgets/controls",
            "_model_module_version": "1.5.0",
            "_model_name": "DescriptionStyleModel",
            "_view_count": null,
            "_view_module": "@jupyter-widgets/base",
            "_view_module_version": "1.2.0",
            "_view_name": "StyleView",
            "description_width": ""
          }
        },
        "736d653b71ff4cd09fe66c35a297c4b5": {
          "model_module": "@jupyter-widgets/controls",
          "model_name": "HBoxModel",
          "model_module_version": "1.5.0",
          "state": {
            "_dom_classes": [],
            "_model_module": "@jupyter-widgets/controls",
            "_model_module_version": "1.5.0",
            "_model_name": "HBoxModel",
            "_view_count": null,
            "_view_module": "@jupyter-widgets/controls",
            "_view_module_version": "1.5.0",
            "_view_name": "HBoxView",
            "box_style": "",
            "children": [
              "IPY_MODEL_aac98be793564f56a894f23f79d53099",
              "IPY_MODEL_678f3d09d2f74b09977276dd08fb586a",
              "IPY_MODEL_7b7fc836ead44727995f4779faefabcb"
            ],
            "layout": "IPY_MODEL_1db7995f44c94467b0893ec3ba9d68b8"
          }
        },
        "aac98be793564f56a894f23f79d53099": {
          "model_module": "@jupyter-widgets/controls",
          "model_name": "HTMLModel",
          "model_module_version": "1.5.0",
          "state": {
            "_dom_classes": [],
            "_model_module": "@jupyter-widgets/controls",
            "_model_module_version": "1.5.0",
            "_model_name": "HTMLModel",
            "_view_count": null,
            "_view_module": "@jupyter-widgets/controls",
            "_view_module_version": "1.5.0",
            "_view_name": "HTMLView",
            "description": "",
            "description_tooltip": null,
            "layout": "IPY_MODEL_ab156a4219ef4e4e94a57dde7234ff24",
            "placeholder": "​",
            "style": "IPY_MODEL_6b4159867f2f4c8e87053d44af068217",
            "value": "model.safetensors: 100%"
          }
        },
        "678f3d09d2f74b09977276dd08fb586a": {
          "model_module": "@jupyter-widgets/controls",
          "model_name": "FloatProgressModel",
          "model_module_version": "1.5.0",
          "state": {
            "_dom_classes": [],
            "_model_module": "@jupyter-widgets/controls",
            "_model_module_version": "1.5.0",
            "_model_name": "FloatProgressModel",
            "_view_count": null,
            "_view_module": "@jupyter-widgets/controls",
            "_view_module_version": "1.5.0",
            "_view_name": "ProgressView",
            "bar_style": "success",
            "description": "",
            "description_tooltip": null,
            "layout": "IPY_MODEL_ca7f20ff311942898e136ae45ff02153",
            "max": 440449768,
            "min": 0,
            "orientation": "horizontal",
            "style": "IPY_MODEL_f0b656330d494c0c8395ffd225975b2b",
            "value": 440449768
          }
        },
        "7b7fc836ead44727995f4779faefabcb": {
          "model_module": "@jupyter-widgets/controls",
          "model_name": "HTMLModel",
          "model_module_version": "1.5.0",
          "state": {
            "_dom_classes": [],
            "_model_module": "@jupyter-widgets/controls",
            "_model_module_version": "1.5.0",
            "_model_name": "HTMLModel",
            "_view_count": null,
            "_view_module": "@jupyter-widgets/controls",
            "_view_module_version": "1.5.0",
            "_view_name": "HTMLView",
            "description": "",
            "description_tooltip": null,
            "layout": "IPY_MODEL_a8a77ed619e34cf196b8ebd7893bf0c8",
            "placeholder": "​",
            "style": "IPY_MODEL_5c4ff13b70d44250a41dfa3318a8c4d3",
            "value": " 440M/440M [00:03&lt;00:00, 171MB/s]"
          }
        },
        "1db7995f44c94467b0893ec3ba9d68b8": {
          "model_module": "@jupyter-widgets/base",
          "model_name": "LayoutModel",
          "model_module_version": "1.2.0",
          "state": {
            "_model_module": "@jupyter-widgets/base",
            "_model_module_version": "1.2.0",
            "_model_name": "LayoutModel",
            "_view_count": null,
            "_view_module": "@jupyter-widgets/base",
            "_view_module_version": "1.2.0",
            "_view_name": "LayoutView",
            "align_content": null,
            "align_items": null,
            "align_self": null,
            "border": null,
            "bottom": null,
            "display": null,
            "flex": null,
            "flex_flow": null,
            "grid_area": null,
            "grid_auto_columns": null,
            "grid_auto_flow": null,
            "grid_auto_rows": null,
            "grid_column": null,
            "grid_gap": null,
            "grid_row": null,
            "grid_template_areas": null,
            "grid_template_columns": null,
            "grid_template_rows": null,
            "height": null,
            "justify_content": null,
            "justify_items": null,
            "left": null,
            "margin": null,
            "max_height": null,
            "max_width": null,
            "min_height": null,
            "min_width": null,
            "object_fit": null,
            "object_position": null,
            "order": null,
            "overflow": null,
            "overflow_x": null,
            "overflow_y": null,
            "padding": null,
            "right": null,
            "top": null,
            "visibility": null,
            "width": null
          }
        },
        "ab156a4219ef4e4e94a57dde7234ff24": {
          "model_module": "@jupyter-widgets/base",
          "model_name": "LayoutModel",
          "model_module_version": "1.2.0",
          "state": {
            "_model_module": "@jupyter-widgets/base",
            "_model_module_version": "1.2.0",
            "_model_name": "LayoutModel",
            "_view_count": null,
            "_view_module": "@jupyter-widgets/base",
            "_view_module_version": "1.2.0",
            "_view_name": "LayoutView",
            "align_content": null,
            "align_items": null,
            "align_self": null,
            "border": null,
            "bottom": null,
            "display": null,
            "flex": null,
            "flex_flow": null,
            "grid_area": null,
            "grid_auto_columns": null,
            "grid_auto_flow": null,
            "grid_auto_rows": null,
            "grid_column": null,
            "grid_gap": null,
            "grid_row": null,
            "grid_template_areas": null,
            "grid_template_columns": null,
            "grid_template_rows": null,
            "height": null,
            "justify_content": null,
            "justify_items": null,
            "left": null,
            "margin": null,
            "max_height": null,
            "max_width": null,
            "min_height": null,
            "min_width": null,
            "object_fit": null,
            "object_position": null,
            "order": null,
            "overflow": null,
            "overflow_x": null,
            "overflow_y": null,
            "padding": null,
            "right": null,
            "top": null,
            "visibility": null,
            "width": null
          }
        },
        "6b4159867f2f4c8e87053d44af068217": {
          "model_module": "@jupyter-widgets/controls",
          "model_name": "DescriptionStyleModel",
          "model_module_version": "1.5.0",
          "state": {
            "_model_module": "@jupyter-widgets/controls",
            "_model_module_version": "1.5.0",
            "_model_name": "DescriptionStyleModel",
            "_view_count": null,
            "_view_module": "@jupyter-widgets/base",
            "_view_module_version": "1.2.0",
            "_view_name": "StyleView",
            "description_width": ""
          }
        },
        "ca7f20ff311942898e136ae45ff02153": {
          "model_module": "@jupyter-widgets/base",
          "model_name": "LayoutModel",
          "model_module_version": "1.2.0",
          "state": {
            "_model_module": "@jupyter-widgets/base",
            "_model_module_version": "1.2.0",
            "_model_name": "LayoutModel",
            "_view_count": null,
            "_view_module": "@jupyter-widgets/base",
            "_view_module_version": "1.2.0",
            "_view_name": "LayoutView",
            "align_content": null,
            "align_items": null,
            "align_self": null,
            "border": null,
            "bottom": null,
            "display": null,
            "flex": null,
            "flex_flow": null,
            "grid_area": null,
            "grid_auto_columns": null,
            "grid_auto_flow": null,
            "grid_auto_rows": null,
            "grid_column": null,
            "grid_gap": null,
            "grid_row": null,
            "grid_template_areas": null,
            "grid_template_columns": null,
            "grid_template_rows": null,
            "height": null,
            "justify_content": null,
            "justify_items": null,
            "left": null,
            "margin": null,
            "max_height": null,
            "max_width": null,
            "min_height": null,
            "min_width": null,
            "object_fit": null,
            "object_position": null,
            "order": null,
            "overflow": null,
            "overflow_x": null,
            "overflow_y": null,
            "padding": null,
            "right": null,
            "top": null,
            "visibility": null,
            "width": null
          }
        },
        "f0b656330d494c0c8395ffd225975b2b": {
          "model_module": "@jupyter-widgets/controls",
          "model_name": "ProgressStyleModel",
          "model_module_version": "1.5.0",
          "state": {
            "_model_module": "@jupyter-widgets/controls",
            "_model_module_version": "1.5.0",
            "_model_name": "ProgressStyleModel",
            "_view_count": null,
            "_view_module": "@jupyter-widgets/base",
            "_view_module_version": "1.2.0",
            "_view_name": "StyleView",
            "bar_color": null,
            "description_width": ""
          }
        },
        "a8a77ed619e34cf196b8ebd7893bf0c8": {
          "model_module": "@jupyter-widgets/base",
          "model_name": "LayoutModel",
          "model_module_version": "1.2.0",
          "state": {
            "_model_module": "@jupyter-widgets/base",
            "_model_module_version": "1.2.0",
            "_model_name": "LayoutModel",
            "_view_count": null,
            "_view_module": "@jupyter-widgets/base",
            "_view_module_version": "1.2.0",
            "_view_name": "LayoutView",
            "align_content": null,
            "align_items": null,
            "align_self": null,
            "border": null,
            "bottom": null,
            "display": null,
            "flex": null,
            "flex_flow": null,
            "grid_area": null,
            "grid_auto_columns": null,
            "grid_auto_flow": null,
            "grid_auto_rows": null,
            "grid_column": null,
            "grid_gap": null,
            "grid_row": null,
            "grid_template_areas": null,
            "grid_template_columns": null,
            "grid_template_rows": null,
            "height": null,
            "justify_content": null,
            "justify_items": null,
            "left": null,
            "margin": null,
            "max_height": null,
            "max_width": null,
            "min_height": null,
            "min_width": null,
            "object_fit": null,
            "object_position": null,
            "order": null,
            "overflow": null,
            "overflow_x": null,
            "overflow_y": null,
            "padding": null,
            "right": null,
            "top": null,
            "visibility": null,
            "width": null
          }
        },
        "5c4ff13b70d44250a41dfa3318a8c4d3": {
          "model_module": "@jupyter-widgets/controls",
          "model_name": "DescriptionStyleModel",
          "model_module_version": "1.5.0",
          "state": {
            "_model_module": "@jupyter-widgets/controls",
            "_model_module_version": "1.5.0",
            "_model_name": "DescriptionStyleModel",
            "_view_count": null,
            "_view_module": "@jupyter-widgets/base",
            "_view_module_version": "1.2.0",
            "_view_name": "StyleView",
            "description_width": ""
          }
        }
      }
    }
  },
  "cells": [
    {
      "cell_type": "markdown",
      "source": [
        "# Lab Assignment Seven: Sequential Network Architectures\n",
        "In this lab, you will select a prediction task to perform on your dataset, evaluate a sequential architecture and tune hyper-parameters. If any part of the assignment is not clear, ask the instructor to clarify.\n",
        "\n",
        "This report is worth 10% of the final grade. Please upload a report (one per team) with all code used, visualizations, and text in a rendered Jupyter notebook. Any visualizations that cannot be embedded in the notebook, please provide screenshots of the output. The results should be reproducible using your report. Please carefully describe every assumption and every step in your report."
      ],
      "metadata": {
        "id": "nG2uzUEGdVGc"
      }
    },
    {
      "cell_type": "markdown",
      "source": [
        "## Dataset Selection\n",
        "\n",
        "Select a dataset that is text. That is, the dataset should be text data. In terms of generalization performance, it is helpful to have a medium sized dataset of similar sized text documents. It is fine to perform binary classification or multi-class classification. The classification should be \"many-to-one\" sequence classification.\n",
        "\n"
      ],
      "metadata": {
        "id": "rhbosOnCde8k"
      }
    },
    {
      "cell_type": "markdown",
      "source": [
        "## Preparation (3 points total)\n",
        "[1 points] Define and prepare your class variables. Use proper variable representations (int, float, one-hot, etc.). Use pre-processing methods (as needed). Describe the final dataset that is used for classification/regression (include a description of any newly formed variables you created). Discuss methods of tokenization in your dataset as well as any decisions to force a specific length of sequence.  \n",
        "[1 points] Choose and explain what metric(s) you will use to evaluate your algorithm’s performance. You should give a detailed argument for why this (these) metric(s) are appropriate on your data. That is, why is the metric appropriate for the task (e.g., in terms of the business case for the task). Please note: rarely is accuracy the best evaluation metric to use. Think deeply about an appropriate measure of performance.\n",
        "[1 points] Choose the method you will use for dividing your data into training and testing (i.e., are you using Stratified 10-fold cross validation? Shuffle splits? Why?). Explain why your chosen method is appropriate or use more than one method as appropriate. Convince me that your train/test splitting method is a realistic mirroring of how an algorithm would be used in practice."
      ],
      "metadata": {
        "id": "znk-dBZcdjeK"
      }
    },
    {
      "cell_type": "markdown",
      "source": [
        "## Modeling (6 points total)\n",
        "[3 points] Investigate at least two different sequential network architectures (e.g., a CNN and a Transformer). Alternatively, you may also choose a recurrent network and Transformer network. Be sure to use an embedding layer (try to use a pre-trained embedding, if possible). Adjust one hyper-parameter of each network to potentially improve generalization performance (train a total of at least four models). Visualize the performance of training and validation sets versus the training iterations, showing that the models converged.\n",
        "[1 points] Using the best parameters and architecture from the Transformer in the previous step, add a second Multi-headed self attention layer to your network. That is, the input to the second attention layer should be the output sequence of the first attention layer.  Visualize the performance of training and validation sets versus the training iterations.\n",
        "[2 points] Use the method of train/test splitting and evaluation criteria that you argued for at the beginning of the lab. Visualize the results of all the models you trained.  Use proper statistical comparison techniques to determine which method(s) is (are) superior.  "
      ],
      "metadata": {
        "id": "OHKNSjkqdtf_"
      }
    },
    {
      "cell_type": "markdown",
      "source": [
        "## Exceptional Work (1 points total)\n",
        "You have free reign to provide additional analyses.\n",
        "One idea (required for 7000 level students to do one of these options):\n",
        "Use the pre-trained ConceptNet Numberbatch embedding and compare to pre-trained GloVe. Which method is better for your specific application?"
      ],
      "metadata": {
        "id": "8OhsLKl-dxHM"
      }
    },
    {
      "cell_type": "code",
      "source": [
        "!pip install tensorflow_addons\n"
      ],
      "metadata": {
        "colab": {
          "base_uri": "https://localhost:8080/"
        },
        "id": "VihHPYijI9TI",
        "outputId": "59faca1f-4007-484f-951d-3894068f0036"
      },
      "execution_count": 7,
      "outputs": [
        {
          "output_type": "stream",
          "name": "stdout",
          "text": [
            "Requirement already satisfied: tensorflow_addons in /usr/local/lib/python3.10/dist-packages (0.23.0)\n",
            "Requirement already satisfied: packaging in /usr/local/lib/python3.10/dist-packages (from tensorflow_addons) (23.2)\n",
            "Requirement already satisfied: typeguard<3.0.0,>=2.7 in /usr/local/lib/python3.10/dist-packages (from tensorflow_addons) (2.13.3)\n"
          ]
        }
      ]
    },
    {
      "cell_type": "code",
      "source": [
        "import subprocess\n",
        "import platform\n",
        "import os\n",
        "import itertools\n",
        "import time\n",
        "from IPython.display import display, HTML, Markdown, clear_output\n",
        "\n",
        "import matplotlib.pyplot as plt\n",
        "import seaborn as sns\n",
        "import pandas as pd\n",
        "import numpy as np\n",
        "\n",
        "import tensorflow as tf\n",
        "from tensorflow import keras\n",
        "from tensorflow.keras.preprocessing.text import Tokenizer\n",
        "from tensorflow.keras.preprocessing.sequence import pad_sequences\n",
        "\n",
        "from tensorflow.keras import (\n",
        "    utils,\n",
        "    models,\n",
        "    layers,\n",
        "    metrics,\n",
        "    preprocessing,\n",
        "    callbacks,\n",
        ")\n",
        "\n",
        "from sklearn import metrics\n",
        "from sklearn.metrics import (\n",
        "    confusion_matrix,\n",
        "    classification_report,\n",
        "    make_scorer,\n",
        "    classification_report,\n",
        "    accuracy_score,\n",
        "    precision_score,\n",
        "    recall_score,\n",
        "    f1_score,\n",
        "    ConfusionMatrixDisplay,\n",
        "    roc_curve,\n",
        "    auc\n",
        ")\n",
        "\n",
        "def clear_screen():\n",
        "    time.sleep(2)\n",
        "    print(\"Clearing screen...\")\n",
        "    time.sleep(2)\n",
        "    clear_output()\n",
        "\n",
        "clear_screen()"
      ],
      "metadata": {
        "id": "JCW7pmp8Mz8V"
      },
      "execution_count": 8,
      "outputs": []
    },
    {
      "cell_type": "code",
      "source": [
        "import pandas as pd\n",
        "import zipfile\n",
        "import os\n",
        "from google.colab import drive\n",
        "from google.colab import files\n",
        "\n",
        "drive.mount('/content/drive')"
      ],
      "metadata": {
        "colab": {
          "base_uri": "https://localhost:8080/"
        },
        "id": "EUenHFLOM4IC",
        "outputId": "05445c68-4916-4517-abd4-ee3b3d219767"
      },
      "execution_count": 9,
      "outputs": [
        {
          "output_type": "stream",
          "name": "stdout",
          "text": [
            "Drive already mounted at /content/drive; to attempt to forcibly remount, call drive.mount(\"/content/drive\", force_remount=True).\n"
          ]
        }
      ]
    },
    {
      "cell_type": "markdown",
      "source": [
        "## Dataset Selection\n",
        "\n",
        "https://www.kaggle.com/datasets/uciml/sms-spam-collection-dataset\n",
        "\n",
        "\n",
        "This dataset contains 5,574 English SMS messages labeled as spam or not spam (ham). The dataset contains one message per line. Each line is composed of two columns the label and the textual data. The label in this data set is a binary classifier with results of either ham or spam. Therefore representing a many-to-one relationship. This dataset originally labeled the columns v1 for the label and v2 for the raw text data. To provide readability to our code we changed the column names to be labeled label and text respectively.\n",
        "\n",
        "\n",
        "Acknowledgments\n",
        "The original dataset can be found here.\n",
        "\n",
        "Reference to previous paper: Almeida, T.A., GÃ³mez Hidalgo, J.M., Yamakami, A. Contributions to the Study of SMS Spam Filtering: New Collection and Results. Proceedings of the 2011 ACM Symposium on Document Engineering (DOCENG'11), Mountain View, CA, USA, 2011.\n",
        "Reference to web page: http://www.dt.fee.unicamp.br/~tiago/smsspamcollection/\n"
      ],
      "metadata": {
        "id": "MSv5xXVrbgb2"
      }
    },
    {
      "cell_type": "code",
      "source": [
        "# Read in our dataset\n",
        "df = pd.read_csv(\"/content/drive/MyDrive/Colab Notebooks/ML Lab7/spam.csv\", encoding='latin1')\n",
        "\n",
        "# Renaming the columns for readability purposes\n",
        "df.rename(columns={'v1': 'Label'}, inplace=True)\n",
        "df.rename(columns={'v2': 'Text'}, inplace=True)\n",
        "\n",
        "df.head()\n"
      ],
      "metadata": {
        "colab": {
          "base_uri": "https://localhost:8080/",
          "height": 206
        },
        "id": "j9wV4_hdPGb0",
        "outputId": "3ea5e6ce-5500-4062-bec2-0c86ed57a3ae"
      },
      "execution_count": 10,
      "outputs": [
        {
          "output_type": "execute_result",
          "data": {
            "text/plain": [
              "  Label                                               Text Unnamed: 2  \\\n",
              "0   ham  Go until jurong point, crazy.. Available only ...        NaN   \n",
              "1   ham                      Ok lar... Joking wif u oni...        NaN   \n",
              "2  spam  Free entry in 2 a wkly comp to win FA Cup fina...        NaN   \n",
              "3   ham  U dun say so early hor... U c already then say...        NaN   \n",
              "4   ham  Nah I don't think he goes to usf, he lives aro...        NaN   \n",
              "\n",
              "  Unnamed: 3 Unnamed: 4  \n",
              "0        NaN        NaN  \n",
              "1        NaN        NaN  \n",
              "2        NaN        NaN  \n",
              "3        NaN        NaN  \n",
              "4        NaN        NaN  "
            ],
            "text/html": [
              "\n",
              "  <div id=\"df-b2c957be-6bc5-43fa-a507-6ec465e96764\" class=\"colab-df-container\">\n",
              "    <div>\n",
              "<style scoped>\n",
              "    .dataframe tbody tr th:only-of-type {\n",
              "        vertical-align: middle;\n",
              "    }\n",
              "\n",
              "    .dataframe tbody tr th {\n",
              "        vertical-align: top;\n",
              "    }\n",
              "\n",
              "    .dataframe thead th {\n",
              "        text-align: right;\n",
              "    }\n",
              "</style>\n",
              "<table border=\"1\" class=\"dataframe\">\n",
              "  <thead>\n",
              "    <tr style=\"text-align: right;\">\n",
              "      <th></th>\n",
              "      <th>Label</th>\n",
              "      <th>Text</th>\n",
              "      <th>Unnamed: 2</th>\n",
              "      <th>Unnamed: 3</th>\n",
              "      <th>Unnamed: 4</th>\n",
              "    </tr>\n",
              "  </thead>\n",
              "  <tbody>\n",
              "    <tr>\n",
              "      <th>0</th>\n",
              "      <td>ham</td>\n",
              "      <td>Go until jurong point, crazy.. Available only ...</td>\n",
              "      <td>NaN</td>\n",
              "      <td>NaN</td>\n",
              "      <td>NaN</td>\n",
              "    </tr>\n",
              "    <tr>\n",
              "      <th>1</th>\n",
              "      <td>ham</td>\n",
              "      <td>Ok lar... Joking wif u oni...</td>\n",
              "      <td>NaN</td>\n",
              "      <td>NaN</td>\n",
              "      <td>NaN</td>\n",
              "    </tr>\n",
              "    <tr>\n",
              "      <th>2</th>\n",
              "      <td>spam</td>\n",
              "      <td>Free entry in 2 a wkly comp to win FA Cup fina...</td>\n",
              "      <td>NaN</td>\n",
              "      <td>NaN</td>\n",
              "      <td>NaN</td>\n",
              "    </tr>\n",
              "    <tr>\n",
              "      <th>3</th>\n",
              "      <td>ham</td>\n",
              "      <td>U dun say so early hor... U c already then say...</td>\n",
              "      <td>NaN</td>\n",
              "      <td>NaN</td>\n",
              "      <td>NaN</td>\n",
              "    </tr>\n",
              "    <tr>\n",
              "      <th>4</th>\n",
              "      <td>ham</td>\n",
              "      <td>Nah I don't think he goes to usf, he lives aro...</td>\n",
              "      <td>NaN</td>\n",
              "      <td>NaN</td>\n",
              "      <td>NaN</td>\n",
              "    </tr>\n",
              "  </tbody>\n",
              "</table>\n",
              "</div>\n",
              "    <div class=\"colab-df-buttons\">\n",
              "\n",
              "  <div class=\"colab-df-container\">\n",
              "    <button class=\"colab-df-convert\" onclick=\"convertToInteractive('df-b2c957be-6bc5-43fa-a507-6ec465e96764')\"\n",
              "            title=\"Convert this dataframe to an interactive table.\"\n",
              "            style=\"display:none;\">\n",
              "\n",
              "  <svg xmlns=\"http://www.w3.org/2000/svg\" height=\"24px\" viewBox=\"0 -960 960 960\">\n",
              "    <path d=\"M120-120v-720h720v720H120Zm60-500h600v-160H180v160Zm220 220h160v-160H400v160Zm0 220h160v-160H400v160ZM180-400h160v-160H180v160Zm440 0h160v-160H620v160ZM180-180h160v-160H180v160Zm440 0h160v-160H620v160Z\"/>\n",
              "  </svg>\n",
              "    </button>\n",
              "\n",
              "  <style>\n",
              "    .colab-df-container {\n",
              "      display:flex;\n",
              "      gap: 12px;\n",
              "    }\n",
              "\n",
              "    .colab-df-convert {\n",
              "      background-color: #E8F0FE;\n",
              "      border: none;\n",
              "      border-radius: 50%;\n",
              "      cursor: pointer;\n",
              "      display: none;\n",
              "      fill: #1967D2;\n",
              "      height: 32px;\n",
              "      padding: 0 0 0 0;\n",
              "      width: 32px;\n",
              "    }\n",
              "\n",
              "    .colab-df-convert:hover {\n",
              "      background-color: #E2EBFA;\n",
              "      box-shadow: 0px 1px 2px rgba(60, 64, 67, 0.3), 0px 1px 3px 1px rgba(60, 64, 67, 0.15);\n",
              "      fill: #174EA6;\n",
              "    }\n",
              "\n",
              "    .colab-df-buttons div {\n",
              "      margin-bottom: 4px;\n",
              "    }\n",
              "\n",
              "    [theme=dark] .colab-df-convert {\n",
              "      background-color: #3B4455;\n",
              "      fill: #D2E3FC;\n",
              "    }\n",
              "\n",
              "    [theme=dark] .colab-df-convert:hover {\n",
              "      background-color: #434B5C;\n",
              "      box-shadow: 0px 1px 3px 1px rgba(0, 0, 0, 0.15);\n",
              "      filter: drop-shadow(0px 1px 2px rgba(0, 0, 0, 0.3));\n",
              "      fill: #FFFFFF;\n",
              "    }\n",
              "  </style>\n",
              "\n",
              "    <script>\n",
              "      const buttonEl =\n",
              "        document.querySelector('#df-b2c957be-6bc5-43fa-a507-6ec465e96764 button.colab-df-convert');\n",
              "      buttonEl.style.display =\n",
              "        google.colab.kernel.accessAllowed ? 'block' : 'none';\n",
              "\n",
              "      async function convertToInteractive(key) {\n",
              "        const element = document.querySelector('#df-b2c957be-6bc5-43fa-a507-6ec465e96764');\n",
              "        const dataTable =\n",
              "          await google.colab.kernel.invokeFunction('convertToInteractive',\n",
              "                                                    [key], {});\n",
              "        if (!dataTable) return;\n",
              "\n",
              "        const docLinkHtml = 'Like what you see? Visit the ' +\n",
              "          '<a target=\"_blank\" href=https://colab.research.google.com/notebooks/data_table.ipynb>data table notebook</a>'\n",
              "          + ' to learn more about interactive tables.';\n",
              "        element.innerHTML = '';\n",
              "        dataTable['output_type'] = 'display_data';\n",
              "        await google.colab.output.renderOutput(dataTable, element);\n",
              "        const docLink = document.createElement('div');\n",
              "        docLink.innerHTML = docLinkHtml;\n",
              "        element.appendChild(docLink);\n",
              "      }\n",
              "    </script>\n",
              "  </div>\n",
              "\n",
              "\n",
              "<div id=\"df-a7ca0ff1-8f01-43da-9fca-0e059440002f\">\n",
              "  <button class=\"colab-df-quickchart\" onclick=\"quickchart('df-a7ca0ff1-8f01-43da-9fca-0e059440002f')\"\n",
              "            title=\"Suggest charts\"\n",
              "            style=\"display:none;\">\n",
              "\n",
              "<svg xmlns=\"http://www.w3.org/2000/svg\" height=\"24px\"viewBox=\"0 0 24 24\"\n",
              "     width=\"24px\">\n",
              "    <g>\n",
              "        <path d=\"M19 3H5c-1.1 0-2 .9-2 2v14c0 1.1.9 2 2 2h14c1.1 0 2-.9 2-2V5c0-1.1-.9-2-2-2zM9 17H7v-7h2v7zm4 0h-2V7h2v10zm4 0h-2v-4h2v4z\"/>\n",
              "    </g>\n",
              "</svg>\n",
              "  </button>\n",
              "\n",
              "<style>\n",
              "  .colab-df-quickchart {\n",
              "      --bg-color: #E8F0FE;\n",
              "      --fill-color: #1967D2;\n",
              "      --hover-bg-color: #E2EBFA;\n",
              "      --hover-fill-color: #174EA6;\n",
              "      --disabled-fill-color: #AAA;\n",
              "      --disabled-bg-color: #DDD;\n",
              "  }\n",
              "\n",
              "  [theme=dark] .colab-df-quickchart {\n",
              "      --bg-color: #3B4455;\n",
              "      --fill-color: #D2E3FC;\n",
              "      --hover-bg-color: #434B5C;\n",
              "      --hover-fill-color: #FFFFFF;\n",
              "      --disabled-bg-color: #3B4455;\n",
              "      --disabled-fill-color: #666;\n",
              "  }\n",
              "\n",
              "  .colab-df-quickchart {\n",
              "    background-color: var(--bg-color);\n",
              "    border: none;\n",
              "    border-radius: 50%;\n",
              "    cursor: pointer;\n",
              "    display: none;\n",
              "    fill: var(--fill-color);\n",
              "    height: 32px;\n",
              "    padding: 0;\n",
              "    width: 32px;\n",
              "  }\n",
              "\n",
              "  .colab-df-quickchart:hover {\n",
              "    background-color: var(--hover-bg-color);\n",
              "    box-shadow: 0 1px 2px rgba(60, 64, 67, 0.3), 0 1px 3px 1px rgba(60, 64, 67, 0.15);\n",
              "    fill: var(--button-hover-fill-color);\n",
              "  }\n",
              "\n",
              "  .colab-df-quickchart-complete:disabled,\n",
              "  .colab-df-quickchart-complete:disabled:hover {\n",
              "    background-color: var(--disabled-bg-color);\n",
              "    fill: var(--disabled-fill-color);\n",
              "    box-shadow: none;\n",
              "  }\n",
              "\n",
              "  .colab-df-spinner {\n",
              "    border: 2px solid var(--fill-color);\n",
              "    border-color: transparent;\n",
              "    border-bottom-color: var(--fill-color);\n",
              "    animation:\n",
              "      spin 1s steps(1) infinite;\n",
              "  }\n",
              "\n",
              "  @keyframes spin {\n",
              "    0% {\n",
              "      border-color: transparent;\n",
              "      border-bottom-color: var(--fill-color);\n",
              "      border-left-color: var(--fill-color);\n",
              "    }\n",
              "    20% {\n",
              "      border-color: transparent;\n",
              "      border-left-color: var(--fill-color);\n",
              "      border-top-color: var(--fill-color);\n",
              "    }\n",
              "    30% {\n",
              "      border-color: transparent;\n",
              "      border-left-color: var(--fill-color);\n",
              "      border-top-color: var(--fill-color);\n",
              "      border-right-color: var(--fill-color);\n",
              "    }\n",
              "    40% {\n",
              "      border-color: transparent;\n",
              "      border-right-color: var(--fill-color);\n",
              "      border-top-color: var(--fill-color);\n",
              "    }\n",
              "    60% {\n",
              "      border-color: transparent;\n",
              "      border-right-color: var(--fill-color);\n",
              "    }\n",
              "    80% {\n",
              "      border-color: transparent;\n",
              "      border-right-color: var(--fill-color);\n",
              "      border-bottom-color: var(--fill-color);\n",
              "    }\n",
              "    90% {\n",
              "      border-color: transparent;\n",
              "      border-bottom-color: var(--fill-color);\n",
              "    }\n",
              "  }\n",
              "</style>\n",
              "\n",
              "  <script>\n",
              "    async function quickchart(key) {\n",
              "      const quickchartButtonEl =\n",
              "        document.querySelector('#' + key + ' button');\n",
              "      quickchartButtonEl.disabled = true;  // To prevent multiple clicks.\n",
              "      quickchartButtonEl.classList.add('colab-df-spinner');\n",
              "      try {\n",
              "        const charts = await google.colab.kernel.invokeFunction(\n",
              "            'suggestCharts', [key], {});\n",
              "      } catch (error) {\n",
              "        console.error('Error during call to suggestCharts:', error);\n",
              "      }\n",
              "      quickchartButtonEl.classList.remove('colab-df-spinner');\n",
              "      quickchartButtonEl.classList.add('colab-df-quickchart-complete');\n",
              "    }\n",
              "    (() => {\n",
              "      let quickchartButtonEl =\n",
              "        document.querySelector('#df-a7ca0ff1-8f01-43da-9fca-0e059440002f button');\n",
              "      quickchartButtonEl.style.display =\n",
              "        google.colab.kernel.accessAllowed ? 'block' : 'none';\n",
              "    })();\n",
              "  </script>\n",
              "</div>\n",
              "\n",
              "    </div>\n",
              "  </div>\n"
            ]
          },
          "metadata": {},
          "execution_count": 10
        }
      ]
    },
    {
      "cell_type": "markdown",
      "source": [
        "## Dataset Details\n",
        "\n",
        "No additional features were added."
      ],
      "metadata": {
        "id": "MIUUvD-RAy8x"
      }
    },
    {
      "cell_type": "code",
      "source": [
        "def print_df_list_of_features():\n",
        "    columns = df.columns.to_list()\n",
        "    features = \"Features: \"\n",
        "    for i, col in enumerate(columns):\n",
        "        if i > 0:\n",
        "            features += f', \"{col}\"'\n",
        "        else:\n",
        "            features += f'\"{col}\"'\n",
        "    print(features)\n",
        "\n",
        "print_df_list_of_features()"
      ],
      "metadata": {
        "colab": {
          "base_uri": "https://localhost:8080/"
        },
        "id": "CrUiOKHBAvxp",
        "outputId": "86e429ef-bf56-4631-fc03-5c1edcb88946"
      },
      "execution_count": 11,
      "outputs": [
        {
          "output_type": "stream",
          "name": "stdout",
          "text": [
            "Features: \"Label\", \"Text\", \"Unnamed: 2\", \"Unnamed: 3\", \"Unnamed: 4\"\n"
          ]
        }
      ]
    },
    {
      "cell_type": "code",
      "source": [
        "# Prints the size of the dataframe to output\n",
        "rows, columns = df.shape\n",
        "print(f\"The dataset contains {rows} rows and {columns} columns.\\n\")"
      ],
      "metadata": {
        "colab": {
          "base_uri": "https://localhost:8080/"
        },
        "id": "uE3R2EMvBBOk",
        "outputId": "81429e05-fcd0-4045-9c28-f948a81f3dbe"
      },
      "execution_count": 12,
      "outputs": [
        {
          "output_type": "stream",
          "name": "stdout",
          "text": [
            "The dataset contains 5572 rows and 5 columns.\n",
            "\n"
          ]
        }
      ]
    },
    {
      "cell_type": "markdown",
      "source": [
        "## Handeling Missing Data\n",
        "\n",
        "In the cells below you can see that the columns labeled 'Unnamed: 2', 'Unnamed: 3', and 'Unnamed: 4' are ~99.8 % null values.\n",
        "\n",
        "Due to the extensive amount of null values in these columns, we decided to remove them to avoid unnecessary noise in our dataset. In doing this we will improve our training time by reducing the size of the dataset and increase our model's ability to learn the relationships between features.\n",
        "\n",
        "\n",
        "\n"
      ],
      "metadata": {
        "id": "x3ZkCzvnDPdp"
      }
    },
    {
      "cell_type": "code",
      "source": [
        "missing_values = df.isnull().sum()\n",
        "print(\"Missing Values:\")\n",
        "print(str(missing_values)+ \"\\n\")\n",
        "\n",
        "print(\"These are the columns with missing data:\" + str(df.columns[df.isnull().any()].tolist()))"
      ],
      "metadata": {
        "colab": {
          "base_uri": "https://localhost:8080/"
        },
        "id": "9KlpomQMCdYB",
        "outputId": "079ff408-979d-49be-f9c2-69b7dab5a42b"
      },
      "execution_count": 13,
      "outputs": [
        {
          "output_type": "stream",
          "name": "stdout",
          "text": [
            "Missing Values:\n",
            "Label            0\n",
            "Text             0\n",
            "Unnamed: 2    5522\n",
            "Unnamed: 3    5560\n",
            "Unnamed: 4    5566\n",
            "dtype: int64\n",
            "\n",
            "These are the columns with missing data:['Unnamed: 2', 'Unnamed: 3', 'Unnamed: 4']\n"
          ]
        }
      ]
    },
    {
      "cell_type": "code",
      "source": [
        "# Prints a list of columns that are filled with null values\n",
        "# Here you can see there are non-null values in these columns but it is less than 1 % of the data within the entire dataset.\n",
        "# Therefore our group chose to delete them to improve our models performance.\n",
        "\n",
        "print(df.columns[df.isnull().all()])\n",
        "\n",
        "print(df['Unnamed: 2'].str.cat(sep=''))\n",
        "\n",
        "df = df.drop(['Unnamed: 2', 'Unnamed: 3', 'Unnamed: 4'], axis=1)"
      ],
      "metadata": {
        "colab": {
          "base_uri": "https://localhost:8080/"
        },
        "id": "xi2hirhmBg5I",
        "outputId": "dc643d9a-ec5d-4160-b3f0-0093b85ce4d8"
      },
      "execution_count": 14,
      "outputs": [
        {
          "output_type": "stream",
          "name": "stdout",
          "text": [
            "Index([], dtype='object')\n",
            " PO Box 5249 the person is definitely special for u..... But if the person is so special HOWU DOIN? FOUNDURSELF A JOBYET SAUSAGE?LOVE JEN XXX\\\"\" wanted to say hi. HI!!!\\\" Stop? Send STOP to 62468\"this wont even start........ Datz confidence..\" PO Box 5249GN.;-):-D\"just been in bedbut mite go 2 thepub l8tr if uwana mt up?loads a luv Jenxxx.\\\"\" bt not his girlfrnd... G o o d n i g h t . . .@\" I'll come up\" don't miss ur best life for anything... Gud nyt...\" just as a shop has to give a guarantee on what they sell. B. G.\" But at d end my love compromised me for everything:-(\\\".. Gud mornin:-)\" the toughest is acting Happy with all unspoken pain inside..\\\"\" smoke hella weed\\\"\"\\\" not \\\"what i need to do.\\\"\"JUST GOT PAYED2DAY & I HAVBEEN GIVEN Aå£50 PAY RISE 4MY WORK & HAVEBEEN MADE PRESCHOOLCO-ORDINATOR 2I AM FEELINGOOD LUV\\\"\" justthought iåÕd sayhey! how u doin?nearly the endof me wk offdam nevamind!We will have 2Hook up sn if uwant m8? loveJen x.\\\"\"JUST REALLYNEED 2DOCD.PLEASE DONTPLEASE DONTIGNORE MYCALLSu hav2hear it!c u sn xxxx\\\"\" I don't mind Dont Come Near My Body..!! Bcoz My Hands May Not Come 2 Wipe Ur Tears Off That Time..!Gud ni8\"Well there's still a bit left if you guys want to tonightthis wont even start........ Datz confidence..\" but dont try to prove\\\" ..... Gud mrng...\" SHE SHUDVETOLD U. DID URGRAN KNOW?NEWAY but watever u shared should be true\\\"....\" like you are the KING\\\"...! OR \\\"Walk like you Dont care HAD A COOL NYTHO don't miss ur best life for anything... Gud nyt...\" PO Box 1146 MK45 2WT (2/3)\" \\\"It is d wonderful fruit that a tree gives when it is being hurt by a stone.. Good night......\" we made you hold all the weed\\\"\" but dont try to prove it..\\\" .Gud noon....\" but dont try to prove it..\\\" .Gud noon....\" its a miracle to Love a person who can't Love anyone except U...\\\" Gud nyt...\" Gud night....\" bt not his girlfrnd... G o o d n i g h t . . .@\" that's the tiny street where the parking lot is\"PROBPOP IN & CU SATTHEN HUNNY 4BREKKIE! LOVE JEN XXX. PSXTRA LRG PORTIONS 4 ME PLEASE \\\"\" hopeSo hunny. i amnow feelin ill & ithink i may have tonsolitusaswell! damn iam layin in bedreal bored. lotsof luv me xxxx\\\"\" GOD said always give response 2 who cares 4 U\\\"... Gud night..swt dreams..take care\" HOPE UR OK... WILL GIVE U A BUZ WEDLUNCH. GO OUTSOMEWHERE 4 ADRINK IN TOWN..CUD GO 2WATERSHD 4 A BIT? PPL FROMWRK WILL BTHERE. LOVE PETEXXX.\\\"\"GN b'coz nobody will fight for u. Only u &amp; u have to fight for ur self &amp; win the battle. -VIVEKANAND- G 9t.. SD..\"DEVIOUSBITCH.ANYWAY bt not his girlfrnd... G o o d n i g h t . . .@\" ENJOYIN INDIANS AT THE MO..yeP. SaLL gOoD HehE ;> hows bout u shexy? Pete Xx\\\"\"\n"
          ]
        }
      ]
    },
    {
      "cell_type": "code",
      "source": [
        "# Final dataset with no missing values.\n",
        "\n",
        "import missingno as msno\n",
        "\n",
        "msno.bar(df)\n",
        "\n",
        "df.head()"
      ],
      "metadata": {
        "colab": {
          "base_uri": "https://localhost:8080/",
          "height": 820
        },
        "id": "h8NhgW-AGqoz",
        "outputId": "dbb4cf98-d3e9-4aa5-f57d-5e95a1c57712"
      },
      "execution_count": 15,
      "outputs": [
        {
          "output_type": "execute_result",
          "data": {
            "text/plain": [
              "  Label                                               Text\n",
              "0   ham  Go until jurong point, crazy.. Available only ...\n",
              "1   ham                      Ok lar... Joking wif u oni...\n",
              "2  spam  Free entry in 2 a wkly comp to win FA Cup fina...\n",
              "3   ham  U dun say so early hor... U c already then say...\n",
              "4   ham  Nah I don't think he goes to usf, he lives aro..."
            ],
            "text/html": [
              "\n",
              "  <div id=\"df-d1c028cb-0633-4337-a388-a95d4471d13d\" class=\"colab-df-container\">\n",
              "    <div>\n",
              "<style scoped>\n",
              "    .dataframe tbody tr th:only-of-type {\n",
              "        vertical-align: middle;\n",
              "    }\n",
              "\n",
              "    .dataframe tbody tr th {\n",
              "        vertical-align: top;\n",
              "    }\n",
              "\n",
              "    .dataframe thead th {\n",
              "        text-align: right;\n",
              "    }\n",
              "</style>\n",
              "<table border=\"1\" class=\"dataframe\">\n",
              "  <thead>\n",
              "    <tr style=\"text-align: right;\">\n",
              "      <th></th>\n",
              "      <th>Label</th>\n",
              "      <th>Text</th>\n",
              "    </tr>\n",
              "  </thead>\n",
              "  <tbody>\n",
              "    <tr>\n",
              "      <th>0</th>\n",
              "      <td>ham</td>\n",
              "      <td>Go until jurong point, crazy.. Available only ...</td>\n",
              "    </tr>\n",
              "    <tr>\n",
              "      <th>1</th>\n",
              "      <td>ham</td>\n",
              "      <td>Ok lar... Joking wif u oni...</td>\n",
              "    </tr>\n",
              "    <tr>\n",
              "      <th>2</th>\n",
              "      <td>spam</td>\n",
              "      <td>Free entry in 2 a wkly comp to win FA Cup fina...</td>\n",
              "    </tr>\n",
              "    <tr>\n",
              "      <th>3</th>\n",
              "      <td>ham</td>\n",
              "      <td>U dun say so early hor... U c already then say...</td>\n",
              "    </tr>\n",
              "    <tr>\n",
              "      <th>4</th>\n",
              "      <td>ham</td>\n",
              "      <td>Nah I don't think he goes to usf, he lives aro...</td>\n",
              "    </tr>\n",
              "  </tbody>\n",
              "</table>\n",
              "</div>\n",
              "    <div class=\"colab-df-buttons\">\n",
              "\n",
              "  <div class=\"colab-df-container\">\n",
              "    <button class=\"colab-df-convert\" onclick=\"convertToInteractive('df-d1c028cb-0633-4337-a388-a95d4471d13d')\"\n",
              "            title=\"Convert this dataframe to an interactive table.\"\n",
              "            style=\"display:none;\">\n",
              "\n",
              "  <svg xmlns=\"http://www.w3.org/2000/svg\" height=\"24px\" viewBox=\"0 -960 960 960\">\n",
              "    <path d=\"M120-120v-720h720v720H120Zm60-500h600v-160H180v160Zm220 220h160v-160H400v160Zm0 220h160v-160H400v160ZM180-400h160v-160H180v160Zm440 0h160v-160H620v160ZM180-180h160v-160H180v160Zm440 0h160v-160H620v160Z\"/>\n",
              "  </svg>\n",
              "    </button>\n",
              "\n",
              "  <style>\n",
              "    .colab-df-container {\n",
              "      display:flex;\n",
              "      gap: 12px;\n",
              "    }\n",
              "\n",
              "    .colab-df-convert {\n",
              "      background-color: #E8F0FE;\n",
              "      border: none;\n",
              "      border-radius: 50%;\n",
              "      cursor: pointer;\n",
              "      display: none;\n",
              "      fill: #1967D2;\n",
              "      height: 32px;\n",
              "      padding: 0 0 0 0;\n",
              "      width: 32px;\n",
              "    }\n",
              "\n",
              "    .colab-df-convert:hover {\n",
              "      background-color: #E2EBFA;\n",
              "      box-shadow: 0px 1px 2px rgba(60, 64, 67, 0.3), 0px 1px 3px 1px rgba(60, 64, 67, 0.15);\n",
              "      fill: #174EA6;\n",
              "    }\n",
              "\n",
              "    .colab-df-buttons div {\n",
              "      margin-bottom: 4px;\n",
              "    }\n",
              "\n",
              "    [theme=dark] .colab-df-convert {\n",
              "      background-color: #3B4455;\n",
              "      fill: #D2E3FC;\n",
              "    }\n",
              "\n",
              "    [theme=dark] .colab-df-convert:hover {\n",
              "      background-color: #434B5C;\n",
              "      box-shadow: 0px 1px 3px 1px rgba(0, 0, 0, 0.15);\n",
              "      filter: drop-shadow(0px 1px 2px rgba(0, 0, 0, 0.3));\n",
              "      fill: #FFFFFF;\n",
              "    }\n",
              "  </style>\n",
              "\n",
              "    <script>\n",
              "      const buttonEl =\n",
              "        document.querySelector('#df-d1c028cb-0633-4337-a388-a95d4471d13d button.colab-df-convert');\n",
              "      buttonEl.style.display =\n",
              "        google.colab.kernel.accessAllowed ? 'block' : 'none';\n",
              "\n",
              "      async function convertToInteractive(key) {\n",
              "        const element = document.querySelector('#df-d1c028cb-0633-4337-a388-a95d4471d13d');\n",
              "        const dataTable =\n",
              "          await google.colab.kernel.invokeFunction('convertToInteractive',\n",
              "                                                    [key], {});\n",
              "        if (!dataTable) return;\n",
              "\n",
              "        const docLinkHtml = 'Like what you see? Visit the ' +\n",
              "          '<a target=\"_blank\" href=https://colab.research.google.com/notebooks/data_table.ipynb>data table notebook</a>'\n",
              "          + ' to learn more about interactive tables.';\n",
              "        element.innerHTML = '';\n",
              "        dataTable['output_type'] = 'display_data';\n",
              "        await google.colab.output.renderOutput(dataTable, element);\n",
              "        const docLink = document.createElement('div');\n",
              "        docLink.innerHTML = docLinkHtml;\n",
              "        element.appendChild(docLink);\n",
              "      }\n",
              "    </script>\n",
              "  </div>\n",
              "\n",
              "\n",
              "<div id=\"df-88d287ea-5f7e-407a-8170-661e598c35b7\">\n",
              "  <button class=\"colab-df-quickchart\" onclick=\"quickchart('df-88d287ea-5f7e-407a-8170-661e598c35b7')\"\n",
              "            title=\"Suggest charts\"\n",
              "            style=\"display:none;\">\n",
              "\n",
              "<svg xmlns=\"http://www.w3.org/2000/svg\" height=\"24px\"viewBox=\"0 0 24 24\"\n",
              "     width=\"24px\">\n",
              "    <g>\n",
              "        <path d=\"M19 3H5c-1.1 0-2 .9-2 2v14c0 1.1.9 2 2 2h14c1.1 0 2-.9 2-2V5c0-1.1-.9-2-2-2zM9 17H7v-7h2v7zm4 0h-2V7h2v10zm4 0h-2v-4h2v4z\"/>\n",
              "    </g>\n",
              "</svg>\n",
              "  </button>\n",
              "\n",
              "<style>\n",
              "  .colab-df-quickchart {\n",
              "      --bg-color: #E8F0FE;\n",
              "      --fill-color: #1967D2;\n",
              "      --hover-bg-color: #E2EBFA;\n",
              "      --hover-fill-color: #174EA6;\n",
              "      --disabled-fill-color: #AAA;\n",
              "      --disabled-bg-color: #DDD;\n",
              "  }\n",
              "\n",
              "  [theme=dark] .colab-df-quickchart {\n",
              "      --bg-color: #3B4455;\n",
              "      --fill-color: #D2E3FC;\n",
              "      --hover-bg-color: #434B5C;\n",
              "      --hover-fill-color: #FFFFFF;\n",
              "      --disabled-bg-color: #3B4455;\n",
              "      --disabled-fill-color: #666;\n",
              "  }\n",
              "\n",
              "  .colab-df-quickchart {\n",
              "    background-color: var(--bg-color);\n",
              "    border: none;\n",
              "    border-radius: 50%;\n",
              "    cursor: pointer;\n",
              "    display: none;\n",
              "    fill: var(--fill-color);\n",
              "    height: 32px;\n",
              "    padding: 0;\n",
              "    width: 32px;\n",
              "  }\n",
              "\n",
              "  .colab-df-quickchart:hover {\n",
              "    background-color: var(--hover-bg-color);\n",
              "    box-shadow: 0 1px 2px rgba(60, 64, 67, 0.3), 0 1px 3px 1px rgba(60, 64, 67, 0.15);\n",
              "    fill: var(--button-hover-fill-color);\n",
              "  }\n",
              "\n",
              "  .colab-df-quickchart-complete:disabled,\n",
              "  .colab-df-quickchart-complete:disabled:hover {\n",
              "    background-color: var(--disabled-bg-color);\n",
              "    fill: var(--disabled-fill-color);\n",
              "    box-shadow: none;\n",
              "  }\n",
              "\n",
              "  .colab-df-spinner {\n",
              "    border: 2px solid var(--fill-color);\n",
              "    border-color: transparent;\n",
              "    border-bottom-color: var(--fill-color);\n",
              "    animation:\n",
              "      spin 1s steps(1) infinite;\n",
              "  }\n",
              "\n",
              "  @keyframes spin {\n",
              "    0% {\n",
              "      border-color: transparent;\n",
              "      border-bottom-color: var(--fill-color);\n",
              "      border-left-color: var(--fill-color);\n",
              "    }\n",
              "    20% {\n",
              "      border-color: transparent;\n",
              "      border-left-color: var(--fill-color);\n",
              "      border-top-color: var(--fill-color);\n",
              "    }\n",
              "    30% {\n",
              "      border-color: transparent;\n",
              "      border-left-color: var(--fill-color);\n",
              "      border-top-color: var(--fill-color);\n",
              "      border-right-color: var(--fill-color);\n",
              "    }\n",
              "    40% {\n",
              "      border-color: transparent;\n",
              "      border-right-color: var(--fill-color);\n",
              "      border-top-color: var(--fill-color);\n",
              "    }\n",
              "    60% {\n",
              "      border-color: transparent;\n",
              "      border-right-color: var(--fill-color);\n",
              "    }\n",
              "    80% {\n",
              "      border-color: transparent;\n",
              "      border-right-color: var(--fill-color);\n",
              "      border-bottom-color: var(--fill-color);\n",
              "    }\n",
              "    90% {\n",
              "      border-color: transparent;\n",
              "      border-bottom-color: var(--fill-color);\n",
              "    }\n",
              "  }\n",
              "</style>\n",
              "\n",
              "  <script>\n",
              "    async function quickchart(key) {\n",
              "      const quickchartButtonEl =\n",
              "        document.querySelector('#' + key + ' button');\n",
              "      quickchartButtonEl.disabled = true;  // To prevent multiple clicks.\n",
              "      quickchartButtonEl.classList.add('colab-df-spinner');\n",
              "      try {\n",
              "        const charts = await google.colab.kernel.invokeFunction(\n",
              "            'suggestCharts', [key], {});\n",
              "      } catch (error) {\n",
              "        console.error('Error during call to suggestCharts:', error);\n",
              "      }\n",
              "      quickchartButtonEl.classList.remove('colab-df-spinner');\n",
              "      quickchartButtonEl.classList.add('colab-df-quickchart-complete');\n",
              "    }\n",
              "    (() => {\n",
              "      let quickchartButtonEl =\n",
              "        document.querySelector('#df-88d287ea-5f7e-407a-8170-661e598c35b7 button');\n",
              "      quickchartButtonEl.style.display =\n",
              "        google.colab.kernel.accessAllowed ? 'block' : 'none';\n",
              "    })();\n",
              "  </script>\n",
              "</div>\n",
              "\n",
              "    </div>\n",
              "  </div>\n"
            ]
          },
          "metadata": {},
          "execution_count": 15
        },
        {
          "output_type": "display_data",
          "data": {
            "text/plain": [
              "<Figure size 2500x1000 with 3 Axes>"
            ],
            "image/png": "[encoded data removed]"
          },
          "metadata": {}
        }
      ]
    },
    {
      "cell_type": "markdown",
      "source": [
        "## Check for Duplicates\n"
      ],
      "metadata": {
        "id": "mTqzuQu-G5uJ"
      }
    },
    {
      "cell_type": "code",
      "source": [
        "def check_for_duplicate_entries():\n",
        "    return df.duplicated().any()\n",
        "\n",
        "\n",
        "print(\n",
        "    \"Duplicates Found!\"\n",
        ") if check_for_duplicate_entries() is True else print(\"No Duplicates Found!\")"
      ],
      "metadata": {
        "colab": {
          "base_uri": "https://localhost:8080/"
        },
        "id": "8sXpufXXG4DX",
        "outputId": "2db72cba-9db1-4ae0-8482-e10631af1acc"
      },
      "execution_count": 16,
      "outputs": [
        {
          "output_type": "stream",
          "name": "stdout",
          "text": [
            "No Duplicates Found!\n"
          ]
        }
      ]
    },
    {
      "cell_type": "markdown",
      "source": [
        "### Dataset Types\n",
        "\n",
        "In the cell below you can see our dataset is in text format. It will be one hot encoded in the following cells to ensure the ability to run sequential networks!"
      ],
      "metadata": {
        "id": "fUm_ZUp7InWh"
      }
    },
    {
      "cell_type": "code",
      "source": [
        "# Prints the datatypes for each column\n",
        "print(\"Datatypes\")\n",
        "print(df.dtypes)"
      ],
      "metadata": {
        "colab": {
          "base_uri": "https://localhost:8080/"
        },
        "id": "PcuIbGfyIjgK",
        "outputId": "6a331e84-370e-4eb9-ee60-1907617f10ea"
      },
      "execution_count": 17,
      "outputs": [
        {
          "output_type": "stream",
          "name": "stdout",
          "text": [
            "Datatypes\n",
            "Label    object\n",
            "Text     object\n",
            "dtype: object\n"
          ]
        }
      ]
    },
    {
      "cell_type": "markdown",
      "source": [
        "## Data Preparation"
      ],
      "metadata": {
        "id": "A1fxNbT5dTFF"
      }
    },
    {
      "cell_type": "markdown",
      "source": [
        "The **first step** in preprocessing our data for sequential networks is to remove any irrelevant information such as **stopwords** and convert all the text to lowercase to ensure consistency. In the cell below you can see we removed the stop words from the Text column in our dataframe."
      ],
      "metadata": {
        "id": "fhZE8dwGdY_M"
      }
    },
    {
      "cell_type": "code",
      "source": [
        "# Removing stop words from the text column.\n",
        "import nltk\n",
        "nltk.download('stopwords')\n",
        "from nltk.corpus import stopwords\n",
        "\n",
        "stop_words = stopwords.words('english')\n",
        "df['Text'] = df['Text'].apply(lambda x: ' '.join([word for word in x.split() if word not in (stop_words)]))"
      ],
      "metadata": {
        "colab": {
          "base_uri": "https://localhost:8080/"
        },
        "id": "X9ed0kBtKe5T",
        "outputId": "f3922729-2aac-4790-85fa-36b6fdefa0f7"
      },
      "execution_count": 18,
      "outputs": [
        {
          "output_type": "stream",
          "name": "stderr",
          "text": [
            "[nltk_data] Downloading package stopwords to /root/nltk_data...\n",
            "[nltk_data]   Unzipping corpora/stopwords.zip.\n"
          ]
        }
      ]
    },
    {
      "cell_type": "markdown",
      "source": [
        "\n",
        "\n",
        "**The second step is to tokenize the data. **\n",
        "Tokenizing the data is breaking the text into a sequence of tokens. These tokens are often words or charecters in the dataset. It is important to tokenize a dataset to reduce the dimensionality of the dataset making the network easier to learn! Tokenizing the dataset can also emphasize the important parts of the text which can therefore improve the accuracy of the network's prediction. Lastly, tokenizing the dataset can help improve the stability of a dataset byt making the dataset more consistent.\n",
        "\n",
        "In the cells below you can see we created a new column called tokenizedText that represents the tokenized version of the SMS data."
      ],
      "metadata": {
        "id": "uvxZJnIKdiey"
      }
    },
    {
      "cell_type": "code",
      "source": [
        "nltk.download('punkt')"
      ],
      "metadata": {
        "colab": {
          "base_uri": "https://localhost:8080/"
        },
        "id": "n0zks-UaPDPY",
        "outputId": "f5bc8abc-c7e3-4093-f1d0-f3011e097e85"
      },
      "execution_count": 19,
      "outputs": [
        {
          "output_type": "stream",
          "name": "stderr",
          "text": [
            "[nltk_data] Downloading package punkt to /root/nltk_data...\n",
            "[nltk_data]   Unzipping tokenizers/punkt.zip.\n"
          ]
        },
        {
          "output_type": "execute_result",
          "data": {
            "text/plain": [
              "True"
            ]
          },
          "metadata": {},
          "execution_count": 19
        }
      ]
    },
    {
      "cell_type": "code",
      "source": [
        "# Funtion returns all tokens in lowercase.\n",
        "def to_lowercase(words):\n",
        "    new_words = []\n",
        "    for word in words:\n",
        "        new_word = word.lower()\n",
        "        new_words.append(new_word)\n",
        "    return new_words"
      ],
      "metadata": {
        "id": "zE7sR7nCQJXs"
      },
      "execution_count": 20,
      "outputs": []
    },
    {
      "cell_type": "code",
      "source": [
        "# Function return list of tokens from SMS messages column df['Text']\n",
        "def tokenize(column):\n",
        "    tokens = nltk.word_tokenize(column)\n",
        "    tokens = to_lowercase(tokens)\n",
        "    return [w for w in tokens if w.isalpha()]"
      ],
      "metadata": {
        "id": "7-zAHDsXOgwC"
      },
      "execution_count": 21,
      "outputs": []
    },
    {
      "cell_type": "code",
      "source": [
        "df['tokenizedText'] = df.apply(lambda x: tokenize(x['Text']), axis=1)\n",
        "df[['tokenizedText']].head()"
      ],
      "metadata": {
        "colab": {
          "base_uri": "https://localhost:8080/",
          "height": 206
        },
        "id": "97yWDX6xOv7c",
        "outputId": "b64f7bd6-1725-4c61-ecb3-9ee1108ef13f"
      },
      "execution_count": 22,
      "outputs": [
        {
          "output_type": "execute_result",
          "data": {
            "text/plain": [
              "                                       tokenizedText\n",
              "0  [go, jurong, point, crazy, available, bugis, n...\n",
              "1                     [ok, lar, joking, wif, u, oni]\n",
              "2  [free, entry, wkly, comp, win, fa, cup, final,...\n",
              "3      [u, dun, say, early, hor, u, c, already, say]\n",
              "4  [nah, i, think, goes, usf, lives, around, though]"
            ],
            "text/html": [
              "\n",
              "  <div id=\"df-096076a3-12a4-4795-a27b-4075246f3417\" class=\"colab-df-container\">\n",
              "    <div>\n",
              "<style scoped>\n",
              "    .dataframe tbody tr th:only-of-type {\n",
              "        vertical-align: middle;\n",
              "    }\n",
              "\n",
              "    .dataframe tbody tr th {\n",
              "        vertical-align: top;\n",
              "    }\n",
              "\n",
              "    .dataframe thead th {\n",
              "        text-align: right;\n",
              "    }\n",
              "</style>\n",
              "<table border=\"1\" class=\"dataframe\">\n",
              "  <thead>\n",
              "    <tr style=\"text-align: right;\">\n",
              "      <th></th>\n",
              "      <th>tokenizedText</th>\n",
              "    </tr>\n",
              "  </thead>\n",
              "  <tbody>\n",
              "    <tr>\n",
              "      <th>0</th>\n",
              "      <td>[go, jurong, point, crazy, available, bugis, n...</td>\n",
              "    </tr>\n",
              "    <tr>\n",
              "      <th>1</th>\n",
              "      <td>[ok, lar, joking, wif, u, oni]</td>\n",
              "    </tr>\n",
              "    <tr>\n",
              "      <th>2</th>\n",
              "      <td>[free, entry, wkly, comp, win, fa, cup, final,...</td>\n",
              "    </tr>\n",
              "    <tr>\n",
              "      <th>3</th>\n",
              "      <td>[u, dun, say, early, hor, u, c, already, say]</td>\n",
              "    </tr>\n",
              "    <tr>\n",
              "      <th>4</th>\n",
              "      <td>[nah, i, think, goes, usf, lives, around, though]</td>\n",
              "    </tr>\n",
              "  </tbody>\n",
              "</table>\n",
              "</div>\n",
              "    <div class=\"colab-df-buttons\">\n",
              "\n",
              "  <div class=\"colab-df-container\">\n",
              "    <button class=\"colab-df-convert\" onclick=\"convertToInteractive('df-096076a3-12a4-4795-a27b-4075246f3417')\"\n",
              "            title=\"Convert this dataframe to an interactive table.\"\n",
              "            style=\"display:none;\">\n",
              "\n",
              "  <svg xmlns=\"http://www.w3.org/2000/svg\" height=\"24px\" viewBox=\"0 -960 960 960\">\n",
              "    <path d=\"M120-120v-720h720v720H120Zm60-500h600v-160H180v160Zm220 220h160v-160H400v160Zm0 220h160v-160H400v160ZM180-400h160v-160H180v160Zm440 0h160v-160H620v160ZM180-180h160v-160H180v160Zm440 0h160v-160H620v160Z\"/>\n",
              "  </svg>\n",
              "    </button>\n",
              "\n",
              "  <style>\n",
              "    .colab-df-container {\n",
              "      display:flex;\n",
              "      gap: 12px;\n",
              "    }\n",
              "\n",
              "    .colab-df-convert {\n",
              "      background-color: #E8F0FE;\n",
              "      border: none;\n",
              "      border-radius: 50%;\n",
              "      cursor: pointer;\n",
              "      display: none;\n",
              "      fill: #1967D2;\n",
              "      height: 32px;\n",
              "      padding: 0 0 0 0;\n",
              "      width: 32px;\n",
              "    }\n",
              "\n",
              "    .colab-df-convert:hover {\n",
              "      background-color: #E2EBFA;\n",
              "      box-shadow: 0px 1px 2px rgba(60, 64, 67, 0.3), 0px 1px 3px 1px rgba(60, 64, 67, 0.15);\n",
              "      fill: #174EA6;\n",
              "    }\n",
              "\n",
              "    .colab-df-buttons div {\n",
              "      margin-bottom: 4px;\n",
              "    }\n",
              "\n",
              "    [theme=dark] .colab-df-convert {\n",
              "      background-color: #3B4455;\n",
              "      fill: #D2E3FC;\n",
              "    }\n",
              "\n",
              "    [theme=dark] .colab-df-convert:hover {\n",
              "      background-color: #434B5C;\n",
              "      box-shadow: 0px 1px 3px 1px rgba(0, 0, 0, 0.15);\n",
              "      filter: drop-shadow(0px 1px 2px rgba(0, 0, 0, 0.3));\n",
              "      fill: #FFFFFF;\n",
              "    }\n",
              "  </style>\n",
              "\n",
              "    <script>\n",
              "      const buttonEl =\n",
              "        document.querySelector('#df-096076a3-12a4-4795-a27b-4075246f3417 button.colab-df-convert');\n",
              "      buttonEl.style.display =\n",
              "        google.colab.kernel.accessAllowed ? 'block' : 'none';\n",
              "\n",
              "      async function convertToInteractive(key) {\n",
              "        const element = document.querySelector('#df-096076a3-12a4-4795-a27b-4075246f3417');\n",
              "        const dataTable =\n",
              "          await google.colab.kernel.invokeFunction('convertToInteractive',\n",
              "                                                    [key], {});\n",
              "        if (!dataTable) return;\n",
              "\n",
              "        const docLinkHtml = 'Like what you see? Visit the ' +\n",
              "          '<a target=\"_blank\" href=https://colab.research.google.com/notebooks/data_table.ipynb>data table notebook</a>'\n",
              "          + ' to learn more about interactive tables.';\n",
              "        element.innerHTML = '';\n",
              "        dataTable['output_type'] = 'display_data';\n",
              "        await google.colab.output.renderOutput(dataTable, element);\n",
              "        const docLink = document.createElement('div');\n",
              "        docLink.innerHTML = docLinkHtml;\n",
              "        element.appendChild(docLink);\n",
              "      }\n",
              "    </script>\n",
              "  </div>\n",
              "\n",
              "\n",
              "<div id=\"df-90611924-7af6-47c7-86f5-f0384794223d\">\n",
              "  <button class=\"colab-df-quickchart\" onclick=\"quickchart('df-90611924-7af6-47c7-86f5-f0384794223d')\"\n",
              "            title=\"Suggest charts\"\n",
              "            style=\"display:none;\">\n",
              "\n",
              "<svg xmlns=\"http://www.w3.org/2000/svg\" height=\"24px\"viewBox=\"0 0 24 24\"\n",
              "     width=\"24px\">\n",
              "    <g>\n",
              "        <path d=\"M19 3H5c-1.1 0-2 .9-2 2v14c0 1.1.9 2 2 2h14c1.1 0 2-.9 2-2V5c0-1.1-.9-2-2-2zM9 17H7v-7h2v7zm4 0h-2V7h2v10zm4 0h-2v-4h2v4z\"/>\n",
              "    </g>\n",
              "</svg>\n",
              "  </button>\n",
              "\n",
              "<style>\n",
              "  .colab-df-quickchart {\n",
              "      --bg-color: #E8F0FE;\n",
              "      --fill-color: #1967D2;\n",
              "      --hover-bg-color: #E2EBFA;\n",
              "      --hover-fill-color: #174EA6;\n",
              "      --disabled-fill-color: #AAA;\n",
              "      --disabled-bg-color: #DDD;\n",
              "  }\n",
              "\n",
              "  [theme=dark] .colab-df-quickchart {\n",
              "      --bg-color: #3B4455;\n",
              "      --fill-color: #D2E3FC;\n",
              "      --hover-bg-color: #434B5C;\n",
              "      --hover-fill-color: #FFFFFF;\n",
              "      --disabled-bg-color: #3B4455;\n",
              "      --disabled-fill-color: #666;\n",
              "  }\n",
              "\n",
              "  .colab-df-quickchart {\n",
              "    background-color: var(--bg-color);\n",
              "    border: none;\n",
              "    border-radius: 50%;\n",
              "    cursor: pointer;\n",
              "    display: none;\n",
              "    fill: var(--fill-color);\n",
              "    height: 32px;\n",
              "    padding: 0;\n",
              "    width: 32px;\n",
              "  }\n",
              "\n",
              "  .colab-df-quickchart:hover {\n",
              "    background-color: var(--hover-bg-color);\n",
              "    box-shadow: 0 1px 2px rgba(60, 64, 67, 0.3), 0 1px 3px 1px rgba(60, 64, 67, 0.15);\n",
              "    fill: var(--button-hover-fill-color);\n",
              "  }\n",
              "\n",
              "  .colab-df-quickchart-complete:disabled,\n",
              "  .colab-df-quickchart-complete:disabled:hover {\n",
              "    background-color: var(--disabled-bg-color);\n",
              "    fill: var(--disabled-fill-color);\n",
              "    box-shadow: none;\n",
              "  }\n",
              "\n",
              "  .colab-df-spinner {\n",
              "    border: 2px solid var(--fill-color);\n",
              "    border-color: transparent;\n",
              "    border-bottom-color: var(--fill-color);\n",
              "    animation:\n",
              "      spin 1s steps(1) infinite;\n",
              "  }\n",
              "\n",
              "  @keyframes spin {\n",
              "    0% {\n",
              "      border-color: transparent;\n",
              "      border-bottom-color: var(--fill-color);\n",
              "      border-left-color: var(--fill-color);\n",
              "    }\n",
              "    20% {\n",
              "      border-color: transparent;\n",
              "      border-left-color: var(--fill-color);\n",
              "      border-top-color: var(--fill-color);\n",
              "    }\n",
              "    30% {\n",
              "      border-color: transparent;\n",
              "      border-left-color: var(--fill-color);\n",
              "      border-top-color: var(--fill-color);\n",
              "      border-right-color: var(--fill-color);\n",
              "    }\n",
              "    40% {\n",
              "      border-color: transparent;\n",
              "      border-right-color: var(--fill-color);\n",
              "      border-top-color: var(--fill-color);\n",
              "    }\n",
              "    60% {\n",
              "      border-color: transparent;\n",
              "      border-right-color: var(--fill-color);\n",
              "    }\n",
              "    80% {\n",
              "      border-color: transparent;\n",
              "      border-right-color: var(--fill-color);\n",
              "      border-bottom-color: var(--fill-color);\n",
              "    }\n",
              "    90% {\n",
              "      border-color: transparent;\n",
              "      border-bottom-color: var(--fill-color);\n",
              "    }\n",
              "  }\n",
              "</style>\n",
              "\n",
              "  <script>\n",
              "    async function quickchart(key) {\n",
              "      const quickchartButtonEl =\n",
              "        document.querySelector('#' + key + ' button');\n",
              "      quickchartButtonEl.disabled = true;  // To prevent multiple clicks.\n",
              "      quickchartButtonEl.classList.add('colab-df-spinner');\n",
              "      try {\n",
              "        const charts = await google.colab.kernel.invokeFunction(\n",
              "            'suggestCharts', [key], {});\n",
              "      } catch (error) {\n",
              "        console.error('Error during call to suggestCharts:', error);\n",
              "      }\n",
              "      quickchartButtonEl.classList.remove('colab-df-spinner');\n",
              "      quickchartButtonEl.classList.add('colab-df-quickchart-complete');\n",
              "    }\n",
              "    (() => {\n",
              "      let quickchartButtonEl =\n",
              "        document.querySelector('#df-90611924-7af6-47c7-86f5-f0384794223d button');\n",
              "      quickchartButtonEl.style.display =\n",
              "        google.colab.kernel.accessAllowed ? 'block' : 'none';\n",
              "    })();\n",
              "  </script>\n",
              "</div>\n",
              "\n",
              "    </div>\n",
              "  </div>\n"
            ]
          },
          "metadata": {},
          "execution_count": 22
        }
      ]
    },
    {
      "cell_type": "code",
      "source": [
        "print(df.dtypes)"
      ],
      "metadata": {
        "colab": {
          "base_uri": "https://localhost:8080/"
        },
        "id": "rNn6CZ4DPLQq",
        "outputId": "4dbc6d0b-587d-437d-bafc-c545fb768a5e"
      },
      "execution_count": 23,
      "outputs": [
        {
          "output_type": "stream",
          "name": "stdout",
          "text": [
            "Label            object\n",
            "Text             object\n",
            "tokenizedText    object\n",
            "dtype: object\n"
          ]
        }
      ]
    },
    {
      "cell_type": "markdown",
      "source": [
        "**The third step is to force a specific length on our dataset. **\n",
        "To force a specific length of sequence on your dataset you can use the pad_sequences() function from the keras preprocessing library. This function takes a max length argument and either truncates your sequences or adds zeros to force a specific length on the dataset.\n",
        "\n",
        "In the cell below we first calculate the longest sequence in our tokenized dataset. The longest sequence in our dataset came out to be 85 tokens. In the cells following we will pad the sequences that have below 85 tokens using the keras preprocessing library!\n",
        "\n",
        "\n"
      ],
      "metadata": {
        "id": "nceysIV3IoRu"
      }
    },
    {
      "cell_type": "code",
      "source": [
        "def getMaxLength(df):\n",
        "  return max(len(x) for x in df['tokenizedText'])"
      ],
      "metadata": {
        "id": "HRNwpA2uXJvi"
      },
      "execution_count": 24,
      "outputs": []
    },
    {
      "cell_type": "code",
      "source": [
        "# Create a tokenizer\n",
        "# Fit the tokens to the tokenizer\n",
        "tokenizer = Tokenizer()\n",
        "tokenizer.fit_on_texts(df['tokenizedText'])\n",
        "\n",
        "# Convert the text to sequences of integers\n",
        "x = tokenizer.texts_to_sequences(df['tokenizedText'])\n",
        "\n",
        "# Get the maximum length of the sequences\n",
        "max_length = getMaxLength(df)\n",
        "\n",
        "# Pad the sequences to the maximum length\n",
        "# So we can send them through a  neural network\n",
        "padded = pad_sequences(x, maxlen=max_length)\n",
        "\n",
        "# Print the padded dataset\n",
        "print(padded)"
      ],
      "metadata": {
        "id": "geDcmEiWZXwx",
        "colab": {
          "base_uri": "https://localhost:8080/"
        },
        "outputId": "b1691998-f75e-442c-c52e-3134d2f793f6"
      },
      "execution_count": 25,
      "outputs": [
        {
          "output_type": "stream",
          "name": "stdout",
          "text": [
            "[[   0    0    0 ...   15 3683   82]\n",
            " [   0    0    0 ...  382    2 1686]\n",
            " [   0    0    0 ...  132   76  325]\n",
            " ...\n",
            " [   0    0    0 ...   38  459 7278]\n",
            " [   0    0    0 ...  892  149   12]\n",
            " [   0    0    0 ...  105  408  204]]\n"
          ]
        }
      ]
    },
    {
      "cell_type": "markdown",
      "source": [
        "**The last step is to one-hot encode the labels. **\n",
        "\n",
        "Since our labels are categorical values of spam or not spam (also known as ham) it is important to convert these values to binary values. The label will take on a value of 1 if the vector is spam and a 0 if it is ham.\n",
        "\n",
        "It is important to one-hot encode categorical values in our dataset to ensure our model can learn the relationship between the different categories.\n"
      ],
      "metadata": {
        "id": "FAtXTFuELOLw"
      }
    },
    {
      "cell_type": "code",
      "source": [
        "from keras.utils import to_categorical\n",
        "\n",
        "# Prints the unique labels\n",
        "print(\"These are the unique labels in our dataset. We need to change these values to be one hot encoded. \")\n",
        "print(df['Label'].nunique())\n",
        "print(df['Label'].unique())\n",
        "print()\n",
        "\n",
        "one_hot_encoded_data = pd.get_dummies(df, columns = ['Label'])\n",
        "print(\"This is the new dataset!\")\n",
        "print(one_hot_encoded_data.dtypes)\n",
        "\n",
        "# one hot encoding labels\n",
        "#one_hot_labels = to_categorical(df['Label'])\n",
        "\n",
        "#print(one_hot_labels)\n",
        "\n"
      ],
      "metadata": {
        "colab": {
          "base_uri": "https://localhost:8080/"
        },
        "outputId": "85d7a878-113a-4d6d-ace7-9b6d793630d7",
        "id": "K6vEGCwIV-SR"
      },
      "execution_count": 26,
      "outputs": [
        {
          "output_type": "stream",
          "name": "stdout",
          "text": [
            "These are the unique labels in our dataset. We need to change these values to be one hot encoded. \n",
            "2\n",
            "['ham' 'spam']\n",
            "\n",
            "This is the new dataset!\n",
            "Text             object\n",
            "tokenizedText    object\n",
            "Label_ham         uint8\n",
            "Label_spam        uint8\n",
            "dtype: object\n"
          ]
        }
      ]
    },
    {
      "cell_type": "markdown",
      "source": [
        "## Evaluation Method\n",
        "\n",
        "\n",
        "\n",
        "For evaluating our model's performance, we will be using recall. Between the two types of classifications spam and ham it is important to avoid marking possibly important messages as spam/junk mail. Misclassification of text messages could lead to dissatisfaction and the loss of important information. For example, a missing credit card statement, an appointment reminder, a package delivery, and much more. Therefore our models will be evaluated on their ability to positively classify these messages as spam or ham.\n",
        "\n",
        "Beyond recall, we use metrics such as accuracy, misclassificaiton, precision, recall, and F1-score to measure and compare algorithm performance.\n",
        "\n",
        "Accuracy is a measure of the overall correctness of a model's predictions, calculated as the ratio of the number of correct predictions to the total number of predictions.\n",
        "\n",
        "Misclass, or misclassification, refers to the instances where a model's prediction does not match the actual class label of a data point.\n",
        "\n",
        "Precision is a measure of how well a model correctly identifies positive instances among the predicted positive instances.\n",
        "\n",
        "Recall, also known as sensitivity or the true positive rate, is a measure of how well a model identifies all the positive instances among the actual positive instances.\n",
        "\n",
        "F1-score is the \"harmonic mean\" of precision and recall, providing a single value that balances the trade-off between precision and recall.\n",
        "\n",
        "\n",
        "Additionally, we will evaluate the performance of a sequential network based on its training time and computational resources required. It is important to take into consideration the amount of time and resources our models will need because we want to avoid crashing the messaging device while predicting if a message is spam or ham.  \n",
        "\n",
        "\n",
        "We want to consider all of these metrics since not only do we want our models to perform well, but we want to achieve the highest true positive rate for both classes as possible."
      ],
      "metadata": {
        "id": "zJyKn-GIRtCp"
      }
    },
    {
      "cell_type": "markdown",
      "source": [
        "## Dataset Splitting\n",
        "\n",
        "In the following cells, you can see we used \"random split\" to split our dataset. This was the most realistic method for our dataset becaues an email inbox is random! There is no method to determine what email you will recieve at a specific time so we decided that randomly splitting our dataset was the most realistic in practice!\n",
        "\n",
        "Further, you can see we have split our dataset with X as the padded dataset. By using this dataset we ensure each input into the model will be the same length. For y we used the one hot encoded Label ham column from the dataset. Since this is a binary classification we are not required to run y on both the labeled ham and labeled spam!"
      ],
      "metadata": {
        "id": "tS6WYwnjRxHu"
      }
    },
    {
      "cell_type": "code",
      "source": [
        "from sklearn.model_selection import train_test_split\n",
        "\n",
        "# Features (padded sequences)\n",
        "X = padded\n",
        "\n",
        "# Labels (using 'Label_ham' as the label column)\n",
        "y = one_hot_encoded_data['Label_ham']\n",
        "\n",
        "# Splitting the dataset into training and testing sets\n",
        "X_train, X_test, y_train, y_test = train_test_split(X, y, test_size=0.25)\n"
      ],
      "metadata": {
        "id": "WxjdfX_DnNCp"
      },
      "execution_count": 27,
      "outputs": []
    },
    {
      "cell_type": "markdown",
      "source": [
        "## Sequential Network with CNN Architecture\n",
        "\n",
        "This model is a Convolutional Neural Network (CNN) designed for text classification. It's aimed at processing textual data and making predictions, particularly in binary classification tasks (where the output is either 0 or 1, typically representing two classes like spam/ham or positive/negative sentiment).\n",
        "\n",
        "The provided code constructs a Convolutional Neural Network (CNN) named cnn_text with the following architecture:\n",
        "\n",
        "[1] Embedding layer:\n",
        "\n",
        "- This layer learns and maps each word in the vocabulary to a high-dimensional vector space.\n",
        "- This layer helps represent words in a meaningful way, capturing their relationships based on their usage in the dataset.\n",
        "\n",
        "[2] Conv1D Layer:\n",
        "\n",
        " - This layer applies convolutional operations across the embeddings, extracting local patterns or features.\n",
        " - It uses 64 filters (kernel_size=3)\n",
        " - ReLU activation to capture different aspects of the text.\n",
        "\n",
        "[3] GlobalMaxPooling1D Layer:\n",
        "\n",
        "- This layer reduces the dimensionality of the convolutional output by selecting the maximum value from each feature map.\n",
        "\n",
        "- This pooling operation aggregates the important features from each filter across the input sequence\n",
        "\n",
        "[4] Dense Layer:\n",
        "\n",
        "- This layer acts as the output layer, producing a single value (between 0 and 1) which represents spam/ham.\n",
        "\n",
        "- Single neuron and a sigmoid activation function are added here.\n",
        "\n",
        "\n",
        "[5] Model Compiled and Evaluation Metrics\n",
        "- This model is compiled using the  Adam optimizer and binary cross-entropy loss function\n",
        "\n",
        "- Throughout epochs, the model monitors accuracy as the evaluation metric during training.\n",
        "\n",
        "\n",
        "Using a Sequential CNN for a spam or ham dataset is not the most common approach. CNN are predominately used for image recognition due to their ability to capture spatial hierarchies in data.\n",
        "\n",
        "From our research on CNN and textual datasets, it was clear that some textual data contains specific sequences and visual elements such a characters arranged to make an image-like pattern or even HTML files. However, we chose to use it for our dataset due to its rich structural patterns and in hopes of experimenting with the text dataset uniquely.\n",
        "\n",
        "Since this is our final project our group decided it would be fun to try unconventional architectures on our dataset and explore the results. As you will see in the following cells is a good thing we experimented with architectures because our model was able to perform an innovative feature extraction."
      ],
      "metadata": {
        "id": "ka4aXtHIBqPF"
      }
    },
    {
      "cell_type": "code",
      "source": [
        "from keras.models import Sequential\n",
        "from keras.layers import Embedding, Conv1D, GlobalMaxPooling1D, Dense\n",
        "\n",
        "# Set the vocabulary size, max length, and embedding dimension\n",
        "vocab_size = len(tokenizer.word_index) + 1  # Adding 1 because of reserved 0 index\n",
        "max_length = getMaxLength(df)\n",
        "embedding_dim = 100  # Adjust based on your pre-trained embeddings\n",
        "\n",
        "# Create the model\n",
        "cnn_text = Sequential()\n",
        "cnn_text.add(Embedding(input_dim=vocab_size, output_dim=embedding_dim, input_length=max_length, trainable=True))\n",
        "cnn_text.add(Conv1D(64, kernel_size=3, activation='relu'))\n",
        "cnn_text.add(GlobalMaxPooling1D())\n",
        "cnn_text.add(Dense(1, activation='sigmoid'))\n",
        "\n",
        "cnn_text.compile(optimizer='adam', loss='binary_crossentropy', metrics=['accuracy'])\n",
        "\n",
        "print(cnn_text.summary())\n"
      ],
      "metadata": {
        "colab": {
          "base_uri": "https://localhost:8080/"
        },
        "id": "zNuzeuEalwNw",
        "outputId": "90d32bbf-ad65-498b-961c-d9685165ecc0"
      },
      "execution_count": 28,
      "outputs": [
        {
          "output_type": "stream",
          "name": "stdout",
          "text": [
            "Model: \"sequential\"\n",
            "_________________________________________________________________\n",
            " Layer (type)                Output Shape              Param #   \n",
            "=================================================================\n",
            " embedding (Embedding)       (None, 85, 100)           728000    \n",
            "                                                                 \n",
            " conv1d (Conv1D)             (None, 83, 64)            19264     \n",
            "                                                                 \n",
            " global_max_pooling1d (Glob  (None, 64)                0         \n",
            " alMaxPooling1D)                                                 \n",
            "                                                                 \n",
            " dense (Dense)               (None, 1)                 65        \n",
            "                                                                 \n",
            "=================================================================\n",
            "Total params: 747329 (2.85 MB)\n",
            "Trainable params: 747329 (2.85 MB)\n",
            "Non-trainable params: 0 (0.00 Byte)\n",
            "_________________________________________________________________\n",
            "None\n"
          ]
        }
      ]
    },
    {
      "cell_type": "code",
      "source": [
        "from sklearn.model_selection import train_test_split\n",
        "\n",
        "# Splitting the padded sequences and labels into training and testing sets\n",
        "X_train, X_test, y_train, y_test = train_test_split(padded, one_hot_encoded_data['Label_ham'], test_size=0.25)\n",
        "\n",
        "# Train the model\n",
        "cnn_history = cnn_text.fit(X_train, y_train, validation_data=(X_test, y_test), epochs=3)\n"
      ],
      "metadata": {
        "colab": {
          "base_uri": "https://localhost:8080/"
        },
        "id": "bHZQ_fsSnTQF",
        "outputId": "20733657-bc76-49ff-82d5-9cba60c32ef2"
      },
      "execution_count": 29,
      "outputs": [
        {
          "output_type": "stream",
          "name": "stdout",
          "text": [
            "Epoch 1/3\n",
            "131/131 [==============================] - 3s 17ms/step - loss: 0.3244 - accuracy: 0.8789 - val_loss: 0.1101 - val_accuracy: 0.9655\n",
            "Epoch 2/3\n",
            "131/131 [==============================] - 1s 11ms/step - loss: 0.0632 - accuracy: 0.9797 - val_loss: 0.0529 - val_accuracy: 0.9849\n",
            "Epoch 3/3\n",
            "131/131 [==============================] - 1s 11ms/step - loss: 0.0208 - accuracy: 0.9955 - val_loss: 0.0491 - val_accuracy: 0.9842\n"
          ]
        }
      ]
    },
    {
      "cell_type": "code",
      "source": [
        "# Plotting the model\n",
        "from keras.utils import plot_model\n",
        "plot_model(\n",
        "    cnn_text,\n",
        "    to_file=\"model_text.png\",\n",
        "    show_shapes=True,\n",
        "    show_layer_names=True,\n",
        "    rankdir=\"LR\",\n",
        "    expand_nested=False,\n",
        "    dpi=96,\n",
        ")"
      ],
      "metadata": {
        "id": "gsgt5ddNopw-",
        "outputId": "5c3a0c9f-ba9a-4c15-b506-58c0d9f9208a",
        "colab": {
          "base_uri": "https://localhost:8080/",
          "height": 111
        }
      },
      "execution_count": 30,
      "outputs": [
        {
          "output_type": "execute_result",
          "data": {
            "image/png": "[encoded data removed]",
            "text/plain": [
              "<IPython.core.display.Image object>"
            ]
          },
          "metadata": {},
          "execution_count": 30
        }
      ]
    },
    {
      "cell_type": "markdown",
      "source": [
        "### CNN Model Evaluation and Visualization"
      ],
      "metadata": {
        "id": "g0pxl63bG43k"
      }
    },
    {
      "cell_type": "code",
      "source": [
        "# Evaluate the performance of a CNN architecture on a test set by predicting the class\n",
        "# probabilities and rounding them to obtain class predictions.\n",
        "\n",
        "# Defines the y-prediction probability and y-prediction arrays\n",
        "y_predict_proba = cnn_text.predict(X_test)\n",
        "y_predict = np.round(y_predict_proba)\n",
        "\n",
        "# Prints classification report\n",
        "print(classification_report(y_test, y_predict))\n",
        "\n",
        "class_report = metrics.classification_report(\n",
        "    y_test, y_predict, output_dict=True\n",
        ")"
      ],
      "metadata": {
        "colab": {
          "base_uri": "https://localhost:8080/"
        },
        "id": "hNYIAQbgEucQ",
        "outputId": "12a405c3-f2dc-4e80-97c1-96c0c0939987"
      },
      "execution_count": 31,
      "outputs": [
        {
          "output_type": "stream",
          "name": "stdout",
          "text": [
            "44/44 [==============================] - 0s 3ms/step\n",
            "              precision    recall  f1-score   support\n",
            "\n",
            "           0       0.97      0.91      0.94       187\n",
            "           1       0.99      1.00      0.99      1206\n",
            "\n",
            "    accuracy                           0.98      1393\n",
            "   macro avg       0.98      0.95      0.97      1393\n",
            "weighted avg       0.98      0.98      0.98      1393\n",
            "\n"
          ]
        }
      ]
    },
    {
      "cell_type": "markdown",
      "source": [
        "The provided code assesses the performance of an CNN model on a test set by predicting class probabilities and rounding them to obtain class predictions. Subsequently, it prints a classification report containing various performance metrics, such as precision, recall, F1-score, and support for each class, along with their macro and weighted averages.\n",
        "\n",
        "According to the classification report, the model demonstrates a great level of accuracy, achieving a precision and recall of 0.94 and 0.98 for the classes.\n",
        "The F1-score is also well performing, reaching 0.92 and 0.99 for the two classes. The support column indicates the number of samples in each class, with class 0 has 196 samples and class 1 has 1197 samples—suggesting an unequal distribution. This also shows having a larger amount of samples leads to an overall higher performance.\n",
        "\n",
        " The metrics, including micro avg, macro avg, weighted avg, and samples avg, represent different averaging methods used to calculate performance metrics across all classes."
      ],
      "metadata": {
        "id": "9H3IkvDizhhl"
      }
    },
    {
      "cell_type": "code",
      "source": [
        "import matplotlib.pyplot as plt\n",
        "\n",
        "# Get training/validation loss and accuracy from history\n",
        "train_loss = cnn_history.history['loss']\n",
        "val_loss = cnn_history.history['val_loss']\n",
        "train_accuracy = cnn_history.history['accuracy']\n",
        "val_accuracy = cnn_history.history['val_accuracy']\n",
        "epochs = range(1, len(train_loss) + 1)\n",
        "\n",
        "# Plot training and validation loss\n",
        "plt.figure(figsize=(10, 5))\n",
        "plt.subplot(1, 2, 1)\n",
        "plt.plot(epochs, train_loss, 'b', label='Training loss')\n",
        "plt.plot(epochs, val_loss, 'r', label='Validation loss')\n",
        "plt.title('Training and Validation Loss')\n",
        "plt.xlabel('Epochs')\n",
        "plt.ylabel('Loss')\n",
        "plt.legend()\n",
        "\n",
        "# Plot training and validation accuracy\n",
        "plt.subplot(1, 2, 2)\n",
        "plt.plot(epochs, train_accuracy, 'b', label='Training accuracy')\n",
        "plt.plot(epochs, val_accuracy, 'r', label='Validation accuracy')\n",
        "plt.title('Training and Validation Accuracy')\n",
        "plt.xlabel('Epochs')\n",
        "plt.ylabel('Accuracy')\n",
        "plt.legend()\n",
        "\n",
        "plt.tight_layout()\n",
        "plt.show()"
      ],
      "metadata": {
        "colab": {
          "base_uri": "https://localhost:8080/",
          "height": 507
        },
        "id": "D4JwSbqwAR93",
        "outputId": "2ca099b3-acf1-4ab8-f641-648ba2b58684"
      },
      "execution_count": 32,
      "outputs": [
        {
          "output_type": "display_data",
          "data": {
            "text/plain": [
              "<Figure size 1000x500 with 2 Axes>"
            ],
            "image/png": "[encoded data removed]"
          },
          "metadata": {}
        }
      ]
    },
    {
      "cell_type": "code",
      "source": [
        "# Plots the training versus testing graph for the MLP model\n",
        "# Model history values\n",
        "hist_values = list(cnn_history.history.values())\n",
        "\n",
        "# Variables for plotting the training versus testing\n",
        "train_loss   = hist_values[0]\n",
        "train_recall = hist_values[1]\n",
        "train_auc    = hist_values[2]\n",
        "val_loss     = hist_values[3]\n",
        "\n",
        "\n",
        "# Plots the training versus testing graph\n",
        "plt.figure(figsize=(10, 8))\n",
        "plt.subplot(2, 2, (1, 2))\n",
        "plt.plot(train_loss, label=\"Training Loss\")\n",
        "plt.plot(val_loss, label=\"Validation Loss\")\n",
        "plt.xlabel(\"Epochs\")\n",
        "plt.ylabel(\"Loss\")\n",
        "plt.legend()\n",
        "\n",
        "plt.tight_layout()\n",
        "\n",
        "plt.show()"
      ],
      "metadata": {
        "colab": {
          "base_uri": "https://localhost:8080/",
          "height": 436
        },
        "id": "ZdewqE7CAd-i",
        "outputId": "acbaeea0-3521-4703-bf39-e4b3ad740402"
      },
      "execution_count": 33,
      "outputs": [
        {
          "output_type": "display_data",
          "data": {
            "text/plain": [
              "<Figure size 1000x800 with 1 Axes>"
            ],
            "image/png": "[encoded data removed]"
          },
          "metadata": {}
        }
      ]
    },
    {
      "cell_type": "code",
      "source": [
        "# Compute confusion matrix\n",
        "conf_matrix = confusion_matrix(y_test, y_predict)\n",
        "\n",
        "# Plotting the confusion matrix\n",
        "plt.figure(figsize=(8, 6))\n",
        "sns.heatmap(conf_matrix, annot=True, fmt='d', cmap='Blues',\n",
        "            xticklabels=['Ham: 0', 'Spam: 1'], yticklabels=['Ham: 0', 'Spam: 1'])\n",
        "plt.xlabel('Predicted labels')\n",
        "plt.ylabel('True labels')\n",
        "plt.title('Confusion Matrix')\n",
        "plt.show()"
      ],
      "metadata": {
        "colab": {
          "base_uri": "https://localhost:8080/",
          "height": 564
        },
        "id": "QahMpUwUAozO",
        "outputId": "c3e96a73-fd47-43ee-fb25-567db436dc81"
      },
      "execution_count": 34,
      "outputs": [
        {
          "output_type": "display_data",
          "data": {
            "text/plain": [
              "<Figure size 800x600 with 2 Axes>"
            ],
            "image/png": "[encoded data removed]"
          },
          "metadata": {}
        }
      ]
    },
    {
      "cell_type": "markdown",
      "source": [
        "## Adding Dropout to Improve CNN Performance\n",
        "\n",
        "\n",
        "The provided code constructs a Convolutional Neural Network (CNN) named cnn_text2 with the following architecture:\n",
        "\n",
        "[1] Embedding layer:\n",
        "\n",
        "- This layer learns and maps each word in the vocabulary to a high-dimensional vector space.\n",
        "- This layer helps represent words in a meaningful way, capturing their relationships based on their usage in the dataset.\n",
        "\n",
        "[2] Conv1D Layer:\n",
        "\n",
        "- This layer applies convolutional operations across the embeddings, extracting local patterns or features.\n",
        "- It uses 64 filters (kernel_size=3)\n",
        "- ReLU activation to capture different aspects of the text.\n",
        "\n",
        "[3] GlobalMaxPooling1D Layer:\n",
        "\n",
        "- This layer reduces the dimensionality of the convolutional output by selecting the maximum value from each feature map.\n",
        "\n",
        "- This pooling operation aggregates the important features from each filter across the input sequence\n",
        "\n",
        "[4]Dropout Layer:\n",
        "- In this case, the Dropout layer doesn't change the shape of the input.\n",
        "- It takes an input of shape (None, 64) and outputs the same shape (None, 64) after applying dropout.\n",
        "- Which proves to be barely helpful to out model.\n",
        "\n",
        "[5] Dense Layer:\n",
        "\n",
        "- This layer acts as the output layer, producing a single value (between 0 and 1) which represents spam/ham.\n",
        "\n",
        "- Single neuron and a sigmoid activation function are added here.\n",
        "\n",
        "\n",
        "[6] Model Compiled and Evaluation Metrics\n",
        "\n",
        "- This model is compiled using the Adam optimizer and binary cross-entropy loss function\n",
        "\n",
        "- Throughout epochs, the model monitors accuracy as the evaluation metric during training."
      ],
      "metadata": {
        "id": "R3D9m7pAdqfp"
      }
    },
    {
      "cell_type": "code",
      "source": [
        "from keras.models import Sequential\n",
        "from keras.layers import Embedding, Conv1D, GlobalMaxPooling1D, Dense\n",
        "from keras.layers import Dropout\n",
        "# Set the vocabulary size, max length, and embedding dimension\n",
        "vocab_size = len(tokenizer.word_index) + 1  # Adding 1 because of reserved 0 index\n",
        "max_length = getMaxLength(df)\n",
        "embedding_dim = 100  # Adjust based on your pre-trained embeddings\n",
        "\n",
        "# Create the model\n",
        "cnn_text2 = Sequential()\n",
        "cnn_text2.add(Embedding(input_dim=vocab_size, output_dim=embedding_dim, input_length=max_length, trainable=True))\n",
        "cnn_text2.add(Conv1D(64, kernel_size=3, activation='relu'))\n",
        "cnn_text2.add(GlobalMaxPooling1D())\n",
        "cnn_text2.add(Dropout(0.5))                       # Adding dropout for regularization\n",
        "cnn_text2.add(Dense(1, activation='sigmoid'))\n",
        "\n",
        "cnn_text2.compile(optimizer='adam', loss='binary_crossentropy', metrics=['accuracy'])\n",
        "\n",
        "print(cnn_text2.summary())"
      ],
      "metadata": {
        "colab": {
          "base_uri": "https://localhost:8080/"
        },
        "id": "dzXPQHn-d6QU",
        "outputId": "1fbdd52b-d8f4-443b-b4ff-328fbfe88003"
      },
      "execution_count": 38,
      "outputs": [
        {
          "output_type": "stream",
          "name": "stdout",
          "text": [
            "Model: \"sequential_3\"\n",
            "_________________________________________________________________\n",
            " Layer (type)                Output Shape              Param #   \n",
            "=================================================================\n",
            " embedding_3 (Embedding)     (None, 85, 100)           728000    \n",
            "                                                                 \n",
            " conv1d_3 (Conv1D)           (None, 83, 64)            19264     \n",
            "                                                                 \n",
            " global_max_pooling1d_3 (Gl  (None, 64)                0         \n",
            " obalMaxPooling1D)                                               \n",
            "                                                                 \n",
            " dropout (Dropout)           (None, 64)                0         \n",
            "                                                                 \n",
            " dense_1 (Dense)             (None, 1)                 65        \n",
            "                                                                 \n",
            "=================================================================\n",
            "Total params: 747329 (2.85 MB)\n",
            "Trainable params: 747329 (2.85 MB)\n",
            "Non-trainable params: 0 (0.00 Byte)\n",
            "_________________________________________________________________\n",
            "None\n"
          ]
        }
      ]
    },
    {
      "cell_type": "code",
      "source": [
        "from sklearn.model_selection import train_test_split\n",
        "\n",
        "# Splitting the padded sequences and labels into training and testing sets\n",
        "X_train, X_test, y_train, y_test = train_test_split(padded, one_hot_encoded_data['Label_ham'], test_size=0.25)\n",
        "\n",
        "# Train the model\n",
        "cnn_history2 = cnn_text2.fit(X_train, y_train, validation_data=(X_test, y_test), epochs=3)"
      ],
      "metadata": {
        "colab": {
          "base_uri": "https://localhost:8080/"
        },
        "id": "vMvjjNegeNc4",
        "outputId": "ad607cd5-79e8-4063-f634-4c2c0097c6bf"
      },
      "execution_count": 39,
      "outputs": [
        {
          "output_type": "stream",
          "name": "stdout",
          "text": [
            "Epoch 1/3\n",
            "131/131 [==============================] - 5s 27ms/step - loss: 0.3681 - accuracy: 0.8727 - val_loss: 0.1722 - val_accuracy: 0.9490\n",
            "Epoch 2/3\n",
            "131/131 [==============================] - 3s 26ms/step - loss: 0.1029 - accuracy: 0.9689 - val_loss: 0.0757 - val_accuracy: 0.9792\n",
            "Epoch 3/3\n",
            "131/131 [==============================] - 2s 12ms/step - loss: 0.0385 - accuracy: 0.9902 - val_loss: 0.0630 - val_accuracy: 0.9828\n"
          ]
        }
      ]
    },
    {
      "cell_type": "code",
      "source": [
        "# Plotting the model\n",
        "from keras.utils import plot_model\n",
        "plot_model(\n",
        "    cnn_text2,\n",
        "    to_file=\"model_text.png\",\n",
        "    show_shapes=True,\n",
        "    show_layer_names=True,\n",
        "    rankdir=\"LR\",\n",
        "    expand_nested=False,\n",
        "    dpi=96,\n",
        ")"
      ],
      "metadata": {
        "colab": {
          "base_uri": "https://localhost:8080/",
          "height": 96
        },
        "id": "20Oma5v0eYpm",
        "outputId": "a1d5a860-0caa-45b5-a24e-91746de9bbc5"
      },
      "execution_count": 40,
      "outputs": [
        {
          "output_type": "execute_result",
          "data": {
            "image/png": "[encoded data removed]",
            "text/plain": [
              "<IPython.core.display.Image object>"
            ]
          },
          "metadata": {},
          "execution_count": 40
        }
      ]
    },
    {
      "cell_type": "code",
      "source": [
        "# Evaluate the performance of a CNN architecture on a test set by predicting the class\n",
        "# probabilities and rounding them to obtain class predictions.\n",
        "\n",
        "# Defines the y-prediction probability and y-prediction arrays\n",
        "y_predict_proba = cnn_text2.predict(X_test)\n",
        "y_predict = np.round(y_predict_proba)\n",
        "\n",
        "# Prints classification report\n",
        "print(classification_report(y_test, y_predict))\n",
        "\n",
        "class_report = metrics.classification_report(\n",
        "    y_test, y_predict, output_dict=True\n",
        ")"
      ],
      "metadata": {
        "colab": {
          "base_uri": "https://localhost:8080/"
        },
        "id": "Clcl2PiEeiiZ",
        "outputId": "28af88be-a363-466c-c9da-9e66ab9d0151"
      },
      "execution_count": 41,
      "outputs": [
        {
          "output_type": "stream",
          "name": "stdout",
          "text": [
            "44/44 [==============================] - 0s 3ms/step\n",
            "              precision    recall  f1-score   support\n",
            "\n",
            "           0       0.97      0.90      0.93       189\n",
            "           1       0.98      1.00      0.99      1204\n",
            "\n",
            "    accuracy                           0.98      1393\n",
            "   macro avg       0.98      0.95      0.96      1393\n",
            "weighted avg       0.98      0.98      0.98      1393\n",
            "\n"
          ]
        }
      ]
    },
    {
      "cell_type": "markdown",
      "source": [
        "The provided code assesses the performance of an CNN model on a test set by predicting class probabilities and rounding them to obtain class predictions. Subsequently, it prints a classification report containing various performance metrics, such as precision, recall, F1-score, and support for each class, along with their macro and weighted averages.\n",
        "\n",
        "According to the classification report, the model demonstrates a great level of accuracy, achieving a precision and recall of 0.94 and 0.99 for the classes. This surpasses the value of the previous CNN model by 0.1 points. The F1-score is also well performing, reaching 0.92 and 0.99 for the two classes. This score matches with the previous CNN model. The support column indicates the number of samples in each class, with class 0 has 198 samples and class 1 has 1195 samples—suggesting an unequal distribution. This also shows having a larger amount of samples leads to an overall higher performance. This model also showed very little improvement to the model. Although it improved the accuracy level slightly it is nothing noteable.\n",
        "\n",
        "The metrics, including micro avg, macro avg, weighted avg, and samples avg, represent different averaging methods used to calculate performance metrics across all classes."
      ],
      "metadata": {
        "id": "wJRyjYHYgAop"
      }
    },
    {
      "cell_type": "code",
      "source": [
        "import matplotlib.pyplot as plt\n",
        "\n",
        "# Get training/validation loss and accuracy from history\n",
        "train_loss = cnn_history2.history['loss']\n",
        "val_loss = cnn_history2.history['val_loss']\n",
        "train_accuracy = cnn_history2.history['accuracy']\n",
        "val_accuracy = cnn_history2.history['val_accuracy']\n",
        "epochs = range(1, len(train_loss) + 1)\n",
        "\n",
        "# Plot training and validation loss\n",
        "plt.figure(figsize=(10, 5))\n",
        "plt.subplot(1, 2, 1)\n",
        "plt.plot(epochs, train_loss, 'b', label='Training loss')\n",
        "plt.plot(epochs, val_loss, 'r', label='Validation loss')\n",
        "plt.title('Training and Validation Loss')\n",
        "plt.xlabel('Epochs')\n",
        "plt.ylabel('Loss')\n",
        "plt.legend()\n",
        "\n",
        "# Plot training and validation accuracy\n",
        "plt.subplot(1, 2, 2)\n",
        "plt.plot(epochs, train_accuracy, 'b', label='Training accuracy')\n",
        "plt.plot(epochs, val_accuracy, 'r', label='Validation accuracy')\n",
        "plt.title('Training and Validation Accuracy')\n",
        "plt.xlabel('Epochs')\n",
        "plt.ylabel('Accuracy')\n",
        "plt.legend()\n",
        "\n",
        "plt.tight_layout()\n",
        "plt.show()"
      ],
      "metadata": {
        "colab": {
          "base_uri": "https://localhost:8080/",
          "height": 507
        },
        "id": "ZJN1U9B3epMy",
        "outputId": "ae443cab-a046-4ece-c50c-de79c32b0973"
      },
      "execution_count": 42,
      "outputs": [
        {
          "output_type": "display_data",
          "data": {
            "text/plain": [
              "<Figure size 1000x500 with 2 Axes>"
            ],
            "image/png": "[encoded data removed]"
          },
          "metadata": {}
        }
      ]
    },
    {
      "cell_type": "code",
      "source": [
        "# Plots the training versus testing graph for the MLP model\n",
        "# Model history values\n",
        "hist_values = list(cnn_history2.history.values())\n",
        "\n",
        "# Variables for plotting the training versus testing\n",
        "train_loss   = hist_values[0]\n",
        "train_recall = hist_values[1]\n",
        "train_auc    = hist_values[2]\n",
        "val_loss     = hist_values[3]\n",
        "\n",
        "\n",
        "# Plots the training versus testing graph\n",
        "plt.figure(figsize=(10, 8))\n",
        "plt.subplot(2, 2, (1, 2))\n",
        "plt.plot(train_loss, label=\"Training Loss\")\n",
        "plt.plot(val_loss, label=\"Validation Loss\")\n",
        "plt.xlabel(\"Epochs\")\n",
        "plt.ylabel(\"Loss\")\n",
        "plt.legend()\n",
        "\n",
        "plt.tight_layout()\n",
        "\n",
        "plt.show()"
      ],
      "metadata": {
        "colab": {
          "base_uri": "https://localhost:8080/",
          "height": 436
        },
        "id": "S7m3caeHetDl",
        "outputId": "4776845a-71f0-43b2-9e77-997071a07b06"
      },
      "execution_count": 43,
      "outputs": [
        {
          "output_type": "display_data",
          "data": {
            "text/plain": [
              "<Figure size 1000x800 with 1 Axes>"
            ],
            "image/png": "[encoded data removed]"
          },
          "metadata": {}
        }
      ]
    },
    {
      "cell_type": "code",
      "source": [
        "# Compute confusion matrix\n",
        "conf_matrix = confusion_matrix(y_test, y_predict)\n",
        "\n",
        "# Plotting the confusion matrix\n",
        "plt.figure(figsize=(8, 6))\n",
        "sns.heatmap(conf_matrix, annot=True, fmt='d', cmap='Blues',\n",
        "            xticklabels=['Ham: 0', 'Spam: 1'], yticklabels=['Ham: 0', 'Spam: 1'])\n",
        "plt.xlabel('Predicted labels')\n",
        "plt.ylabel('True labels')\n",
        "plt.title('Confusion Matrix')\n",
        "plt.show()"
      ],
      "metadata": {
        "colab": {
          "base_uri": "https://localhost:8080/",
          "height": 564
        },
        "id": "yh5VxvImey9O",
        "outputId": "595cb612-9da4-4f23-c83c-a6205bd829a3"
      },
      "execution_count": 44,
      "outputs": [
        {
          "output_type": "display_data",
          "data": {
            "text/plain": [
              "<Figure size 800x600 with 2 Axes>"
            ],
            "image/png": "[encoded data removed]"
          },
          "metadata": {}
        }
      ]
    },
    {
      "cell_type": "markdown",
      "source": [
        "## Sequential Network with Transformer Architecture\n",
        "\n",
        "For the transformer Architecture we used BERT which stands for \"Bidirectional Encoder Representations from Transformers.\" BERT is a model developed by Google that is pre-trained on textual data and is known to capture contextual information.\n",
        "\n",
        "The provided code constructs a BERT Transformer network sourced from the Hugging Face Transformers library within TensorFlow:\n",
        "\n",
        "\n",
        "\n",
        "Define Training Parameters:\n",
        "\n",
        "[1]Optimizer:\n",
        "-  \"Adam\" optimizer with a learning rate of 5e-5.\n",
        "\n",
        "[2] Loss\n",
        "- SparseCategoricalCrossentropy is used with from_logits=True, indicating that the model's output will be used directly without applying softmax.\n",
        "\n",
        "[3] Metric\n",
        "- Sparse categorical accuracy to measure the model's accuracy\n",
        "\n",
        "We chose to use BERT the transformer for our spam ham dataset because it is proficient in capturing information due to its bidirectional nature. This means BERT is able to consider the context of both the left and right side of the word. Therefore it can help understand the relationship between the words in a sentence!\n",
        "\n",
        "We also decided to use BERT because it is pre-trained on large amounts of text data thus allowing for transfer learning. This pre training allows the model to adapt to patterns within our dataset without requiring extensive amounts of labeled data. This allowed us to run fewer epochs on our model while still obtaining the ability to classify the messages as spam or ham!"
      ],
      "metadata": {
        "id": "kK4OYSYrj93l"
      }
    },
    {
      "cell_type": "code",
      "source": [
        "from sklearn.model_selection import train_test_split\n",
        "from transformers import BertTokenizer, TFBertForSequenceClassification\n",
        "import tensorflow as tf\n",
        "\n",
        "# Convert 'ham'/'spam' to binary labels\n",
        "df['Label_binary'] = df['Label'].map({'ham': 0, 'spam': 1}).astype(int)\n",
        "\n",
        "# Initialize the tokenizer\n",
        "tokenizer = BertTokenizer.from_pretrained('bert-base-uncased')\n",
        "\n",
        "# Define the maximum length\n",
        "max_length = 100  # Adjust as needed\n",
        "\n",
        "# Tokenize and encode sequences\n",
        "tokenized = df['Text'].apply(lambda x: tokenizer.encode(x, add_special_tokens=True, max_length=max_length, truncation=True))\n",
        "padded = tf.keras.preprocessing.sequence.pad_sequences(tokenized, maxlen=max_length, padding='post')\n",
        "\n",
        "# Create attention masks\n",
        "attention_mask = np.where(padded != 0, 1, 0)\n",
        "\n",
        "# Split the data into training and validation sets\n",
        "X_train, X_val, y_train, y_val = train_test_split(padded, df['Label_binary'].values, test_size=0.2)\n",
        "train_attention_mask, val_attention_mask, _, _ = train_test_split(attention_mask, df['Label_binary'].values, test_size=0.2)"
      ],
      "metadata": {
        "id": "MDt9ShTEptVg",
        "colab": {
          "base_uri": "https://localhost:8080/",
          "height": 145,
          "referenced_widgets": [
            "ca9835980a984fecb912b6c90c163b7e",
            "68c2d91c717c42c694307eb862958023",
            "51f00b6b174547ae944886b9ab0f9dd8",
            "d5a6ac263a984889b0f85ef52514c628",
            "9950a8772064464fa7f4760dabaa2252",
            "df33d7fe292e492491dcd7872acbcaad",
            "4caced1e40764dc3b431f0d1c998d0f1",
            "0a8ba241bf3b4c09b4148b35e36cee3c",
            "d2b8d4ffff374640b1a1624c4307d3df",
            "d84aade09414410eb5caca897e07139a",
            "ec275241d43c46b1a5175eaf9a006445",
            "7a7704504e7e4855a20fdf3f5c03a531",
            "28ee9acba7fa49b6b3c092ef2b54f71f",
            "ba88ec365d224eec9d1464b77c763f92",
            "f6d9af5967b8493a9e0434aa824d3a87",
            "e05e48a9a58a4ce9bf43ac7d33e9982d",
            "df15d74207c04bf583b1a10a17bbc9b9",
            "b7f6b933e2514323ab025089f4951e61",
            "9c6f242c26814417af8586dc94903d31",
            "5e461ffb092148a8a99468c0f64cfc8a",
            "fd71f16736ae42b9a90129e08d18a89b",
            "5a1463da299e42518971b0d600572351",
            "92be2ac9fbcb4c81a456d1d73d247050",
            "31cadf02b7384d3cb70afe4f4c9e94af",
            "79bd19f342cf499cbf7771ac7647af66",
            "e7647789f37b4b1abfd884a383b12cc7",
            "23f872493e2e4284a3f9359d105e5fb7",
            "1edf50ec2a484585ae5a75224655a31c",
            "39335986c7244e61b07c0121e5c5584a",
            "632c718598d6412aa044629e20d3fbc0",
            "e665d9511de44eeeaed9da339349775b",
            "360db8612bbc4c5893bcf7654162cf95",
            "abf93296e4334fbcbfee9ad5e0e29d59",
            "1c6ff42a2f9b49d5ba7acdf4f0e0224c",
            "85ca47b5860148e282b2ddcc2edea3ec",
            "e01126ec276b46bfbd682ea005274648",
            "589f2f755ac8456c98d0448731d8ee64",
            "714a044aa7474245bfa400b0643871ec",
            "3f97ace0178a4da8b651e9e19f52ffb2",
            "d94f7f6616ec44eb95f7772b44e249ba",
            "1d182b6fefb14c1ca52eae61ddee7661",
            "869c54695f9248e3adb032e4178be994",
            "8faa9948f6394e1c87816f41bbb67405",
            "124b212be0fa4bf8b384db30893fd737"
          ]
        },
        "outputId": "3976e477-c3e0-483f-d4b4-34d32d0845f9"
      },
      "execution_count": 45,
      "outputs": [
        {
          "output_type": "display_data",
          "data": {
            "text/plain": [
              "tokenizer_config.json:   0%|          | 0.00/28.0 [00:00<?, ?B/s]"
            ],
            "application/vnd.jupyter.widget-view+json": {
              "version_major": 2,
              "version_minor": 0,
              "model_id": "ca9835980a984fecb912b6c90c163b7e"
            }
          },
          "metadata": {}
        },
        {
          "output_type": "display_data",
          "data": {
            "text/plain": [
              "vocab.txt:   0%|          | 0.00/232k [00:00<?, ?B/s]"
            ],
            "application/vnd.jupyter.widget-view+json": {
              "version_major": 2,
              "version_minor": 0,
              "model_id": "7a7704504e7e4855a20fdf3f5c03a531"
            }
          },
          "metadata": {}
        },
        {
          "output_type": "display_data",
          "data": {
            "text/plain": [
              "tokenizer.json:   0%|          | 0.00/466k [00:00<?, ?B/s]"
            ],
            "application/vnd.jupyter.widget-view+json": {
              "version_major": 2,
              "version_minor": 0,
              "model_id": "92be2ac9fbcb4c81a456d1d73d247050"
            }
          },
          "metadata": {}
        },
        {
          "output_type": "display_data",
          "data": {
            "text/plain": [
              "config.json:   0%|          | 0.00/570 [00:00<?, ?B/s]"
            ],
            "application/vnd.jupyter.widget-view+json": {
              "version_major": 2,
              "version_minor": 0,
              "model_id": "1c6ff42a2f9b49d5ba7acdf4f0e0224c"
            }
          },
          "metadata": {}
        }
      ]
    },
    {
      "cell_type": "code",
      "source": [
        "# Load the pre-trained BERT model for sequence classification\n",
        "model = TFBertForSequenceClassification.from_pretrained('bert-base-uncased', num_labels=2)\n",
        "\n",
        "# Define the training parameters\n",
        "optimizer = tf.keras.optimizers.Adam(learning_rate=5e-5)\n",
        "loss = tf.keras.losses.SparseCategoricalCrossentropy(from_logits=True)\n",
        "metric = tf.keras.metrics.SparseCategoricalAccuracy('accuracy')\n",
        "\n",
        "# Compile the model\n",
        "model.compile(optimizer=optimizer, loss=loss, metrics=[metric])\n"
      ],
      "metadata": {
        "id": "V0NBV_2ubSKr",
        "outputId": "1867fed6-c7ac-4e88-934f-e8ef7dab87e9",
        "colab": {
          "base_uri": "https://localhost:8080/",
          "height": 138,
          "referenced_widgets": [
            "736d653b71ff4cd09fe66c35a297c4b5",
            "aac98be793564f56a894f23f79d53099",
            "678f3d09d2f74b09977276dd08fb586a",
            "7b7fc836ead44727995f4779faefabcb",
            "1db7995f44c94467b0893ec3ba9d68b8",
            "ab156a4219ef4e4e94a57dde7234ff24",
            "6b4159867f2f4c8e87053d44af068217",
            "ca7f20ff311942898e136ae45ff02153",
            "f0b656330d494c0c8395ffd225975b2b",
            "a8a77ed619e34cf196b8ebd7893bf0c8",
            "5c4ff13b70d44250a41dfa3318a8c4d3"
          ]
        }
      },
      "execution_count": 46,
      "outputs": [
        {
          "output_type": "display_data",
          "data": {
            "text/plain": [
              "model.safetensors:   0%|          | 0.00/440M [00:00<?, ?B/s]"
            ],
            "application/vnd.jupyter.widget-view+json": {
              "version_major": 2,
              "version_minor": 0,
              "model_id": "736d653b71ff4cd09fe66c35a297c4b5"
            }
          },
          "metadata": {}
        },
        {
          "output_type": "stream",
          "name": "stderr",
          "text": [
            "All PyTorch model weights were used when initializing TFBertForSequenceClassification.\n",
            "\n",
            "Some weights or buffers of the TF 2.0 model TFBertForSequenceClassification were not initialized from the PyTorch model and are newly initialized: ['classifier.weight', 'classifier.bias']\n",
            "You should probably TRAIN this model on a down-stream task to be able to use it for predictions and inference.\n"
          ]
        }
      ]
    },
    {
      "cell_type": "code",
      "source": [
        "print(model.summary())"
      ],
      "metadata": {
        "colab": {
          "base_uri": "https://localhost:8080/"
        },
        "id": "8V7LnSmLDFXp",
        "outputId": "36a7ac3b-49fa-4522-8709-a2d7a294faac"
      },
      "execution_count": 47,
      "outputs": [
        {
          "output_type": "stream",
          "name": "stdout",
          "text": [
            "Model: \"tf_bert_for_sequence_classification\"\n",
            "_________________________________________________________________\n",
            " Layer (type)                Output Shape              Param #   \n",
            "=================================================================\n",
            " bert (TFBertMainLayer)      multiple                  109482240 \n",
            "                                                                 \n",
            " dropout_38 (Dropout)        multiple                  0         \n",
            "                                                                 \n",
            " classifier (Dense)          multiple                  1538      \n",
            "                                                                 \n",
            "=================================================================\n",
            "Total params: 109483778 (417.65 MB)\n",
            "Trainable params: 109483778 (417.65 MB)\n",
            "Non-trainable params: 0 (0.00 Byte)\n",
            "_________________________________________________________________\n",
            "None\n"
          ]
        }
      ]
    },
    {
      "cell_type": "code",
      "source": [
        "# Convert the data to TensorFlow tensors\n",
        "train_features = (X_train, train_attention_mask)\n",
        "val_features = (X_val, val_attention_mask)\n",
        "\n",
        "# Create TensorFlow datasets\n",
        "train_dataset = tf.data.Dataset.from_tensor_slices((train_features, y_train))\n",
        "val_dataset = tf.data.Dataset.from_tensor_slices((val_features, y_val))\n",
        "\n",
        "# Batch the datasets\n",
        "train_dataset = train_dataset.shuffle(len(X_train)).batch(8, drop_remainder=True)\n",
        "val_dataset = val_dataset.batch(8, drop_remainder=True)\n",
        "\n",
        "# Train the model\n",
        "history = model.fit(train_dataset, epochs=3, validation_data=val_dataset)\n"
      ],
      "metadata": {
        "id": "WU6tzu-ZbYIf",
        "outputId": "13a02991-9a69-4076-f13d-2a6154c555d4",
        "colab": {
          "base_uri": "https://localhost:8080/"
        }
      },
      "execution_count": null,
      "outputs": [
        {
          "output_type": "stream",
          "name": "stdout",
          "text": [
            "Epoch 1/3\n",
            "557/557 [==============================] - 7644s 14s/step - loss: 0.1694 - accuracy: 0.9443 - val_loss: 0.1587 - val_accuracy: 0.9667\n",
            "Epoch 2/3\n",
            "557/557 [==============================] - 7251s 13s/step - loss: 0.0830 - accuracy: 0.9769 - val_loss: 0.0880 - val_accuracy: 0.9730\n",
            "Epoch 3/3\n",
            "557/557 [==============================] - 7187s 13s/step - loss: 0.0511 - accuracy: 0.9881 - val_loss: 0.1069 - val_accuracy: 0.9721\n"
          ]
        }
      ]
    },
    {
      "cell_type": "code",
      "source": [
        "# Plotting the model\n",
        "from keras.utils import plot_model\n",
        "plot_model(\n",
        "    model,\n",
        "    to_file=\"model_bert.png\",\n",
        "    show_shapes=True,\n",
        "    show_layer_names=True,\n",
        "    rankdir=\"LR\",\n",
        "    expand_nested=False,\n",
        "    dpi=96,\n",
        ")"
      ],
      "metadata": {
        "colab": {
          "base_uri": "https://localhost:8080/",
          "height": 77
        },
        "id": "DUX6viUpUc9h",
        "outputId": "b5c0d981-d538-4090-abe1-61c232d1407f"
      },
      "execution_count": null,
      "outputs": [
        {
          "output_type": "execute_result",
          "data": {
            "image/png": "[encoded data removed]",
            "text/plain": [
              "<IPython.core.display.Image object>"
            ]
          },
          "metadata": {},
          "execution_count": 26
        }
      ]
    },
    {
      "cell_type": "markdown",
      "source": [
        "### Bert Model Evaluation and Visualization"
      ],
      "metadata": {
        "id": "TJ9FC4D9U7VT"
      }
    },
    {
      "cell_type": "code",
      "source": [
        "predictions = model.predict(val_dataset)\n",
        "predictions = predictions.logits\n",
        "\n",
        "threshold = 0.5\n",
        "predicted_labels = (predictions[:, 1] > threshold).astype(int)\n",
        "\n",
        "# Get the true labels from the validation dataset\n",
        "true_labels = []\n",
        "\n",
        "for features, labels in val_dataset:\n",
        "    true_labels.extend(labels.numpy())\n",
        "\n",
        "true_labels = np.array(true_labels)"
      ],
      "metadata": {
        "colab": {
          "base_uri": "https://localhost:8080/",
          "height": 245
        },
        "id": "y69PL8lB4YrF",
        "outputId": "4a9c8421-b769-4805-bd0e-6a51d4cc5ef6"
      },
      "execution_count": 48,
      "outputs": [
        {
          "output_type": "error",
          "ename": "NameError",
          "evalue": "ignored",
          "traceback": [
            "\u001b[0;31m---------------------------------------------------------------------------\u001b[0m",
            "\u001b[0;31mNameError\u001b[0m                                 Traceback (most recent call last)",
            "\u001b[0;32m<ipython-input-48-30964a9a47a2>\u001b[0m in \u001b[0;36m<cell line: 1>\u001b[0;34m()\u001b[0m\n\u001b[0;32m----> 1\u001b[0;31m \u001b[0mpredictions\u001b[0m \u001b[0;34m=\u001b[0m \u001b[0mmodel\u001b[0m\u001b[0;34m.\u001b[0m\u001b[0mpredict\u001b[0m\u001b[0;34m(\u001b[0m\u001b[0mval_dataset\u001b[0m\u001b[0;34m)\u001b[0m\u001b[0;34m\u001b[0m\u001b[0;34m\u001b[0m\u001b[0m\n\u001b[0m\u001b[1;32m      2\u001b[0m \u001b[0mpredictions\u001b[0m \u001b[0;34m=\u001b[0m \u001b[0mpredictions\u001b[0m\u001b[0;34m.\u001b[0m\u001b[0mlogits\u001b[0m\u001b[0;34m\u001b[0m\u001b[0;34m\u001b[0m\u001b[0m\n\u001b[1;32m      3\u001b[0m \u001b[0;34m\u001b[0m\u001b[0m\n\u001b[1;32m      4\u001b[0m \u001b[0mthreshold\u001b[0m \u001b[0;34m=\u001b[0m \u001b[0;36m0.5\u001b[0m\u001b[0;34m\u001b[0m\u001b[0;34m\u001b[0m\u001b[0m\n\u001b[1;32m      5\u001b[0m \u001b[0mpredicted_labels\u001b[0m \u001b[0;34m=\u001b[0m \u001b[0;34m(\u001b[0m\u001b[0mpredictions\u001b[0m\u001b[0;34m[\u001b[0m\u001b[0;34m:\u001b[0m\u001b[0;34m,\u001b[0m \u001b[0;36m1\u001b[0m\u001b[0;34m]\u001b[0m \u001b[0;34m>\u001b[0m \u001b[0mthreshold\u001b[0m\u001b[0;34m)\u001b[0m\u001b[0;34m.\u001b[0m\u001b[0mastype\u001b[0m\u001b[0;34m(\u001b[0m\u001b[0mint\u001b[0m\u001b[0;34m)\u001b[0m\u001b[0;34m\u001b[0m\u001b[0;34m\u001b[0m\u001b[0m\n",
            "\u001b[0;31mNameError\u001b[0m: name 'val_dataset' is not defined"
          ]
        }
      ]
    },
    {
      "cell_type": "code",
      "source": [
        "report = classification_report(true_labels, predicted_labels, labels=[0, 1])\n",
        "print(report)\n",
        "\n",
        "class_report = metrics.classification_report(\n",
        "   true_labels, predicted_labels, output_dict=True\n",
        ")"
      ],
      "metadata": {
        "colab": {
          "base_uri": "https://localhost:8080/"
        },
        "id": "P6fHiwh54uQ7",
        "outputId": "4e859cc1-deb2-44f4-b947-1beee9a1c648"
      },
      "execution_count": null,
      "outputs": [
        {
          "output_type": "stream",
          "name": "stdout",
          "text": [
            "              precision    recall  f1-score   support\n",
            "\n",
            "           0       0.98      0.99      0.98       945\n",
            "           1       0.93      0.89      0.91       167\n",
            "\n",
            "    accuracy                           0.97      1112\n",
            "   macro avg       0.96      0.94      0.95      1112\n",
            "weighted avg       0.97      0.97      0.97      1112\n",
            "\n"
          ]
        }
      ]
    },
    {
      "cell_type": "markdown",
      "source": [
        "The provided code assesses the performance of our transformer model on a test set by predicting class probabilities and rounding them to obtain class predictions. Subsequently, it prints a classification report containing various performance metrics, such as precision, recall, F1-score, and support for each class, along with their macro and weighted averages.\n",
        "\n",
        "According to the classification report, the model demonstrates a good level of accuracy, achieving a precision and recall of 0.94 and 0.98 for the classes. The F1 score is also noted to perform well, reaching 0.98 and 0.91 for the two classes. The support column indicates the number of samples in each class, with class 0 having 945 samples and class 1 having 167 samples—suggesting an unequal distribution. This also shows having a larger amount of samples leads to an overall higher performance. Therefore in our next test case we should consider splitting the data to be more equally balanced. In hopes of increasing the accuracy of the test values.\n",
        "\n",
        "The metrics, including micro avg, macro avg, weighted avg, and samples avg, represent different averaging methods used to calculate performance metrics across all classes."
      ],
      "metadata": {
        "id": "4xeMKmar8Eyb"
      }
    },
    {
      "cell_type": "code",
      "source": [
        "import matplotlib.pyplot as plt\n",
        "\n",
        "# Get training/validation loss and accuracy from history\n",
        "train_loss = history.history['loss']\n",
        "val_loss = history.history['val_loss']\n",
        "train_accuracy = history.history['accuracy']\n",
        "val_accuracy = history.history['val_accuracy']\n",
        "epochs = range(1, len(train_loss) + 1)\n",
        "\n",
        "# Plot training and validation loss\n",
        "plt.figure(figsize=(10, 5))\n",
        "plt.subplot(1, 2, 1)\n",
        "plt.plot(epochs, train_loss, 'b', label='Training loss')\n",
        "plt.plot(epochs, val_loss, 'r', label='Validation loss')\n",
        "plt.title('Training and Validation Loss')\n",
        "plt.xlabel('Epochs')\n",
        "plt.ylabel('Loss')\n",
        "plt.legend()\n",
        "\n",
        "# Plot training and validation accuracy\n",
        "plt.subplot(1, 2, 2)\n",
        "plt.plot(epochs, train_accuracy, 'b', label='Training accuracy')\n",
        "plt.plot(epochs, val_accuracy, 'r', label='Validation accuracy')\n",
        "plt.title('Training and Validation Accuracy')\n",
        "plt.xlabel('Epochs')\n",
        "plt.ylabel('Accuracy')\n",
        "plt.legend()\n",
        "\n",
        "plt.tight_layout()\n",
        "plt.show()"
      ],
      "metadata": {
        "colab": {
          "base_uri": "https://localhost:8080/",
          "height": 507
        },
        "id": "TbRTE0H8jWGF",
        "outputId": "01cf354d-61a0-4424-d5ba-cd9af42b95f5"
      },
      "execution_count": null,
      "outputs": [
        {
          "output_type": "display_data",
          "data": {
            "text/plain": [
              "<Figure size 1000x500 with 2 Axes>"
            ],
            "image/png": "[encoded data removed]"
          },
          "metadata": {}
        }
      ]
    },
    {
      "cell_type": "code",
      "source": [
        "# Plots the training versus testing graph for the model\n",
        "# Model history values\n",
        "hist_values = list(history.history.values())\n",
        "\n",
        "# Variables for plotting the training versus testing\n",
        "train_loss   = hist_values[0]\n",
        "train_recall = hist_values[1]\n",
        "train_auc    = hist_values[2]\n",
        "val_loss     = hist_values[3]\n",
        "\n",
        "\n",
        "# Plots the training versus testing graph\n",
        "plt.figure(figsize=(10, 8))\n",
        "plt.subplot(2, 2, (1, 2))\n",
        "plt.plot(train_loss, label=\"Training Loss\")\n",
        "plt.plot(val_loss, label=\"Validation Loss\")\n",
        "plt.xlabel(\"Epochs\")\n",
        "plt.ylabel(\"Loss\")\n",
        "plt.legend()\n",
        "\n",
        "plt.tight_layout()\n",
        "\n",
        "plt.show()"
      ],
      "metadata": {
        "colab": {
          "base_uri": "https://localhost:8080/",
          "height": 436
        },
        "id": "_c9bkyWDg84G",
        "outputId": "5d292a50-1f65-46df-93de-c37e52e2c774"
      },
      "execution_count": null,
      "outputs": [
        {
          "output_type": "display_data",
          "data": {
            "text/plain": [
              "<Figure size 1000x800 with 1 Axes>"
            ],
            "image/png": "[encoded data removed]"
          },
          "metadata": {}
        }
      ]
    },
    {
      "cell_type": "code",
      "source": [
        "# Compute confusion matrix\n",
        "conf_matrix = confusion_matrix(true_labels, predicted_labels)\n",
        "\n",
        "# Plotting the confusion matrix\n",
        "plt.figure(figsize=(8, 6))\n",
        "sns.heatmap(conf_matrix, annot=True, fmt='d', cmap='Blues',\n",
        "            xticklabels=['Ham: 0', 'Spam: 1'], yticklabels=['Ham: 0', 'Spam: 1'])\n",
        "plt.xlabel('Predicted labels')\n",
        "plt.ylabel('True labels')\n",
        "plt.title('Confusion Matrix')\n",
        "plt.show()"
      ],
      "metadata": {
        "colab": {
          "base_uri": "https://localhost:8080/",
          "height": 564
        },
        "id": "FHHUonwphXOr",
        "outputId": "fe19920d-8f86-4d14-841f-38153ceae3f1"
      },
      "execution_count": null,
      "outputs": [
        {
          "output_type": "display_data",
          "data": {
            "text/plain": [
              "<Figure size 800x600 with 2 Axes>"
            ],
            "image/png": "[encoded data removed]"
          },
          "metadata": {}
        }
      ]
    },
    {
      "cell_type": "markdown",
      "source": [
        "## Adding a Second Multi-headed Self Attention Layer\n",
        "\n",
        "By adding a second multi-headed self-attention layer we hope to capture more complex relationships and potentially capture a more fine-grained pattern. In the cells below you can see we used the model from the above analysis but added another layer. This represents that the second attention layer is the output sequence for the first attention layer.\n",
        "\n",
        "Define Training Parameters:\n",
        "\n",
        "[1]Input Layers:\n",
        "- Two input layers\n",
        "- One of shape (None, 100) and the other is the output from the first layer.\n",
        "\n",
        "[2]Embedding Layer:\n",
        "- Used for word embedding (converts discrete word indices into dense vectors)\n",
        "- Input from the first input layer and outputs (None, 100, 32). (Each word becomes a 32-dimensional vector)\n",
        "\n",
        "[3]Transformer Blocks:\n",
        "- Two transformer blocks sequentially stacked on top of each other.\n",
        "- Each block has its own set of parameters (transformer_block_2 and transformer_block_3).\n",
        "- Each block operates on the embedded input data and retains the shape (None, 100, 32).\n",
        "\n",
        "[4]Global Average Pooling 1D Layer:\n",
        "- This layer reduces the spatial dimensions of the input by taking the average along the temporal axis (100 tokens).\n",
        "- Reduces the output to (None, 32).\n",
        "\n",
        "[5]Dropout Layers:\n",
        "- Apply dropout regularization to prevent overfitting.\n",
        "- Randomly drops a fraction of the input units, setting them to zero.\n",
        "- Two dropout layers are used after the pooling layer and the subsequent dense layer.\n",
        "\n",
        "[6]Dense Layers:\n",
        "- Two dense layers\n",
        "- The first one reduces the output to (None, 20)\n",
        "- The second one reduces it to (None, 1)\n",
        "\n"
      ],
      "metadata": {
        "id": "DVAdajWHFLg9"
      }
    },
    {
      "cell_type": "code",
      "source": [
        "from sklearn.model_selection import train_test_split\n",
        "from transformers import BertTokenizer, TFBertForSequenceClassification\n",
        "import tensorflow as tf\n",
        "\n",
        "# Convert 'ham'/'spam' to binary labels\n",
        "df['Label_binary'] = df['Label'].map({'ham': 0, 'spam': 1}).astype(int)\n",
        "\n",
        "# Initialize the tokenizer\n",
        "tokenizer = BertTokenizer.from_pretrained('bert-base-uncased')\n",
        "\n",
        "# Define the maximum length\n",
        "max_length = 100  # Adjust as needed\n",
        "\n",
        "# Tokenize and encode sequences\n",
        "tokenized = df['Text'].apply(lambda x: tokenizer.encode(x, add_special_tokens=True, max_length=max_length, truncation=True))\n",
        "padded = tf.keras.preprocessing.sequence.pad_sequences(tokenized, maxlen=max_length, padding='post')\n",
        "\n",
        "# Create attention masks\n",
        "attention_mask = np.where(padded != 0, 1, 0)\n",
        "\n",
        "# Split the data into training and validation sets\n",
        "X_train, X_val, y_train, y_val = train_test_split(padded, df['Label_binary'].values, test_size=0.2)\n",
        "train_attention_mask, val_attention_mask, _, _ = train_test_split(attention_mask, df['Label_binary'].values, test_size=0.2)"
      ],
      "metadata": {
        "id": "Ueu9zQ6dIcvq"
      },
      "execution_count": 49,
      "outputs": []
    },
    {
      "cell_type": "code",
      "source": [
        "# Load the pre-trained BERT model for sequence classification\n",
        "model_multi = TFBertForSequenceClassification.from_pretrained('bert-base-uncased', num_labels=2)\n",
        "\n",
        "# Define the training parameters\n",
        "optimizer = tf.keras.optimizers.Adam(learning_rate=5e-5)\n",
        "loss = tf.keras.losses.SparseCategoricalCrossentropy(from_logits=True)\n",
        "metric = tf.keras.metrics.SparseCategoricalAccuracy('accuracy')\n",
        "\n",
        "# Compile the model\n",
        "model_multi.compile(optimizer=optimizer, loss=loss, metrics=[metric])"
      ],
      "metadata": {
        "colab": {
          "base_uri": "https://localhost:8080/"
        },
        "id": "fE6SzH6hIlIO",
        "outputId": "fa7e832b-472e-4d42-880f-7b7b76d3ae37"
      },
      "execution_count": 50,
      "outputs": [
        {
          "output_type": "stream",
          "name": "stderr",
          "text": [
            "All PyTorch model weights were used when initializing TFBertForSequenceClassification.\n",
            "\n",
            "Some weights or buffers of the TF 2.0 model TFBertForSequenceClassification were not initialized from the PyTorch model and are newly initialized: ['classifier.weight', 'classifier.bias']\n",
            "You should probably TRAIN this model on a down-stream task to be able to use it for predictions and inference.\n"
          ]
        }
      ]
    },
    {
      "cell_type": "code",
      "source": [
        "import tensorflow as tf\n",
        "from tensorflow.keras.layers import Embedding, MultiHeadAttention, GlobalAveragePooling1D, Dense, Input, Dropout\n",
        "from tensorflow.keras.models import Model\n",
        "class TransformerBlock(tf.keras.layers.Layer):\n",
        "    def __init__(self, embed_dim, num_heads, ff_dim, rate=0.1):\n",
        "        super(TransformerBlock, self).__init__()\n",
        "        self.att = MultiHeadAttention(num_heads=num_heads, key_dim=embed_dim)\n",
        "        self.ffn = tf.keras.Sequential(\n",
        "            [Dense(ff_dim, activation=\"relu\"), Dense(embed_dim),]\n",
        "        )\n",
        "        self.layernorm1 = tf.keras.layers.LayerNormalization(epsilon=1e-6)\n",
        "        self.layernorm2 = tf.keras.layers.LayerNormalization(epsilon=1e-6)\n",
        "        self.dropout1 = tf.keras.layers.Dropout(rate)\n",
        "        self.dropout2 = tf.keras.layers.Dropout(rate)\n",
        "\n",
        "    def call(self, inputs, training):\n",
        "        attn_output = self.att(inputs, inputs)\n",
        "        attn_output = self.dropout1(attn_output, training=training)\n",
        "        out1 = self.layernorm1(inputs + attn_output)\n",
        "        ffn_output = self.ffn(out1)\n",
        "        ffn_output = self.dropout2(ffn_output, training=training)\n",
        "        return self.layernorm2(out1 + ffn_output)\n",
        "\n",
        "\n",
        "embed_dim = 32  # Embedding size for each token\n",
        "num_heads = 2   # Number of attention heads\n",
        "ff_dim = 32     # Hidden layer size in feed forward network inside transformer\n",
        "\n",
        "\n",
        "inputs = Input(shape=(max_length,))\n",
        "attention_masks = Input(shape=(max_length,))\n",
        "\n",
        "embedding_layer = Embedding(input_dim=len(tokenizer.vocab), output_dim=embed_dim, input_length=max_length)\n",
        "x = embedding_layer(inputs)\n",
        "\n",
        "transformer_block1 = TransformerBlock(embed_dim, num_heads, ff_dim)\n",
        "x = transformer_block1(x)\n",
        "\n",
        "transformer_block2 = TransformerBlock(embed_dim, num_heads, ff_dim)\n",
        "x = transformer_block2(x)\n",
        "\n",
        "x = GlobalAveragePooling1D()(x)\n",
        "x = Dropout(0.1)(x)\n",
        "x = Dense(20, activation=\"relu\")(x)\n",
        "x = Dropout(0.1)(x)\n",
        "outputs = Dense(1, activation=\"sigmoid\")(x)\n",
        "\n",
        "model_multi = Model(inputs=[inputs, attention_masks], outputs=outputs)\n",
        "model_multi.compile(optimizer=\"adam\", loss=\"binary_crossentropy\", metrics=[\"accuracy\"])\n",
        "\n"
      ],
      "metadata": {
        "id": "vcMLrjMTFG4J"
      },
      "execution_count": 51,
      "outputs": []
    },
    {
      "cell_type": "code",
      "source": [
        "# Convert the data to TensorFlow tensors\n",
        "train_features = (X_train, train_attention_mask)\n",
        "val_features = (X_val, val_attention_mask)\n",
        "\n",
        "# Create TensorFlow datasets\n",
        "train_dataset = tf.data.Dataset.from_tensor_slices((train_features, y_train))\n",
        "val_dataset = tf.data.Dataset.from_tensor_slices((val_features, y_val))\n",
        "\n",
        "# Batch the datasets\n",
        "train_dataset = train_dataset.shuffle(len(X_train)).batch(8, drop_remainder=True)\n",
        "val_dataset = val_dataset.batch(8, drop_remainder=True)"
      ],
      "metadata": {
        "id": "41Gvy1U8HSSf"
      },
      "execution_count": 52,
      "outputs": []
    },
    {
      "cell_type": "code",
      "source": [
        "# Train the model\n",
        "# Rerun and switch this to be model_multi\n",
        "\n",
        "history2 = model_multi.fit(train_dataset, epochs=3, validation_data=val_dataset)"
      ],
      "metadata": {
        "colab": {
          "base_uri": "https://localhost:8080/"
        },
        "id": "khHoeJpdHS3X",
        "outputId": "c7beb016-a349-42b3-977c-f1870c070c58"
      },
      "execution_count": 53,
      "outputs": [
        {
          "output_type": "stream",
          "name": "stdout",
          "text": [
            "Epoch 1/3\n",
            "557/557 [==============================] - 14s 22ms/step - loss: 0.1054 - accuracy: 0.9657 - val_loss: 0.0299 - val_accuracy: 0.9928\n",
            "Epoch 2/3\n",
            "557/557 [==============================] - 12s 22ms/step - loss: 0.0321 - accuracy: 0.9919 - val_loss: 0.0445 - val_accuracy: 0.9883\n",
            "Epoch 3/3\n",
            "557/557 [==============================] - 13s 24ms/step - loss: 0.0118 - accuracy: 0.9975 - val_loss: 0.0322 - val_accuracy: 0.9937\n"
          ]
        }
      ]
    },
    {
      "cell_type": "code",
      "source": [
        "# Rerun and switch this to be model_multi\n",
        "print(model_multi.summary())"
      ],
      "metadata": {
        "colab": {
          "base_uri": "https://localhost:8080/"
        },
        "id": "2GIEA7RbUIDJ",
        "outputId": "0775b689-213d-4688-d34c-74fe9464ee29"
      },
      "execution_count": 54,
      "outputs": [
        {
          "output_type": "stream",
          "name": "stdout",
          "text": [
            "Model: \"model\"\n",
            "__________________________________________________________________________________________________\n",
            " Layer (type)                Output Shape                 Param #   Connected to                  \n",
            "==================================================================================================\n",
            " input_1 (InputLayer)        [(None, 100)]                0         []                            \n",
            "                                                                                                  \n",
            " embedding_4 (Embedding)     (None, 100, 32)              976704    ['input_1[0][0]']             \n",
            "                                                                                                  \n",
            " transformer_block (Transfo  (None, 100, 32)              10656     ['embedding_4[0][0]']         \n",
            " rmerBlock)                                                                                       \n",
            "                                                                                                  \n",
            " transformer_block_1 (Trans  (None, 100, 32)              10656     ['transformer_block[0][0]']   \n",
            " formerBlock)                                                                                     \n",
            "                                                                                                  \n",
            " global_average_pooling1d (  (None, 32)                   0         ['transformer_block_1[0][0]'] \n",
            " GlobalAveragePooling1D)                                                                          \n",
            "                                                                                                  \n",
            " dropout_81 (Dropout)        (None, 32)                   0         ['global_average_pooling1d[0][\n",
            "                                                                    0]']                          \n",
            "                                                                                                  \n",
            " dense_6 (Dense)             (None, 20)                   660       ['dropout_81[0][0]']          \n",
            "                                                                                                  \n",
            " dropout_82 (Dropout)        (None, 20)                   0         ['dense_6[0][0]']             \n",
            "                                                                                                  \n",
            " input_2 (InputLayer)        [(None, 100)]                0         []                            \n",
            "                                                                                                  \n",
            " dense_7 (Dense)             (None, 1)                    21        ['dropout_82[0][0]']          \n",
            "                                                                                                  \n",
            "==================================================================================================\n",
            "Total params: 998697 (3.81 MB)\n",
            "Trainable params: 998697 (3.81 MB)\n",
            "Non-trainable params: 0 (0.00 Byte)\n",
            "__________________________________________________________________________________________________\n",
            "None\n"
          ]
        }
      ]
    },
    {
      "cell_type": "markdown",
      "source": [
        "## Evaluation and Visualizations for the Second Multi-headed Self Attention Layer"
      ],
      "metadata": {
        "id": "0h0pyQdyRbQG"
      }
    },
    {
      "cell_type": "code",
      "source": [
        "predictions = model.predict(val_dataset)\n",
        "predictions = predictions.logits\n",
        "\n",
        "threshold = 0.5\n",
        "predicted_labels = (predictions[:, 1] > threshold).astype(int)\n",
        "\n",
        "# Get the true labels from the validation dataset\n",
        "true_labels = []\n",
        "\n",
        "for features, labels in val_dataset:\n",
        "    true_labels.extend(labels.numpy())\n",
        "\n",
        "true_labels = np.array(true_labels)"
      ],
      "metadata": {
        "colab": {
          "base_uri": "https://localhost:8080/"
        },
        "id": "GUgrTrfkRaX4",
        "outputId": "4fd1a721-bd16-4a91-e52d-eed6c208a0d0"
      },
      "execution_count": 55,
      "outputs": [
        {
          "output_type": "stream",
          "name": "stdout",
          "text": [
            "139/139 [==============================] - 256s 2s/step\n"
          ]
        }
      ]
    },
    {
      "cell_type": "code",
      "source": [
        "report = classification_report(true_labels, predicted_labels, labels=[0, 1])\n",
        "print(report)\n",
        "\n",
        "class_report = metrics.classification_report(\n",
        "   true_labels, predicted_labels, output_dict=True\n",
        ")"
      ],
      "metadata": {
        "colab": {
          "base_uri": "https://localhost:8080/"
        },
        "id": "lKtpZnITRn52",
        "outputId": "1dad22ca-74bc-4d05-ab8e-42ede1c8d5e9"
      },
      "execution_count": 56,
      "outputs": [
        {
          "output_type": "stream",
          "name": "stdout",
          "text": [
            "              precision    recall  f1-score   support\n",
            "\n",
            "           0       0.87      0.98      0.92       970\n",
            "           1       0.16      0.02      0.04       142\n",
            "\n",
            "    accuracy                           0.86      1112\n",
            "   macro avg       0.52      0.50      0.48      1112\n",
            "weighted avg       0.78      0.86      0.81      1112\n",
            "\n"
          ]
        }
      ]
    },
    {
      "cell_type": "markdown",
      "source": [
        "The provided code assesses the performance of our transformer model on a test set by predicting class probabilities and rounding them to obtain class predictions. Subsequently, it prints a classification report containing various performance metrics, such as precision, recall, F1-score, and support for each class, along with their macro and weighted averages.\n",
        "\n",
        "According to the classification report, the model demonstrates a great level of accuracy, achieving a precision and recall of 0.99 and 0.97 for the classes. The F1 score is also noted to perform better than the orginal transformer, reaching 0.99 and 0.94 for the two classes. The support column indicates the number of samples in each class, with class 0 having 984 samples and class 1 having 128 samples—suggesting an unequal distribution. This also shows having a larger amount of samples leads to an overall higher performance. Therefore in our next test case, we should consider splitting the data to be more equally balanced. In hopes of increasing the accuracy of the test values.\n",
        "\n",
        "The metrics, including micro avg, macro avg, weighted avg, and samples avg, represent different averaging methods used to calculate performance metrics across all classes."
      ],
      "metadata": {
        "id": "Otyd0Lp9c4QN"
      }
    },
    {
      "cell_type": "code",
      "source": [
        "import matplotlib.pyplot as plt\n",
        "\n",
        "# Get training/validation loss and accuracy from history\n",
        "train_loss = history2.history['loss']\n",
        "val_loss = history2.history['val_loss']\n",
        "train_accuracy = history2.history['accuracy']\n",
        "val_accuracy = history2.history['val_accuracy']\n",
        "epochs = range(1, len(train_loss) + 1)\n",
        "\n",
        "# Plot training and validation loss\n",
        "plt.figure(figsize=(10, 5))\n",
        "plt.subplot(1, 2, 1)\n",
        "plt.plot(epochs, train_loss, 'b', label='Training loss')\n",
        "plt.plot(epochs, val_loss, 'r', label='Validation loss')\n",
        "plt.title('Training and Validation Loss')\n",
        "plt.xlabel('Epochs')\n",
        "plt.ylabel('Loss')\n",
        "plt.legend()\n",
        "\n",
        "# Plot training and validation accuracy\n",
        "plt.subplot(1, 2, 2)\n",
        "plt.plot(epochs, train_accuracy, 'b', label='Training accuracy')\n",
        "plt.plot(epochs, val_accuracy, 'r', label='Validation accuracy')\n",
        "plt.title('Training and Validation Accuracy')\n",
        "plt.xlabel('Epochs')\n",
        "plt.ylabel('Accuracy')\n",
        "plt.legend()\n",
        "\n",
        "plt.tight_layout()\n",
        "plt.show()"
      ],
      "metadata": {
        "colab": {
          "base_uri": "https://localhost:8080/",
          "height": 507
        },
        "id": "dV_1CBVqHd42",
        "outputId": "e3e42fc0-81e9-4275-b5d7-11f587c72467"
      },
      "execution_count": 57,
      "outputs": [
        {
          "output_type": "display_data",
          "data": {
            "text/plain": [
              "<Figure size 1000x500 with 2 Axes>"
            ],
            "image/png": "[encoded data removed]"
          },
          "metadata": {}
        }
      ]
    },
    {
      "cell_type": "code",
      "source": [
        "# Plots the training versus testing graph for the model\n",
        "# Model history values\n",
        "hist_values = list(history2.history.values())\n",
        "\n",
        "# Variables for plotting the training versus testing\n",
        "train_loss   = hist_values[0]\n",
        "train_recall = hist_values[1]\n",
        "train_auc    = hist_values[2]\n",
        "val_loss     = hist_values[3]\n",
        "\n",
        "\n",
        "# Plots the training versus testing graph\n",
        "plt.figure(figsize=(10, 8))\n",
        "plt.subplot(2, 2, (1, 2))\n",
        "plt.plot(train_loss, label=\"Training Loss\")\n",
        "plt.plot(val_loss, label=\"Validation Loss\")\n",
        "plt.xlabel(\"Epochs\")\n",
        "plt.ylabel(\"Loss\")\n",
        "plt.legend()\n",
        "\n",
        "plt.tight_layout()\n",
        "\n",
        "plt.show()"
      ],
      "metadata": {
        "colab": {
          "base_uri": "https://localhost:8080/",
          "height": 436
        },
        "id": "sEQ7OJPdRGYq",
        "outputId": "c861f6a4-c523-4e6e-bc6d-d2faf54549a0"
      },
      "execution_count": 58,
      "outputs": [
        {
          "output_type": "display_data",
          "data": {
            "text/plain": [
              "<Figure size 1000x800 with 1 Axes>"
            ],
            "image/png": "[encoded data removed]"
          },
          "metadata": {}
        }
      ]
    },
    {
      "cell_type": "code",
      "source": [
        "# Compute confusion matrix\n",
        "conf_matrix = confusion_matrix(true_labels, predicted_labels)\n",
        "\n",
        "# Plotting the confusion matrix\n",
        "plt.figure(figsize=(8, 6))\n",
        "sns.heatmap(conf_matrix, annot=True, fmt='d', cmap='Blues',\n",
        "            xticklabels=['Ham: 0', 'Spam: 1'], yticklabels=['Ham: 0', 'Spam: 1'])\n",
        "plt.xlabel('Predicted labels')\n",
        "plt.ylabel('True labels')\n",
        "plt.title('Confusion Matrix')\n",
        "plt.show()"
      ],
      "metadata": {
        "colab": {
          "base_uri": "https://localhost:8080/",
          "height": 564
        },
        "id": "bGYfSMQMRMkr",
        "outputId": "717bed98-402b-4fa0-ca0e-b6d36a8c4dfa"
      },
      "execution_count": 59,
      "outputs": [
        {
          "output_type": "display_data",
          "data": {
            "text/plain": [
              "<Figure size 800x600 with 2 Axes>"
            ],
            "image/png": "[encoded data removed]"
          },
          "metadata": {}
        }
      ]
    },
    {
      "cell_type": "markdown",
      "source": [
        "## Exceptional Work\n",
        "\n",
        "\n",
        "Use the pre-trained ConceptNet Numberbatch embedding and compare to pre-trained GloVe. Which method is better for your specific application?"
      ],
      "metadata": {
        "id": "9Vwr8G-XhvMF"
      }
    },
    {
      "cell_type": "code",
      "source": [
        "!wget https://nlp.stanford.edu/data/glove.6B.zip -O glove.zip\n",
        "!unzip glove.zip"
      ],
      "metadata": {
        "id": "blDPjt4A1-22",
        "outputId": "b42dd660-3262-47c8-8305-07ec7e495fc7",
        "colab": {
          "base_uri": "https://localhost:8080/"
        }
      },
      "execution_count": 62,
      "outputs": [
        {
          "output_type": "stream",
          "name": "stdout",
          "text": [
            "--2023-12-12 12:00:41--  https://nlp.stanford.edu/data/glove.6B.zip\n",
            "Resolving nlp.stanford.edu (nlp.stanford.edu)... 171.64.67.140\n",
            "Connecting to nlp.stanford.edu (nlp.stanford.edu)|171.64.67.140|:443... connected.\n",
            "HTTP request sent, awaiting response... 301 Moved Permanently\n",
            "Location: https://downloads.cs.stanford.edu/nlp/data/glove.6B.zip [following]\n",
            "--2023-12-12 12:00:41--  https://downloads.cs.stanford.edu/nlp/data/glove.6B.zip\n",
            "Resolving downloads.cs.stanford.edu (downloads.cs.stanford.edu)... 171.64.64.22\n",
            "Connecting to downloads.cs.stanford.edu (downloads.cs.stanford.edu)|171.64.64.22|:443... connected.\n",
            "HTTP request sent, awaiting response... 200 OK\n",
            "Length: 862182613 (822M) [application/zip]\n",
            "Saving to: ‘glove.zip’\n",
            "\n",
            "glove.zip           100%[===================>] 822.24M  5.01MB/s    in 2m 38s  \n",
            "\n",
            "2023-12-12 12:03:20 (5.19 MB/s) - ‘glove.zip’ saved [862182613/862182613]\n",
            "\n",
            "Archive:  glove.zip\n",
            "  inflating: glove.6B.50d.txt        \n",
            "  inflating: glove.6B.100d.txt       \n",
            "  inflating: glove.6B.200d.txt       \n",
            "  inflating: glove.6B.300d.txt       \n"
          ]
        }
      ]
    },
    {
      "cell_type": "code",
      "source": [
        "!wget https://conceptnet.s3.amazonaws.com/downloads/2019/numberbatch/numberbatch-en-19.08.txt.gz\n",
        "!gunzip numberbatch-en-19.08.txt.gz"
      ],
      "metadata": {
        "id": "4iUP1eOm6W85",
        "outputId": "89067f06-f67c-49b3-867d-4421e8114320",
        "colab": {
          "base_uri": "https://localhost:8080/"
        }
      },
      "execution_count": 66,
      "outputs": [
        {
          "output_type": "stream",
          "name": "stdout",
          "text": [
            "--2023-12-12 12:08:13--  https://conceptnet.s3.amazonaws.com/downloads/2019/numberbatch/numberbatch-en-19.08.txt.gz\n",
            "Resolving conceptnet.s3.amazonaws.com (conceptnet.s3.amazonaws.com)... 52.217.196.177, 3.5.25.156, 52.216.152.44, ...\n",
            "Connecting to conceptnet.s3.amazonaws.com (conceptnet.s3.amazonaws.com)|52.217.196.177|:443... connected.\n",
            "HTTP request sent, awaiting response... 200 OK\n",
            "Length: 325403502 (310M) [application/x-gzip]\n",
            "Saving to: ‘numberbatch-en-19.08.txt.gz’\n",
            "\n",
            "numberbatch-en-19.0 100%[===================>] 310.33M  38.0MB/s    in 8.4s    \n",
            "\n",
            "2023-12-12 12:08:22 (37.1 MB/s) - ‘numberbatch-en-19.08.txt.gz’ saved [325403502/325403502]\n",
            "\n"
          ]
        }
      ]
    },
    {
      "cell_type": "code",
      "source": [
        "!ls"
      ],
      "metadata": {
        "id": "EoPHeuwO8Gxb",
        "outputId": "29a8bf58-2a82-46c4-ace2-d5290c196a76",
        "colab": {
          "base_uri": "https://localhost:8080/"
        }
      },
      "execution_count": 67,
      "outputs": [
        {
          "output_type": "stream",
          "name": "stdout",
          "text": [
            "drive\t\t   glove.6B.300d.txt  model_text.png\t\tnumberbatch.zip\n",
            "glove.6B.100d.txt  glove.6B.50d.txt   numberbatch-en-19.08.txt\tsample_data\n",
            "glove.6B.200d.txt  glove.zip\t      numberbatch.tar.gz\n"
          ]
        }
      ]
    },
    {
      "cell_type": "code",
      "source": [
        "from tensorflow.keras.preprocessing.text import Tokenizer\n",
        "from tensorflow.keras.preprocessing.sequence import pad_sequences\n",
        "from tensorflow.keras.layers import Embedding, Dense, GlobalAveragePooling1D, Input, Dropout\n",
        "from tensorflow.keras.models import Sequential\n",
        "from tensorflow.keras.optimizers import Adam\n",
        "from sklearn.model_selection import train_test_split\n",
        "\n",
        "def load_embeddings(embedding_file):\n",
        "    embeddings_index = {}\n",
        "    with open(embedding_file, encoding='utf-8') as f:\n",
        "        for line in f:\n",
        "            values = line.split()\n",
        "            word = values[0]\n",
        "            coefs = np.asarray(values[1:], dtype='float32')\n",
        "            embeddings_index[word] = coefs\n",
        "    return embeddings_index\n",
        "\n",
        "cn_embeddings_index = load_embeddings('numberbatch-en-19.08.txt')\n",
        "glove_embeddings_index = load_embeddings('glove.6B.100d.txt')\n"
      ],
      "metadata": {
        "id": "wXTA9CLtzDCh"
      },
      "execution_count": 68,
      "outputs": []
    },
    {
      "cell_type": "code",
      "source": [
        "# Convert 'ham'/'spam' to binary labels\n",
        "df['Label_binary'] = df['Label'].map({'ham': 0, 'spam': 1})\n",
        "\n",
        "# Tokenize and pad your text data\n",
        "tokenizer = Tokenizer()\n",
        "tokenizer.fit_on_texts(df['Text'])\n",
        "sequences = tokenizer.texts_to_sequences(df['Text'])\n",
        "padded = pad_sequences(sequences, maxlen=100)\n",
        "\n",
        "# Split the data\n",
        "X_train, X_test, y_train, y_test = train_test_split(padded, df['Label_binary'], test_size=0.2)\n"
      ],
      "metadata": {
        "id": "P7u4tm6L8aHx"
      },
      "execution_count": 69,
      "outputs": []
    },
    {
      "cell_type": "code",
      "source": [
        "def create_embedding_matrix(word_index, embeddings_index, embedding_dim):\n",
        "    embedding_matrix = np.zeros((len(word_index) + 1, embedding_dim))\n",
        "    for word, i in word_index.items():\n",
        "        embedding_vector = embeddings_index.get(word)\n",
        "        if embedding_vector is not None:\n",
        "            embedding_matrix[i] = embedding_vector\n",
        "    return embedding_matrix\n",
        "\n",
        "embedding_dim = 100\n",
        "def create_embedding_matrix(word_index, embeddings_index, embedding_dim):\n",
        "    embedding_matrix = np.zeros((len(word_index) + 1, embedding_dim))\n",
        "    for word, i in word_index.items():\n",
        "        embedding_vector = embeddings_index.get(word)\n",
        "        if embedding_vector is not None and len(embedding_vector) == embedding_dim:\n",
        "            embedding_matrix[i] = embedding_vector\n",
        "    return embedding_matrix\n",
        "\n",
        "cn_embedding_matrix = create_embedding_matrix(tokenizer.word_index, cn_embeddings_index, embedding_dim)\n",
        "glove_embedding_matrix = create_embedding_matrix(tokenizer.word_index, glove_embeddings_index, embedding_dim)\n",
        "\n"
      ],
      "metadata": {
        "id": "GvV9AwYZ8hi1"
      },
      "execution_count": 73,
      "outputs": []
    },
    {
      "cell_type": "code",
      "source": [
        "def build_model(embedding_matrix):\n",
        "    model = Sequential()\n",
        "    model.add(Embedding(len(tokenizer.word_index) + 1, embedding_dim, weights=[embedding_matrix], input_length=100, trainable=False))\n",
        "    model.add(GlobalAveragePooling1D())\n",
        "    model.add(Dense(10, activation='relu'))\n",
        "    model.add(Dropout(0.2))\n",
        "    model.add(Dense(1, activation='sigmoid'))\n",
        "\n",
        "    model.compile(optimizer=Adam(learning_rate=0.001), loss='binary_crossentropy', metrics=['accuracy'])\n",
        "    return model\n",
        "\n",
        "# Build models with different embeddings\n",
        "cn_model = build_model(cn_embedding_matrix)\n",
        "glove_model = build_model(glove_embedding_matrix)\n"
      ],
      "metadata": {
        "id": "n-BbMTAY-ISi"
      },
      "execution_count": 74,
      "outputs": []
    },
    {
      "cell_type": "code",
      "source": [
        "# Train and evaluate the ConceptNet Numberbatch model\n",
        "cn_history = cn_model.fit(X_train, y_train, epochs=5, validation_data=(X_test, y_test))\n",
        "\n",
        "# Train and evaluate the GloVe model\n",
        "glove_history = glove_model.fit(X_train, y_train, epochs=5, validation_data=(X_test, y_test))\n"
      ],
      "metadata": {
        "id": "876FrE9Y-LzP",
        "outputId": "32edd207-6c7f-4c7a-e458-1485ad981a00",
        "colab": {
          "base_uri": "https://localhost:8080/"
        }
      },
      "execution_count": 75,
      "outputs": [
        {
          "output_type": "stream",
          "name": "stdout",
          "text": [
            "Epoch 1/5\n",
            "140/140 [==============================] - 2s 5ms/step - loss: 0.6693 - accuracy: 0.8685 - val_loss: 0.6476 - val_accuracy: 0.8556\n",
            "Epoch 2/5\n",
            "140/140 [==============================] - 0s 3ms/step - loss: 0.6250 - accuracy: 0.8685 - val_loss: 0.6081 - val_accuracy: 0.8556\n",
            "Epoch 3/5\n",
            "140/140 [==============================] - 1s 4ms/step - loss: 0.5867 - accuracy: 0.8685 - val_loss: 0.5743 - val_accuracy: 0.8556\n",
            "Epoch 4/5\n",
            "140/140 [==============================] - 0s 3ms/step - loss: 0.5540 - accuracy: 0.8685 - val_loss: 0.5457 - val_accuracy: 0.8556\n",
            "Epoch 5/5\n",
            "140/140 [==============================] - 1s 4ms/step - loss: 0.5263 - accuracy: 0.8685 - val_loss: 0.5215 - val_accuracy: 0.8556\n",
            "Epoch 1/5\n",
            "140/140 [==============================] - 2s 5ms/step - loss: 0.5592 - accuracy: 0.8670 - val_loss: 0.4700 - val_accuracy: 0.8556\n",
            "Epoch 2/5\n",
            "140/140 [==============================] - 1s 4ms/step - loss: 0.4171 - accuracy: 0.8687 - val_loss: 0.3788 - val_accuracy: 0.8556\n",
            "Epoch 3/5\n",
            "140/140 [==============================] - 1s 4ms/step - loss: 0.3300 - accuracy: 0.8773 - val_loss: 0.2797 - val_accuracy: 0.8978\n",
            "Epoch 4/5\n",
            "140/140 [==============================] - 0s 3ms/step - loss: 0.2547 - accuracy: 0.9127 - val_loss: 0.2129 - val_accuracy: 0.9274\n",
            "Epoch 5/5\n",
            "140/140 [==============================] - 0s 2ms/step - loss: 0.2095 - accuracy: 0.9318 - val_loss: 0.1758 - val_accuracy: 0.9426\n"
          ]
        }
      ]
    },
    {
      "cell_type": "code",
      "source": [
        "import matplotlib.pyplot as plt\n",
        "\n",
        "def plot_history(histories, key='accuracy'):\n",
        "    plt.figure(figsize=(15, 5))\n",
        "    for name, history in histories:\n",
        "        val = plt.plot(history.epoch, history.history['val_'+key],\n",
        "                       '--', label=name.title()+' Val')\n",
        "        plt.plot(history.epoch, history.history[key], color=val[0].get_color(),\n",
        "                 label=name.title()+' Train')\n",
        "\n",
        "    plt.xlabel('Epochs')\n",
        "    plt.ylabel(key.replace('_',' ').title())\n",
        "    plt.legend()\n",
        "\n",
        "    plt.xlim([0,max(history.epoch)])\n",
        "\n",
        "plot_history([('ConceptNet', cn_history), ('GloVe', glove_history)])\n"
      ],
      "metadata": {
        "id": "b_enA0qj-PYP",
        "outputId": "52757496-9e27-47e8-88bc-7538a22fc19a",
        "colab": {
          "base_uri": "https://localhost:8080/",
          "height": 465
        }
      },
      "execution_count": 76,
      "outputs": [
        {
          "output_type": "display_data",
          "data": {
            "text/plain": [
              "<Figure size 1500x500 with 1 Axes>"
            ],
            "image/png": "[encoded data removed]"
          },
          "metadata": {}
        }
      ]
    }
  ]
}