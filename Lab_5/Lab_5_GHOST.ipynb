{
 "cells": [
  {
   "cell_type": "markdown",
   "id": "1048a8a8",
   "metadata": {},
   "source": [
    "# Lab Assignment Five: Wide and Deep Network Architectures\n",
    "\n",
    "### TEAM MEMBERS: Catherine Magee, Morgan Mote, Luv Patel\n",
    "\n",
    ">In this lab, you will select a prediction task to perform on your dataset, evaluate two different deep learning architectures and tune hyper-parameters for each architecture. If any part of the assignment is not clear, ask the instructor to clarify. This report is worth 10% of the final grade. Please upload a report (one per team) with all code used, visualizations, and text in a rendered Jupyter notebook. Any visualizations that cannot be embedded in the notebook, please provide screenshots of the output. The results should be reproducible using your report. Please carefully describe every assumption and every step in your report."
   ]
  },
  {
   "cell_type": "markdown",
   "id": "8fcad52f",
   "metadata": {},
   "source": [
    "## Dataset Selection\n",
    "\n",
    ">- Select a dataset similarly to lab one. That is, the dataset must be table data. In terms of generalization performance, it is helpful to have a large dataset for building a wide and deep network. It is also helpful to have many different categorical features to create the embeddings and cross-product embeddings. It is fine to perform binary classification, multi-class classification, or regression.\n",
    "\n",
    "## Wide_Deep Grading Rubric\n",
    "\n",
    "#### Preparation (4 points total)\n",
    ">- [1 points] Define and prepare your class variables. Use proper variable representations (int, float, one-hot, etc.). Use pre-processing methods (as needed) for dimensionality reduction, scaling, etc. Remove variables that are not needed/useful for the analysis. Describe the final dataset that is used for classification/regression (include a description of any newly formed variables you created). \n",
    ">- [1 points] Identify groups of features in your data that should be combined into cross-product features. Provide justification for why these features should be crossed (or why some features should not be crossed). \n",
    ">- [1 points] Choose and explain what metric(s) you will use to evaluate your algorithm’s performance. You should give a detailed argument for why this (these) metric(s) are appropriate on your data. That is, why is the metric appropriate for the task (e.g., in terms of the business case for the task). Please note: rarely is accuracy the best evaluation metric to use. Think deeply about an appropriate measure of performance.\n",
    ">- [1 points] Choose the method you will use for dividing your data into training and testing (i.e., are you using Stratified 10-fold cross validation? Shuffle splits? Why?). Explain why your chosen method is appropriate or use more than one method as appropriate. Argue why your cross validation method is a realistic mirroring of how an algorithm would be used in practice. \n",
    "#### Modeling (5 points total)\n",
    ">- [2 points] Create at least three combined wide and deep networks to classify your data using Keras. Visualize the performance of the network on the training data and validation data in the same plot versus the training iterations. Note: use the \"history\" return parameter that is part of Keras \"fit\" function to easily access this data.\n",
    ">- [2 points] Investigate generalization performance by altering the number of layers in the deep branch of the network. Try at least two different number of layers. Use the method of cross validation and evaluation metric that you argued for at the beginning of the lab to select the number of layers that performs superiorly. \n",
    ">- [1 points] Compare the performance of your best wide and deep network to a standard multi-layer perceptron (MLP). Alternatively, you can compare to a network without the wide branch (i.e., just the deep network). For classification tasks, compare using the receiver operating characteristic and area under the curve. For regression tasks, use Bland-Altman plots and residual variance calculations.  Use proper statistical methods to compare the performance of different models.  \n",
    "#### Exceptional Work (1 points total)\n",
    ">- 5000 students: You have free reign to provide additional analyses.\n",
    "One idea (required for 7000 level students): Capture the embedding weights from the deep network and (if needed) perform dimensionality reduction on the output of these embedding layers (only if needed). That is, pass the observations into the network, save the embedded weights (called embeddings), and then perform  dimensionality reduction in order to visualize results. Visualize and explain any clusters in the data."
   ]
  },
  {
   "cell_type": "markdown",
   "id": "27602695",
   "metadata": {},
   "source": [
    "## Criteria - Long Descriptions\n",
    "\n",
    "#### Preprocessing\n",
    ">Define and prepare your class variables. Use proper variable representations (int, float, one-hot, etc.). Use pre-processing methods (as needed) for dimensionality reduction, scaling, etc. Remove variables that are not needed/useful for the analysis. Describe the final dataset that is used for classification/regression (include a description of any newly formed variables you created).\n",
    "\n",
    "#### Crossed Groups\n",
    ">Define and prepare your class variables. Use proper variable representations (int, float, one-hot, etc.). Use pre-processing methods (as needed) for dimensionality reduction, scaling, etc. Remove variables that are not needed/useful for the analysis. Describe the final dataset that is used for classification/regression (include a description of any newly formed variables you created).\n",
    "\n",
    "#### Evaluation Metric\n",
    ">Choose and explain what metric(s) you will use to evaluate your algorithm’s performance. You should give a detailed argument for why this (these) metric(s) are appropriate on your data. That is, why is the metric appropriate for the task (e.g., in terms of the business case for the task). Please note: rarely is accuracy the best evaluation metric to use. Think deeply about an appropriate measure of performance.\n",
    "\n",
    "#### Splitting Data\n",
    ">Choose the method you will use for dividing your data into training and testing (i.e., are you using Stratified 10-fold cross validation? Shuffle splits? Why?). Explain why your chosen method is appropriate or use more than one method as appropriate. Argue why your cross validation method is a realistic mirroring of how an algorithm would be used in practice.\n",
    "\n",
    "#### Three Wide / Deep Models\n",
    ">Create at least three combined wide and deep networks to classify your data using Keras. Visualize the performance of the network on the training data and validation data in the same plot versus the training iterations. Note: use the \"history\" return parameter that is part of Keras \"fit\" function to easily access this data.\n",
    "\n",
    "#### Deep Layers\n",
    ">Investigate generalization performance by altering the number of layers in the deep branch of the network. Try at least two different number of layers. Use the method of cross validation and evaluation metric that you argued for at the beginning of the lab to select the number of layers that performs superiorly.\n",
    "\n",
    "#### MLP Comparison\n",
    ">Compare the performance of your best wide and deep network to a standard multi-layer perceptron (MLP). For classification tasks, use the receiver operating characteristic and area under the curve. For regression tasks, use Bland-Altman plots and residual variance calculations. Use proper statistical method to compare the performance of different models.\n",
    "\n",
    "#### Exceptional Credit\n",
    ">Compare the performance of your best wide and deep network to a standard multi-layer perceptron (MLP). For classification tasks, use the receiver operating characteristic and area under the curve. For regression tasks, use Bland-Altman plots and residual variance calculations. Use proper statistical method to compare the performance of different models."
   ]
  },
  {
   "cell_type": "code",
   "execution_count": 91,
   "id": "c93ee4fc",
   "metadata": {
    "scrolled": false
   },
   "outputs": [
    {
     "name": "stdout",
     "output_type": "stream",
     "text": [
      "Collecting imbalanced-learn\n",
      "  Downloading imbalanced_learn-0.11.0-py3-none-any.whl (235 kB)\n",
      "     -------------------------------------- 235.6/235.6 kB 4.8 MB/s eta 0:00:00\n",
      "Requirement already satisfied: scipy>=1.5.0 in c:\\users\\morga\\anaconda3\\lib\\site-packages (from imbalanced-learn) (1.9.1)\n",
      "Requirement already satisfied: threadpoolctl>=2.0.0 in c:\\users\\morga\\anaconda3\\lib\\site-packages (from imbalanced-learn) (2.2.0)\n",
      "Requirement already satisfied: scikit-learn>=1.0.2 in c:\\users\\morga\\anaconda3\\lib\\site-packages (from imbalanced-learn) (1.0.2)\n",
      "Collecting joblib>=1.1.1\n",
      "  Downloading joblib-1.3.2-py3-none-any.whl (302 kB)\n",
      "     ------------------------------------- 302.2/302.2 kB 18.2 MB/s eta 0:00:00\n",
      "Requirement already satisfied: numpy>=1.17.3 in c:\\users\\morga\\anaconda3\\lib\\site-packages (from imbalanced-learn) (1.21.5)\n",
      "Installing collected packages: joblib, imbalanced-learn\n",
      "  Attempting uninstall: joblib\n",
      "    Found existing installation: joblib 1.1.0\n",
      "    Uninstalling joblib-1.1.0:\n",
      "      Successfully uninstalled joblib-1.1.0\n",
      "Successfully installed imbalanced-learn-0.11.0 joblib-1.3.2\n"
     ]
    }
   ],
   "source": [
    "!pip install imbalanced-learn"
   ]
  },
  {
   "cell_type": "code",
   "execution_count": 97,
   "id": "c47ec10d",
   "metadata": {
    "scrolled": false
   },
   "outputs": [
    {
     "name": "stdout",
     "output_type": "stream",
     "text": [
      "Requirement already satisfied: tensorflow in c:\\users\\morga\\anaconda3\\lib\\site-packages (2.14.0)\n",
      "Requirement already satisfied: tensorflow-intel==2.14.0 in c:\\users\\morga\\anaconda3\\lib\\site-packages (from tensorflow) (2.14.0)\n",
      "Requirement already satisfied: six>=1.12.0 in c:\\users\\morga\\anaconda3\\lib\\site-packages (from tensorflow-intel==2.14.0->tensorflow) (1.16.0)\n",
      "Requirement already satisfied: wrapt<1.15,>=1.11.0 in c:\\users\\morga\\anaconda3\\lib\\site-packages (from tensorflow-intel==2.14.0->tensorflow) (1.14.1)\n",
      "Requirement already satisfied: opt-einsum>=2.3.2 in c:\\users\\morga\\anaconda3\\lib\\site-packages (from tensorflow-intel==2.14.0->tensorflow) (3.3.0)\n",
      "Requirement already satisfied: google-pasta>=0.1.1 in c:\\users\\morga\\anaconda3\\lib\\site-packages (from tensorflow-intel==2.14.0->tensorflow) (0.2.0)\n",
      "Requirement already satisfied: flatbuffers>=23.5.26 in c:\\users\\morga\\anaconda3\\lib\\site-packages (from tensorflow-intel==2.14.0->tensorflow) (23.5.26)\n",
      "Requirement already satisfied: keras<2.15,>=2.14.0 in c:\\users\\morga\\anaconda3\\lib\\site-packages (from tensorflow-intel==2.14.0->tensorflow) (2.14.0)\n",
      "Requirement already satisfied: astunparse>=1.6.0 in c:\\users\\morga\\anaconda3\\lib\\site-packages (from tensorflow-intel==2.14.0->tensorflow) (1.6.3)\n",
      "Requirement already satisfied: tensorflow-io-gcs-filesystem>=0.23.1 in c:\\users\\morga\\anaconda3\\lib\\site-packages (from tensorflow-intel==2.14.0->tensorflow) (0.31.0)\n",
      "Requirement already satisfied: gast!=0.5.0,!=0.5.1,!=0.5.2,>=0.2.1 in c:\\users\\morga\\anaconda3\\lib\\site-packages (from tensorflow-intel==2.14.0->tensorflow) (0.5.4)\n",
      "Requirement already satisfied: h5py>=2.9.0 in c:\\users\\morga\\anaconda3\\lib\\site-packages (from tensorflow-intel==2.14.0->tensorflow) (3.7.0)\n",
      "Requirement already satisfied: ml-dtypes==0.2.0 in c:\\users\\morga\\anaconda3\\lib\\site-packages (from tensorflow-intel==2.14.0->tensorflow) (0.2.0)\n",
      "Requirement already satisfied: absl-py>=1.0.0 in c:\\users\\morga\\anaconda3\\lib\\site-packages (from tensorflow-intel==2.14.0->tensorflow) (2.0.0)\n",
      "Requirement already satisfied: packaging in c:\\users\\morga\\anaconda3\\lib\\site-packages (from tensorflow-intel==2.14.0->tensorflow) (21.3)\n",
      "Requirement already satisfied: libclang>=13.0.0 in c:\\users\\morga\\anaconda3\\lib\\site-packages (from tensorflow-intel==2.14.0->tensorflow) (16.0.6)\n",
      "Requirement already satisfied: protobuf!=4.21.0,!=4.21.1,!=4.21.2,!=4.21.3,!=4.21.4,!=4.21.5,<5.0.0dev,>=3.20.3 in c:\\users\\morga\\anaconda3\\lib\\site-packages (from tensorflow-intel==2.14.0->tensorflow) (4.24.4)\n",
      "Requirement already satisfied: termcolor>=1.1.0 in c:\\users\\morga\\anaconda3\\lib\\site-packages (from tensorflow-intel==2.14.0->tensorflow) (2.3.0)\n",
      "Requirement already satisfied: grpcio<2.0,>=1.24.3 in c:\\users\\morga\\anaconda3\\lib\\site-packages (from tensorflow-intel==2.14.0->tensorflow) (1.59.2)\n",
      "Requirement already satisfied: typing-extensions>=3.6.6 in c:\\users\\morga\\anaconda3\\lib\\site-packages (from tensorflow-intel==2.14.0->tensorflow) (4.3.0)\n",
      "Requirement already satisfied: setuptools in c:\\users\\morga\\anaconda3\\lib\\site-packages (from tensorflow-intel==2.14.0->tensorflow) (63.4.1)\n",
      "Requirement already satisfied: numpy>=1.23.5 in c:\\users\\morga\\anaconda3\\lib\\site-packages (from tensorflow-intel==2.14.0->tensorflow) (1.26.1)\n",
      "Requirement already satisfied: tensorboard<2.15,>=2.14 in c:\\users\\morga\\anaconda3\\lib\\site-packages (from tensorflow-intel==2.14.0->tensorflow) (2.14.1)\n",
      "Requirement already satisfied: tensorflow-estimator<2.15,>=2.14.0 in c:\\users\\morga\\anaconda3\\lib\\site-packages (from tensorflow-intel==2.14.0->tensorflow) (2.14.0)\n",
      "Requirement already satisfied: wheel<1.0,>=0.23.0 in c:\\users\\morga\\anaconda3\\lib\\site-packages (from astunparse>=1.6.0->tensorflow-intel==2.14.0->tensorflow) (0.37.1)\n",
      "Requirement already satisfied: google-auth<3,>=1.6.3 in c:\\users\\morga\\anaconda3\\lib\\site-packages (from tensorboard<2.15,>=2.14->tensorflow-intel==2.14.0->tensorflow) (2.23.4)\n",
      "Requirement already satisfied: tensorboard-data-server<0.8.0,>=0.7.0 in c:\\users\\morga\\anaconda3\\lib\\site-packages (from tensorboard<2.15,>=2.14->tensorflow-intel==2.14.0->tensorflow) (0.7.2)\n",
      "Requirement already satisfied: werkzeug>=1.0.1 in c:\\users\\morga\\anaconda3\\lib\\site-packages (from tensorboard<2.15,>=2.14->tensorflow-intel==2.14.0->tensorflow) (2.0.3)\n",
      "Requirement already satisfied: markdown>=2.6.8 in c:\\users\\morga\\anaconda3\\lib\\site-packages (from tensorboard<2.15,>=2.14->tensorflow-intel==2.14.0->tensorflow) (3.3.4)\n",
      "Requirement already satisfied: requests<3,>=2.21.0 in c:\\users\\morga\\anaconda3\\lib\\site-packages (from tensorboard<2.15,>=2.14->tensorflow-intel==2.14.0->tensorflow) (2.28.1)\n",
      "Requirement already satisfied: google-auth-oauthlib<1.1,>=0.5 in c:\\users\\morga\\anaconda3\\lib\\site-packages (from tensorboard<2.15,>=2.14->tensorflow-intel==2.14.0->tensorflow) (1.0.0)\n",
      "Requirement already satisfied: pyparsing!=3.0.5,>=2.0.2 in c:\\users\\morga\\anaconda3\\lib\\site-packages (from packaging->tensorflow-intel==2.14.0->tensorflow) (3.0.9)\n",
      "Requirement already satisfied: cachetools<6.0,>=2.0.0 in c:\\users\\morga\\anaconda3\\lib\\site-packages (from google-auth<3,>=1.6.3->tensorboard<2.15,>=2.14->tensorflow-intel==2.14.0->tensorflow) (5.3.2)\n",
      "Requirement already satisfied: rsa<5,>=3.1.4 in c:\\users\\morga\\anaconda3\\lib\\site-packages (from google-auth<3,>=1.6.3->tensorboard<2.15,>=2.14->tensorflow-intel==2.14.0->tensorflow) (4.9)\n",
      "Requirement already satisfied: pyasn1-modules>=0.2.1 in c:\\users\\morga\\anaconda3\\lib\\site-packages (from google-auth<3,>=1.6.3->tensorboard<2.15,>=2.14->tensorflow-intel==2.14.0->tensorflow) (0.2.8)\n",
      "Requirement already satisfied: requests-oauthlib>=0.7.0 in c:\\users\\morga\\anaconda3\\lib\\site-packages (from google-auth-oauthlib<1.1,>=0.5->tensorboard<2.15,>=2.14->tensorflow-intel==2.14.0->tensorflow) (1.3.1)\n",
      "Requirement already satisfied: certifi>=2017.4.17 in c:\\users\\morga\\anaconda3\\lib\\site-packages (from requests<3,>=2.21.0->tensorboard<2.15,>=2.14->tensorflow-intel==2.14.0->tensorflow) (2022.9.14)\n",
      "Requirement already satisfied: urllib3<1.27,>=1.21.1 in c:\\users\\morga\\anaconda3\\lib\\site-packages (from requests<3,>=2.21.0->tensorboard<2.15,>=2.14->tensorflow-intel==2.14.0->tensorflow) (1.26.11)\n",
      "Requirement already satisfied: idna<4,>=2.5 in c:\\users\\morga\\anaconda3\\lib\\site-packages (from requests<3,>=2.21.0->tensorboard<2.15,>=2.14->tensorflow-intel==2.14.0->tensorflow) (3.3)\n",
      "Requirement already satisfied: charset-normalizer<3,>=2 in c:\\users\\morga\\anaconda3\\lib\\site-packages (from requests<3,>=2.21.0->tensorboard<2.15,>=2.14->tensorflow-intel==2.14.0->tensorflow) (2.0.4)\n",
      "Requirement already satisfied: pyasn1<0.5.0,>=0.4.6 in c:\\users\\morga\\anaconda3\\lib\\site-packages (from pyasn1-modules>=0.2.1->google-auth<3,>=1.6.3->tensorboard<2.15,>=2.14->tensorflow-intel==2.14.0->tensorflow) (0.4.8)\n",
      "Requirement already satisfied: oauthlib>=3.0.0 in c:\\users\\morga\\anaconda3\\lib\\site-packages (from requests-oauthlib>=0.7.0->google-auth-oauthlib<1.1,>=0.5->tensorboard<2.15,>=2.14->tensorflow-intel==2.14.0->tensorflow) (3.2.2)\n"
     ]
    }
   ],
   "source": [
    "!pip install tensorflow"
   ]
  },
  {
   "cell_type": "code",
   "execution_count": 98,
   "id": "dffdf9e1",
   "metadata": {},
   "outputs": [
    {
     "ename": "TypeError",
     "evalue": "Unable to convert function return value to a Python type! The signature was\n\t() -> handle",
     "output_type": "error",
     "traceback": [
      "\u001b[1;31m---------------------------------------------------------------------------\u001b[0m",
      "\u001b[1;31mTypeError\u001b[0m                                 Traceback (most recent call last)",
      "\u001b[1;32m~\\AppData\\Local\\Temp\\ipykernel_11444\\2068367476.py\u001b[0m in \u001b[0;36m<module>\u001b[1;34m\u001b[0m\n\u001b[0;32m     38\u001b[0m \u001b[1;33m\u001b[0m\u001b[0m\n\u001b[0;32m     39\u001b[0m \u001b[1;31m# Tensorflow\u001b[0m\u001b[1;33m\u001b[0m\u001b[1;33m\u001b[0m\u001b[0m\n\u001b[1;32m---> 40\u001b[1;33m \u001b[1;32mimport\u001b[0m \u001b[0mtensorflow\u001b[0m \u001b[1;32mas\u001b[0m \u001b[0mtf\u001b[0m\u001b[1;33m\u001b[0m\u001b[1;33m\u001b[0m\u001b[0m\n\u001b[0m\u001b[0;32m     41\u001b[0m \u001b[1;32mfrom\u001b[0m \u001b[0mtensorflow\u001b[0m \u001b[1;32mimport\u001b[0m \u001b[0mkeras\u001b[0m\u001b[1;33m\u001b[0m\u001b[1;33m\u001b[0m\u001b[0m\n\u001b[0;32m     42\u001b[0m \u001b[1;32mfrom\u001b[0m \u001b[0mtensorflow\u001b[0m\u001b[1;33m.\u001b[0m\u001b[0mkeras\u001b[0m\u001b[1;33m.\u001b[0m\u001b[0mcallbacks\u001b[0m \u001b[1;32mimport\u001b[0m \u001b[0mEarlyStopping\u001b[0m\u001b[1;33m\u001b[0m\u001b[1;33m\u001b[0m\u001b[0m\n",
      "\u001b[1;32m~\\anaconda3\\lib\\site-packages\\tensorflow\\__init__.py\u001b[0m in \u001b[0;36m<module>\u001b[1;34m\u001b[0m\n\u001b[0;32m     36\u001b[0m \u001b[1;32mimport\u001b[0m \u001b[0mtyping\u001b[0m \u001b[1;32mas\u001b[0m \u001b[0m_typing\u001b[0m\u001b[1;33m\u001b[0m\u001b[1;33m\u001b[0m\u001b[0m\n\u001b[0;32m     37\u001b[0m \u001b[1;33m\u001b[0m\u001b[0m\n\u001b[1;32m---> 38\u001b[1;33m \u001b[1;32mfrom\u001b[0m \u001b[0mtensorflow\u001b[0m\u001b[1;33m.\u001b[0m\u001b[0mpython\u001b[0m\u001b[1;33m.\u001b[0m\u001b[0mtools\u001b[0m \u001b[1;32mimport\u001b[0m \u001b[0mmodule_util\u001b[0m \u001b[1;32mas\u001b[0m \u001b[0m_module_util\u001b[0m\u001b[1;33m\u001b[0m\u001b[1;33m\u001b[0m\u001b[0m\n\u001b[0m\u001b[0;32m     39\u001b[0m \u001b[1;32mfrom\u001b[0m \u001b[0mtensorflow\u001b[0m\u001b[1;33m.\u001b[0m\u001b[0mpython\u001b[0m\u001b[1;33m.\u001b[0m\u001b[0mutil\u001b[0m\u001b[1;33m.\u001b[0m\u001b[0mlazy_loader\u001b[0m \u001b[1;32mimport\u001b[0m \u001b[0mLazyLoader\u001b[0m \u001b[1;32mas\u001b[0m \u001b[0m_LazyLoader\u001b[0m\u001b[1;33m\u001b[0m\u001b[1;33m\u001b[0m\u001b[0m\n\u001b[0;32m     40\u001b[0m \u001b[1;33m\u001b[0m\u001b[0m\n",
      "\u001b[1;32m~\\anaconda3\\lib\\site-packages\\tensorflow\\python\\__init__.py\u001b[0m in \u001b[0;36m<module>\u001b[1;34m\u001b[0m\n\u001b[0;32m     40\u001b[0m \u001b[1;31m# from tensorflow.python import keras\u001b[0m\u001b[1;33m\u001b[0m\u001b[1;33m\u001b[0m\u001b[0m\n\u001b[0;32m     41\u001b[0m \u001b[1;31m# from tensorflow.python.layers import layers\u001b[0m\u001b[1;33m\u001b[0m\u001b[1;33m\u001b[0m\u001b[0m\n\u001b[1;32m---> 42\u001b[1;33m \u001b[1;32mfrom\u001b[0m \u001b[0mtensorflow\u001b[0m\u001b[1;33m.\u001b[0m\u001b[0mpython\u001b[0m\u001b[1;33m.\u001b[0m\u001b[0msaved_model\u001b[0m \u001b[1;32mimport\u001b[0m \u001b[0msaved_model\u001b[0m\u001b[1;33m\u001b[0m\u001b[1;33m\u001b[0m\u001b[0m\n\u001b[0m\u001b[0;32m     43\u001b[0m \u001b[1;32mfrom\u001b[0m \u001b[0mtensorflow\u001b[0m\u001b[1;33m.\u001b[0m\u001b[0mpython\u001b[0m\u001b[1;33m.\u001b[0m\u001b[0mtpu\u001b[0m \u001b[1;32mimport\u001b[0m \u001b[0mapi\u001b[0m\u001b[1;33m\u001b[0m\u001b[1;33m\u001b[0m\u001b[0m\n\u001b[0;32m     44\u001b[0m \u001b[1;33m\u001b[0m\u001b[0m\n",
      "\u001b[1;32m~\\anaconda3\\lib\\site-packages\\tensorflow\\python\\saved_model\\saved_model.py\u001b[0m in \u001b[0;36m<module>\u001b[1;34m\u001b[0m\n\u001b[0;32m     18\u001b[0m \u001b[1;33m\u001b[0m\u001b[0m\n\u001b[0;32m     19\u001b[0m \u001b[1;31m# pylint: disable=unused-import\u001b[0m\u001b[1;33m\u001b[0m\u001b[1;33m\u001b[0m\u001b[0m\n\u001b[1;32m---> 20\u001b[1;33m \u001b[1;32mfrom\u001b[0m \u001b[0mtensorflow\u001b[0m\u001b[1;33m.\u001b[0m\u001b[0mpython\u001b[0m\u001b[1;33m.\u001b[0m\u001b[0msaved_model\u001b[0m \u001b[1;32mimport\u001b[0m \u001b[0mbuilder\u001b[0m\u001b[1;33m\u001b[0m\u001b[1;33m\u001b[0m\u001b[0m\n\u001b[0m\u001b[0;32m     21\u001b[0m \u001b[1;32mfrom\u001b[0m \u001b[0mtensorflow\u001b[0m\u001b[1;33m.\u001b[0m\u001b[0mpython\u001b[0m\u001b[1;33m.\u001b[0m\u001b[0msaved_model\u001b[0m \u001b[1;32mimport\u001b[0m \u001b[0mconstants\u001b[0m\u001b[1;33m\u001b[0m\u001b[1;33m\u001b[0m\u001b[0m\n\u001b[0;32m     22\u001b[0m \u001b[1;32mfrom\u001b[0m \u001b[0mtensorflow\u001b[0m\u001b[1;33m.\u001b[0m\u001b[0mpython\u001b[0m\u001b[1;33m.\u001b[0m\u001b[0msaved_model\u001b[0m \u001b[1;32mimport\u001b[0m \u001b[0mloader\u001b[0m\u001b[1;33m\u001b[0m\u001b[1;33m\u001b[0m\u001b[0m\n",
      "\u001b[1;32m~\\anaconda3\\lib\\site-packages\\tensorflow\\python\\saved_model\\builder.py\u001b[0m in \u001b[0;36m<module>\u001b[1;34m\u001b[0m\n\u001b[0;32m     21\u001b[0m \u001b[1;33m\u001b[0m\u001b[0m\n\u001b[0;32m     22\u001b[0m \u001b[1;31m# pylint: disable=unused-import\u001b[0m\u001b[1;33m\u001b[0m\u001b[1;33m\u001b[0m\u001b[0m\n\u001b[1;32m---> 23\u001b[1;33m \u001b[1;32mfrom\u001b[0m \u001b[0mtensorflow\u001b[0m\u001b[1;33m.\u001b[0m\u001b[0mpython\u001b[0m\u001b[1;33m.\u001b[0m\u001b[0msaved_model\u001b[0m\u001b[1;33m.\u001b[0m\u001b[0mbuilder_impl\u001b[0m \u001b[1;32mimport\u001b[0m \u001b[0m_SavedModelBuilder\u001b[0m\u001b[1;33m\u001b[0m\u001b[1;33m\u001b[0m\u001b[0m\n\u001b[0m\u001b[0;32m     24\u001b[0m \u001b[1;32mfrom\u001b[0m \u001b[0mtensorflow\u001b[0m\u001b[1;33m.\u001b[0m\u001b[0mpython\u001b[0m\u001b[1;33m.\u001b[0m\u001b[0msaved_model\u001b[0m\u001b[1;33m.\u001b[0m\u001b[0mbuilder_impl\u001b[0m \u001b[1;32mimport\u001b[0m \u001b[0mSavedModelBuilder\u001b[0m\u001b[1;33m\u001b[0m\u001b[1;33m\u001b[0m\u001b[0m\n\u001b[0;32m     25\u001b[0m \u001b[1;31m# pylint: enable=unused-import\u001b[0m\u001b[1;33m\u001b[0m\u001b[1;33m\u001b[0m\u001b[0m\n",
      "\u001b[1;32m~\\anaconda3\\lib\\site-packages\\tensorflow\\python\\saved_model\\builder_impl.py\u001b[0m in \u001b[0;36m<module>\u001b[1;34m\u001b[0m\n\u001b[0;32m     24\u001b[0m \u001b[1;32mfrom\u001b[0m \u001b[0mtensorflow\u001b[0m\u001b[1;33m.\u001b[0m\u001b[0mcore\u001b[0m\u001b[1;33m.\u001b[0m\u001b[0mprotobuf\u001b[0m \u001b[1;32mimport\u001b[0m \u001b[0msaved_model_pb2\u001b[0m\u001b[1;33m\u001b[0m\u001b[1;33m\u001b[0m\u001b[0m\n\u001b[0;32m     25\u001b[0m \u001b[1;32mfrom\u001b[0m \u001b[0mtensorflow\u001b[0m\u001b[1;33m.\u001b[0m\u001b[0mcore\u001b[0m\u001b[1;33m.\u001b[0m\u001b[0mprotobuf\u001b[0m \u001b[1;32mimport\u001b[0m \u001b[0msaver_pb2\u001b[0m\u001b[1;33m\u001b[0m\u001b[1;33m\u001b[0m\u001b[0m\n\u001b[1;32m---> 26\u001b[1;33m \u001b[1;32mfrom\u001b[0m \u001b[0mtensorflow\u001b[0m\u001b[1;33m.\u001b[0m\u001b[0mpython\u001b[0m\u001b[1;33m.\u001b[0m\u001b[0mframework\u001b[0m \u001b[1;32mimport\u001b[0m \u001b[0mdtypes\u001b[0m\u001b[1;33m\u001b[0m\u001b[1;33m\u001b[0m\u001b[0m\n\u001b[0m\u001b[0;32m     27\u001b[0m \u001b[1;32mfrom\u001b[0m \u001b[0mtensorflow\u001b[0m\u001b[1;33m.\u001b[0m\u001b[0mpython\u001b[0m\u001b[1;33m.\u001b[0m\u001b[0mframework\u001b[0m \u001b[1;32mimport\u001b[0m \u001b[0mops\u001b[0m\u001b[1;33m\u001b[0m\u001b[1;33m\u001b[0m\u001b[0m\n\u001b[0;32m     28\u001b[0m \u001b[1;32mfrom\u001b[0m \u001b[0mtensorflow\u001b[0m\u001b[1;33m.\u001b[0m\u001b[0mpython\u001b[0m\u001b[1;33m.\u001b[0m\u001b[0mframework\u001b[0m \u001b[1;32mimport\u001b[0m \u001b[0mtensor\u001b[0m\u001b[1;33m\u001b[0m\u001b[1;33m\u001b[0m\u001b[0m\n",
      "\u001b[1;32m~\\anaconda3\\lib\\site-packages\\tensorflow\\python\\framework\\dtypes.py\u001b[0m in \u001b[0;36m<module>\u001b[1;34m\u001b[0m\n\u001b[0;32m     35\u001b[0m \u001b[1;32mfrom\u001b[0m \u001b[0mtensorflow\u001b[0m\u001b[1;33m.\u001b[0m\u001b[0mtsl\u001b[0m\u001b[1;33m.\u001b[0m\u001b[0mpython\u001b[0m\u001b[1;33m.\u001b[0m\u001b[0mlib\u001b[0m\u001b[1;33m.\u001b[0m\u001b[0mcore\u001b[0m \u001b[1;32mimport\u001b[0m \u001b[0mpywrap_ml_dtypes\u001b[0m\u001b[1;33m\u001b[0m\u001b[1;33m\u001b[0m\u001b[0m\n\u001b[0;32m     36\u001b[0m \u001b[1;33m\u001b[0m\u001b[0m\n\u001b[1;32m---> 37\u001b[1;33m \u001b[0m_np_bfloat16\u001b[0m \u001b[1;33m=\u001b[0m \u001b[0mpywrap_ml_dtypes\u001b[0m\u001b[1;33m.\u001b[0m\u001b[0mbfloat16\u001b[0m\u001b[1;33m(\u001b[0m\u001b[1;33m)\u001b[0m\u001b[1;33m\u001b[0m\u001b[1;33m\u001b[0m\u001b[0m\n\u001b[0m\u001b[0;32m     38\u001b[0m \u001b[0m_np_float8_e4m3fn\u001b[0m \u001b[1;33m=\u001b[0m \u001b[0mpywrap_ml_dtypes\u001b[0m\u001b[1;33m.\u001b[0m\u001b[0mfloat8_e4m3fn\u001b[0m\u001b[1;33m(\u001b[0m\u001b[1;33m)\u001b[0m\u001b[1;33m\u001b[0m\u001b[1;33m\u001b[0m\u001b[0m\n\u001b[0;32m     39\u001b[0m \u001b[0m_np_float8_e5m2\u001b[0m \u001b[1;33m=\u001b[0m \u001b[0mpywrap_ml_dtypes\u001b[0m\u001b[1;33m.\u001b[0m\u001b[0mfloat8_e5m2\u001b[0m\u001b[1;33m(\u001b[0m\u001b[1;33m)\u001b[0m\u001b[1;33m\u001b[0m\u001b[1;33m\u001b[0m\u001b[0m\n",
      "\u001b[1;31mTypeError\u001b[0m: Unable to convert function return value to a Python type! The signature was\n\t() -> handle"
     ]
    }
   ],
   "source": [
    "import os\n",
    "import textwrap\n",
    "import itertools\n",
    "from IPython.display import display, HTML, Markdown\n",
    "import platform\n",
    "import subprocess\n",
    "\n",
    "import matplotlib.pyplot as plt\n",
    "import pandas as pd\n",
    "import numpy as np\n",
    "\n",
    "# Imbalanced-Learn\n",
    "from imblearn.over_sampling import SMOTE\n",
    "\n",
    "# Sklearn\n",
    "import sklearn\n",
    "from sklearn.neural_network import MLPClassifier\n",
    "from sklearn.linear_model import LogisticRegression\n",
    "from sklearn.metrics import (\n",
    "    confusion_matrix,\n",
    "    classification_report,\n",
    "    make_scorer,\n",
    "    classification_report,\n",
    "    accuracy_score,\n",
    "    precision_score,\n",
    "    recall_score,\n",
    "    f1_score,\n",
    "    ConfusionMatrixDisplay,\n",
    "    roc_curve,\n",
    "    auc,\n",
    ")\n",
    "from sklearn.model_selection import (\n",
    "    train_test_split,\n",
    "    StratifiedKFold,\n",
    "    cross_val_score,\n",
    ")\n",
    "from sklearn.preprocessing import LabelEncoder, StandardScaler\n",
    "\n",
    "# Tensorflow\n",
    "import tensorflow as tf\n",
    "from tensorflow import keras\n",
    "from tensorflow.keras.callbacks import EarlyStopping\n",
    "from tensorflow.keras import models\n",
    "from tensorflow.keras.layers import (\n",
    "    Dense,\n",
    "    Activation,\n",
    "    Input,\n",
    "    Embedding,\n",
    ")\n",
    "from tensorflow.keras.models import Model\n",
    "from tensorflow.keras.utils import plot_model"
   ]
  },
  {
   "cell_type": "markdown",
   "id": "868c0084",
   "metadata": {},
   "source": [
    "# Dataset and Class Variables"
   ]
  },
  {
   "cell_type": "code",
   "execution_count": 99,
   "id": "c0b7fc5e",
   "metadata": {},
   "outputs": [
    {
     "ename": "NameError",
     "evalue": "name 'tf' is not defined",
     "output_type": "error",
     "traceback": [
      "\u001b[1;31m---------------------------------------------------------------------------\u001b[0m",
      "\u001b[1;31mNameError\u001b[0m                                 Traceback (most recent call last)",
      "\u001b[1;32m~\\AppData\\Local\\Temp\\ipykernel_11444\\4052636486.py\u001b[0m in \u001b[0;36m<module>\u001b[1;34m\u001b[0m\n\u001b[0;32m      1\u001b[0m \u001b[1;31m# Prints Tensorflow and Keras version\u001b[0m\u001b[1;33m\u001b[0m\u001b[1;33m\u001b[0m\u001b[0m\n\u001b[0;32m      2\u001b[0m \u001b[0mos\u001b[0m\u001b[1;33m.\u001b[0m\u001b[0menviron\u001b[0m\u001b[1;33m[\u001b[0m\u001b[1;34m'KMP_DUPLICATE_LIB_OK'\u001b[0m\u001b[1;33m]\u001b[0m\u001b[1;33m=\u001b[0m\u001b[1;34m'True'\u001b[0m\u001b[1;33m\u001b[0m\u001b[1;33m\u001b[0m\u001b[0m\n\u001b[1;32m----> 3\u001b[1;33m \u001b[0mprint\u001b[0m\u001b[1;33m(\u001b[0m\u001b[1;34mf\"Tensorflow Version: {tf.__version__}\"\u001b[0m\u001b[1;33m)\u001b[0m\u001b[1;33m\u001b[0m\u001b[1;33m\u001b[0m\u001b[0m\n\u001b[0m\u001b[0;32m      4\u001b[0m \u001b[0mprint\u001b[0m\u001b[1;33m(\u001b[0m\u001b[1;34mf\"Keras Version: {keras.__version__}\"\u001b[0m\u001b[1;33m)\u001b[0m\u001b[1;33m\u001b[0m\u001b[1;33m\u001b[0m\u001b[0m\n",
      "\u001b[1;31mNameError\u001b[0m: name 'tf' is not defined"
     ]
    }
   ],
   "source": [
    "# Prints Tensorflow and Keras version\n",
    "os.environ['KMP_DUPLICATE_LIB_OK']='True'\n",
    "print(f\"Tensorflow Version: {tf.__version__}\")\n",
    "print(f\"Keras Version: {keras.__version__}\")"
   ]
  },
  {
   "cell_type": "markdown",
   "id": "57355413",
   "metadata": {},
   "source": [
    "Data Source URL:\n",
    "https://console.cloud.google.com/marketplace/details/usafacts-public-data/covid19-us-cases?filter=solution-type:dataset&filter=category:covid19&id=3eaff9c5-fbaf-47bb-a441-89db1e1395ab&project=still-nebula-398202"
   ]
  },
  {
   "cell_type": "code",
   "execution_count": 100,
   "id": "d76dbc08",
   "metadata": {},
   "outputs": [],
   "source": [
    "# Reads data into memory\n",
    "df = pd.read_csv(\"./COVID-19_cases_plus_census_lab5.csv\")"
   ]
  },
  {
   "cell_type": "code",
   "execution_count": 101,
   "id": "d935a7d6",
   "metadata": {},
   "outputs": [
    {
     "name": "stdout",
     "output_type": "stream",
     "text": [
      "Features: \"county_fips_code\", \"county_name\", \"state\", \"state_fips_code\", \"date\", \"confirmed_cases\", \"deaths\", \"geo_id\", \"nonfamily_households\", \"family_households\", \"median_year_structure_built\", \"rent_burden_not_computed\", \"rent_over_50_percent\", \"rent_40_to_50_percent\", \"rent_35_to_40_percent\", \"rent_30_to_35_percent\", \"rent_25_to_30_percent\", \"rent_20_to_25_percent\", \"rent_15_to_20_percent\", \"rent_10_to_15_percent\", \"rent_under_10_percent\", \"total_pop\", \"male_pop\", \"female_pop\", \"median_age\", \"white_pop\", \"black_pop\", \"asian_pop\", \"hispanic_pop\", \"amerindian_pop\", \"other_race_pop\", \"two_or_more_races_pop\", \"not_hispanic_pop\", \"commuters_by_public_transportation\", \"households\", \"median_income\", \"income_per_capita\", \"housing_units\", \"vacant_housing_units\", \"vacant_housing_units_for_rent\", \"vacant_housing_units_for_sale\", \"median_rent\", \"percent_income_spent_on_rent\", \"owner_occupied_housing_units\", \"million_dollar_housing_units\", \"mortgaged_housing_units\", \"families_with_young_children\", \"two_parent_families_with_young_children\", \"two_parents_in_labor_force_families_with_young_children\", \"two_parents_father_in_labor_force_families_with_young_children\", \"two_parents_mother_in_labor_force_families_with_young_children\", \"two_parents_not_in_labor_force_families_with_young_children\", \"one_parent_families_with_young_children\", \"father_one_parent_families_with_young_children\", \"father_in_labor_force_one_parent_families_with_young_children\", \"commute_10_14_mins\", \"commute_15_19_mins\", \"commute_20_24_mins\", \"commute_25_29_mins\", \"commute_30_34_mins\", \"commute_45_59_mins\", \"aggregate_travel_time_to_work\", \"income_less_10000\", \"income_10000_14999\", \"income_15000_19999\", \"income_20000_24999\", \"income_25000_29999\", \"income_30000_34999\", \"income_35000_39999\", \"income_40000_44999\", \"income_45000_49999\", \"income_50000_59999\", \"income_60000_74999\", \"income_75000_99999\", \"income_100000_124999\", \"income_125000_149999\", \"income_150000_199999\", \"income_200000_or_more\", \"renter_occupied_housing_units_paying_cash_median_gross_rent\", \"owner_occupied_housing_units_lower_value_quartile\", \"owner_occupied_housing_units_median_value\", \"owner_occupied_housing_units_upper_value_quartile\", \"married_households\", \"occupied_housing_units\", \"housing_units_renter_occupied\", \"dwellings_1_units_detached\", \"dwellings_1_units_attached\", \"dwellings_2_units\", \"dwellings_3_to_4_units\", \"dwellings_5_to_9_units\", \"dwellings_10_to_19_units\", \"dwellings_20_to_49_units\", \"dwellings_50_or_more_units\", \"mobile_homes\", \"housing_built_2005_or_later\", \"housing_built_2000_to_2004\", \"housing_built_1939_or_earlier\", \"male_under_5\", \"male_5_to_9\", \"male_10_to_14\", \"male_15_to_17\", \"male_18_to_19\", \"male_20\", \"male_21\", \"male_22_to_24\", \"male_25_to_29\", \"male_30_to_34\", \"male_35_to_39\", \"male_40_to_44\", \"male_45_to_49\", \"male_50_to_54\", \"male_55_to_59\", \"male_60_61\", \"male_62_64\", \"male_65_to_66\", \"male_67_to_69\", \"male_70_to_74\", \"male_75_to_79\", \"male_80_to_84\", \"male_85_and_over\", \"female_under_5\", \"female_5_to_9\", \"female_10_to_14\", \"female_15_to_17\", \"female_18_to_19\", \"female_20\", \"female_21\", \"female_22_to_24\", \"female_25_to_29\", \"female_30_to_34\", \"female_35_to_39\", \"female_40_to_44\", \"female_45_to_49\", \"female_50_to_54\", \"female_55_to_59\", \"female_60_to_61\", \"female_62_to_64\", \"female_65_to_66\", \"female_67_to_69\", \"female_70_to_74\", \"female_75_to_79\", \"female_80_to_84\", \"female_85_and_over\", \"white_including_hispanic\", \"black_including_hispanic\", \"amerindian_including_hispanic\", \"asian_including_hispanic\", \"commute_5_9_mins\", \"commute_35_39_mins\", \"commute_40_44_mins\", \"commute_60_89_mins\", \"commute_90_more_mins\", \"households_retirement_income\", \"armed_forces\", \"civilian_labor_force\", \"employed_pop\", \"unemployed_pop\", \"not_in_labor_force\", \"pop_16_over\", \"pop_in_labor_force\", \"asian_male_45_54\", \"asian_male_55_64\", \"black_male_45_54\", \"black_male_55_64\", \"hispanic_male_45_54\", \"hispanic_male_55_64\", \"white_male_45_54\", \"white_male_55_64\", \"bachelors_degree_2\", \"bachelors_degree_or_higher_25_64\", \"children\", \"children_in_single_female_hh\", \"commuters_by_bus\", \"commuters_by_car_truck_van\", \"commuters_by_carpool\", \"commuters_by_subway_or_elevated\", \"commuters_drove_alone\", \"different_house_year_ago_different_city\", \"different_house_year_ago_same_city\", \"employed_agriculture_forestry_fishing_hunting_mining\", \"employed_arts_entertainment_recreation_accommodation_food\", \"employed_construction\", \"employed_education_health_social\", \"employed_finance_insurance_real_estate\", \"employed_information\", \"employed_manufacturing\", \"employed_other_services_not_public_admin\", \"employed_public_administration\", \"employed_retail_trade\", \"employed_science_management_admin_waste\", \"employed_transportation_warehousing_utilities\", \"employed_wholesale_trade\", \"female_female_households\", \"four_more_cars\", \"gini_index\", \"graduate_professional_degree\", \"group_quarters\", \"high_school_including_ged\", \"households_public_asst_or_food_stamps\", \"in_grades_1_to_4\", \"in_grades_5_to_8\", \"in_grades_9_to_12\", \"in_school\", \"in_undergrad_college\", \"less_than_high_school_graduate\", \"male_45_64_associates_degree\", \"male_45_64_bachelors_degree\", \"male_45_64_graduate_degree\", \"male_45_64_less_than_9_grade\", \"male_45_64_grade_9_12\", \"male_45_64_high_school\", \"male_45_64_some_college\", \"male_45_to_64\", \"male_male_households\", \"management_business_sci_arts_employed\", \"no_car\", \"no_cars\", \"not_us_citizen_pop\", \"occupation_management_arts\", \"occupation_natural_resources_construction_maintenance\", \"occupation_production_transportation_material\", \"occupation_sales_office\", \"occupation_services\", \"one_car\", \"two_cars\", \"three_cars\", \"pop_25_64\", \"pop_determined_poverty_status\", \"population_1_year_and_over\", \"population_3_years_over\", \"poverty\", \"sales_office_employed\", \"some_college_and_associates_degree\", \"walked_to_work\", \"worked_at_home\", \"workers_16_and_over\", \"associates_degree\", \"bachelors_degree\", \"high_school_diploma\", \"less_one_year_college\", \"masters_degree\", \"one_year_more_college\", \"pop_25_years_over\", \"commute_35_44_mins\", \"commute_60_more_mins\", \"commute_less_10_mins\", \"commuters_16_over\", \"hispanic_any_race\", \"pop_5_years_over\", \"speak_only_english_at_home\", \"speak_spanish_at_home\", \"speak_spanish_at_home_low_english\", \"pop_15_and_over\", \"pop_never_married\", \"pop_now_married\", \"pop_separated\", \"pop_widowed\", \"pop_divorced\", \"do_date\"\n"
     ]
    }
   ],
   "source": [
    "def print_df_list_of_features():\n",
    "    columns = df.columns.to_list()\n",
    "    features = \"Features: \"\n",
    "    for i, col in enumerate(columns):\n",
    "        if i > 0:\n",
    "            features += f', \"{col}\"'\n",
    "        else:\n",
    "            features += f'\"{col}\"'\n",
    "    print(features)\n",
    "\n",
    "print_df_list_of_features()"
   ]
  },
  {
   "cell_type": "code",
   "execution_count": 102,
   "id": "6f88b5c2",
   "metadata": {
    "scrolled": true
   },
   "outputs": [
    {
     "name": "stdout",
     "output_type": "stream",
     "text": [
      "The dataset contains 3142 rows and 259 columns.\n",
      "\n"
     ]
    }
   ],
   "source": [
    "# Prints the size of the dataframe to output\n",
    "rows, columns = df.shape\n",
    "print(f\"The dataset contains {rows} rows and {columns} columns.\\n\")"
   ]
  },
  {
   "cell_type": "code",
   "execution_count": 103,
   "id": "2dd55f75",
   "metadata": {},
   "outputs": [],
   "source": [
    "# Filter rows with confirmed_cases > 0\n",
    "df = df[df['confirmed_cases'] > 0].copy()\n",
    "\n",
    "# Calculate rates per 1000 people \n",
    "# Rate calculation added as new attributes\n",
    "df['cases_per_1000'] = (df['confirmed_cases'] / df['total_pop']) * 1000\n",
    "df['deaths_per_1000'] = (df['deaths'] / df['total_pop']) * 1000\n",
    "df['death_per_case'] = df['deaths'] / df['confirmed_cases']\n",
    "\n",
    "# Sort the DataFrame by confirmed_cases in descending order\n",
    "df = df.sort_values(by='confirmed_cases', ascending=False)"
   ]
  },
  {
   "cell_type": "code",
   "execution_count": 104,
   "id": "f6269cd3",
   "metadata": {},
   "outputs": [],
   "source": [
    "# Select important attributes\n",
    "selected_columns = ['county_name', 'state', 'confirmed_cases', 'deaths', 'total_pop', 'median_income', \n",
    "                    'median_age', 'cases_per_1000', 'deaths_per_1000', 'death_per_case', 'female_pop', 'male_pop']\n",
    "df = df[selected_columns]"
   ]
  },
  {
   "cell_type": "code",
   "execution_count": 105,
   "id": "8cee1be3",
   "metadata": {},
   "outputs": [
    {
     "name": "stdout",
     "output_type": "stream",
     "text": [
      "************* Value Counts *************\n",
      "\n",
      "Washington County      30\n",
      "Jefferson County       25\n",
      "Franklin County        24\n",
      "Lincoln County         23\n",
      "Jackson County         22\n",
      "                       ..\n",
      "Wapello County          1\n",
      "Webster Parish          1\n",
      "Carteret County         1\n",
      "San Patricio County     1\n",
      "Loving County           1\n",
      "Name: county_name, Length: 1875, dtype: int64 \n",
      "\n",
      "TX    254\n",
      "GA    159\n",
      "VA    133\n",
      "KY    120\n",
      "MO    115\n",
      "KS    105\n",
      "IL    102\n",
      "NC    100\n",
      "IA     99\n",
      "TN     95\n",
      "NE     93\n",
      "IN     92\n",
      "OH     88\n",
      "MN     87\n",
      "MI     83\n",
      "MS     82\n",
      "OK     77\n",
      "AR     75\n",
      "WI     72\n",
      "PA     67\n",
      "AL     67\n",
      "FL     67\n",
      "SD     66\n",
      "CO     64\n",
      "LA     64\n",
      "NY     62\n",
      "CA     58\n",
      "MT     56\n",
      "WV     55\n",
      "ND     53\n",
      "SC     46\n",
      "ID     44\n",
      "WA     39\n",
      "OR     36\n",
      "NM     33\n",
      "UT     29\n",
      "AK     27\n",
      "MD     24\n",
      "WY     23\n",
      "NJ     21\n",
      "NV     17\n",
      "ME     16\n",
      "AZ     15\n",
      "MA     14\n",
      "VT     14\n",
      "NH     10\n",
      "CT      8\n",
      "RI      5\n",
      "HI      4\n",
      "DE      3\n",
      "DC      1\n",
      "Name: state, dtype: int64 \n",
      "\n",
      "1147    5\n",
      "632     4\n",
      "114     4\n",
      "990     4\n",
      "232     4\n",
      "       ..\n",
      "4554    1\n",
      "4544    1\n",
      "4543    1\n",
      "4534    1\n",
      "1       1\n",
      "Name: confirmed_cases, Length: 2529, dtype: int64 \n",
      "\n",
      "0        79\n",
      "4        77\n",
      "9        74\n",
      "3        68\n",
      "1        67\n",
      "         ..\n",
      "392       1\n",
      "202       1\n",
      "260       1\n",
      "129       1\n",
      "13936     1\n",
      "Name: deaths, Length: 475, dtype: int64 \n",
      "\n",
      "1728.0     2\n",
      "25599.0    2\n",
      "8129.0     2\n",
      "4458.0     2\n",
      "37097.0    2\n",
      "          ..\n",
      "41379.0    1\n",
      "35262.0    1\n",
      "66867.0    1\n",
      "47316.0    1\n",
      "74.0       1\n",
      "Name: total_pop, Length: 3097, dtype: int64 \n",
      "\n",
      "48412.0    4\n",
      "55295.0    3\n",
      "50000.0    3\n",
      "49052.0    3\n",
      "46096.0    3\n",
      "          ..\n",
      "59684.0    1\n",
      "51211.0    1\n",
      "45571.0    1\n",
      "36755.0    1\n",
      "80938.0    1\n",
      "Name: median_income, Length: 2994, dtype: int64 \n",
      "\n",
      "41.0    36\n",
      "40.5    36\n",
      "41.8    35\n",
      "42.2    35\n",
      "40.6    35\n",
      "        ..\n",
      "29.0     1\n",
      "56.0     1\n",
      "23.7     1\n",
      "52.3     1\n",
      "57.5     1\n",
      "Name: median_age, Length: 307, dtype: int64 \n",
      "\n",
      "85.427136     2\n",
      "92.753077     2\n",
      "99.212506     1\n",
      "109.843938    1\n",
      "13.632459     1\n",
      "             ..\n",
      "82.700034     1\n",
      "101.018475    1\n",
      "87.168062     1\n",
      "49.763033     1\n",
      "13.513514     1\n",
      "Name: cases_per_1000, Length: 3137, dtype: int64 \n",
      "\n",
      "0.000000    79\n",
      "2.554745     2\n",
      "0.780640     2\n",
      "0.369049     2\n",
      "1.312336     2\n",
      "            ..\n",
      "0.630318     1\n",
      "2.062724     1\n",
      "1.178036     1\n",
      "0.602470     1\n",
      "0.706714     1\n",
      "Name: deaths_per_1000, Length: 3046, dtype: int64 \n",
      "\n",
      "6434.0     3\n",
      "3131.0     3\n",
      "2043.0     3\n",
      "1397.0     3\n",
      "4351.0     2\n",
      "          ..\n",
      "29068.0    1\n",
      "42252.0    1\n",
      "54822.0    1\n",
      "14515.0    1\n",
      "35.0       1\n",
      "Name: female_pop, Length: 3011, dtype: int64 \n",
      "\n",
      "10028.0    4\n",
      "17441.0    3\n",
      "7433.0     3\n",
      "686.0      3\n",
      "10320.0    2\n",
      "          ..\n",
      "32517.0    1\n",
      "50283.0    1\n",
      "14654.0    1\n",
      "25861.0    1\n",
      "39.0       1\n",
      "Name: male_pop, Length: 3033, dtype: int64 \n",
      "\n",
      "****************************************\n"
     ]
    }
   ],
   "source": [
    "def get_feature_col_counts():\n",
    "    cols = ['county_name', 'state', 'confirmed_cases', 'deaths', 'total_pop', 'median_income', \n",
    "                    'median_age', 'cases_per_1000', 'deaths_per_1000', 'female_pop', 'male_pop']\n",
    "    print(f\"{' Value Counts '.center(40, '*')}\\n\")\n",
    "    for col in cols:\n",
    "        print(df[col].value_counts(), \"\\n\")\n",
    "    print(f\"{''.center(40, '*')}\")\n",
    "\n",
    "get_feature_col_counts()"
   ]
  },
  {
   "cell_type": "code",
   "execution_count": 106,
   "id": "da006e9a",
   "metadata": {},
   "outputs": [
    {
     "name": "stdout",
     "output_type": "stream",
     "text": [
      "\n"
     ]
    }
   ],
   "source": [
    "# Prints the unique values for categorical data\n",
    "columns = df.columns.to_list()\n",
    "for column in columns:\n",
    "    unique_vals = list(df[column].unique())\n",
    "    if len(unique_vals) < 10:\n",
    "        print(f\"{column}: {unique_vals}\")\n",
    "print()"
   ]
  },
  {
   "cell_type": "code",
   "execution_count": 107,
   "id": "99999a47",
   "metadata": {
    "scrolled": false
   },
   "outputs": [
    {
     "name": "stdout",
     "output_type": "stream",
     "text": [
      "Missing Values:\n",
      "county_name        0\n",
      "state              0\n",
      "confirmed_cases    0\n",
      "deaths             0\n",
      "total_pop          0\n",
      "median_income      0\n",
      "median_age         0\n",
      "cases_per_1000     0\n",
      "deaths_per_1000    0\n",
      "death_per_case     0\n",
      "female_pop         0\n",
      "male_pop           0\n",
      "dtype: int64\n",
      "\n",
      "These are the columns with missing data:[]\n"
     ]
    }
   ],
   "source": [
    "missing_values = df.isnull().sum()\n",
    "print(\"Missing Values:\")\n",
    "print(str(missing_values)+ \"\\n\")\n",
    "\n",
    "print(\"These are the columns with missing data:\" + str(df.columns[df.isnull().any()].tolist()))"
   ]
  },
  {
   "cell_type": "code",
   "execution_count": 108,
   "id": "98f29c83",
   "metadata": {},
   "outputs": [
    {
     "data": {
      "text/plain": [
       "<AxesSubplot:>"
      ]
     },
     "execution_count": 108,
     "metadata": {},
     "output_type": "execute_result"
    },
    {
     "data": {
      "image/png": "[encoded data removed]",
      "text/plain": [
       "<Figure size 2500x1000 with 3 Axes>"
      ]
     },
     "metadata": {},
     "output_type": "display_data"
    }
   ],
   "source": [
    "import missingno as msno\n",
    "\n",
    "msno.bar(df)"
   ]
  },
  {
   "cell_type": "code",
   "execution_count": 109,
   "id": "9a0e8dea",
   "metadata": {},
   "outputs": [
    {
     "name": "stdout",
     "output_type": "stream",
     "text": [
      "No Duplicates Found!\n"
     ]
    }
   ],
   "source": [
    "def check_for_duplicate_entries():\n",
    "    return df.duplicated().any()\n",
    "\n",
    "\n",
    "print(\n",
    "    \"Duplicates Found!\"\n",
    ") if check_for_duplicate_entries() is True else print(\"No Duplicates Found!\")"
   ]
  },
  {
   "cell_type": "code",
   "execution_count": 110,
   "id": "efbed2b5",
   "metadata": {},
   "outputs": [
    {
     "name": "stdout",
     "output_type": "stream",
     "text": [
      "Datatypes\n",
      "county_name         object\n",
      "state               object\n",
      "confirmed_cases      int64\n",
      "deaths               int64\n",
      "total_pop          float64\n",
      "median_income      float64\n",
      "median_age         float64\n",
      "cases_per_1000     float64\n",
      "deaths_per_1000    float64\n",
      "death_per_case     float64\n",
      "female_pop         float64\n",
      "male_pop           float64\n",
      "dtype: object\n"
     ]
    }
   ],
   "source": [
    "# Prints the datatypes for each column\n",
    "print(\"Datatypes\")\n",
    "print(df.dtypes)"
   ]
  },
  {
   "cell_type": "code",
   "execution_count": 111,
   "id": "e29bf14f",
   "metadata": {
    "scrolled": true
   },
   "outputs": [
    {
     "name": "stdout",
     "output_type": "stream",
     "text": [
      "       confirmed_cases        deaths     total_pop  median_income  \\\n",
      "count     3.139000e+03   3139.000000  3.139000e+03    3139.000000   \n",
      "mean      7.566138e+03    124.945524  1.022627e+05   49736.142083   \n",
      "std       2.811232e+04    481.075014  3.284340e+05   13145.573334   \n",
      "min       1.000000e+00      0.000000  7.400000e+01   19264.000000   \n",
      "25%       7.985000e+02     12.000000  1.097100e+04   41120.000000   \n",
      "50%       1.917000e+03     32.000000  2.571400e+04   48038.000000   \n",
      "75%       4.955500e+03     77.000000  6.752450e+04   55758.000000   \n",
      "max       1.002614e+06  13936.000000  1.010572e+07  129588.000000   \n",
      "\n",
      "        median_age  cases_per_1000  deaths_per_1000  death_per_case  \\\n",
      "count  3139.000000     3139.000000      3139.000000     3139.000000   \n",
      "mean     41.148901       76.850959         1.336791        0.017567   \n",
      "std       5.372906       28.503892         0.922729        0.011150   \n",
      "min      21.600000        2.461564         0.000000        0.000000   \n",
      "25%      37.900000       58.570025         0.682179        0.010276   \n",
      "50%      41.200000       75.519548         1.190146        0.015483   \n",
      "75%      44.200000       92.992149         1.751958        0.022875   \n",
      "max      66.400000      316.104461         8.358663        0.181818   \n",
      "\n",
      "         female_pop      male_pop  \n",
      "count  3.139000e+03  3.139000e+03  \n",
      "mean   5.192256e+04  5.034018e+04  \n",
      "std    1.672175e+05  1.612546e+05  \n",
      "min    3.500000e+01  3.900000e+01  \n",
      "25%    5.478500e+03  5.523000e+03  \n",
      "50%    1.288700e+04  1.281300e+04  \n",
      "75%    3.411500e+04  3.353700e+04  \n",
      "max    5.126081e+06  4.979641e+06  \n"
     ]
    }
   ],
   "source": [
    "# Provide summary information on continuous variables\n",
    "print(df.describe())"
   ]
  },
  {
   "cell_type": "markdown",
   "id": "b7f26c8d",
   "metadata": {},
   "source": [
    "# Cross-Product Features"
   ]
  },
  {
   "cell_type": "code",
   "execution_count": 112,
   "id": "39ffe197",
   "metadata": {},
   "outputs": [],
   "source": [
    "# Defines cross columns. Very little is known to the team about what\n",
    "# contributes to heart disease. Using our best assumptions, these features\n",
    "# appear sufficiently related for cross analysis.\n",
    "x_col_list_1 = ['confirmed_cases', 'deaths']\n",
    "x_col_list_2 = ['total_pop', 'median_age', 'cases_per_1000']\n",
    "x_col_list_3 = ['total_pop', 'median_age', 'deaths_per_1000']\n",
    "x_col_list_4 = ['female_pop', 'male_pop', 'median_income', 'confirmed_cases', 'deaths']\n",
    "x_cols = [x_col_list_1] + [x_col_list_2] + [x_col_list_3] + [x_col_list_4]"
   ]
  },
  {
   "cell_type": "code",
   "execution_count": 113,
   "id": "98fdef88",
   "metadata": {},
   "outputs": [],
   "source": [
    "# Copies original dataframe\n",
    "df_cross = df.copy()"
   ]
  },
  {
   "cell_type": "code",
   "execution_count": 114,
   "id": "e71170cc",
   "metadata": {},
   "outputs": [],
   "source": [
    "# Re-defines feature 'deaths' to be a string value for crossing\n",
    "df_cross['deaths'] = df_cross['deaths'].apply(lambda v: \"Y\" if v == 1 else \"N\")"
   ]
  },
  {
   "cell_type": "code",
   "execution_count": 115,
   "id": "89583a47",
   "metadata": {},
   "outputs": [],
   "source": [
    "# Defines encoder for cross labeling\n",
    "encoder = LabelEncoder()"
   ]
  },
  {
   "cell_type": "code",
   "execution_count": 116,
   "id": "c0f222ed",
   "metadata": {},
   "outputs": [],
   "source": [
    "# Defines a placeholder for cross column names\n",
    "x_col_features = []"
   ]
  },
  {
   "cell_type": "code",
   "execution_count": 117,
   "id": "94842e76",
   "metadata": {},
   "outputs": [
    {
     "ename": "TypeError",
     "evalue": "sequence item 0: expected str instance, int found",
     "output_type": "error",
     "traceback": [
      "\u001b[1;31m---------------------------------------------------------------------------\u001b[0m",
      "\u001b[1;31mTypeError\u001b[0m                                 Traceback (most recent call last)",
      "\u001b[1;32m~\\AppData\\Local\\Temp\\ipykernel_11444\\543076540.py\u001b[0m in \u001b[0;36m<module>\u001b[1;34m\u001b[0m\n\u001b[0;32m      2\u001b[0m \u001b[1;32mfor\u001b[0m \u001b[0mcols\u001b[0m \u001b[1;32min\u001b[0m \u001b[0mx_cols\u001b[0m\u001b[1;33m:\u001b[0m\u001b[1;33m\u001b[0m\u001b[1;33m\u001b[0m\u001b[0m\n\u001b[0;32m      3\u001b[0m     \u001b[1;31m# Creates crossed labels\u001b[0m\u001b[1;33m\u001b[0m\u001b[1;33m\u001b[0m\u001b[0m\n\u001b[1;32m----> 4\u001b[1;33m     \u001b[0mcross_col\u001b[0m \u001b[1;33m=\u001b[0m \u001b[0mdf_cross\u001b[0m\u001b[1;33m[\u001b[0m\u001b[0mcols\u001b[0m\u001b[1;33m]\u001b[0m\u001b[1;33m.\u001b[0m\u001b[0mapply\u001b[0m\u001b[1;33m(\u001b[0m\u001b[1;32mlambda\u001b[0m \u001b[0mc\u001b[0m\u001b[1;33m:\u001b[0m \u001b[1;34m'_'\u001b[0m\u001b[1;33m.\u001b[0m\u001b[0mjoin\u001b[0m\u001b[1;33m(\u001b[0m\u001b[0mc\u001b[0m\u001b[1;33m)\u001b[0m\u001b[1;33m,\u001b[0m \u001b[0maxis\u001b[0m\u001b[1;33m=\u001b[0m\u001b[1;36m1\u001b[0m\u001b[1;33m)\u001b[0m\u001b[1;33m\u001b[0m\u001b[1;33m\u001b[0m\u001b[0m\n\u001b[0m\u001b[0;32m      5\u001b[0m \u001b[1;33m\u001b[0m\u001b[0m\n\u001b[0;32m      6\u001b[0m     \u001b[1;31m# Formats column name\u001b[0m\u001b[1;33m\u001b[0m\u001b[1;33m\u001b[0m\u001b[0m\n",
      "\u001b[1;32m~\\anaconda3\\lib\\site-packages\\pandas\\core\\frame.py\u001b[0m in \u001b[0;36mapply\u001b[1;34m(self, func, axis, raw, result_type, args, **kwargs)\u001b[0m\n\u001b[0;32m   8846\u001b[0m             \u001b[0mkwargs\u001b[0m\u001b[1;33m=\u001b[0m\u001b[0mkwargs\u001b[0m\u001b[1;33m,\u001b[0m\u001b[1;33m\u001b[0m\u001b[1;33m\u001b[0m\u001b[0m\n\u001b[0;32m   8847\u001b[0m         )\n\u001b[1;32m-> 8848\u001b[1;33m         \u001b[1;32mreturn\u001b[0m \u001b[0mop\u001b[0m\u001b[1;33m.\u001b[0m\u001b[0mapply\u001b[0m\u001b[1;33m(\u001b[0m\u001b[1;33m)\u001b[0m\u001b[1;33m.\u001b[0m\u001b[0m__finalize__\u001b[0m\u001b[1;33m(\u001b[0m\u001b[0mself\u001b[0m\u001b[1;33m,\u001b[0m \u001b[0mmethod\u001b[0m\u001b[1;33m=\u001b[0m\u001b[1;34m\"apply\"\u001b[0m\u001b[1;33m)\u001b[0m\u001b[1;33m\u001b[0m\u001b[1;33m\u001b[0m\u001b[0m\n\u001b[0m\u001b[0;32m   8849\u001b[0m \u001b[1;33m\u001b[0m\u001b[0m\n\u001b[0;32m   8850\u001b[0m     def applymap(\n",
      "\u001b[1;32m~\\anaconda3\\lib\\site-packages\\pandas\\core\\apply.py\u001b[0m in \u001b[0;36mapply\u001b[1;34m(self)\u001b[0m\n\u001b[0;32m    731\u001b[0m             \u001b[1;32mreturn\u001b[0m \u001b[0mself\u001b[0m\u001b[1;33m.\u001b[0m\u001b[0mapply_raw\u001b[0m\u001b[1;33m(\u001b[0m\u001b[1;33m)\u001b[0m\u001b[1;33m\u001b[0m\u001b[1;33m\u001b[0m\u001b[0m\n\u001b[0;32m    732\u001b[0m \u001b[1;33m\u001b[0m\u001b[0m\n\u001b[1;32m--> 733\u001b[1;33m         \u001b[1;32mreturn\u001b[0m \u001b[0mself\u001b[0m\u001b[1;33m.\u001b[0m\u001b[0mapply_standard\u001b[0m\u001b[1;33m(\u001b[0m\u001b[1;33m)\u001b[0m\u001b[1;33m\u001b[0m\u001b[1;33m\u001b[0m\u001b[0m\n\u001b[0m\u001b[0;32m    734\u001b[0m \u001b[1;33m\u001b[0m\u001b[0m\n\u001b[0;32m    735\u001b[0m     \u001b[1;32mdef\u001b[0m \u001b[0magg\u001b[0m\u001b[1;33m(\u001b[0m\u001b[0mself\u001b[0m\u001b[1;33m)\u001b[0m\u001b[1;33m:\u001b[0m\u001b[1;33m\u001b[0m\u001b[1;33m\u001b[0m\u001b[0m\n",
      "\u001b[1;32m~\\anaconda3\\lib\\site-packages\\pandas\\core\\apply.py\u001b[0m in \u001b[0;36mapply_standard\u001b[1;34m(self)\u001b[0m\n\u001b[0;32m    855\u001b[0m \u001b[1;33m\u001b[0m\u001b[0m\n\u001b[0;32m    856\u001b[0m     \u001b[1;32mdef\u001b[0m \u001b[0mapply_standard\u001b[0m\u001b[1;33m(\u001b[0m\u001b[0mself\u001b[0m\u001b[1;33m)\u001b[0m\u001b[1;33m:\u001b[0m\u001b[1;33m\u001b[0m\u001b[1;33m\u001b[0m\u001b[0m\n\u001b[1;32m--> 857\u001b[1;33m         \u001b[0mresults\u001b[0m\u001b[1;33m,\u001b[0m \u001b[0mres_index\u001b[0m \u001b[1;33m=\u001b[0m \u001b[0mself\u001b[0m\u001b[1;33m.\u001b[0m\u001b[0mapply_series_generator\u001b[0m\u001b[1;33m(\u001b[0m\u001b[1;33m)\u001b[0m\u001b[1;33m\u001b[0m\u001b[1;33m\u001b[0m\u001b[0m\n\u001b[0m\u001b[0;32m    858\u001b[0m \u001b[1;33m\u001b[0m\u001b[0m\n\u001b[0;32m    859\u001b[0m         \u001b[1;31m# wrap results\u001b[0m\u001b[1;33m\u001b[0m\u001b[1;33m\u001b[0m\u001b[0m\n",
      "\u001b[1;32m~\\anaconda3\\lib\\site-packages\\pandas\\core\\apply.py\u001b[0m in \u001b[0;36mapply_series_generator\u001b[1;34m(self)\u001b[0m\n\u001b[0;32m    871\u001b[0m             \u001b[1;32mfor\u001b[0m \u001b[0mi\u001b[0m\u001b[1;33m,\u001b[0m \u001b[0mv\u001b[0m \u001b[1;32min\u001b[0m \u001b[0menumerate\u001b[0m\u001b[1;33m(\u001b[0m\u001b[0mseries_gen\u001b[0m\u001b[1;33m)\u001b[0m\u001b[1;33m:\u001b[0m\u001b[1;33m\u001b[0m\u001b[1;33m\u001b[0m\u001b[0m\n\u001b[0;32m    872\u001b[0m                 \u001b[1;31m# ignore SettingWithCopy here in case the user mutates\u001b[0m\u001b[1;33m\u001b[0m\u001b[1;33m\u001b[0m\u001b[0m\n\u001b[1;32m--> 873\u001b[1;33m                 \u001b[0mresults\u001b[0m\u001b[1;33m[\u001b[0m\u001b[0mi\u001b[0m\u001b[1;33m]\u001b[0m \u001b[1;33m=\u001b[0m \u001b[0mself\u001b[0m\u001b[1;33m.\u001b[0m\u001b[0mf\u001b[0m\u001b[1;33m(\u001b[0m\u001b[0mv\u001b[0m\u001b[1;33m)\u001b[0m\u001b[1;33m\u001b[0m\u001b[1;33m\u001b[0m\u001b[0m\n\u001b[0m\u001b[0;32m    874\u001b[0m                 \u001b[1;32mif\u001b[0m \u001b[0misinstance\u001b[0m\u001b[1;33m(\u001b[0m\u001b[0mresults\u001b[0m\u001b[1;33m[\u001b[0m\u001b[0mi\u001b[0m\u001b[1;33m]\u001b[0m\u001b[1;33m,\u001b[0m \u001b[0mABCSeries\u001b[0m\u001b[1;33m)\u001b[0m\u001b[1;33m:\u001b[0m\u001b[1;33m\u001b[0m\u001b[1;33m\u001b[0m\u001b[0m\n\u001b[0;32m    875\u001b[0m                     \u001b[1;31m# If we have a view on v, we need to make a copy because\u001b[0m\u001b[1;33m\u001b[0m\u001b[1;33m\u001b[0m\u001b[0m\n",
      "\u001b[1;32m~\\AppData\\Local\\Temp\\ipykernel_11444\\543076540.py\u001b[0m in \u001b[0;36m<lambda>\u001b[1;34m(c)\u001b[0m\n\u001b[0;32m      2\u001b[0m \u001b[1;32mfor\u001b[0m \u001b[0mcols\u001b[0m \u001b[1;32min\u001b[0m \u001b[0mx_cols\u001b[0m\u001b[1;33m:\u001b[0m\u001b[1;33m\u001b[0m\u001b[1;33m\u001b[0m\u001b[0m\n\u001b[0;32m      3\u001b[0m     \u001b[1;31m# Creates crossed labels\u001b[0m\u001b[1;33m\u001b[0m\u001b[1;33m\u001b[0m\u001b[0m\n\u001b[1;32m----> 4\u001b[1;33m     \u001b[0mcross_col\u001b[0m \u001b[1;33m=\u001b[0m \u001b[0mdf_cross\u001b[0m\u001b[1;33m[\u001b[0m\u001b[0mcols\u001b[0m\u001b[1;33m]\u001b[0m\u001b[1;33m.\u001b[0m\u001b[0mapply\u001b[0m\u001b[1;33m(\u001b[0m\u001b[1;32mlambda\u001b[0m \u001b[0mc\u001b[0m\u001b[1;33m:\u001b[0m \u001b[1;34m'_'\u001b[0m\u001b[1;33m.\u001b[0m\u001b[0mjoin\u001b[0m\u001b[1;33m(\u001b[0m\u001b[0mc\u001b[0m\u001b[1;33m)\u001b[0m\u001b[1;33m,\u001b[0m \u001b[0maxis\u001b[0m\u001b[1;33m=\u001b[0m\u001b[1;36m1\u001b[0m\u001b[1;33m)\u001b[0m\u001b[1;33m\u001b[0m\u001b[1;33m\u001b[0m\u001b[0m\n\u001b[0m\u001b[0;32m      5\u001b[0m \u001b[1;33m\u001b[0m\u001b[0m\n\u001b[0;32m      6\u001b[0m     \u001b[1;31m# Formats column name\u001b[0m\u001b[1;33m\u001b[0m\u001b[1;33m\u001b[0m\u001b[0m\n",
      "\u001b[1;31mTypeError\u001b[0m: sequence item 0: expected str instance, int found"
     ]
    }
   ],
   "source": [
    "# Applies column crossing\n",
    "for cols in x_cols:\n",
    "    # Creates crossed labels\n",
    "    cross_col = df_cross[cols].apply(lambda c: '_'.join(c), axis=1)\n",
    "    \n",
    "    # Formats column name\n",
    "    col_name = '_'.join(cols)\n",
    "        \n",
    "    # Encodes values as integers\n",
    "    encoder.fit(cross_col)\n",
    "    new_cross_col = encoder.transform(cross_col)\n",
    "    \n",
    "    # Inserts new column into dataframe\n",
    "    df_cross[col_name] = new_cross_col\n",
    "    \n",
    "    # Appends to list\n",
    "    x_col_features.append(col_name)"
   ]
  },
  {
   "cell_type": "code",
   "execution_count": 118,
   "id": "51ed4871",
   "metadata": {},
   "outputs": [],
   "source": [
    "# Feature re-assignment to move the target variable to the last column\n",
    "tmp_features = df_cross.loc[:, ~df_cross.columns.isin(['deaths_per_1000'])]\n",
    "tmp_target = df_cross['deaths_per_1000']\n",
    "df_cross = tmp_features\n",
    "df_cross['deaths_per_1000'] = tmp_target"
   ]
  },
  {
   "cell_type": "code",
   "execution_count": 119,
   "id": "51f3d2e0",
   "metadata": {},
   "outputs": [
    {
     "data": {
      "text/html": [
       "<div>\n",
       "<style scoped>\n",
       "    .dataframe tbody tr th:only-of-type {\n",
       "        vertical-align: middle;\n",
       "    }\n",
       "\n",
       "    .dataframe tbody tr th {\n",
       "        vertical-align: top;\n",
       "    }\n",
       "\n",
       "    .dataframe thead th {\n",
       "        text-align: right;\n",
       "    }\n",
       "</style>\n",
       "<table border=\"1\" class=\"dataframe\">\n",
       "  <thead>\n",
       "    <tr style=\"text-align: right;\">\n",
       "      <th></th>\n",
       "      <th>county_name</th>\n",
       "      <th>state</th>\n",
       "      <th>confirmed_cases</th>\n",
       "      <th>deaths</th>\n",
       "      <th>total_pop</th>\n",
       "      <th>median_income</th>\n",
       "      <th>median_age</th>\n",
       "      <th>cases_per_1000</th>\n",
       "      <th>death_per_case</th>\n",
       "      <th>female_pop</th>\n",
       "      <th>male_pop</th>\n",
       "      <th>deaths_per_1000</th>\n",
       "    </tr>\n",
       "  </thead>\n",
       "  <tbody>\n",
       "    <tr>\n",
       "      <th>287</th>\n",
       "      <td>Los Angeles County</td>\n",
       "      <td>CA</td>\n",
       "      <td>1002614</td>\n",
       "      <td>N</td>\n",
       "      <td>10105722.0</td>\n",
       "      <td>61015.0</td>\n",
       "      <td>36.0</td>\n",
       "      <td>99.212506</td>\n",
       "      <td>0.013900</td>\n",
       "      <td>5126081.0</td>\n",
       "      <td>4979641.0</td>\n",
       "      <td>1.379021</td>\n",
       "    </tr>\n",
       "    <tr>\n",
       "      <th>832</th>\n",
       "      <td>Cook County</td>\n",
       "      <td>IL</td>\n",
       "      <td>435888</td>\n",
       "      <td>N</td>\n",
       "      <td>5238541.0</td>\n",
       "      <td>59426.0</td>\n",
       "      <td>36.4</td>\n",
       "      <td>83.207901</td>\n",
       "      <td>0.019601</td>\n",
       "      <td>2697837.0</td>\n",
       "      <td>2540704.0</td>\n",
       "      <td>1.630988</td>\n",
       "    </tr>\n",
       "    <tr>\n",
       "      <th>245</th>\n",
       "      <td>Maricopa County</td>\n",
       "      <td>AZ</td>\n",
       "      <td>425844</td>\n",
       "      <td>N</td>\n",
       "      <td>4155501.0</td>\n",
       "      <td>58580.0</td>\n",
       "      <td>36.0</td>\n",
       "      <td>102.477174</td>\n",
       "      <td>0.015130</td>\n",
       "      <td>2100037.0</td>\n",
       "      <td>2055464.0</td>\n",
       "      <td>1.550475</td>\n",
       "    </tr>\n",
       "    <tr>\n",
       "      <th>430</th>\n",
       "      <td>Miami-Dade County</td>\n",
       "      <td>FL</td>\n",
       "      <td>347965</td>\n",
       "      <td>N</td>\n",
       "      <td>2702602.0</td>\n",
       "      <td>46338.0</td>\n",
       "      <td>39.5</td>\n",
       "      <td>128.751847</td>\n",
       "      <td>0.013283</td>\n",
       "      <td>1390605.0</td>\n",
       "      <td>1311997.0</td>\n",
       "      <td>1.710204</td>\n",
       "    </tr>\n",
       "    <tr>\n",
       "      <th>2782</th>\n",
       "      <td>Harris County</td>\n",
       "      <td>TX</td>\n",
       "      <td>286356</td>\n",
       "      <td>N</td>\n",
       "      <td>4525519.0</td>\n",
       "      <td>57791.0</td>\n",
       "      <td>33.1</td>\n",
       "      <td>63.275836</td>\n",
       "      <td>0.013357</td>\n",
       "      <td>2274459.0</td>\n",
       "      <td>2251060.0</td>\n",
       "      <td>0.845207</td>\n",
       "    </tr>\n",
       "    <tr>\n",
       "      <th>...</th>\n",
       "      <td>...</td>\n",
       "      <td>...</td>\n",
       "      <td>...</td>\n",
       "      <td>...</td>\n",
       "      <td>...</td>\n",
       "      <td>...</td>\n",
       "      <td>...</td>\n",
       "      <td>...</td>\n",
       "      <td>...</td>\n",
       "      <td>...</td>\n",
       "      <td>...</td>\n",
       "      <td>...</td>\n",
       "    </tr>\n",
       "    <tr>\n",
       "      <th>365</th>\n",
       "      <td>Hinsdale County</td>\n",
       "      <td>CO</td>\n",
       "      <td>15</td>\n",
       "      <td>N</td>\n",
       "      <td>820.0</td>\n",
       "      <td>53056.0</td>\n",
       "      <td>57.2</td>\n",
       "      <td>18.292683</td>\n",
       "      <td>0.000000</td>\n",
       "      <td>436.0</td>\n",
       "      <td>384.0</td>\n",
       "      <td>0.000000</td>\n",
       "    </tr>\n",
       "    <tr>\n",
       "      <th>1678</th>\n",
       "      <td>Petroleum County</td>\n",
       "      <td>MT</td>\n",
       "      <td>11</td>\n",
       "      <td>Y</td>\n",
       "      <td>453.0</td>\n",
       "      <td>46429.0</td>\n",
       "      <td>51.7</td>\n",
       "      <td>24.282561</td>\n",
       "      <td>0.090909</td>\n",
       "      <td>218.0</td>\n",
       "      <td>235.0</td>\n",
       "      <td>2.207506</td>\n",
       "    </tr>\n",
       "    <tr>\n",
       "      <th>2543</th>\n",
       "      <td>King County</td>\n",
       "      <td>TX</td>\n",
       "      <td>11</td>\n",
       "      <td>N</td>\n",
       "      <td>289.0</td>\n",
       "      <td>56964.0</td>\n",
       "      <td>32.7</td>\n",
       "      <td>38.062284</td>\n",
       "      <td>0.000000</td>\n",
       "      <td>139.0</td>\n",
       "      <td>150.0</td>\n",
       "      <td>0.000000</td>\n",
       "    </tr>\n",
       "    <tr>\n",
       "      <th>1981</th>\n",
       "      <td>Harding County</td>\n",
       "      <td>NM</td>\n",
       "      <td>8</td>\n",
       "      <td>N</td>\n",
       "      <td>546.0</td>\n",
       "      <td>35096.0</td>\n",
       "      <td>58.4</td>\n",
       "      <td>14.652015</td>\n",
       "      <td>0.000000</td>\n",
       "      <td>255.0</td>\n",
       "      <td>291.0</td>\n",
       "      <td>0.000000</td>\n",
       "    </tr>\n",
       "    <tr>\n",
       "      <th>2551</th>\n",
       "      <td>Loving County</td>\n",
       "      <td>TX</td>\n",
       "      <td>1</td>\n",
       "      <td>N</td>\n",
       "      <td>74.0</td>\n",
       "      <td>80938.0</td>\n",
       "      <td>57.5</td>\n",
       "      <td>13.513514</td>\n",
       "      <td>0.000000</td>\n",
       "      <td>35.0</td>\n",
       "      <td>39.0</td>\n",
       "      <td>0.000000</td>\n",
       "    </tr>\n",
       "  </tbody>\n",
       "</table>\n",
       "<p>3139 rows × 12 columns</p>\n",
       "</div>"
      ],
      "text/plain": [
       "             county_name state  confirmed_cases deaths   total_pop  \\\n",
       "287   Los Angeles County    CA          1002614      N  10105722.0   \n",
       "832          Cook County    IL           435888      N   5238541.0   \n",
       "245      Maricopa County    AZ           425844      N   4155501.0   \n",
       "430    Miami-Dade County    FL           347965      N   2702602.0   \n",
       "2782       Harris County    TX           286356      N   4525519.0   \n",
       "...                  ...   ...              ...    ...         ...   \n",
       "365      Hinsdale County    CO               15      N       820.0   \n",
       "1678    Petroleum County    MT               11      Y       453.0   \n",
       "2543         King County    TX               11      N       289.0   \n",
       "1981      Harding County    NM                8      N       546.0   \n",
       "2551       Loving County    TX                1      N        74.0   \n",
       "\n",
       "      median_income  median_age  cases_per_1000  death_per_case  female_pop  \\\n",
       "287         61015.0        36.0       99.212506        0.013900   5126081.0   \n",
       "832         59426.0        36.4       83.207901        0.019601   2697837.0   \n",
       "245         58580.0        36.0      102.477174        0.015130   2100037.0   \n",
       "430         46338.0        39.5      128.751847        0.013283   1390605.0   \n",
       "2782        57791.0        33.1       63.275836        0.013357   2274459.0   \n",
       "...             ...         ...             ...             ...         ...   \n",
       "365         53056.0        57.2       18.292683        0.000000       436.0   \n",
       "1678        46429.0        51.7       24.282561        0.090909       218.0   \n",
       "2543        56964.0        32.7       38.062284        0.000000       139.0   \n",
       "1981        35096.0        58.4       14.652015        0.000000       255.0   \n",
       "2551        80938.0        57.5       13.513514        0.000000        35.0   \n",
       "\n",
       "       male_pop  deaths_per_1000  \n",
       "287   4979641.0         1.379021  \n",
       "832   2540704.0         1.630988  \n",
       "245   2055464.0         1.550475  \n",
       "430   1311997.0         1.710204  \n",
       "2782  2251060.0         0.845207  \n",
       "...         ...              ...  \n",
       "365       384.0         0.000000  \n",
       "1678      235.0         2.207506  \n",
       "2543      150.0         0.000000  \n",
       "1981      291.0         0.000000  \n",
       "2551       39.0         0.000000  \n",
       "\n",
       "[3139 rows x 12 columns]"
      ]
     },
     "execution_count": 119,
     "metadata": {},
     "output_type": "execute_result"
    }
   ],
   "source": [
    "# Displays updated dataframe with crossed features\n",
    "df_cross"
   ]
  },
  {
   "cell_type": "code",
   "execution_count": 120,
   "id": "d21dea84",
   "metadata": {},
   "outputs": [],
   "source": [
    "# Defines a new dataframe with normalized and labeled features.\n",
    "# Other tasks assigned later require joining columns and then encoding\n",
    "# then, such as when using feature crossing.\n",
    "df_processed = df_cross.copy()"
   ]
  },
  {
   "cell_type": "code",
   "execution_count": 121,
   "id": "7d59945f",
   "metadata": {},
   "outputs": [],
   "source": [
    "# Defines the continuous features\n",
    "continuous_features = ['median_age',\n",
    "                       'median_income',\n",
    "                       'confirmed_cases',\n",
    "                       'cases_per_1000',\n",
    "                       'death_per_case',]"
   ]
  },
  {
   "cell_type": "code",
   "execution_count": 122,
   "id": "b91a0365",
   "metadata": {},
   "outputs": [],
   "source": [
    "# Normalize the continuous features\n",
    "scaler = StandardScaler()\n",
    "for column in continuous_features:\n",
    "    xfrm_column = scaler.fit_transform(df_processed[[column]])\n",
    "    df_processed[column] = xfrm_column"
   ]
  },
  {
   "cell_type": "code",
   "execution_count": 123,
   "id": "d632bd76",
   "metadata": {},
   "outputs": [],
   "source": [
    "# Defines the categorical features\n",
    "categorical_features = ['county_name',\n",
    "                        'state']"
   ]
  },
  {
   "cell_type": "code",
   "execution_count": 124,
   "id": "0acc0a66",
   "metadata": {},
   "outputs": [],
   "source": [
    "# Encode the categorical features \n",
    "encoder = LabelEncoder()\n",
    "for column in categorical_features:\n",
    "    xfrm_column = encoder.fit_transform(df_processed[column])\n",
    "    df_processed[column] = xfrm_column"
   ]
  },
  {
   "cell_type": "code",
   "execution_count": 125,
   "id": "abd25026",
   "metadata": {},
   "outputs": [
    {
     "data": {
      "text/html": [
       "<div>\n",
       "<style scoped>\n",
       "    .dataframe tbody tr th:only-of-type {\n",
       "        vertical-align: middle;\n",
       "    }\n",
       "\n",
       "    .dataframe tbody tr th {\n",
       "        vertical-align: top;\n",
       "    }\n",
       "\n",
       "    .dataframe thead th {\n",
       "        text-align: right;\n",
       "    }\n",
       "</style>\n",
       "<table border=\"1\" class=\"dataframe\">\n",
       "  <thead>\n",
       "    <tr style=\"text-align: right;\">\n",
       "      <th></th>\n",
       "      <th>county_name</th>\n",
       "      <th>state</th>\n",
       "      <th>confirmed_cases</th>\n",
       "      <th>total_pop</th>\n",
       "      <th>median_income</th>\n",
       "      <th>median_age</th>\n",
       "      <th>cases_per_1000</th>\n",
       "      <th>death_per_case</th>\n",
       "      <th>female_pop</th>\n",
       "      <th>male_pop</th>\n",
       "      <th>deaths_per_1000</th>\n",
       "    </tr>\n",
       "  </thead>\n",
       "  <tbody>\n",
       "    <tr>\n",
       "      <th>count</th>\n",
       "      <td>3139.00</td>\n",
       "      <td>3139.00</td>\n",
       "      <td>3139.00</td>\n",
       "      <td>3139.00</td>\n",
       "      <td>3139.00</td>\n",
       "      <td>3139.00</td>\n",
       "      <td>3139.00</td>\n",
       "      <td>3139.00</td>\n",
       "      <td>3139.00</td>\n",
       "      <td>3139.00</td>\n",
       "      <td>3139.00</td>\n",
       "    </tr>\n",
       "    <tr>\n",
       "      <th>mean</th>\n",
       "      <td>937.94</td>\n",
       "      <td>26.04</td>\n",
       "      <td>-0.00</td>\n",
       "      <td>102262.73</td>\n",
       "      <td>-0.00</td>\n",
       "      <td>-0.00</td>\n",
       "      <td>-0.00</td>\n",
       "      <td>0.00</td>\n",
       "      <td>51922.56</td>\n",
       "      <td>50340.18</td>\n",
       "      <td>1.34</td>\n",
       "    </tr>\n",
       "    <tr>\n",
       "      <th>std</th>\n",
       "      <td>526.21</td>\n",
       "      <td>14.18</td>\n",
       "      <td>1.00</td>\n",
       "      <td>328434.05</td>\n",
       "      <td>1.00</td>\n",
       "      <td>1.00</td>\n",
       "      <td>1.00</td>\n",
       "      <td>1.00</td>\n",
       "      <td>167217.54</td>\n",
       "      <td>161254.58</td>\n",
       "      <td>0.92</td>\n",
       "    </tr>\n",
       "    <tr>\n",
       "      <th>min</th>\n",
       "      <td>0.00</td>\n",
       "      <td>0.00</td>\n",
       "      <td>-0.27</td>\n",
       "      <td>74.00</td>\n",
       "      <td>-2.32</td>\n",
       "      <td>-3.64</td>\n",
       "      <td>-2.61</td>\n",
       "      <td>-1.58</td>\n",
       "      <td>35.00</td>\n",
       "      <td>39.00</td>\n",
       "      <td>0.00</td>\n",
       "    </tr>\n",
       "    <tr>\n",
       "      <th>25%</th>\n",
       "      <td>489.50</td>\n",
       "      <td>14.00</td>\n",
       "      <td>-0.24</td>\n",
       "      <td>10971.00</td>\n",
       "      <td>-0.66</td>\n",
       "      <td>-0.60</td>\n",
       "      <td>-0.64</td>\n",
       "      <td>-0.65</td>\n",
       "      <td>5478.50</td>\n",
       "      <td>5523.00</td>\n",
       "      <td>0.68</td>\n",
       "    </tr>\n",
       "    <tr>\n",
       "      <th>50%</th>\n",
       "      <td>939.00</td>\n",
       "      <td>25.00</td>\n",
       "      <td>-0.20</td>\n",
       "      <td>25714.00</td>\n",
       "      <td>-0.13</td>\n",
       "      <td>0.01</td>\n",
       "      <td>-0.05</td>\n",
       "      <td>-0.19</td>\n",
       "      <td>12887.00</td>\n",
       "      <td>12813.00</td>\n",
       "      <td>1.19</td>\n",
       "    </tr>\n",
       "    <tr>\n",
       "      <th>75%</th>\n",
       "      <td>1376.00</td>\n",
       "      <td>40.00</td>\n",
       "      <td>-0.09</td>\n",
       "      <td>67524.50</td>\n",
       "      <td>0.46</td>\n",
       "      <td>0.57</td>\n",
       "      <td>0.57</td>\n",
       "      <td>0.48</td>\n",
       "      <td>34115.00</td>\n",
       "      <td>33537.00</td>\n",
       "      <td>1.75</td>\n",
       "    </tr>\n",
       "    <tr>\n",
       "      <th>max</th>\n",
       "      <td>1874.00</td>\n",
       "      <td>50.00</td>\n",
       "      <td>35.40</td>\n",
       "      <td>10105722.00</td>\n",
       "      <td>6.08</td>\n",
       "      <td>4.70</td>\n",
       "      <td>8.40</td>\n",
       "      <td>14.73</td>\n",
       "      <td>5126081.00</td>\n",
       "      <td>4979641.00</td>\n",
       "      <td>8.36</td>\n",
       "    </tr>\n",
       "  </tbody>\n",
       "</table>\n",
       "</div>"
      ],
      "text/plain": [
       "       county_name    state  confirmed_cases    total_pop  median_income  \\\n",
       "count      3139.00  3139.00          3139.00      3139.00        3139.00   \n",
       "mean        937.94    26.04            -0.00    102262.73          -0.00   \n",
       "std         526.21    14.18             1.00    328434.05           1.00   \n",
       "min           0.00     0.00            -0.27        74.00          -2.32   \n",
       "25%         489.50    14.00            -0.24     10971.00          -0.66   \n",
       "50%         939.00    25.00            -0.20     25714.00          -0.13   \n",
       "75%        1376.00    40.00            -0.09     67524.50           0.46   \n",
       "max        1874.00    50.00            35.40  10105722.00           6.08   \n",
       "\n",
       "       median_age  cases_per_1000  death_per_case  female_pop    male_pop  \\\n",
       "count     3139.00         3139.00         3139.00     3139.00     3139.00   \n",
       "mean        -0.00           -0.00            0.00    51922.56    50340.18   \n",
       "std          1.00            1.00            1.00   167217.54   161254.58   \n",
       "min         -3.64           -2.61           -1.58       35.00       39.00   \n",
       "25%         -0.60           -0.64           -0.65     5478.50     5523.00   \n",
       "50%          0.01           -0.05           -0.19    12887.00    12813.00   \n",
       "75%          0.57            0.57            0.48    34115.00    33537.00   \n",
       "max          4.70            8.40           14.73  5126081.00  4979641.00   \n",
       "\n",
       "       deaths_per_1000  \n",
       "count          3139.00  \n",
       "mean              1.34  \n",
       "std               0.92  \n",
       "min               0.00  \n",
       "25%               0.68  \n",
       "50%               1.19  \n",
       "75%               1.75  \n",
       "max               8.36  "
      ]
     },
     "execution_count": 125,
     "metadata": {},
     "output_type": "execute_result"
    }
   ],
   "source": [
    "# Describe dataframe after normalization and label encoding.\n",
    "df_processed.describe().round(2)"
   ]
  },
  {
   "cell_type": "code",
   "execution_count": 126,
   "id": "a5d7d741",
   "metadata": {},
   "outputs": [
    {
     "data": {
      "text/markdown": [
       "### NA/NaN/Missing Data Counts\n",
       "| Feature | Missing Count |\n",
       "|---------|---------------|\n",
       "| county_name | 0 |\n",
       "| state | 0 |\n",
       "| confirmed_cases | 0 |\n",
       "| deaths | 0 |\n",
       "| total_pop | 0 |\n",
       "| median_income | 0 |\n",
       "| median_age | 0 |\n",
       "| cases_per_1000 | 0 |\n",
       "| death_per_case | 0 |\n",
       "| female_pop | 0 |\n",
       "| male_pop | 0 |\n",
       "| deaths_per_1000 | 0 |"
      ],
      "text/plain": [
       "<IPython.core.display.Markdown object>"
      ]
     },
     "metadata": {},
     "output_type": "display_data"
    }
   ],
   "source": [
    "# Visualizing any missing values\n",
    "na_counts = df_processed.isna().sum()\n",
    "header = textwrap.dedent(\"\"\"\\\n",
    "    | Feature | Missing Count |\n",
    "    |---------|---------------|\\\n",
    "\"\"\")\n",
    "rows = \"\\n\".join(\"| {} | {} |\".format(col, na_counts[col]) for col in na_counts.index)\n",
    "table = f\"{header}\\n{rows}\"\n",
    "\n",
    "display(Markdown(f\"### NA/NaN/Missing Data Counts\\n{table}\"))"
   ]
  },
  {
   "cell_type": "markdown",
   "id": "01f92d6a",
   "metadata": {},
   "source": [
    "# Managing Data Imbalance"
   ]
  },
  {
   "cell_type": "code",
   "execution_count": 127,
   "id": "59b4a3a2",
   "metadata": {},
   "outputs": [
    {
     "ename": "ValueError",
     "evalue": "'list' argument must have no negative elements",
     "output_type": "error",
     "traceback": [
      "\u001b[1;31m---------------------------------------------------------------------------\u001b[0m",
      "\u001b[1;31mValueError\u001b[0m                                Traceback (most recent call last)",
      "\u001b[1;32m~\\AppData\\Local\\Temp\\ipykernel_11444\\643237255.py\u001b[0m in \u001b[0;36m<module>\u001b[1;34m\u001b[0m\n\u001b[0;32m      1\u001b[0m \u001b[1;31m# Visualizes deaths_per_case class to check for class imbalance.\u001b[0m\u001b[1;33m\u001b[0m\u001b[1;33m\u001b[0m\u001b[0m\n\u001b[1;32m----> 2\u001b[1;33m \u001b[0mplt\u001b[0m\u001b[1;33m.\u001b[0m\u001b[0mbar\u001b[0m\u001b[1;33m(\u001b[0m\u001b[1;33m[\u001b[0m\u001b[1;36m0\u001b[0m\u001b[1;33m,\u001b[0m \u001b[1;36m1\u001b[0m\u001b[1;33m]\u001b[0m\u001b[1;33m,\u001b[0m \u001b[0mnp\u001b[0m\u001b[1;33m.\u001b[0m\u001b[0mbincount\u001b[0m\u001b[1;33m(\u001b[0m\u001b[0mdf_processed\u001b[0m\u001b[1;33m[\u001b[0m\u001b[1;34m'death_per_case'\u001b[0m\u001b[1;33m]\u001b[0m\u001b[1;33m)\u001b[0m\u001b[1;33m)\u001b[0m\u001b[1;33m\u001b[0m\u001b[1;33m\u001b[0m\u001b[0m\n\u001b[0m\u001b[0;32m      3\u001b[0m \u001b[0mplt\u001b[0m\u001b[1;33m.\u001b[0m\u001b[0mxticks\u001b[0m\u001b[1;33m(\u001b[0m\u001b[1;33m[\u001b[0m\u001b[1;36m0\u001b[0m\u001b[1;33m,\u001b[0m \u001b[1;36m1\u001b[0m\u001b[1;33m]\u001b[0m\u001b[1;33m,\u001b[0m \u001b[1;33m[\u001b[0m\u001b[1;34m'No'\u001b[0m\u001b[1;33m,\u001b[0m \u001b[1;34m'Yes'\u001b[0m\u001b[1;33m]\u001b[0m\u001b[1;33m)\u001b[0m\u001b[1;33m\u001b[0m\u001b[1;33m\u001b[0m\u001b[0m\n\u001b[0;32m      4\u001b[0m \u001b[0mplt\u001b[0m\u001b[1;33m.\u001b[0m\u001b[0mtitle\u001b[0m\u001b[1;33m(\u001b[0m\u001b[1;34m\"Distribution of Death per Case\"\u001b[0m\u001b[1;33m)\u001b[0m\u001b[1;33m\u001b[0m\u001b[1;33m\u001b[0m\u001b[0m\n\u001b[0;32m      5\u001b[0m \u001b[0mplt\u001b[0m\u001b[1;33m.\u001b[0m\u001b[0mshow\u001b[0m\u001b[1;33m(\u001b[0m\u001b[1;33m)\u001b[0m\u001b[1;33m\u001b[0m\u001b[1;33m\u001b[0m\u001b[0m\n",
      "\u001b[1;32m<__array_function__ internals>\u001b[0m in \u001b[0;36mbincount\u001b[1;34m(*args, **kwargs)\u001b[0m\n",
      "\u001b[1;31mValueError\u001b[0m: 'list' argument must have no negative elements"
     ]
    }
   ],
   "source": [
    "# Visualizes deaths_per_case class to check for class imbalance.\n",
    "plt.bar([0, 1], np.bincount(df_processed['death_per_case']))\n",
    "plt.xticks([0, 1], ['No', 'Yes'])\n",
    "plt.title(\"Distribution of Death per Case\")\n",
    "plt.show()"
   ]
  },
  {
   "cell_type": "code",
   "execution_count": 128,
   "id": "3b4a206e",
   "metadata": {},
   "outputs": [
    {
     "ename": "ValueError",
     "evalue": "Unknown label type: 'continuous'",
     "output_type": "error",
     "traceback": [
      "\u001b[1;31m---------------------------------------------------------------------------\u001b[0m",
      "\u001b[1;31mValueError\u001b[0m                                Traceback (most recent call last)",
      "\u001b[1;32m~\\AppData\\Local\\Temp\\ipykernel_11444\\1159907638.py\u001b[0m in \u001b[0;36m<module>\u001b[1;34m\u001b[0m\n\u001b[0;32m      3\u001b[0m \u001b[0mfeatures\u001b[0m \u001b[1;33m=\u001b[0m \u001b[0mdf_processed\u001b[0m\u001b[1;33m.\u001b[0m\u001b[0mloc\u001b[0m\u001b[1;33m[\u001b[0m\u001b[1;33m:\u001b[0m\u001b[1;33m,\u001b[0m \u001b[0mdf_processed\u001b[0m\u001b[1;33m.\u001b[0m\u001b[0mcolumns\u001b[0m \u001b[1;33m!=\u001b[0m \u001b[1;34m'death_per_case'\u001b[0m\u001b[1;33m]\u001b[0m\u001b[1;33m\u001b[0m\u001b[1;33m\u001b[0m\u001b[0m\n\u001b[0;32m      4\u001b[0m \u001b[0mtarget\u001b[0m \u001b[1;33m=\u001b[0m \u001b[0mdf_processed\u001b[0m\u001b[1;33m[\u001b[0m\u001b[1;34m'death_per_case'\u001b[0m\u001b[1;33m]\u001b[0m\u001b[1;33m\u001b[0m\u001b[1;33m\u001b[0m\u001b[0m\n\u001b[1;32m----> 5\u001b[1;33m \u001b[0mfeatures\u001b[0m\u001b[1;33m,\u001b[0m \u001b[0mtarget\u001b[0m \u001b[1;33m=\u001b[0m \u001b[0msmote\u001b[0m\u001b[1;33m.\u001b[0m\u001b[0mfit_resample\u001b[0m\u001b[1;33m(\u001b[0m\u001b[0mfeatures\u001b[0m\u001b[1;33m,\u001b[0m \u001b[0mtarget\u001b[0m\u001b[1;33m)\u001b[0m\u001b[1;33m\u001b[0m\u001b[1;33m\u001b[0m\u001b[0m\n\u001b[0m",
      "\u001b[1;32m~\\anaconda3\\lib\\site-packages\\imblearn\\base.py\u001b[0m in \u001b[0;36mfit_resample\u001b[1;34m(self, X, y)\u001b[0m\n\u001b[0;32m    206\u001b[0m         \"\"\"\n\u001b[0;32m    207\u001b[0m         \u001b[0mself\u001b[0m\u001b[1;33m.\u001b[0m\u001b[0m_validate_params\u001b[0m\u001b[1;33m(\u001b[0m\u001b[1;33m)\u001b[0m\u001b[1;33m\u001b[0m\u001b[1;33m\u001b[0m\u001b[0m\n\u001b[1;32m--> 208\u001b[1;33m         \u001b[1;32mreturn\u001b[0m \u001b[0msuper\u001b[0m\u001b[1;33m(\u001b[0m\u001b[1;33m)\u001b[0m\u001b[1;33m.\u001b[0m\u001b[0mfit_resample\u001b[0m\u001b[1;33m(\u001b[0m\u001b[0mX\u001b[0m\u001b[1;33m,\u001b[0m \u001b[0my\u001b[0m\u001b[1;33m)\u001b[0m\u001b[1;33m\u001b[0m\u001b[1;33m\u001b[0m\u001b[0m\n\u001b[0m\u001b[0;32m    209\u001b[0m \u001b[1;33m\u001b[0m\u001b[0m\n\u001b[0;32m    210\u001b[0m     \u001b[1;32mdef\u001b[0m \u001b[0m_more_tags\u001b[0m\u001b[1;33m(\u001b[0m\u001b[0mself\u001b[0m\u001b[1;33m)\u001b[0m\u001b[1;33m:\u001b[0m\u001b[1;33m\u001b[0m\u001b[1;33m\u001b[0m\u001b[0m\n",
      "\u001b[1;32m~\\anaconda3\\lib\\site-packages\\imblearn\\base.py\u001b[0m in \u001b[0;36mfit_resample\u001b[1;34m(self, X, y)\u001b[0m\n\u001b[0;32m    102\u001b[0m             \u001b[0mThe\u001b[0m \u001b[0mcorresponding\u001b[0m \u001b[0mlabel\u001b[0m \u001b[0mof\u001b[0m\u001b[0;31m \u001b[0m\u001b[0;31m`\u001b[0m\u001b[0mX_resampled\u001b[0m\u001b[0;31m`\u001b[0m\u001b[1;33m.\u001b[0m\u001b[1;33m\u001b[0m\u001b[1;33m\u001b[0m\u001b[0m\n\u001b[0;32m    103\u001b[0m         \"\"\"\n\u001b[1;32m--> 104\u001b[1;33m         \u001b[0mcheck_classification_targets\u001b[0m\u001b[1;33m(\u001b[0m\u001b[0my\u001b[0m\u001b[1;33m)\u001b[0m\u001b[1;33m\u001b[0m\u001b[1;33m\u001b[0m\u001b[0m\n\u001b[0m\u001b[0;32m    105\u001b[0m         \u001b[0marrays_transformer\u001b[0m \u001b[1;33m=\u001b[0m \u001b[0mArraysTransformer\u001b[0m\u001b[1;33m(\u001b[0m\u001b[0mX\u001b[0m\u001b[1;33m,\u001b[0m \u001b[0my\u001b[0m\u001b[1;33m)\u001b[0m\u001b[1;33m\u001b[0m\u001b[1;33m\u001b[0m\u001b[0m\n\u001b[0;32m    106\u001b[0m         \u001b[0mX\u001b[0m\u001b[1;33m,\u001b[0m \u001b[0my\u001b[0m\u001b[1;33m,\u001b[0m \u001b[0mbinarize_y\u001b[0m \u001b[1;33m=\u001b[0m \u001b[0mself\u001b[0m\u001b[1;33m.\u001b[0m\u001b[0m_check_X_y\u001b[0m\u001b[1;33m(\u001b[0m\u001b[0mX\u001b[0m\u001b[1;33m,\u001b[0m \u001b[0my\u001b[0m\u001b[1;33m)\u001b[0m\u001b[1;33m\u001b[0m\u001b[1;33m\u001b[0m\u001b[0m\n",
      "\u001b[1;32m~\\anaconda3\\lib\\site-packages\\sklearn\\utils\\multiclass.py\u001b[0m in \u001b[0;36mcheck_classification_targets\u001b[1;34m(y)\u001b[0m\n\u001b[0;32m    195\u001b[0m         \u001b[1;34m\"multilabel-sequences\"\u001b[0m\u001b[1;33m,\u001b[0m\u001b[1;33m\u001b[0m\u001b[1;33m\u001b[0m\u001b[0m\n\u001b[0;32m    196\u001b[0m     ]:\n\u001b[1;32m--> 197\u001b[1;33m         \u001b[1;32mraise\u001b[0m \u001b[0mValueError\u001b[0m\u001b[1;33m(\u001b[0m\u001b[1;34m\"Unknown label type: %r\"\u001b[0m \u001b[1;33m%\u001b[0m \u001b[0my_type\u001b[0m\u001b[1;33m)\u001b[0m\u001b[1;33m\u001b[0m\u001b[1;33m\u001b[0m\u001b[0m\n\u001b[0m\u001b[0;32m    198\u001b[0m \u001b[1;33m\u001b[0m\u001b[0m\n\u001b[0;32m    199\u001b[0m \u001b[1;33m\u001b[0m\u001b[0m\n",
      "\u001b[1;31mValueError\u001b[0m: Unknown label type: 'continuous'"
     ]
    }
   ],
   "source": [
    "# Returns balanced features and target after using SMOTE resampling to balance the classes.\n",
    "smote = SMOTE(random_state=123)\n",
    "features = df_processed.loc[:, df_processed.columns != 'death_per_case']\n",
    "target = df_processed['death_per_case']\n",
    "features, target = smote.fit_resample(features, target)"
   ]
  },
  {
   "cell_type": "code",
   "execution_count": 129,
   "id": "a1fac575",
   "metadata": {},
   "outputs": [
    {
     "ename": "ValueError",
     "evalue": "'list' argument must have no negative elements",
     "output_type": "error",
     "traceback": [
      "\u001b[1;31m---------------------------------------------------------------------------\u001b[0m",
      "\u001b[1;31mValueError\u001b[0m                                Traceback (most recent call last)",
      "\u001b[1;32m~\\AppData\\Local\\Temp\\ipykernel_11444\\1179957103.py\u001b[0m in \u001b[0;36m<module>\u001b[1;34m\u001b[0m\n\u001b[0;32m      1\u001b[0m \u001b[1;31m# Visualizes balanced death+per+case class after using SMOTE\u001b[0m\u001b[1;33m\u001b[0m\u001b[1;33m\u001b[0m\u001b[0m\n\u001b[1;32m----> 2\u001b[1;33m \u001b[0mplt\u001b[0m\u001b[1;33m.\u001b[0m\u001b[0mbar\u001b[0m\u001b[1;33m(\u001b[0m\u001b[1;33m[\u001b[0m\u001b[1;36m0\u001b[0m\u001b[1;33m,\u001b[0m \u001b[1;36m1\u001b[0m\u001b[1;33m]\u001b[0m\u001b[1;33m,\u001b[0m \u001b[0mnp\u001b[0m\u001b[1;33m.\u001b[0m\u001b[0mbincount\u001b[0m\u001b[1;33m(\u001b[0m\u001b[0mtarget\u001b[0m\u001b[1;33m)\u001b[0m\u001b[1;33m)\u001b[0m\u001b[1;33m\u001b[0m\u001b[1;33m\u001b[0m\u001b[0m\n\u001b[0m\u001b[0;32m      3\u001b[0m \u001b[0mplt\u001b[0m\u001b[1;33m.\u001b[0m\u001b[0mxticks\u001b[0m\u001b[1;33m(\u001b[0m\u001b[1;33m[\u001b[0m\u001b[1;36m0\u001b[0m\u001b[1;33m,\u001b[0m \u001b[1;36m1\u001b[0m\u001b[1;33m]\u001b[0m\u001b[1;33m,\u001b[0m \u001b[1;33m[\u001b[0m\u001b[1;34m'No'\u001b[0m\u001b[1;33m,\u001b[0m \u001b[1;34m'Yes'\u001b[0m\u001b[1;33m]\u001b[0m\u001b[1;33m)\u001b[0m\u001b[1;33m\u001b[0m\u001b[1;33m\u001b[0m\u001b[0m\n\u001b[0;32m      4\u001b[0m \u001b[0mplt\u001b[0m\u001b[1;33m.\u001b[0m\u001b[0mtitle\u001b[0m\u001b[1;33m(\u001b[0m\u001b[1;34m\"Distribution of Death Per Case (After SMOTE)\"\u001b[0m\u001b[1;33m)\u001b[0m\u001b[1;33m\u001b[0m\u001b[1;33m\u001b[0m\u001b[0m\n\u001b[0;32m      5\u001b[0m \u001b[0mplt\u001b[0m\u001b[1;33m.\u001b[0m\u001b[0mshow\u001b[0m\u001b[1;33m(\u001b[0m\u001b[1;33m)\u001b[0m\u001b[1;33m\u001b[0m\u001b[1;33m\u001b[0m\u001b[0m\n",
      "\u001b[1;32m<__array_function__ internals>\u001b[0m in \u001b[0;36mbincount\u001b[1;34m(*args, **kwargs)\u001b[0m\n",
      "\u001b[1;31mValueError\u001b[0m: 'list' argument must have no negative elements"
     ]
    }
   ],
   "source": [
    "# Visualizes balanced death+per+case class after using SMOTE\n",
    "plt.bar([0, 1], np.bincount(target))\n",
    "plt.xticks([0, 1], ['No', 'Yes'])\n",
    "plt.title(\"Distribution of Death Per Case (After SMOTE)\")\n",
    "plt.show()"
   ]
  },
  {
   "cell_type": "code",
   "execution_count": 130,
   "id": "9fa86b26",
   "metadata": {},
   "outputs": [
    {
     "ename": "ValueError",
     "evalue": "The least populated class in y has only 1 member, which is too few. The minimum number of groups for any class cannot be less than 2.",
     "output_type": "error",
     "traceback": [
      "\u001b[1;31m---------------------------------------------------------------------------\u001b[0m",
      "\u001b[1;31mValueError\u001b[0m                                Traceback (most recent call last)",
      "\u001b[1;32m~\\AppData\\Local\\Temp\\ipykernel_11444\\1083747825.py\u001b[0m in \u001b[0;36m<module>\u001b[1;34m\u001b[0m\n\u001b[0;32m      1\u001b[0m \u001b[1;31m# Returns training and testing data splits.\u001b[0m\u001b[1;33m\u001b[0m\u001b[1;33m\u001b[0m\u001b[0m\n\u001b[1;32m----> 2\u001b[1;33m x_train, x_test, y_train, y_test = train_test_split(\n\u001b[0m\u001b[0;32m      3\u001b[0m     \u001b[0mfeatures\u001b[0m\u001b[1;33m,\u001b[0m\u001b[1;33m\u001b[0m\u001b[1;33m\u001b[0m\u001b[0m\n\u001b[0;32m      4\u001b[0m     \u001b[0mtarget\u001b[0m\u001b[1;33m,\u001b[0m\u001b[1;33m\u001b[0m\u001b[1;33m\u001b[0m\u001b[0m\n\u001b[0;32m      5\u001b[0m     \u001b[0mtest_size\u001b[0m\u001b[1;33m=\u001b[0m\u001b[1;36m0.2\u001b[0m\u001b[1;33m,\u001b[0m\u001b[1;33m\u001b[0m\u001b[1;33m\u001b[0m\u001b[0m\n",
      "\u001b[1;32m~\\anaconda3\\lib\\site-packages\\sklearn\\model_selection\\_split.py\u001b[0m in \u001b[0;36mtrain_test_split\u001b[1;34m(test_size, train_size, random_state, shuffle, stratify, *arrays)\u001b[0m\n\u001b[0;32m   2439\u001b[0m         \u001b[0mcv\u001b[0m \u001b[1;33m=\u001b[0m \u001b[0mCVClass\u001b[0m\u001b[1;33m(\u001b[0m\u001b[0mtest_size\u001b[0m\u001b[1;33m=\u001b[0m\u001b[0mn_test\u001b[0m\u001b[1;33m,\u001b[0m \u001b[0mtrain_size\u001b[0m\u001b[1;33m=\u001b[0m\u001b[0mn_train\u001b[0m\u001b[1;33m,\u001b[0m \u001b[0mrandom_state\u001b[0m\u001b[1;33m=\u001b[0m\u001b[0mrandom_state\u001b[0m\u001b[1;33m)\u001b[0m\u001b[1;33m\u001b[0m\u001b[1;33m\u001b[0m\u001b[0m\n\u001b[0;32m   2440\u001b[0m \u001b[1;33m\u001b[0m\u001b[0m\n\u001b[1;32m-> 2441\u001b[1;33m         \u001b[0mtrain\u001b[0m\u001b[1;33m,\u001b[0m \u001b[0mtest\u001b[0m \u001b[1;33m=\u001b[0m \u001b[0mnext\u001b[0m\u001b[1;33m(\u001b[0m\u001b[0mcv\u001b[0m\u001b[1;33m.\u001b[0m\u001b[0msplit\u001b[0m\u001b[1;33m(\u001b[0m\u001b[0mX\u001b[0m\u001b[1;33m=\u001b[0m\u001b[0marrays\u001b[0m\u001b[1;33m[\u001b[0m\u001b[1;36m0\u001b[0m\u001b[1;33m]\u001b[0m\u001b[1;33m,\u001b[0m \u001b[0my\u001b[0m\u001b[1;33m=\u001b[0m\u001b[0mstratify\u001b[0m\u001b[1;33m)\u001b[0m\u001b[1;33m)\u001b[0m\u001b[1;33m\u001b[0m\u001b[1;33m\u001b[0m\u001b[0m\n\u001b[0m\u001b[0;32m   2442\u001b[0m \u001b[1;33m\u001b[0m\u001b[0m\n\u001b[0;32m   2443\u001b[0m     return list(\n",
      "\u001b[1;32m~\\anaconda3\\lib\\site-packages\\sklearn\\model_selection\\_split.py\u001b[0m in \u001b[0;36msplit\u001b[1;34m(self, X, y, groups)\u001b[0m\n\u001b[0;32m   1598\u001b[0m         \"\"\"\n\u001b[0;32m   1599\u001b[0m         \u001b[0mX\u001b[0m\u001b[1;33m,\u001b[0m \u001b[0my\u001b[0m\u001b[1;33m,\u001b[0m \u001b[0mgroups\u001b[0m \u001b[1;33m=\u001b[0m \u001b[0mindexable\u001b[0m\u001b[1;33m(\u001b[0m\u001b[0mX\u001b[0m\u001b[1;33m,\u001b[0m \u001b[0my\u001b[0m\u001b[1;33m,\u001b[0m \u001b[0mgroups\u001b[0m\u001b[1;33m)\u001b[0m\u001b[1;33m\u001b[0m\u001b[1;33m\u001b[0m\u001b[0m\n\u001b[1;32m-> 1600\u001b[1;33m         \u001b[1;32mfor\u001b[0m \u001b[0mtrain\u001b[0m\u001b[1;33m,\u001b[0m \u001b[0mtest\u001b[0m \u001b[1;32min\u001b[0m \u001b[0mself\u001b[0m\u001b[1;33m.\u001b[0m\u001b[0m_iter_indices\u001b[0m\u001b[1;33m(\u001b[0m\u001b[0mX\u001b[0m\u001b[1;33m,\u001b[0m \u001b[0my\u001b[0m\u001b[1;33m,\u001b[0m \u001b[0mgroups\u001b[0m\u001b[1;33m)\u001b[0m\u001b[1;33m:\u001b[0m\u001b[1;33m\u001b[0m\u001b[1;33m\u001b[0m\u001b[0m\n\u001b[0m\u001b[0;32m   1601\u001b[0m             \u001b[1;32myield\u001b[0m \u001b[0mtrain\u001b[0m\u001b[1;33m,\u001b[0m \u001b[0mtest\u001b[0m\u001b[1;33m\u001b[0m\u001b[1;33m\u001b[0m\u001b[0m\n\u001b[0;32m   1602\u001b[0m \u001b[1;33m\u001b[0m\u001b[0m\n",
      "\u001b[1;32m~\\anaconda3\\lib\\site-packages\\sklearn\\model_selection\\_split.py\u001b[0m in \u001b[0;36m_iter_indices\u001b[1;34m(self, X, y, groups)\u001b[0m\n\u001b[0;32m   1938\u001b[0m         \u001b[0mclass_counts\u001b[0m \u001b[1;33m=\u001b[0m \u001b[0mnp\u001b[0m\u001b[1;33m.\u001b[0m\u001b[0mbincount\u001b[0m\u001b[1;33m(\u001b[0m\u001b[0my_indices\u001b[0m\u001b[1;33m)\u001b[0m\u001b[1;33m\u001b[0m\u001b[1;33m\u001b[0m\u001b[0m\n\u001b[0;32m   1939\u001b[0m         \u001b[1;32mif\u001b[0m \u001b[0mnp\u001b[0m\u001b[1;33m.\u001b[0m\u001b[0mmin\u001b[0m\u001b[1;33m(\u001b[0m\u001b[0mclass_counts\u001b[0m\u001b[1;33m)\u001b[0m \u001b[1;33m<\u001b[0m \u001b[1;36m2\u001b[0m\u001b[1;33m:\u001b[0m\u001b[1;33m\u001b[0m\u001b[1;33m\u001b[0m\u001b[0m\n\u001b[1;32m-> 1940\u001b[1;33m             raise ValueError(\n\u001b[0m\u001b[0;32m   1941\u001b[0m                 \u001b[1;34m\"The least populated class in y has only 1\"\u001b[0m\u001b[1;33m\u001b[0m\u001b[1;33m\u001b[0m\u001b[0m\n\u001b[0;32m   1942\u001b[0m                 \u001b[1;34m\" member, which is too few. The minimum\"\u001b[0m\u001b[1;33m\u001b[0m\u001b[1;33m\u001b[0m\u001b[0m\n",
      "\u001b[1;31mValueError\u001b[0m: The least populated class in y has only 1 member, which is too few. The minimum number of groups for any class cannot be less than 2."
     ]
    }
   ],
   "source": [
    "# Returns training and testing data splits.\n",
    "x_train, x_test, y_train, y_test = train_test_split(\n",
    "    features,\n",
    "    target,\n",
    "    test_size=0.2,\n",
    "    stratify=target,\n",
    "    random_state=123,\n",
    ")"
   ]
  },
  {
   "cell_type": "markdown",
   "id": "9d75cadc",
   "metadata": {},
   "source": [
    "# Basic Keras Model w/ Stratification"
   ]
  },
  {
   "cell_type": "code",
   "execution_count": null,
   "id": "30a3454c",
   "metadata": {},
   "outputs": [],
   "source": [
    "# Creates a basic model using logistic regression using the F1-score\n",
    "# as the metric. Since the dataset is relatively small, we used\n",
    "# StratifiedKFold since it performs well under these types of conditions.\n",
    "# This strategy is appropriate since it relates to a real-world\n",
    "# situation. \n",
    "\n",
    "# Selects a model\n",
    "model = LogisticRegression(penalty=\"l2\", random_state=123)\n",
    "\n",
    "# Selects cross validation\n",
    "cross_validation = StratifiedKFold(n_splits=10)\n",
    "\n",
    "# Determines evaluation criteria\n",
    "scorer = make_scorer(f1_score)\n",
    "\n",
    "# Runs model with cross validation\n",
    "scored_model = cross_val_score(\n",
    "    estimator=model,\n",
    "    X=features[continuous_features + categorical_features],\n",
    "    y=target,\n",
    "    cv=cross_validation,\n",
    "    scoring=scorer,\n",
    ")\n",
    "\n",
    "# Plots model\n",
    "plt.bar([str(num + 1) for num in range(len(scored_model))], scored_model)\n",
    "plt.ylim([min(scored_model) - 0.01, max(scored_model) + 0.01])\n",
    "plt.title(f\"F1-Score: {scored_model.mean():.3f} +/- {scored_model.std():.3f}\")\n",
    "plt.show()"
   ]
  },
  {
   "cell_type": "code",
   "execution_count": null,
   "id": "c8d35447",
   "metadata": {},
   "outputs": [],
   "source": [
    "def plot_confusion_matrix(\n",
    "    cm,\n",
    "    target_names,\n",
    "    title=\"Confusion matrix\",\n",
    "    cmap=None,\n",
    "    normalize=True,\n",
    "    class_results: dict = {},\n",
    "):\n",
    "    \"\"\"\n",
    "    Given a sklearn confusion matrix (cm), make a nice plot\n",
    "\n",
    "    Arguments\n",
    "    ---------\n",
    "    cm:           confusion matrix from sklearn.metrics.confusion_matrix\n",
    "\n",
    "    target_names: given classification classes such as [0, 1, 2]\n",
    "                  the class names, for example: ['high', 'medium', 'low']\n",
    "\n",
    "    title:        the text to display at the top of the matrix\n",
    "\n",
    "    cmap:         the gradient of the values displayed from matplotlib.pyplot.cm\n",
    "                  see http://matplotlib.org/examples/color/colormaps_reference.html\n",
    "                  plt.get_cmap('jet') or plt.cm.Blues\n",
    "\n",
    "    normalize:    If False, plot the raw numbers\n",
    "                  If True, plot the proportions\n",
    "\n",
    "    Usage\n",
    "    -----\n",
    "    plot_confusion_matrix(cm           = cm,                  # confusion matrix created by\n",
    "                                                              # sklearn.metrics.confusion_matrix\n",
    "                          normalize    = True,                # show proportions\n",
    "                          target_names = y_labels_vals,       # list of names of the classes\n",
    "                          title        = best_estimator_name) # title of graph\n",
    "\n",
    "    Citiation\n",
    "    ---------\n",
    "    http://scikit-learn.org/stable/auto_examples/model_selection/plot_confusion_matrix.html\n",
    "\n",
    "    \"\"\"\n",
    "    accuracy = np.trace(cm) / float(np.sum(cm))\n",
    "    misclass = 1 - accuracy\n",
    "\n",
    "    if cmap is None:\n",
    "        cmap = plt.get_cmap(\"Blues\")\n",
    "\n",
    "    plt.figure(figsize=(8, 6))\n",
    "    plt.imshow(cm, interpolation=\"nearest\", cmap=cmap)\n",
    "    plt.title(title)\n",
    "    plt.colorbar()\n",
    "\n",
    "    if target_names is not None:\n",
    "        tick_marks = np.arange(len(target_names))\n",
    "        plt.xticks(tick_marks, target_names, rotation=45)\n",
    "        plt.yticks(tick_marks, target_names)\n",
    "\n",
    "    if normalize:\n",
    "        cm = cm.astype(\"float\") / cm.sum(axis=1)[:, np.newaxis]\n",
    "\n",
    "    thresh = cm.max() / 1.5 if normalize else cm.max() / 2\n",
    "    for i, j in itertools.product(range(cm.shape[0]), range(cm.shape[1])):\n",
    "        if normalize:\n",
    "            plt.text(\n",
    "                j,\n",
    "                i,\n",
    "                \"{:0.4f}\".format(cm[i, j]),\n",
    "                horizontalalignment=\"center\",\n",
    "                color=\"white\" if cm[i, j] > thresh else \"black\",\n",
    "            )\n",
    "        else:\n",
    "            plt.text(\n",
    "                j,\n",
    "                i,\n",
    "                \"{:,}\".format(cm[i, j]),\n",
    "                horizontalalignment=\"center\",\n",
    "                color=\"white\" if cm[i, j] > thresh else \"black\",\n",
    "            )\n",
    "\n",
    "    plt.tight_layout()\n",
    "    plt.ylabel(\"True label\")\n",
    "    if class_results:\n",
    "        x_lab = \"Predicted label\\n\\n\"\n",
    "        x_lab += f\"accuracy={accuracy:0.4f}\\nmisclass={misclass:0.4f}\\n\"\n",
    "        for key, value in class_results.items():\n",
    "            x_lab += f\"{key}={value:0.4f}\\n\"\n",
    "    else:\n",
    "        x_lab = \"Predicted label\\n\\n\"\n",
    "        x_lab += f\"accuracy={accuracy:0.4f}\\nmisclass={misclass:0.4f}\\n\"\n",
    "        \n",
    "    plt.xlabel(x_lab)\n",
    "    plt.show()"
   ]
  },
  {
   "cell_type": "code",
   "execution_count": null,
   "id": "54b8e0c5",
   "metadata": {},
   "outputs": [],
   "source": [
    "# Begin by creating a simple keras model first. In doing so, we can get a\n",
    "# sense for how the model might perform.\n",
    "\n",
    "# Defines the training data to be used for constructing the model\n",
    "x_train_for_model = x_train[categorical_features + continuous_features] \n",
    "x_test_for_model = x_test[categorical_features + continuous_features]"
   ]
  },
  {
   "cell_type": "code",
   "execution_count": null,
   "id": "cfdfa9ff",
   "metadata": {},
   "outputs": [],
   "source": [
    "# Setup the input size\n",
    "n_features = x_train_for_model.shape[1]\n",
    "input_tensor = Input(shape=(n_features,))"
   ]
  },
  {
   "cell_type": "code",
   "execution_count": null,
   "id": "6288fbb5",
   "metadata": {},
   "outputs": [],
   "source": [
    "# Creates dense layers. Dense means a fully connected layer. A layer\n",
    "# is callable on a tensor.\n",
    "x = Dense(units=10, activation=\"relu\")(input_tensor)\n",
    "x = Dense(units=5, activation=\"tanh\")(x)\n",
    "predictions = Dense(1, activation=\"sigmoid\")(x)"
   ]
  },
  {
   "cell_type": "code",
   "execution_count": null,
   "id": "e39477da",
   "metadata": {},
   "outputs": [],
   "source": [
    "# Creates a model with 1 Input layer and 3 Dense layers\n",
    "model = Model(inputs=input_tensor, outputs=predictions)"
   ]
  },
  {
   "cell_type": "code",
   "execution_count": null,
   "id": "48501c5e",
   "metadata": {},
   "outputs": [],
   "source": [
    "# Compiles the model\n",
    "model.compile(\n",
    "    optimizer=\"adam\",\n",
    "    loss=\"mean_squared_error\",\n",
    "    metrics=[tf.keras.metrics.Recall()],\n",
    ")"
   ]
  },
  {
   "cell_type": "code",
   "execution_count": null,
   "id": "bbd6caf5",
   "metadata": {},
   "outputs": [],
   "source": [
    "# Prints model summary\n",
    "model.summary()"
   ]
  },
  {
   "cell_type": "code",
   "execution_count": null,
   "id": "23f1197c",
   "metadata": {},
   "outputs": [],
   "source": [
    "# Fits model to training data\n",
    "model.fit(x_train_for_model, y_train, epochs=10, batch_size=50, verbose=1)"
   ]
  },
  {
   "cell_type": "code",
   "execution_count": null,
   "id": "a3bc189a",
   "metadata": {},
   "outputs": [],
   "source": [
    "y_predict_proba = model.predict(x_test_for_model)  # sigmoid output probabilities\n",
    "y_predict = np.round(y_predict_proba)  # round to get binary class"
   ]
  },
  {
   "cell_type": "code",
   "execution_count": null,
   "id": "2243fb07",
   "metadata": {},
   "outputs": [],
   "source": [
    "# Prints classification report\n",
    "print(classification_report(y_test, y_predict))"
   ]
  },
  {
   "cell_type": "code",
   "execution_count": null,
   "id": "3f197936",
   "metadata": {},
   "outputs": [],
   "source": [
    "# Plots the confusion matrix\n",
    "class_report = classification_report(y_test, y_predict, output_dict=True)\n",
    "plot_confusion_matrix(\n",
    "    confusion_matrix(y_test, y_predict),\n",
    "    [\"No Heart Disease\", \"Heart Disease\"],\n",
    "    normalize=False,\n",
    "    class_results = class_report['weighted avg']\n",
    ")"
   ]
  },
  {
   "cell_type": "code",
   "execution_count": null,
   "id": "f4335150",
   "metadata": {},
   "outputs": [],
   "source": [
    "# Plots the graph\n",
    "plot_model(\n",
    "    model,\n",
    "    to_file=\"model.png\",\n",
    "    show_shapes=True,\n",
    "    show_layer_names=True,\n",
    "    rankdir=\"LR\",\n",
    "    expand_nested=False,\n",
    "    dpi=96,\n",
    ")"
   ]
  },
  {
   "cell_type": "markdown",
   "id": "8882ff3a",
   "metadata": {},
   "source": [
    "# Wide and Deep Network #1"
   ]
  },
  {
   "cell_type": "code",
   "execution_count": null,
   "id": "8af327f3",
   "metadata": {},
   "outputs": [],
   "source": [
    "# Wide and Deep Network #1\n",
    "\n",
    "# Step 1: Define data that will be used. Data is converted into numpy format.\n",
    "\n",
    "# x training data for model\n",
    "mod_x_train_cross = x_train[x_col_features[:2]].to_numpy()\n",
    "mod_x_train_categorical = x_train[categorical_features].to_numpy()\n",
    "mod_x_train_continuous = x_train[continuous_features].to_numpy()\n",
    "\n",
    "# x testing data for model\n",
    "mod_x_test_cross = x_test[x_col_features[:2]].to_numpy()\n",
    "mod_x_test_categorical = x_test[categorical_features].to_numpy()\n",
    "mod_x_test_continuous = x_test[continuous_features].to_numpy()\n",
    "\n",
    "# Defines final x-train and x-test variables after all layers have been\n",
    "# evaluated.\n",
    "mod_x_train = (\n",
    "    [mod_x_train_cross] + [mod_x_train_categorical] + [mod_x_train_continuous]\n",
    ")\n",
    "mod_x_test = (\n",
    "    [mod_x_test_cross] + [mod_x_test_categorical] + [mod_x_test_continuous]\n",
    ")"
   ]
  },
  {
   "cell_type": "code",
   "execution_count": null,
   "id": "e691248f",
   "metadata": {},
   "outputs": [],
   "source": [
    "# Step 2: Define the inputs that will be used\n",
    "input_cross = Input(\n",
    "    shape=(mod_x_train_cross.shape[1],), dtype=\"int64\", name=\"inputs_wide\"\n",
    ")\n",
    "input_categorical = Input(\n",
    "    shape=(mod_x_train_categorical.shape[1],),\n",
    "    dtype=\"int64\",\n",
    "    name=\"inputs_categorical\",\n",
    ")\n",
    "input_continuous = Input(\n",
    "    shape=(mod_x_train_continuous.shape[1],),\n",
    "    dtype=\"int64\",\n",
    "    name=\"inputs_numeric\",\n",
    ")"
   ]
  },
  {
   "cell_type": "code",
   "execution_count": null,
   "id": "7b35f3a0",
   "metadata": {},
   "outputs": [],
   "source": [
    "# Step 3: Define placeholder variables for data input\n",
    "\n",
    "# Defines outputs\n",
    "output_cross = []\n",
    "output_categorical = []\n",
    "output_continuous = []\n",
    "\n",
    "# Defines branches\n",
    "branch_wide = []\n",
    "branch_deep = []\n",
    "branch_final = []"
   ]
  },
  {
   "cell_type": "code",
   "execution_count": null,
   "id": "c7cdd78a",
   "metadata": {},
   "outputs": [],
   "source": [
    "# Step 4: Add embeddings for crossed data\n",
    "\n",
    "# For cross data embeddings...\n",
    "tmp_train = mod_x_train_cross.T.tolist()\n",
    "tmp_test = mod_x_test_cross.T.tolist()\n",
    "tmp_colnames = x_col_features[: mod_x_train_cross.shape[1]]\n",
    "\n",
    "# Iterates through cross variables\n",
    "for i, (col, train_col, test_col) in enumerate(\n",
    "    zip(tmp_colnames, tmp_train, tmp_test)\n",
    "):\n",
    "    # Determines max number of categories for training and testing column.\n",
    "    n_categories_train = max(train_col)\n",
    "    n_categories_test = max(test_col)\n",
    "\n",
    "    # Assigns maximum value (e.g., number of categories)\n",
    "    n_categories = max(n_categories_train, n_categories_test) + 1\n",
    "\n",
    "    # Equivalent to branch_input[:, idx]\n",
    "    x = tf.gather(input_cross, i, axis=1)\n",
    "\n",
    "    # Equivalent to dealing with one-hot encoded integers via Embeddings\n",
    "    embedding = Embedding(\n",
    "        input_dim=n_categories,\n",
    "        output_dim=int(np.sqrt(n_categories)),\n",
    "        input_length=1,\n",
    "        name=f\"{col}_embed\",\n",
    "    )(x)\n",
    "\n",
    "    # Save output to list\n",
    "    output_cross.append(embedding)"
   ]
  },
  {
   "cell_type": "code",
   "execution_count": null,
   "id": "9ef499b4",
   "metadata": {},
   "outputs": [],
   "source": [
    "# Step 5: Add embeddings for categorical data\n",
    "\n",
    "# For categorical embeddings...\n",
    "tmp_train = mod_x_train_categorical.T.tolist()\n",
    "tmp_test = mod_x_test_categorical.T.tolist()\n",
    "tmp_colnames = categorical_features\n",
    "\n",
    "# Iterates through categorical variables\n",
    "for i, (col, train_col, test_col) in enumerate(\n",
    "    zip(tmp_colnames, tmp_train, tmp_test)\n",
    "):\n",
    "    # Determines max number of categories for training and testing column.\n",
    "    n_categories_train = max(train_col)\n",
    "    n_categories_test = max(test_col)\n",
    "\n",
    "    # Assigns maximum value (e.g., number of categories)\n",
    "    n_categories = max(n_categories_train, n_categories_test) + 1\n",
    "\n",
    "    # Equivalent to branch_input[:, idx]\n",
    "    x = tf.gather(input_categorical, i, axis=1)\n",
    "\n",
    "    # Equivalent to dealing with one-hot encoded integers via Embeddings\n",
    "    embedding = Embedding(\n",
    "        input_dim=n_categories,\n",
    "        output_dim=int(np.sqrt(n_categories)),\n",
    "        input_length=1,\n",
    "        name=f\"{col}_embed\",\n",
    "    )(x)\n",
    "\n",
    "    # Save output to list\n",
    "    output_categorical.append(embedding)"
   ]
  },
  {
   "cell_type": "code",
   "execution_count": null,
   "id": "d4e581fa",
   "metadata": {},
   "outputs": [],
   "source": [
    "# Step 6: Add layers to wide branch\n",
    "wide = []\n",
    "for embedding in output_cross + output_categorical:\n",
    "    wide.append(embedding)\n",
    "branch_wide = keras.layers.concatenate(wide, name=\"wide_concat\")"
   ]
  },
  {
   "cell_type": "code",
   "execution_count": null,
   "id": "18ebfbfb",
   "metadata": {},
   "outputs": [],
   "source": [
    "# Step 7: Add layer for continuous (numeric) data\n",
    "\n",
    "# For continuous features...\n",
    "# Adds dense layer to continuous input\n",
    "x_dense = Dense(units=20, activation=\"relu\", name=\"num_1\")(input_continuous)"
   ]
  },
  {
   "cell_type": "code",
   "execution_count": null,
   "id": "3addc120",
   "metadata": {},
   "outputs": [],
   "source": [
    "# Step 8: Add dense layer to deep branch\n",
    "branch_deep.append(x_dense)"
   ]
  },
  {
   "cell_type": "code",
   "execution_count": null,
   "id": "480bd7c1",
   "metadata": {},
   "outputs": [],
   "source": [
    "# Step 9: Merge the deep branch layers\n",
    "branch_deep = keras.layers.concatenate(branch_deep, name=\"deep_concat\")\n",
    "branch_deep = Dense(units=50, activation=\"relu\", name=\"deep1\")(branch_deep)\n",
    "branch_deep = Dense(units=30, activation=\"relu\", name=\"deep2\")(branch_deep)\n",
    "branch_deep = Dense(units=20, activation=\"relu\", name=\"deep3\")(branch_deep)\n",
    "branch_deep = Dense(units=10, activation=\"relu\", name=\"deep4\")(branch_deep)\n",
    "branch_deep = Dense(units=5, activation=\"relu\", name=\"deep5\")(branch_deep)"
   ]
  },
  {
   "cell_type": "code",
   "execution_count": null,
   "id": "3ec4a443",
   "metadata": {},
   "outputs": [],
   "source": [
    "# Step 10: Merge the deep and wide branches\n",
    "branch_final = keras.layers.concatenate([branch_wide, branch_deep])"
   ]
  },
  {
   "cell_type": "code",
   "execution_count": null,
   "id": "46c6a227",
   "metadata": {},
   "outputs": [],
   "source": [
    "# Step 11: Add dense layer to final branch\n",
    "branch_final = Dense(units=1, activation=\"sigmoid\", name=\"combined\")(\n",
    "    branch_final\n",
    ")"
   ]
  },
  {
   "cell_type": "code",
   "execution_count": null,
   "id": "e320e67a",
   "metadata": {},
   "outputs": [],
   "source": [
    "# Step 12: Build model\n",
    "model = Model(\n",
    "    inputs=[input_cross, input_categorical, input_continuous],\n",
    "    outputs=branch_final,\n",
    ")"
   ]
  },
  {
   "cell_type": "code",
   "execution_count": null,
   "id": "0d5a7890",
   "metadata": {},
   "outputs": [],
   "source": [
    "# Step 13: Compile model\n",
    "model.compile(\n",
    "    optimizer=\"adam\",\n",
    "    loss=\"mean_squared_error\",\n",
    "    metrics=[tf.keras.metrics.Recall(), tf.keras.metrics.AUC(from_logits=True)],\n",
    ")"
   ]
  },
  {
   "cell_type": "code",
   "execution_count": null,
   "id": "d1cf112d",
   "metadata": {},
   "outputs": [],
   "source": [
    "# Prints the model summary\n",
    "model.summary()"
   ]
  },
  {
   "cell_type": "code",
   "execution_count": null,
   "id": "fa319870",
   "metadata": {},
   "outputs": [],
   "source": [
    "# Step 14: Fits model to training data\n",
    "model_history = model.fit(\n",
    "    mod_x_train,\n",
    "    y_train,\n",
    "    epochs=50,\n",
    "    batch_size=50,\n",
    "    validation_data=([mod_x_test], y_test),\n",
    "    verbose=1,\n",
    ")"
   ]
  },
  {
   "cell_type": "code",
   "execution_count": null,
   "id": "cc671587",
   "metadata": {},
   "outputs": [],
   "source": [
    "# Defines the y-prediction probability and y-prediction arrays\n",
    "y_predict_proba = model.predict(mod_x_test)  # sigmoid output probabilities\n",
    "y_predict = np.round(y_predict_proba)  # round to get binary class\n",
    "\n",
    "# Prints classification report\n",
    "print(classification_report(y_test, y_predict))"
   ]
  },
  {
   "cell_type": "code",
   "execution_count": null,
   "id": "03734411",
   "metadata": {},
   "outputs": [],
   "source": [
    "# Plots the confusion matrix\n",
    "class_report = classification_report(y_test, y_predict, output_dict=True)\n",
    "plot_confusion_matrix(\n",
    "    confusion_matrix(y_test, y_predict),\n",
    "    [\"No Heart Disease\", \"Heart Disease\"],\n",
    "    normalize=False,\n",
    "    class_results=class_report[\"weighted avg\"],\n",
    ")"
   ]
  },
  {
   "cell_type": "code",
   "execution_count": null,
   "id": "1b5f26d0",
   "metadata": {},
   "outputs": [],
   "source": [
    "# Plots the graph\n",
    "plot_model(\n",
    "    model,\n",
    "    to_file=\"model.png\",\n",
    "    show_shapes=True,\n",
    "    show_layer_names=True,\n",
    "    rankdir=\"LR\",\n",
    "    expand_nested=False,\n",
    "    dpi=96,\n",
    ")"
   ]
  },
  {
   "cell_type": "code",
   "execution_count": null,
   "id": "d83c9545",
   "metadata": {},
   "outputs": [],
   "source": [
    "# Variables for determining the loss over epochs\n",
    "epochs = model_history.epoch\n",
    "loss = model_history.history[\"loss\"]\n",
    "\n",
    "# Plots the loss graph\n",
    "plt.plot(epochs, loss)\n",
    "plt.ylabel(\"Cost\")\n",
    "plt.xlabel(\"Epochs\")\n",
    "plt.title(\"Loss\")\n",
    "\n",
    "plt.tight_layout()\n",
    "\n",
    "plt.show()"
   ]
  },
  {
   "cell_type": "code",
   "execution_count": null,
   "id": "c0924d05",
   "metadata": {},
   "outputs": [],
   "source": [
    "# Variables for determining the ROC/AUC\n",
    "fpr, tpr, threshold = roc_curve(y_test, y_predict_proba)\n",
    "roc_auc = auc(fpr, tpr)\n",
    "\n",
    "# Plots the ROC and AUC graph\n",
    "plt.title(\"Receiver Operating Characteristic\")\n",
    "plt.plot(fpr, tpr, \"b\", label=\"AUC = %0.2f\" % roc_auc)\n",
    "plt.legend(loc=\"lower right\")\n",
    "plt.plot([0, 1], [0, 1], \"r--\")\n",
    "plt.xlim([0, 1])\n",
    "plt.ylim([0, 1])\n",
    "plt.ylabel(\"True Positive Rate\")\n",
    "plt.xlabel(\"False Positive Rate\")\n",
    "plt.show()"
   ]
  },
  {
   "cell_type": "code",
   "execution_count": null,
   "id": "fdc21ac8",
   "metadata": {},
   "outputs": [],
   "source": [
    "# Model history values\n",
    "hist_values = list(model_history.history.values())\n",
    "\n",
    "# Variables for plotting the training versus testing\n",
    "train_loss   = hist_values[0]\n",
    "train_recall = hist_values[1]\n",
    "train_auc    = hist_values[2]\n",
    "val_loss     = hist_values[3]\n",
    "val_recall   = hist_values[4]\n",
    "val_auc      = hist_values[5]\n",
    "\n",
    "# Plots the training versus testing graph\n",
    "plt.figure(figsize=(10, 8))\n",
    "plt.subplot(2, 2, (1, 2))\n",
    "plt.plot(train_loss, label=\"Training Loss\")\n",
    "plt.plot(val_loss, label=\"Validation Loss\")\n",
    "plt.xlabel(\"Epochs\")\n",
    "plt.ylabel(\"Loss\")\n",
    "plt.legend()\n",
    "\n",
    "plt.subplot(2, 2, 3)\n",
    "plt.plot(train_recall, label=\"Training Recall\")\n",
    "plt.plot(val_recall, label=\"Validation Recall\")\n",
    "plt.xlabel(\"Epochs\")\n",
    "plt.ylabel(\"Recall\")\n",
    "plt.legend()\n",
    "\n",
    "plt.subplot(2, 2, 4)\n",
    "plt.plot(train_auc, label=\"Training AUC\")\n",
    "plt.plot(val_auc, label=\"Validation AUC\")\n",
    "plt.xlabel(\"Epochs\")\n",
    "plt.ylabel(\"AUC\")\n",
    "plt.legend()\n",
    "\n",
    "plt.tight_layout()\n",
    "\n",
    "plt.show()"
   ]
  },
  {
   "cell_type": "markdown",
   "id": "bfde3c43",
   "metadata": {},
   "source": [
    "# Wide and Deep Network #2"
   ]
  },
  {
   "cell_type": "code",
   "execution_count": null,
   "id": "51ffd008",
   "metadata": {},
   "outputs": [],
   "source": [
    "# Wide and Deep Network #2\n",
    "\n",
    "# Step 1: Define data that will be used. Data is converted into numpy format.\n",
    "\n",
    "# x training data for model\n",
    "mod_x_train_cross = x_train[x_col_features[:3]].to_numpy()\n",
    "mod_x_train_categorical = x_train[categorical_features].to_numpy()\n",
    "mod_x_train_continuous = x_train[continuous_features].to_numpy()\n",
    "\n",
    "# x testing data for model\n",
    "mod_x_test_cross = x_test[x_col_features[:3]].to_numpy()\n",
    "mod_x_test_categorical = x_test[categorical_features].to_numpy()\n",
    "mod_x_test_continuous = x_test[continuous_features].to_numpy()\n",
    "\n",
    "# Defines final x-train and x-test variables after all layers have been\n",
    "# evaluated.\n",
    "mod_x_train = (\n",
    "    [mod_x_train_cross] + [mod_x_train_categorical] + [mod_x_train_continuous]\n",
    ")\n",
    "mod_x_test = (\n",
    "    [mod_x_test_cross] + [mod_x_test_categorical] + [mod_x_test_continuous]\n",
    ")"
   ]
  },
  {
   "cell_type": "code",
   "execution_count": null,
   "id": "69725d7a",
   "metadata": {},
   "outputs": [],
   "source": [
    "# Step 2: Define the inputs that will be used\n",
    "input_cross = Input(\n",
    "    shape=(mod_x_train_cross.shape[1],), dtype=\"int64\", name=\"inputs_wide\"\n",
    ")\n",
    "input_categorical = Input(\n",
    "    shape=(mod_x_train_categorical.shape[1],),\n",
    "    dtype=\"int64\",\n",
    "    name=\"inputs_categorical\",\n",
    ")\n",
    "input_continuous = Input(\n",
    "    shape=(mod_x_train_continuous.shape[1],),\n",
    "    dtype=\"int64\",\n",
    "    name=\"inputs_numeric\",\n",
    ")"
   ]
  },
  {
   "cell_type": "code",
   "execution_count": null,
   "id": "b037e78b",
   "metadata": {},
   "outputs": [],
   "source": [
    "# Step 3: Define placeholder variables for data input\n",
    "\n",
    "# Defines outputs\n",
    "output_cross = []\n",
    "output_categorical = []\n",
    "output_continuous = []\n",
    "\n",
    "# Defines branches\n",
    "branch_wide = []\n",
    "branch_deep = []\n",
    "branch_final = []"
   ]
  },
  {
   "cell_type": "code",
   "execution_count": null,
   "id": "5723235f",
   "metadata": {},
   "outputs": [],
   "source": [
    "# Step 4: Add embeddings for crossed data\n",
    "\n",
    "# For cross data embeddings...\n",
    "tmp_train = mod_x_train_cross.T.tolist()\n",
    "tmp_test = mod_x_test_cross.T.tolist()\n",
    "tmp_colnames = x_col_features[: mod_x_train_cross.shape[1]]\n",
    "\n",
    "# Iterates through cross variables\n",
    "for i, (col, train_col, test_col) in enumerate(\n",
    "    zip(tmp_colnames, tmp_train, tmp_test)\n",
    "):\n",
    "    # Determines max number of categories for training and testing column.\n",
    "    n_categories_train = max(train_col)\n",
    "    n_categories_test = max(test_col)\n",
    "\n",
    "    # Assigns maximum value (e.g., number of categories)\n",
    "    n_categories = max(n_categories_train, n_categories_test) + 1\n",
    "\n",
    "    # Equivalent to branch_input[:, idx]\n",
    "    x = tf.gather(input_cross, i, axis=1)\n",
    "\n",
    "    # Equivalent to dealing with one-hot encoded integers via Embeddings\n",
    "    embedding = Embedding(\n",
    "        input_dim=n_categories,\n",
    "        output_dim=int(np.sqrt(n_categories)),\n",
    "        input_length=1,\n",
    "        name=f\"{col}_embed\",\n",
    "    )(x)\n",
    "\n",
    "    # Save output to list\n",
    "    output_cross.append(embedding)"
   ]
  },
  {
   "cell_type": "code",
   "execution_count": null,
   "id": "f191427c",
   "metadata": {},
   "outputs": [],
   "source": [
    "# Step 5: Add embeddings for categorical data\n",
    "\n",
    "# For categorical embeddings...\n",
    "tmp_train = mod_x_train_categorical.T.tolist()\n",
    "tmp_test = mod_x_test_categorical.T.tolist()\n",
    "tmp_colnames = categorical_features\n",
    "\n",
    "# Iterates through categorical variables\n",
    "for i, (col, train_col, test_col) in enumerate(\n",
    "    zip(tmp_colnames, tmp_train, tmp_test)\n",
    "):\n",
    "    # Determines max number of categories for training and testing column.\n",
    "    n_categories_train = max(train_col)\n",
    "    n_categories_test = max(test_col)\n",
    "\n",
    "    # Assigns maximum value (e.g., number of categories)\n",
    "    n_categories = max(n_categories_train, n_categories_test) + 1\n",
    "\n",
    "    # Equivalent to branch_input[:, idx]\n",
    "    x = tf.gather(input_categorical, i, axis=1)\n",
    "\n",
    "    # Equivalent to dealing with one-hot encoded integers via Embeddings\n",
    "    embedding = Embedding(\n",
    "        input_dim=n_categories,\n",
    "        output_dim=int(np.sqrt(n_categories)),\n",
    "        input_length=1,\n",
    "        name=f\"{col}_embed\",\n",
    "    )(x)\n",
    "\n",
    "    # Save output to list\n",
    "    output_categorical.append(embedding)"
   ]
  },
  {
   "cell_type": "code",
   "execution_count": null,
   "id": "a6f05041",
   "metadata": {},
   "outputs": [],
   "source": [
    "# Step 6: Add embeddings to wide branch\n",
    "wide = []\n",
    "for embedding in output_cross + output_categorical:\n",
    "    wide.append(embedding)\n",
    "branch_wide = keras.layers.concatenate(wide, name=\"wide_concat\")"
   ]
  },
  {
   "cell_type": "code",
   "execution_count": null,
   "id": "832781ad",
   "metadata": {},
   "outputs": [],
   "source": [
    "# Step 7: Add branch for continuous (numeric) data\n",
    "\n",
    "# For continuous features...\n",
    "# Adds dense layer to continuous input\n",
    "x_dense = Dense(units=20, activation=\"relu\", name=\"num_1\")(input_continuous)\n",
    "x_dense = Dense(units=10, activation=\"relu\", name=\"num_2\")(x_dense)\n",
    "x_dense = Dense(units=5, activation=\"relu\", name=\"num_3\")(x_dense)"
   ]
  },
  {
   "cell_type": "code",
   "execution_count": null,
   "id": "ec7c384c",
   "metadata": {},
   "outputs": [],
   "source": [
    "# Step 8: Add dense layer to deep branch\n",
    "branch_deep.append(x_dense)"
   ]
  },
  {
   "cell_type": "code",
   "execution_count": null,
   "id": "1acb6494",
   "metadata": {},
   "outputs": [],
   "source": [
    "# Step 9: Merge the deep branches\n",
    "branch_deep = keras.layers.concatenate(branch_deep, name=\"deep_concat\")\n",
    "branch_deep = Dense(units=50, activation=\"relu\", name=\"deep1\")(branch_deep)\n",
    "branch_deep = Dense(units=25, activation=\"relu\", name=\"deep2\")(branch_deep)\n",
    "branch_deep = Dense(units=10, activation=\"relu\", name=\"deep3\")(branch_deep)"
   ]
  },
  {
   "cell_type": "code",
   "execution_count": null,
   "id": "e3f5ae8c",
   "metadata": {},
   "outputs": [],
   "source": [
    "# Step 10: Merge the deep and wide branches\n",
    "branch_final = keras.layers.concatenate([branch_wide, branch_deep])"
   ]
  },
  {
   "cell_type": "code",
   "execution_count": null,
   "id": "acf2c0b0",
   "metadata": {},
   "outputs": [],
   "source": [
    "# Step 10: Add dense layer to final branch\n",
    "branch_final = Dense(units=1, activation=\"sigmoid\", name=\"combined\")(\n",
    "    branch_final\n",
    ")"
   ]
  },
  {
   "cell_type": "code",
   "execution_count": null,
   "id": "61762b89",
   "metadata": {},
   "outputs": [],
   "source": [
    "# Step 11: Build model\n",
    "model = Model(\n",
    "    inputs=[input_cross, input_categorical, input_continuous],\n",
    "    outputs=branch_final,\n",
    ")"
   ]
  },
  {
   "cell_type": "code",
   "execution_count": null,
   "id": "df29aefd",
   "metadata": {},
   "outputs": [],
   "source": [
    "# Step 12: Compile model\n",
    "model.compile(\n",
    "    optimizer=\"adam\",\n",
    "    loss=\"mean_squared_error\",\n",
    "    metrics=[tf.keras.metrics.Recall(), tf.keras.metrics.AUC(from_logits=True)],\n",
    ")"
   ]
  },
  {
   "cell_type": "code",
   "execution_count": null,
   "id": "5743c157",
   "metadata": {},
   "outputs": [],
   "source": [
    "# Prints the model summary\n",
    "model.summary()"
   ]
  },
  {
   "cell_type": "code",
   "execution_count": null,
   "id": "0f590a04",
   "metadata": {},
   "outputs": [],
   "source": [
    "# Step 13: Fits model to training data\n",
    "model_history = model.fit(\n",
    "    mod_x_train,\n",
    "    y_train,\n",
    "    epochs=50,\n",
    "    batch_size=50,\n",
    "    validation_data=([mod_x_test], y_test),\n",
    "    verbose=1,\n",
    ")"
   ]
  },
  {
   "cell_type": "code",
   "execution_count": null,
   "id": "ed4facb2",
   "metadata": {},
   "outputs": [],
   "source": [
    "# Defines the y-prediction probability and y-prediction arrays\n",
    "y_predict_proba = model.predict(mod_x_test)  # sigmoid output probabilities\n",
    "y_predict = np.round(y_predict_proba)  # round to get binary class\n",
    "\n",
    "# Prints classification report\n",
    "print(classification_report(y_test, y_predict))"
   ]
  },
  {
   "cell_type": "code",
   "execution_count": null,
   "id": "cda361fa",
   "metadata": {},
   "outputs": [],
   "source": [
    "# Plots the confusion matrix\n",
    "class_report = classification_report(y_test, y_predict, output_dict=True)\n",
    "plot_confusion_matrix(\n",
    "    confusion_matrix(y_test, y_predict),\n",
    "    [\"No Heart Disease\", \"Heart Disease\"],\n",
    "    normalize=False,\n",
    "    class_results=class_report[\"weighted avg\"],\n",
    ")"
   ]
  },
  {
   "cell_type": "code",
   "execution_count": null,
   "id": "5ef6581c",
   "metadata": {},
   "outputs": [],
   "source": [
    "# Plots the graph\n",
    "plot_model(\n",
    "    model,\n",
    "    to_file=\"model.png\",\n",
    "    show_shapes=True,\n",
    "    show_layer_names=True,\n",
    "    rankdir=\"LR\",\n",
    "    expand_nested=False,\n",
    "    dpi=96,\n",
    ")"
   ]
  },
  {
   "cell_type": "code",
   "execution_count": null,
   "id": "06c9650f",
   "metadata": {},
   "outputs": [],
   "source": [
    "# Variables for determining the loss over epochs\n",
    "epochs = model_history.epoch\n",
    "loss = model_history.history[\"loss\"]\n",
    "\n",
    "# Plots the loss graph\n",
    "plt.plot(epochs, loss)\n",
    "plt.ylabel(\"Cost\")\n",
    "plt.xlabel(\"Epochs\")\n",
    "plt.title(\"Loss\")\n",
    "\n",
    "plt.tight_layout()\n",
    "\n",
    "plt.show()"
   ]
  },
  {
   "cell_type": "code",
   "execution_count": null,
   "id": "150b6177",
   "metadata": {},
   "outputs": [],
   "source": [
    "# Variables for determining the ROC/AUC\n",
    "fpr, tpr, threshold = roc_curve(y_test, y_predict_proba)\n",
    "roc_auc = auc(fpr, tpr)\n",
    "\n",
    "# Plots the ROC and AUC graph\n",
    "plt.title(\"Receiver Operating Characteristic\")\n",
    "plt.plot(fpr, tpr, \"b\", label=\"AUC = %0.2f\" % roc_auc)\n",
    "plt.legend(loc=\"lower right\")\n",
    "plt.plot([0, 1], [0, 1], \"r--\")\n",
    "plt.xlim([0, 1])\n",
    "plt.ylim([0, 1])\n",
    "plt.ylabel(\"True Positive Rate\")\n",
    "plt.xlabel(\"False Positive Rate\")\n",
    "plt.show()"
   ]
  },
  {
   "cell_type": "code",
   "execution_count": null,
   "id": "188684b9",
   "metadata": {},
   "outputs": [],
   "source": [
    "# Variables for plotting the training versus testing\n",
    "train_loss = list(model_history.history.values())[0]\n",
    "train_recall = list(model_history.history.values())[1]\n",
    "train_auc = list(model_history.history.values())[2]\n",
    "val_loss = list(model_history.history.values())[3]\n",
    "val_recall = list(model_history.history.values())[4]\n",
    "val_auc = list(model_history.history.values())[5]\n",
    "\n",
    "# Plots the training versus testing graph\n",
    "plt.figure(figsize=(10, 8))\n",
    "plt.subplot(2, 2, (1, 2))\n",
    "plt.plot(train_loss, label=\"Training Loss\")\n",
    "plt.plot(val_loss, label=\"Validation Loss\")\n",
    "plt.xlabel(\"Epochs\")\n",
    "plt.ylabel(\"Loss\")\n",
    "plt.legend()\n",
    "\n",
    "plt.subplot(2, 2, 3)\n",
    "plt.plot(train_recall, label=\"Training Recall\")\n",
    "plt.plot(val_recall, label=\"Validation Recall\")\n",
    "plt.xlabel(\"Epochs\")\n",
    "plt.ylabel(\"Recall\")\n",
    "plt.legend()\n",
    "\n",
    "plt.subplot(2, 2, 4)\n",
    "plt.plot(train_auc, label=\"Training AUC\")\n",
    "plt.plot(val_auc, label=\"Validation AUC\")\n",
    "plt.xlabel(\"Epochs\")\n",
    "plt.ylabel(\"AUC\")\n",
    "plt.legend()\n",
    "\n",
    "plt.tight_layout()\n",
    "\n",
    "plt.show()"
   ]
  },
  {
   "cell_type": "markdown",
   "id": "5c5dfc07",
   "metadata": {},
   "source": [
    "# Wide and Deep Network #3"
   ]
  },
  {
   "cell_type": "code",
   "execution_count": null,
   "id": "dcfa6c27",
   "metadata": {},
   "outputs": [],
   "source": [
    "# Wide and Deep Network #3\n",
    "\n",
    "# Step 1: Define data that will be used. Data is converted into numpy format.\n",
    "\n",
    "# For this network, we will add the stacked cross column to the categorical\n",
    "# features to for making the layer wide.\n",
    "\n",
    "# x training data for model\n",
    "mod_x_train_categorical = x_train[\n",
    "    categorical_features + [x_col_features[3]]\n",
    "].to_numpy()\n",
    "mod_x_train_continuous = x_train[continuous_features].to_numpy()\n",
    "\n",
    "# x testing data for model\n",
    "mod_x_test_categorical = x_test[\n",
    "    categorical_features + [x_col_features[3]]\n",
    "].to_numpy()\n",
    "mod_x_test_continuous = x_test[continuous_features].to_numpy()\n",
    "\n",
    "# Defines final x-train and x-test variables after all layers have been\n",
    "# evaluated.\n",
    "mod_x_train = [mod_x_train_categorical] + [mod_x_train_continuous]\n",
    "mod_x_test = [mod_x_test_categorical] + [mod_x_test_continuous]"
   ]
  },
  {
   "cell_type": "code",
   "execution_count": null,
   "id": "6a4b2a9b",
   "metadata": {},
   "outputs": [],
   "source": [
    "# Step 2: Define the inputs that will be used\n",
    "input_categorical = Input(\n",
    "    shape=(mod_x_train_categorical.shape[1],),\n",
    "    dtype=\"int64\",\n",
    "    name=\"inputs_categorical\",\n",
    ")\n",
    "input_continuous = Input(\n",
    "    shape=(mod_x_train_continuous.shape[1],),\n",
    "    dtype=\"int64\",\n",
    "    name=\"inputs_numeric\",\n",
    ")"
   ]
  },
  {
   "cell_type": "code",
   "execution_count": null,
   "id": "2c66ddac",
   "metadata": {},
   "outputs": [],
   "source": [
    "# Step 3: Defines placeholder variables for data input\n",
    "\n",
    "# Defines outputs\n",
    "output_categorical = []\n",
    "output_continuous  = []\n",
    "\n",
    "# Defines branches\n",
    "branch_wide  = []\n",
    "branch_deep  = []\n",
    "branch_final = []"
   ]
  },
  {
   "cell_type": "code",
   "execution_count": null,
   "id": "06a21ddc",
   "metadata": {},
   "outputs": [],
   "source": [
    "# Step 5: Add embeddings for categorical data\n",
    "\n",
    "# For categorical embeddings...\n",
    "tmp_train = mod_x_train_categorical.T.tolist()\n",
    "tmp_test = mod_x_test_categorical.T.tolist()\n",
    "tmp_colnames = categorical_features\n",
    "\n",
    "# Iterates through categorical variables\n",
    "for i, (col, train_col, test_col) in enumerate(\n",
    "    zip(tmp_colnames, tmp_train, tmp_test)\n",
    "):\n",
    "    # Determines max number of categories for training and testing column.\n",
    "    n_categories_train = max(train_col)\n",
    "    n_categories_test = max(test_col)\n",
    "\n",
    "    # Assigns maximum value (e.g., number of categories)\n",
    "    n_categories = max(n_categories_train, n_categories_test) + 1\n",
    "\n",
    "    # Equivalent to branch_input[:, idx]\n",
    "    x = tf.gather(input_categorical, i, axis=1)\n",
    "\n",
    "    # Equivalent to dealing with one-hot encoded integers via Embeddings\n",
    "    embedding = Embedding(\n",
    "        input_dim=n_categories,\n",
    "        output_dim=int(np.sqrt(n_categories)),\n",
    "        input_length=1,\n",
    "        name=f\"{col}_embed\",\n",
    "    )(x)\n",
    "\n",
    "    # Save output to list\n",
    "    output_categorical.append(embedding)"
   ]
  },
  {
   "cell_type": "code",
   "execution_count": null,
   "id": "baf03aca",
   "metadata": {},
   "outputs": [],
   "source": [
    "# Step 6: Add dense layers to categorical input\n",
    "cat_dense = Dense(units=25, activation=\"relu\", name=\"cat_1\")(input_categorical)"
   ]
  },
  {
   "cell_type": "code",
   "execution_count": null,
   "id": "69371914",
   "metadata": {},
   "outputs": [],
   "source": [
    "# Step 7: Add embeddings to wide placeholder \n",
    "wide = []\n",
    "wide.append(cat_dense)\n",
    "for embedding in output_categorical:\n",
    "    wide.append(embedding)"
   ]
  },
  {
   "cell_type": "code",
   "execution_count": null,
   "id": "42c6dece",
   "metadata": {},
   "outputs": [],
   "source": [
    "# Step 8: Add dense layers to wide branch\n",
    "branch_wide = keras.layers.concatenate(wide, name=\"wide_concat\")\n",
    "branch_wide = Dense(units=25, activation=\"relu\", name=\"wide1\")(branch_wide)"
   ]
  },
  {
   "cell_type": "code",
   "execution_count": null,
   "id": "faee7027",
   "metadata": {},
   "outputs": [],
   "source": [
    "# Step 9: Add branch for continuous (numeric) data\n",
    "\n",
    "# For continuous features...\n",
    "# Adds dense layer to continuous input\n",
    "x_dense = Dense(units=20, activation=\"relu\", name=\"num_1\")(input_continuous)\n",
    "x_dense = Dense(units=10, activation=\"relu\", name=\"num_2\")(x_dense)\n",
    "x_dense = Dense(units=5, activation=\"relu\", name=\"num_3\")(x_dense)"
   ]
  },
  {
   "cell_type": "code",
   "execution_count": null,
   "id": "cdf29b11",
   "metadata": {},
   "outputs": [],
   "source": [
    "# Step 10: Add dense layer to deep branch\n",
    "branch_deep.append(x_dense)"
   ]
  },
  {
   "cell_type": "code",
   "execution_count": null,
   "id": "c21aaf50",
   "metadata": {},
   "outputs": [],
   "source": [
    "# Step 11: Merge the deep branches\n",
    "branch_deep = keras.layers.concatenate(branch_deep, name=\"deep_concat\")\n",
    "branch_deep = Dense(units=50, activation=\"relu\", name=\"deep1\")(branch_deep)\n",
    "branch_deep = Dense(units=25, activation=\"relu\", name=\"deep2\")(branch_deep)\n",
    "branch_deep = Dense(units=10, activation=\"relu\", name=\"deep3\")(branch_deep)"
   ]
  },
  {
   "cell_type": "code",
   "execution_count": null,
   "id": "4be3c1fe",
   "metadata": {},
   "outputs": [],
   "source": [
    "# Step 12: Merge the deep and wide branches\n",
    "branch_final = keras.layers.concatenate([branch_wide, branch_deep])"
   ]
  },
  {
   "cell_type": "code",
   "execution_count": null,
   "id": "b369b655",
   "metadata": {},
   "outputs": [],
   "source": [
    "# Step 13: Add dense layer to final branch\n",
    "branch_final = Dense(units=1, activation=\"sigmoid\", name=\"combined\")(\n",
    "    branch_final\n",
    ")"
   ]
  },
  {
   "cell_type": "code",
   "execution_count": null,
   "id": "59c0a39f",
   "metadata": {},
   "outputs": [],
   "source": [
    "# Step 14: Build model\n",
    "model = Model(\n",
    "    inputs=[input_categorical, input_continuous],\n",
    "    outputs=branch_final,\n",
    ")"
   ]
  },
  {
   "cell_type": "code",
   "execution_count": null,
   "id": "240c5831",
   "metadata": {},
   "outputs": [],
   "source": [
    "# Step 15: Compile model\n",
    "model.compile(\n",
    "    optimizer=\"adam\",\n",
    "    loss=\"mean_squared_error\",\n",
    "    metrics=[tf.keras.metrics.Recall(), tf.keras.metrics.AUC(from_logits=True)],\n",
    ")"
   ]
  },
  {
   "cell_type": "code",
   "execution_count": null,
   "id": "c8947e05",
   "metadata": {},
   "outputs": [],
   "source": [
    "# Prints the model summary\n",
    "model.summary()"
   ]
  },
  {
   "cell_type": "code",
   "execution_count": null,
   "id": "909b3084",
   "metadata": {},
   "outputs": [],
   "source": [
    "# Step 16: Fits model to training data\n",
    "model_history = model.fit(\n",
    "    mod_x_train,\n",
    "    y_train,\n",
    "    epochs=50,\n",
    "    batch_size=50,\n",
    "    validation_data=([mod_x_test], y_test),\n",
    "    verbose=1,\n",
    ")"
   ]
  },
  {
   "cell_type": "code",
   "execution_count": null,
   "id": "650d6ecb",
   "metadata": {},
   "outputs": [],
   "source": [
    "# Defines the y-prediction probability and y-prediction arrays\n",
    "y_predict_proba = model.predict(mod_x_test)  # sigmoid output probabilities\n",
    "y_predict = np.round(y_predict_proba)  # round to get binary class\n",
    "\n",
    "# Prints classification report\n",
    "print(classification_report(y_test, y_predict))"
   ]
  },
  {
   "cell_type": "code",
   "execution_count": null,
   "id": "930695ce",
   "metadata": {},
   "outputs": [],
   "source": [
    "# Plots the confusion matrix\n",
    "class_report = classification_report(y_test, y_predict, output_dict=True)\n",
    "plot_confusion_matrix(\n",
    "    confusion_matrix(y_test, y_predict),\n",
    "    [\"No Heart Disease\", \"Heart Disease\"],\n",
    "    normalize=False,\n",
    "    class_results=class_report[\"weighted avg\"],\n",
    ")"
   ]
  },
  {
   "cell_type": "code",
   "execution_count": null,
   "id": "6d1d256d",
   "metadata": {},
   "outputs": [],
   "source": [
    "plot_model(\n",
    "    model,\n",
    "    to_file=\"model.png\",\n",
    "    show_shapes=True,\n",
    "    show_layer_names=True,\n",
    "    rankdir=\"LR\",\n",
    "    expand_nested=False,\n",
    "    dpi=96,\n",
    ")"
   ]
  },
  {
   "cell_type": "code",
   "execution_count": null,
   "id": "bdb1dfc3",
   "metadata": {},
   "outputs": [],
   "source": [
    "# Variables for determining the loss over epochs\n",
    "epochs = model_history.epoch\n",
    "loss = model_history.history[\"loss\"]\n",
    "\n",
    "# Plots the loss graph\n",
    "plt.plot(epochs, loss)\n",
    "plt.ylabel(\"Cost\")\n",
    "plt.xlabel(\"Epochs\")\n",
    "plt.title(\"Loss\")\n",
    "\n",
    "plt.tight_layout()\n",
    "\n",
    "plt.show()"
   ]
  },
  {
   "cell_type": "code",
   "execution_count": null,
   "id": "be3a255f",
   "metadata": {},
   "outputs": [],
   "source": [
    "# Variables for determining the ROC/AUC\n",
    "fpr, tpr, threshold = roc_curve(y_test, y_predict_proba)\n",
    "roc_auc = auc(fpr, tpr)\n",
    "\n",
    "# Plots the ROC and AUC graph\n",
    "plt.title(\"Receiver Operating Characteristic\")\n",
    "plt.plot(fpr, tpr, \"b\", label=\"AUC = %0.2f\" % roc_auc)\n",
    "plt.legend(loc=\"lower right\")\n",
    "plt.plot([0, 1], [0, 1], \"r--\")\n",
    "plt.xlim([0, 1])\n",
    "plt.ylim([0, 1])\n",
    "plt.ylabel(\"True Positive Rate\")\n",
    "plt.xlabel(\"False Positive Rate\")\n",
    "plt.show()"
   ]
  },
  {
   "cell_type": "code",
   "execution_count": null,
   "id": "0ec91004",
   "metadata": {},
   "outputs": [],
   "source": [
    "# Model history values\n",
    "hist_values = list(model_history.history.values())\n",
    "\n",
    "# Variables for plotting the training versus testing\n",
    "train_loss   = hist_values[0]\n",
    "train_recall = hist_values[1]\n",
    "train_auc    = hist_values[2]\n",
    "val_loss     = hist_values[3]\n",
    "val_recall   = hist_values[4]\n",
    "val_auc      = hist_values[5]\n",
    "\n",
    "# Plots the training versus testing graph\n",
    "plt.figure(figsize=(10, 8))\n",
    "plt.subplot(2, 2, (1, 2))\n",
    "plt.plot(train_loss, label=\"Training Loss\")\n",
    "plt.plot(val_loss, label=\"Validation Loss\")\n",
    "plt.xlabel(\"Epochs\")\n",
    "plt.ylabel(\"Loss\")\n",
    "plt.legend()\n",
    "\n",
    "plt.subplot(2, 2, 3)\n",
    "plt.plot(train_recall, label=\"Training Recall\")\n",
    "plt.plot(val_recall, label=\"Validation Recall\")\n",
    "plt.xlabel(\"Epochs\")\n",
    "plt.ylabel(\"Recall\")\n",
    "plt.legend()\n",
    "\n",
    "plt.subplot(2, 2, 4)\n",
    "plt.plot(train_auc, label=\"Training AUC\")\n",
    "plt.plot(val_auc, label=\"Validation AUC\")\n",
    "plt.xlabel(\"Epochs\")\n",
    "plt.ylabel(\"AUC\")\n",
    "plt.legend()\n",
    "\n",
    "plt.tight_layout()\n",
    "\n",
    "plt.show()"
   ]
  },
  {
   "cell_type": "code",
   "execution_count": null,
   "id": "769bc6e1",
   "metadata": {},
   "outputs": [],
   "source": [
    "# Evaluating performance of the standard Multi-Layer Perceptron (MLP)\n",
    "mlp_model = MLPClassifier(\n",
    "    random_state=123, max_iter=50\n",
    ")\n",
    "model_history = mlp_model.fit(\n",
    "    x_train.loc[:, ~x_train.columns.isin([x_col_features[-1]])], y_train\n",
    ")\n",
    "y_predict = mlp_model.predict(x_test.loc[:, ~x_test.columns.isin([x_col_features[-1]])])\n"
   ]
  },
  {
   "cell_type": "code",
   "execution_count": null,
   "id": "863cfb26",
   "metadata": {},
   "outputs": [],
   "source": [
    "# Defines the y-prediction probability and y-prediction arrays\n",
    "y_predict_proba = mlp_model.predict(x_test.loc[:, ~x_test.columns.isin([x_col_features[-1]])])\n",
    "y_predict = np.round(y_predict_proba)\n",
    "\n",
    "# Prints classification report\n",
    "print(classification_report(y_test, y_predict))"
   ]
  },
  {
   "cell_type": "code",
   "execution_count": null,
   "id": "e59b467d",
   "metadata": {},
   "outputs": [],
   "source": [
    "# Plots the confusion matrix\n",
    "class_report = classification_report(y_test, y_predict, output_dict=True)\n",
    "plot_confusion_matrix(\n",
    "    confusion_matrix(y_test, y_predict),\n",
    "    [\"No Heart Disease\", \"Heart Disease\"],\n",
    "    normalize=False,\n",
    "    class_results=class_report[\"weighted avg\"],\n",
    ")"
   ]
  },
  {
   "cell_type": "code",
   "execution_count": null,
   "id": "b1ff6749",
   "metadata": {},
   "outputs": [],
   "source": [
    "# Variables for determining the loss over epochs\n",
    "epochs = [i + 1 for i in range(len(model_history.loss_curve_))]\n",
    "loss = model_history.loss_curve_\n",
    "\n",
    "# Plots the loss graph\n",
    "plt.plot(epochs, loss)\n",
    "plt.ylabel(\"Cost\")\n",
    "plt.xlabel(\"Epochs\")\n",
    "plt.title(\"Loss\")\n",
    "\n",
    "plt.tight_layout()\n",
    "\n",
    "plt.show()"
   ]
  },
  {
   "cell_type": "code",
   "execution_count": null,
   "id": "e4b570e5",
   "metadata": {},
   "outputs": [],
   "source": [
    "# Variables for determining the ROC/AUC\n",
    "fpr, tpr, threshold = roc_curve(y_test, y_predict_proba)\n",
    "roc_auc = auc(fpr, tpr)\n",
    "\n",
    "# Plots the ROC and AUC graph\n",
    "plt.title(\"Receiver Operating Characteristic\")\n",
    "plt.plot(fpr, tpr, \"b\", label=\"AUC = %0.2f\" % roc_auc)\n",
    "plt.legend(loc=\"lower right\")\n",
    "plt.plot([0, 1], [0, 1], \"r--\")\n",
    "plt.xlim([0, 1])\n",
    "plt.ylim([0, 1])\n",
    "plt.ylabel(\"True Positive Rate\")\n",
    "plt.xlabel(\"False Positive Rate\")\n",
    "plt.show()"
   ]
  },
  {
   "cell_type": "markdown",
   "id": "3ae29b9e",
   "metadata": {},
   "source": [
    "# Wide and Deep Network #4"
   ]
  },
  {
   "cell_type": "code",
   "execution_count": null,
   "id": "efedc5a0",
   "metadata": {},
   "outputs": [],
   "source": [
    "# Wide and Deep Network #4 - Capture the embedding weights from the\n",
    "# deep network and perform dimensionality reduction on the output of these\n",
    "# embedding layers.\n",
    "\n",
    "# Step 1: Define data that will be used. Data is converted into numpy format.\n",
    "\n",
    "# x training data for model\n",
    "mod_x_train_cross = x_train[x_col_features[:3]].to_numpy()\n",
    "mod_x_train_categorical = x_train[categorical_features].to_numpy()\n",
    "mod_x_train_continuous = x_train[\n",
    "    continuous_features + [x_col_features[-1]]\n",
    "].to_numpy()\n",
    "\n",
    "# x testing data for model\n",
    "mod_x_test_cross = x_test[x_col_features[:3]].to_numpy()\n",
    "mod_x_test_categorical = x_test[categorical_features].to_numpy()\n",
    "mod_x_test_continuous = x_test[\n",
    "    continuous_features + [x_col_features[-1]]\n",
    "].to_numpy()\n",
    "\n",
    "# Defines final x-train and x-test variables after all layers have been\n",
    "# evaluated.\n",
    "mod_x_train = (\n",
    "    [mod_x_train_cross] + [mod_x_train_categorical] + [mod_x_train_continuous]\n",
    ")\n",
    "mod_x_test = (\n",
    "    [mod_x_test_cross] + [mod_x_test_categorical] + [mod_x_test_continuous]\n",
    ")"
   ]
  },
  {
   "cell_type": "code",
   "execution_count": null,
   "id": "c996c26f",
   "metadata": {},
   "outputs": [],
   "source": [
    "# Step 2: Define the inputs that will be used\n",
    "input_cross = Input(\n",
    "    shape=(mod_x_train_cross.shape[1],), dtype=\"int64\", name=\"inputs_wide\"\n",
    ")\n",
    "input_categorical = Input(\n",
    "    shape=(mod_x_train_categorical.shape[1],),\n",
    "    dtype=\"int64\",\n",
    "    name=\"inputs_categorical\",\n",
    ")\n",
    "input_continuous = Input(\n",
    "    shape=(mod_x_train_continuous.shape[1],),\n",
    "    dtype=\"int64\",\n",
    "    name=\"inputs_numeric\",\n",
    ")\n",
    "input_reduced_dimensions = Input(\n",
    "    shape=(mod_x_train_categorical.shape[1],),\n",
    "    dtype=\"int64\",\n",
    "    name=\"inputs_embed_dim_reduced\",\n",
    ")"
   ]
  },
  {
   "cell_type": "code",
   "execution_count": null,
   "id": "400ff919",
   "metadata": {},
   "outputs": [],
   "source": [
    "# Step 3: Define placeholder variables for data input\n",
    "\n",
    "# Defines outputs\n",
    "output_cross = []\n",
    "output_categorical = []\n",
    "output_continuous = []\n",
    "\n",
    "# Defines branches\n",
    "branch_wide = []\n",
    "branch_deep = []\n",
    "branch_final = []"
   ]
  },
  {
   "cell_type": "code",
   "execution_count": null,
   "id": "9f261013",
   "metadata": {},
   "outputs": [],
   "source": [
    "# Step 4: Add embeddings for crossed data\n",
    "\n",
    "# For cross data embeddings...\n",
    "tmp_train = mod_x_train_cross.T.tolist()\n",
    "tmp_test = mod_x_test_cross.T.tolist()\n",
    "tmp_colnames = x_col_features[: mod_x_train_cross.shape[1]]\n",
    "\n",
    "# Iterates through cross variables\n",
    "for i, (col, train_col, test_col) in enumerate(\n",
    "    zip(tmp_colnames, tmp_train, tmp_test)\n",
    "):\n",
    "    # Determines max number of categories for training and testing column.\n",
    "    n_categories_train = max(train_col)\n",
    "    n_categories_test = max(test_col)\n",
    "\n",
    "    # Assigns maximum value (e.g., number of categories)\n",
    "    n_categories = max(n_categories_train, n_categories_test) + 1\n",
    "\n",
    "    # Equivalent to branch_input[:, idx]\n",
    "    x = tf.gather(input_cross, i, axis=1)\n",
    "\n",
    "    # Equivalent to dealing with one-hot encoded integers via Embeddings\n",
    "    embedding = Embedding(\n",
    "        input_dim=n_categories,\n",
    "        output_dim=int(np.sqrt(n_categories)),\n",
    "        input_length=1,\n",
    "        name=f\"{col}_embed\",\n",
    "    )(x)\n",
    "\n",
    "    # Save output to list\n",
    "    output_cross.append(embedding)"
   ]
  },
  {
   "cell_type": "code",
   "execution_count": null,
   "id": "0ddd3b09",
   "metadata": {},
   "outputs": [],
   "source": [
    "# Step 5: Add embeddings for categorical data\n",
    "\n",
    "# For categorical embeddings...\n",
    "tmp_train = mod_x_train_categorical.T.tolist()\n",
    "tmp_test = mod_x_test_categorical.T.tolist()\n",
    "tmp_colnames = categorical_features\n",
    "\n",
    "# Iterates through categorical variables\n",
    "for i, (col, train_col, test_col) in enumerate(\n",
    "    zip(tmp_colnames, tmp_train, tmp_test)\n",
    "):\n",
    "    # Determines max number of categories for training and testing column.\n",
    "    n_categories_train = max(train_col)\n",
    "    n_categories_test = max(test_col)\n",
    "\n",
    "    # Assigns maximum value (e.g., number of categories)\n",
    "    n_categories = max(n_categories_train, n_categories_test) + 1\n",
    "\n",
    "    # Equivalent to branch_input[:, idx]\n",
    "    x = tf.gather(input_categorical, i, axis=1)\n",
    "\n",
    "    # Equivalent to dealing with one-hot encoded integers via Embeddings\n",
    "    embedding = Embedding(\n",
    "        input_dim=n_categories,\n",
    "        output_dim=int(np.sqrt(n_categories)),\n",
    "        input_length=1,\n",
    "        name=f\"{col}_embed\",\n",
    "    )(x)\n",
    "\n",
    "    # Save output to list\n",
    "    output_categorical.append(embedding)"
   ]
  },
  {
   "cell_type": "code",
   "execution_count": null,
   "id": "9e6e2e6e",
   "metadata": {},
   "outputs": [],
   "source": [
    "# Step 6: Add embeddings to wide branch. Here, the embedded weights are \n",
    "# named so that the embedding weights can be retrieved later.\n",
    "branch_cross = keras.layers.concatenate(output_cross, name=\"embed_cross\")\n",
    "branch_cross = Dense(units=20, activation=\"sigmoid\", name=\"cross_dim_reduc_1\")(\n",
    "    branch_cross\n",
    ")\n",
    "\n",
    "branch_cat = keras.layers.concatenate(output_categorical, name=\"embed_categorical\")\n",
    "branch_cat = Dense(units=20, activation=\"sigmoid\", name=\"cat_dim_reduc_1\")(\n",
    "    branch_cat\n",
    ")\n",
    "\n",
    "branch_wide = keras.layers.concatenate(\n",
    "    [branch_cross, branch_cat], name=\"concat_embeds\"\n",
    ")\n",
    "branch_wide = Dense(units=20, activation=\"sigmoid\", name=\"concat_embeds_1\")(\n",
    "    branch_wide\n",
    ")"
   ]
  },
  {
   "cell_type": "code",
   "execution_count": null,
   "id": "68a44239",
   "metadata": {},
   "outputs": [],
   "source": [
    "# Step 7: Add branch for continuous (numeric) data\n",
    "\n",
    "# For continuous features...\n",
    "# Adds dense layer to continuous input\n",
    "x_dense = Dense(units=20, activation=\"relu\", name=\"num_1\")(input_continuous)\n",
    "x_dense = Dense(units=10, activation=\"relu\", name=\"num_2\")(x_dense)\n",
    "x_dense = Dense(units=5, activation=\"relu\", name=\"num_3\")(x_dense)"
   ]
  },
  {
   "cell_type": "code",
   "execution_count": null,
   "id": "0e379721",
   "metadata": {},
   "outputs": [],
   "source": [
    "# Step 8: Add dense layer to deep branch\n",
    "branch_deep.append(x_dense)\n",
    "branch_deep.append(branch_cross)"
   ]
  },
  {
   "cell_type": "code",
   "execution_count": null,
   "id": "4359c122",
   "metadata": {},
   "outputs": [],
   "source": [
    "# Step 9: Merge the deep branches\n",
    "branch_deep = keras.layers.concatenate(branch_deep, name=\"concat_conts\")\n",
    "branch_deep = Dense(units=50, activation=\"relu\", name=\"deep1\")(branch_deep)\n",
    "branch_deep = Dense(units=25, activation=\"relu\", name=\"deep2\")(branch_deep)\n",
    "branch_deep = Dense(units=10, activation=\"relu\", name=\"deep3\")(branch_deep)"
   ]
  },
  {
   "cell_type": "code",
   "execution_count": null,
   "id": "5e7663f3",
   "metadata": {},
   "outputs": [],
   "source": [
    "# Step 10: Merge the deep and wide branches\n",
    "branch_final = keras.layers.concatenate([branch_wide, branch_deep])"
   ]
  },
  {
   "cell_type": "code",
   "execution_count": null,
   "id": "3d010508",
   "metadata": {},
   "outputs": [],
   "source": [
    "# Step 10: Add dense layer to final branch\n",
    "branch_final = Dense(units=10, activation=\"sigmoid\", name=\"combined\")(\n",
    "    branch_final\n",
    ")\n",
    "branch_final = Dense(units=1, activation=\"sigmoid\", name=\"combined_f\")(\n",
    "    branch_final\n",
    ")"
   ]
  },
  {
   "cell_type": "code",
   "execution_count": null,
   "id": "d007d330",
   "metadata": {},
   "outputs": [],
   "source": [
    "# Step 11: Build model\n",
    "model = Model(\n",
    "    inputs=[input_cross, input_categorical, input_continuous],\n",
    "    outputs=branch_final,\n",
    ")"
   ]
  },
  {
   "cell_type": "code",
   "execution_count": null,
   "id": "695b462a",
   "metadata": {},
   "outputs": [],
   "source": [
    "# Step 12: Compile model\n",
    "model.compile(\n",
    "    optimizer=\"adam\",\n",
    "    loss=\"mean_squared_error\",\n",
    "    metrics=[tf.keras.metrics.Recall(), tf.keras.metrics.AUC(from_logits=True)],\n",
    ")"
   ]
  },
  {
   "cell_type": "code",
   "execution_count": null,
   "id": "c0f14193",
   "metadata": {},
   "outputs": [],
   "source": [
    "# Prints the model summary\n",
    "model.summary()"
   ]
  },
  {
   "cell_type": "code",
   "execution_count": null,
   "id": "f301cfa6",
   "metadata": {},
   "outputs": [],
   "source": [
    "# Step 13: Fits model to training data\n",
    "model_history = model.fit(\n",
    "    mod_x_train,\n",
    "    y_train,\n",
    "    epochs=50,\n",
    "    batch_size=50,\n",
    "    validation_data=([mod_x_test], y_test),\n",
    "    verbose=1,\n",
    ")"
   ]
  },
  {
   "cell_type": "code",
   "execution_count": null,
   "id": "6ee60269",
   "metadata": {},
   "outputs": [],
   "source": [
    "# Defines the y-prediction probability and y-prediction arrays\n",
    "y_predict_proba = model.predict(mod_x_test)  # sigmoid output probabilities\n",
    "y_predict = np.round(y_predict_proba)  # round to get binary class\n",
    "\n",
    "# Prints classification report\n",
    "print(classification_report(y_test, y_predict))"
   ]
  },
  {
   "cell_type": "code",
   "execution_count": null,
   "id": "f658609c",
   "metadata": {},
   "outputs": [],
   "source": [
    "# Plots the confusion matrix\n",
    "class_report = classification_report(y_test, y_predict, output_dict=True)\n",
    "plot_confusion_matrix(\n",
    "    confusion_matrix(y_test, y_predict),\n",
    "    [\"No Heart Disease\", \"Heart Disease\"],\n",
    "    normalize=False,\n",
    "    class_results=class_report[\"weighted avg\"],\n",
    ")"
   ]
  },
  {
   "cell_type": "code",
   "execution_count": null,
   "id": "4ad4b6a7",
   "metadata": {},
   "outputs": [],
   "source": [
    "# Plots the graph\n",
    "plot_model(\n",
    "    model,\n",
    "    to_file=\"model.png\",\n",
    "    show_shapes=True,\n",
    "    show_layer_names=True,\n",
    "    rankdir=\"LR\",\n",
    "    expand_nested=False,\n",
    "    dpi=96,\n",
    ")"
   ]
  },
  {
   "cell_type": "markdown",
   "id": "41539c3c",
   "metadata": {},
   "source": [
    "# Dimensionality Reduction"
   ]
  },
  {
   "cell_type": "code",
   "execution_count": null,
   "id": "b75fa747",
   "metadata": {},
   "outputs": [],
   "source": [
    "for layer in model.layers:\n",
    "    name = layer.name\n",
    "    weights_and_bias = layer.get_weights()\n",
    "    if len(weights_and_bias) == 2:\n",
    "        weights, bias = weights_and_bias\n",
    "        print(f\"----- {name} -----\")\n",
    "        print(f\"Weights Shape: {weights.shape}\")\n",
    "        print(f\"Bias Shape: {bias.shape}\")"
   ]
  },
  {
   "cell_type": "code",
   "execution_count": null,
   "id": "de5fe554",
   "metadata": {},
   "outputs": [],
   "source": [
    "layer = model.get_layer(\"type_chest_pain_embed\")\n",
    "x_coords = layer.get_weights()[0][:, 0]\n",
    "y_coords = layer.get_weights()[0][:, 1]\n",
    "plt.scatter(x_coords, y_coords)\n",
    "for label, x, y in zip(\n",
    "    df[\"type_chest_pain\"].unique().tolist(), x_coords, y_coords\n",
    "):\n",
    "    plt.annotate(\n",
    "        label,\n",
    "        xy=(x, y),\n",
    "        xytext=(-1, 1),\n",
    "        textcoords=\"offset points\",\n",
    "        ha=\"right\",\n",
    "        va=\"bottom\",\n",
    "    )\n",
    "\n",
    "plt.show()"
   ]
  },
  {
   "cell_type": "code",
   "execution_count": null,
   "id": "45c1bed9",
   "metadata": {},
   "outputs": [],
   "source": [
    "layer = model.get_layer(\"resting_ecg_embed\")\n",
    "x_coords = layer.get_weights()[0][:, 0]\n",
    "y_coords = [1, 1, 1]\n",
    "plt.scatter(x_coords, y_coords)\n",
    "for label, x, y in zip(\n",
    "    df[\"resting_ecg\"].unique().tolist(), x_coords, y_coords\n",
    "):\n",
    "    plt.annotate(\n",
    "        label,\n",
    "        xy=(x, y),\n",
    "        xytext=(-1, 1),\n",
    "        textcoords=\"offset points\",\n",
    "        ha=\"right\",\n",
    "        va=\"bottom\",\n",
    "    )\n",
    "\n",
    "plt.show()"
   ]
  },
  {
   "cell_type": "code",
   "execution_count": null,
   "id": "089b4884",
   "metadata": {},
   "outputs": [],
   "source": [
    "plt.figure(figsize=(8, 8))\n",
    "layer = model.get_layer(\"cross_dim_reduc_1\")\n",
    "name = layer.name\n",
    "weights_and_bias = layer.get_weights()\n",
    "if len(weights_and_bias) == 2:\n",
    "    weights, bias = weights_and_bias\n",
    "    print(f\"----- {name} -----\")\n",
    "    print(f\"Weights Shape: {weights.shape}\")\n",
    "    print(f\"Bias Shape: {bias.shape}\")\n",
    "    for weight in weights:\n",
    "        plt.plot(weight, bias, 'o')\n",
    "\n",
    "plt.title(name + \" embedding weights\")\n",
    "plt.show()"
   ]
  },
  {
   "cell_type": "code",
   "execution_count": null,
   "id": "d4e37247",
   "metadata": {},
   "outputs": [],
   "source": [
    "plt.figure(figsize=(8, 8))\n",
    "layer = model.get_layer(\"cat_dim_reduc_1\")\n",
    "name = layer.name\n",
    "weights_and_bias = layer.get_weights()\n",
    "if len(weights_and_bias) == 2:\n",
    "    weights, bias = weights_and_bias\n",
    "    print(f\"----- {name} -----\")\n",
    "    print(f\"Weights Shape: {weights.shape}\")\n",
    "    print(f\"Bias Shape: {bias.shape}\")\n",
    "    for weight in weights:\n",
    "        plt.plot(weight, bias, 'o')\n",
    "\n",
    "plt.title(name + \" embedding weights\")\n",
    "plt.show()"
   ]
  },
  {
   "cell_type": "code",
   "execution_count": null,
   "id": "d6807da7",
   "metadata": {},
   "outputs": [],
   "source": [
    "plt.figure(figsize=(8, 8))\n",
    "layer = model.get_layer(\"concat_embeds_1\")\n",
    "name = layer.name\n",
    "weights_and_bias = layer.get_weights()\n",
    "if len(weights_and_bias) == 2:\n",
    "    weights, bias = weights_and_bias\n",
    "    print(f\"----- {name} -----\")\n",
    "    print(f\"Weights Shape: {weights.shape}\")\n",
    "    print(f\"Bias Shape: {bias.shape}\")\n",
    "    for weight in weights:\n",
    "        plt.plot(weight, bias, 'o')\n",
    "\n",
    "plt.title(name + \" embedding weights\")\n",
    "plt.show()"
   ]
  },
  {
   "cell_type": "markdown",
   "id": "b54ca962",
   "metadata": {},
   "source": [
    "# Conclusion"
   ]
  },
  {
   "cell_type": "markdown",
   "id": "52601ab6",
   "metadata": {},
   "source": []
  },
  {
   "cell_type": "markdown",
   "id": "d31b44e1",
   "metadata": {},
   "source": [
    "# References"
   ]
  },
  {
   "cell_type": "markdown",
   "id": "e42914f3",
   "metadata": {},
   "source": []
  },
  {
   "cell_type": "code",
   "execution_count": null,
   "id": "2df7b646",
   "metadata": {},
   "outputs": [],
   "source": []
  }
 ],
 "metadata": {
  "kernelspec": {
   "display_name": "Python 3 (ipykernel)",
   "language": "python",
   "name": "python3"
  },
  "language_info": {
   "codemirror_mode": {
    "name": "ipython",
    "version": 3
   },
   "file_extension": ".py",
   "mimetype": "text/x-python",
   "name": "python",
   "nbconvert_exporter": "python",
   "pygments_lexer": "ipython3",
   "version": "3.9.13"
  }
 },
 "nbformat": 4,
 "nbformat_minor": 5
}
