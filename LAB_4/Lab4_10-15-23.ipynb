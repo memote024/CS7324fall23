{
 "cells": [
  {
   "cell_type": "markdown",
   "id": "df703b10",
   "metadata": {},
   "source": [
    "# Lab Assignment Four: Multi-Layer Perceptron \n",
    "\n",
    "### Catherine Magee, Morgan Mote, Luv Patel\n",
    "\n",
    "In this lab, you will compare the performance of multi-layer perceptrons programmed  via your own various implementations. \n",
    "\n",
    "This report is worth 10% of the final grade. Please upload a report (one per team) with all code used, visualizations, and text in a rendered Jupyter notebook. Any visualizations that cannot be embedded in the notebook, please provide screenshots of the output. The results should be reproducible using your report. This lab project is slightly different from other reports in that you will be asked to complete more specific items."
   ]
  },
  {
   "cell_type": "markdown",
   "id": "151d28de",
   "metadata": {},
   "source": [
    "## Dataset Selection\n",
    "\n",
    "For this assignment, you will be using a specific dataset chosen by the instructor.  This is US Census data available on Kaggle, and also downloadable from the following link: https://www.dropbox.com/s/bf7i7qjftk7cmzq/acs2017_census_tract_data.csv?dl=0Links to an external site.\n",
    "\n",
    "The Kaggle description appears here: https://www.kaggle.com/muonneutrino/us-census-demographic-data/dataLinks to an external site. \n",
    "\n",
    "The classification task you will be performing is to predict, for each county, what the child poverty rate will be. You will need to convert this from regression to four levels of classification by quantizing the variable of interest. "
   ]
  },
  {
   "cell_type": "markdown",
   "id": "cd3c24cd",
   "metadata": {},
   "source": [
    "## Grading Rubric\n",
    "\n",
    "#### Load, Split, and Balance (1.5 points total)\n",
    "- [.5 points] (1) Load the data into memory and save it to a pandas data frame. Do not normalize or one-hot encode any of the features until asked to do so later in the rubric. (2) Remove any observations that having missing data. (3) Encode any string data as integers for now. (4) You have the option of keeping the \"county\" variable or removing it. Be sure to discuss why you decided to keep/remove this variable. \n",
    "\n",
    "The next two requirements will need to be completed together as they might depend on one another:\n",
    "- [.5 points] Balance the dataset so that about the same number of instances are within each class. Choose a method for balancing the dataset and explain your reasoning for selecting this method. One option is to choose quantization thresholds for the \"ChildPoverty\" variable that equally divide the data into four classes. Should balancing of the dataset be done for both the training and testing set? Explain.\n",
    "- [.5 points] Assume you are equally interested in the classification performance for each class in the dataset. Split the dataset into 80% for training and 20% for testing. There is NO NEED to split the data multiple times for this lab.\n",
    "\n",
    "- Note: You will need to one hot encode the target, but do not one hot encode the categorical data until instructed to do so in the lab. \n",
    "\n",
    "#### Pre-processing and Initial Modeling (2.5 points total)\n",
    "You will be using a two layer perceptron from class for the next few parts of the rubric. There are several versions of the two layer perceptron covered in class, with example code. When selecting an example two layer network from class be sure that you use: (1) vectorized gradient computation, (2) mini-batching, (3) cross entropy loss, and (4) proper Glorot initialization, at a minimum. There is no need to use momentum or learning rate reduction (assuming you choose a sufficiently small learning rate). It is recommended to use sigmoids throughout the network, but not required.\n",
    "- [.5 points] Use the example two-layer perceptron network from the class example and quantify performance using accuracy. Do not normalize or one-hot encode the data (not yet). Be sure that training converges by graphing the loss function versus the number of epochs. \n",
    "- [.5 points] Now (1) normalize the continuous numeric feature data. Use the example two-layer perceptron network from the class example and quantify performance using accuracy. Be sure that training converges by graphing the loss function versus the number of epochs.  \n",
    "- [.5 points] Now(1) normalize the continuous numeric feature data AND (2) one hot encode the categorical data. Use the example two-layer perceptron network from the class example and quantify performance using accuracy. Be sure that training converges by graphing the loss function versus the number of epochs. \n",
    "- [1 points] Compare the performance of the three models you just trained. Are there any meaningful differences in performance? Explain, in your own words, why these models have (or do not have) different performances.  \n",
    "Use one-hot encoding and normalization on the dataset for the remainder of this lab assignment.\n",
    "\n",
    "#### Modeling (5 points total)\n",
    "- [1 points] Add support for a third layer in the multi-layer perceptron. Add support for saving (and plotting after training is completed) the average magnitude of the gradient for each layer, for each epoch (like we did in the flipped module for back propagation). For magnitude calculation, you are free to use either the average absolute values or the L1/L2 norm.\n",
    "Quantify the performance of the model and graph the magnitudes for each layer versus the number of epochs.\n",
    "- [1 points] Repeat the previous step, adding support for a fourth layer.\n",
    "- [1 points] Repeat the previous step, adding support for a fifth layer. \n",
    "- [2 points] Implement an adaptive learning technique that was discussed in lecture and use it on the five layer network (such as AdaGrad, RMSProps, or AdaDelta). Discuss which adaptive method you chose. Compare the performance of your five layer model with and without the adaptive learning strategy. Do not use AdaM for the adaptive learning technique as it is part of the exceptional work.\n",
    "\n",
    "#### Exceptional Work (1 points total)\n",
    "- 5000 level student: You have free reign to provide additional analyses.\n",
    "- One idea (required for 7000 level students):  Implement adaptive momentum (AdaM) in the five layer neural network and quantify the performance. "
   ]
  },
  {
   "cell_type": "code",
   "execution_count": 1,
   "id": "75bc0cca",
   "metadata": {},
   "outputs": [],
   "source": [
    "# STANDARD LIBRARY IMPORTS\n",
    "import sys\n",
    "import textwrap\n",
    "from IPython.display import display, Markdown\n",
    "\n",
    "# 3RD PARTY IMPORTS\n",
    "import numpy as np\n",
    "import pandas as pd\n",
    "import matplotlib.pyplot as plt\n",
    "from sklearn.model_selection import train_test_split\n",
    "from sklearn.preprocessing import LabelEncoder, OneHotEncoder, StandardScaler\n",
    "from sklearn.metrics import accuracy_score\n",
    "from scipy.special import expit"
   ]
  },
  {
   "cell_type": "markdown",
   "id": "8ddd954d",
   "metadata": {},
   "source": [
    "## Load the Data"
   ]
  },
  {
   "cell_type": "code",
   "execution_count": 2,
   "id": "10ade586",
   "metadata": {},
   "outputs": [],
   "source": [
    "# Begin by loading the dataset into a pandas dataframe. No normalization or one-hot encoding yet.\n",
    "df = pd.read_csv(\"./acs2017_census_tract_data.csv\")"
   ]
  },
  {
   "cell_type": "markdown",
   "id": "bd34b150",
   "metadata": {},
   "source": [
    "## Remove Missing Data"
   ]
  },
  {
   "cell_type": "code",
   "execution_count": 3,
   "id": "0787de13",
   "metadata": {},
   "outputs": [
    {
     "name": "stdout",
     "output_type": "stream",
     "text": [
      "ACS 2017 Census Tract Data\n",
      "Rows: 74001\n",
      "Columns: 37\n"
     ]
    }
   ],
   "source": [
    "# First visualize the # of rows and columns so we can see what will change after the NA observations have been removed.\n",
    "rows, columns = df.shape\n",
    "print(f\"ACS 2017 Census Tract Data\\nRows: {rows}\\nColumns: {columns}\")"
   ]
  },
  {
   "cell_type": "code",
   "execution_count": 4,
   "id": "00a5c3a7",
   "metadata": {},
   "outputs": [
    {
     "data": {
      "text/markdown": [
       "### NA/NaN/Missing Data Counts\n",
       "| Feature | Missing Count |\n",
       "|---------|---------------|    \n",
       "| TractId | 0 |\n",
       "| State | 0 |\n",
       "| County | 0 |\n",
       "| TotalPop | 0 |\n",
       "| Men | 0 |\n",
       "| Women | 0 |\n",
       "| Hispanic | 696 |\n",
       "| White | 696 |\n",
       "| Black | 696 |\n",
       "| Native | 696 |\n",
       "| Asian | 696 |\n",
       "| Pacific | 696 |\n",
       "| VotingAgeCitizen | 0 |\n",
       "| Income | 1116 |\n",
       "| IncomeErr | 1116 |\n",
       "| IncomePerCap | 745 |\n",
       "| IncomePerCapErr | 745 |\n",
       "| Poverty | 842 |\n",
       "| ChildPoverty | 1110 |\n",
       "| Professional | 811 |\n",
       "| Service | 811 |\n",
       "| Office | 811 |\n",
       "| Construction | 811 |\n",
       "| Production | 811 |\n",
       "| Drive | 801 |\n",
       "| Carpool | 801 |\n",
       "| Transit | 801 |\n",
       "| Walk | 801 |\n",
       "| OtherTransp | 801 |\n",
       "| WorkAtHome | 801 |\n",
       "| MeanCommute | 946 |\n",
       "| Employed | 0 |\n",
       "| PrivateWork | 811 |\n",
       "| PublicWork | 811 |\n",
       "| SelfEmployed | 811 |\n",
       "| FamilyWork | 811 |\n",
       "| Unemployment | 810 |"
      ],
      "text/plain": [
       "<IPython.core.display.Markdown object>"
      ]
     },
     "metadata": {},
     "output_type": "display_data"
    }
   ],
   "source": [
    "# Next we will then remove any missing data then demonstrate that the missing data has been removed.\n",
    "def show_missing_counts_md():\n",
    "    na_counts = df.isna().sum()\n",
    "\n",
    "    header = textwrap.dedent(\n",
    "        \"\"\"\\\n",
    "    | Feature | Missing Count |\n",
    "    |---------|---------------|\\\n",
    "    \"\"\"\n",
    "    )\n",
    "    rows = \"\\n\".join(\n",
    "        \"| {} | {} |\".format(col, na_counts[col]) for col in na_counts.index\n",
    "    )\n",
    "    table = f\"{header}\\n{rows}\"\n",
    "\n",
    "    display(Markdown(f\"### NA/NaN/Missing Data Counts\\n{table}\"))\n",
    "\n",
    "\n",
    "show_missing_counts_md()"
   ]
  },
  {
   "cell_type": "code",
   "execution_count": 5,
   "id": "b1742761",
   "metadata": {},
   "outputs": [],
   "source": [
    "# Use Pandas' dropna method to remove the NA values from the data frame. \n",
    "# Re-assign the variable df to the dataframe instance that has the NA values removed.\n",
    "df = df.dropna()"
   ]
  },
  {
   "cell_type": "code",
   "execution_count": 6,
   "id": "fc671a90",
   "metadata": {},
   "outputs": [
    {
     "data": {
      "text/markdown": [
       "### NA/NaN/Missing Data Counts\n",
       "| Feature | Missing Count |\n",
       "|---------|---------------|    \n",
       "| TractId | 0 |\n",
       "| State | 0 |\n",
       "| County | 0 |\n",
       "| TotalPop | 0 |\n",
       "| Men | 0 |\n",
       "| Women | 0 |\n",
       "| Hispanic | 0 |\n",
       "| White | 0 |\n",
       "| Black | 0 |\n",
       "| Native | 0 |\n",
       "| Asian | 0 |\n",
       "| Pacific | 0 |\n",
       "| VotingAgeCitizen | 0 |\n",
       "| Income | 0 |\n",
       "| IncomeErr | 0 |\n",
       "| IncomePerCap | 0 |\n",
       "| IncomePerCapErr | 0 |\n",
       "| Poverty | 0 |\n",
       "| ChildPoverty | 0 |\n",
       "| Professional | 0 |\n",
       "| Service | 0 |\n",
       "| Office | 0 |\n",
       "| Construction | 0 |\n",
       "| Production | 0 |\n",
       "| Drive | 0 |\n",
       "| Carpool | 0 |\n",
       "| Transit | 0 |\n",
       "| Walk | 0 |\n",
       "| OtherTransp | 0 |\n",
       "| WorkAtHome | 0 |\n",
       "| MeanCommute | 0 |\n",
       "| Employed | 0 |\n",
       "| PrivateWork | 0 |\n",
       "| PublicWork | 0 |\n",
       "| SelfEmployed | 0 |\n",
       "| FamilyWork | 0 |\n",
       "| Unemployment | 0 |"
      ],
      "text/plain": [
       "<IPython.core.display.Markdown object>"
      ]
     },
     "metadata": {},
     "output_type": "display_data"
    }
   ],
   "source": [
    "# Show that the columns do not have any missing data in them.\n",
    "show_missing_counts_md()"
   ]
  },
  {
   "cell_type": "code",
   "execution_count": 7,
   "id": "496ef115",
   "metadata": {},
   "outputs": [
    {
     "name": "stdout",
     "output_type": "stream",
     "text": [
      "ACS 2017 Census Tract Data\n",
      "Rows: 72718\n",
      "Columns: 37\n"
     ]
    }
   ],
   "source": [
    "# Display the reduction in the # of rows in the dataframe.\n",
    "rows, columns = df.shape\n",
    "print(f\"ACS 2017 Census Tract Data\\nRows: {rows}\\nColumns: {columns}\")"
   ]
  },
  {
   "cell_type": "code",
   "execution_count": 8,
   "id": "f726eb24",
   "metadata": {},
   "outputs": [
    {
     "data": {
      "text/plain": [
       "['State', 'County']"
      ]
     },
     "execution_count": 8,
     "metadata": {},
     "output_type": "execute_result"
    }
   ],
   "source": [
    "# Identify the columns that have string data that need to be encoded.\n",
    "df.select_dtypes('object').columns.to_list()"
   ]
  },
  {
   "cell_type": "code",
   "execution_count": 9,
   "id": "e24d171a",
   "metadata": {},
   "outputs": [
    {
     "data": {
      "text/plain": [
       "array(['Alabama', 'Alaska', 'Arizona', 'Arkansas', 'California',\n",
       "       'Colorado', 'Connecticut', 'Delaware', 'District of Columbia',\n",
       "       'Florida', 'Georgia', 'Hawaii', 'Idaho', 'Illinois', 'Indiana',\n",
       "       'Iowa', 'Kansas', 'Kentucky', 'Louisiana', 'Maine', 'Maryland',\n",
       "       'Massachusetts', 'Michigan', 'Minnesota', 'Mississippi',\n",
       "       'Missouri', 'Montana', 'Nebraska', 'Nevada', 'New Hampshire',\n",
       "       'New Jersey', 'New Mexico', 'New York', 'North Carolina',\n",
       "       'North Dakota', 'Ohio', 'Oklahoma', 'Oregon', 'Pennsylvania',\n",
       "       'Rhode Island', 'South Carolina', 'South Dakota', 'Tennessee',\n",
       "       'Texas', 'Utah', 'Vermont', 'Virginia', 'Washington',\n",
       "       'West Virginia', 'Wisconsin', 'Wyoming', 'Puerto Rico'],\n",
       "      dtype=object)"
      ]
     },
     "execution_count": 9,
     "metadata": {},
     "output_type": "execute_result"
    }
   ],
   "source": [
    "# Display the string format of the 'State' column.\n",
    "df['State'].unique()"
   ]
  },
  {
   "cell_type": "code",
   "execution_count": 10,
   "id": "9bd32779",
   "metadata": {},
   "outputs": [],
   "source": [
    "# Convert the string data from both columns into an encoded value.\n",
    "encoder = LabelEncoder()\n",
    "\n",
    "df['State'] = encoder.fit_transform(df['State'])\n",
    "df[\"County\"] = encoder.fit_transform(df[\"County\"])"
   ]
  },
  {
   "cell_type": "code",
   "execution_count": 11,
   "id": "3a949961",
   "metadata": {},
   "outputs": [
    {
     "data": {
      "text/plain": [
       "array([ 0,  1,  2,  3,  4,  5,  6,  7,  8,  9, 10, 11, 12, 13, 14, 15, 16,\n",
       "       17, 18, 19, 20, 21, 22, 23, 24, 25, 26, 27, 28, 29, 30, 31, 32, 33,\n",
       "       34, 35, 36, 37, 38, 40, 41, 42, 43, 44, 45, 46, 47, 48, 49, 50, 51,\n",
       "       39])"
      ]
     },
     "execution_count": 11,
     "metadata": {},
     "output_type": "execute_result"
    }
   ],
   "source": [
    "# State values are transformed from string format to integer format.\n",
    "df['State'].unique()"
   ]
  },
  {
   "cell_type": "code",
   "execution_count": 12,
   "id": "b08d9180",
   "metadata": {},
   "outputs": [],
   "source": [
    "# PROJECT GOAL: Identify poverty rates at the county level.\n",
    "target = df['Poverty']\n",
    "features = df.drop(columns=['Poverty'])"
   ]
  },
  {
   "cell_type": "markdown",
   "id": "0085733e",
   "metadata": {},
   "source": [
    "## Balance"
   ]
  },
  {
   "cell_type": "markdown",
   "id": "c6b455b5",
   "metadata": {},
   "source": [
    "The ChildPoverty variable is a value that indicates the percentage of youths living below the poverty line. To divide the data into four classes, we decided to split the Poverty variable based on percentage ranges. \n",
    "\n",
    "- Class 1 = 0 to 33% (Indicates a very low percentage of people living under the poverty line)\n",
    "- Class 2 = 34% to 66% (Indicates a small percentage of people living under the poverty line)\n",
    "- Class 3 = 67% to 100% (Indicates a large percentage of people living under the poverty line)\n",
    "\n",
    "To ensure that the four classes were as close as possible to equal in size, the qcut function was used to bin the Poverty variable into four equally sized categories. The value_counts method was used to determine the number of observations in each category. This approach helps ensure that each category has a similar number of observations, which can help to prevent biases in the model. However, one weakness of this approach is that it assumes that the specific percentage ranges chosen are the best way to divide the data into classes, and it is possible that using different ranges could lead to a more accurate model."
   ]
  },
  {
   "cell_type": "code",
   "execution_count": 13,
   "id": "480975de",
   "metadata": {},
   "outputs": [
    {
     "data": {
      "text/plain": [
       "2    24399\n",
       "1    24273\n",
       "3    24046\n",
       "Name: Poverty, dtype: int64"
      ]
     },
     "execution_count": 13,
     "metadata": {},
     "output_type": "execute_result"
    }
   ],
   "source": [
    "# Balance the dataset before splitting the training and testing.\n",
    "# When the training/testing data is split, each split should have a similar distribution of each class.\n",
    "pd.qcut(df['Poverty'], q=3, labels=[1, 2, 3]).value_counts()"
   ]
  },
  {
   "cell_type": "code",
   "execution_count": 14,
   "id": "9e48b0db",
   "metadata": {},
   "outputs": [],
   "source": [
    "# Substitute the poverty level column with the quantized data.\n",
    "target = pd.qcut(target, q=3, labels=[1, 2, 3])"
   ]
  },
  {
   "cell_type": "markdown",
   "id": "d0ce25a5",
   "metadata": {},
   "source": [
    "## Split"
   ]
  },
  {
   "cell_type": "code",
   "execution_count": 15,
   "id": "01eeed77",
   "metadata": {},
   "outputs": [],
   "source": [
    "x_train, x_test, y_train, y_test = train_test_split(\n",
    "    features, target, train_size=0.8, stratify=target, random_state=123\n",
    ")"
   ]
  },
  {
   "cell_type": "code",
   "execution_count": 16,
   "id": "45582165",
   "metadata": {},
   "outputs": [
    {
     "name": "stdout",
     "output_type": "stream",
     "text": [
      "Training Dataset\n",
      "--------------------\n",
      "2    19519\n",
      "1    19418\n",
      "3    19237\n",
      "Name: Poverty, dtype: int64\n",
      "\n",
      "Testing Dataset\n",
      "--------------------\n",
      "2    4880\n",
      "1    4855\n",
      "3    4809\n",
      "Name: Poverty, dtype: int64\n"
     ]
    }
   ],
   "source": [
    "# Balance the target dataset before the train_test_split function is called.\n",
    "print(\"Training Dataset\\n--------------------\")\n",
    "print(y_train.value_counts())\n",
    "print(\"\\nTesting Dataset\\n--------------------\")\n",
    "print(y_test.value_counts())"
   ]
  },
  {
   "cell_type": "markdown",
   "id": "0ce2529a",
   "metadata": {},
   "source": [
    "## Pre-Processing and Initial Modeling"
   ]
  },
  {
   "cell_type": "code",
   "execution_count": 17,
   "id": "114a2d98",
   "metadata": {},
   "outputs": [],
   "source": [
    "# This variable helps to run scenarios where the focus is on the main model runs. \n",
    "# *The additional tests take a very long time to run.* \n",
    "run_additional_tests = True"
   ]
  },
  {
   "cell_type": "code",
   "execution_count": 18,
   "id": "5e905675",
   "metadata": {},
   "outputs": [],
   "source": [
    "class TwoLayerPerceptronBase(object):\n",
    "    def __init__(\n",
    "        self,\n",
    "        n_hidden                 = 30,\n",
    "        regularization_parameter = 0.0,\n",
    "        epochs                   = 500,\n",
    "        learning_rate            = 0.001,\n",
    "        random_state             = None,\n",
    "    ):\n",
    "        np.random.seed(random_state)\n",
    "        self.n_hidden          = n_hidden\n",
    "        self.l2_regularization = regularization_parameter\n",
    "        self.epochs            = epochs\n",
    "        self.learning_rate     = learning_rate\n",
    "\n",
    "    @staticmethod\n",
    "    def _encode_labels(y):\n",
    "        \"\"\"Encode labels into one-hot representation\"\"\"\n",
    "        onehot = pd.get_dummies(y).values.T\n",
    "\n",
    "        return onehot\n",
    "\n",
    "    def _initialize_weights(self):\n",
    "        \"\"\"Initialize weights with small random numbers.\"\"\"\n",
    "        W1_num_elems = (self.n_features_) * self.n_hidden\n",
    "        W1 = np.random.uniform(-1.0, 1.0, size=W1_num_elems)\n",
    "        W1 = W1.reshape(self.n_hidden, self.n_features_)  # reshape to be W\n",
    "        b1 = np.zeros((self.n_hidden, 1))\n",
    "\n",
    "        W2_num_elems = (self.n_hidden) * self.n_output_\n",
    "        W2 = np.random.uniform(-1.0, 1.0, size=W2_num_elems)\n",
    "        W2 = W2.reshape(self.n_output_, self.n_hidden)\n",
    "        b2 = np.zeros((self.n_output_, 1))\n",
    "\n",
    "        return W1, W2, b1, b2\n",
    "\n",
    "    @staticmethod\n",
    "    def _sigmoid(z):\n",
    "        \"\"\"Use scipy.special.expit to avoid overflow\"\"\"\n",
    "        # 1.0 / (1.0 + np.exp(-z))\n",
    "        return expit(z)\n",
    "\n",
    "    @staticmethod\n",
    "    def _L2_reg(lambda_, W1, W2):\n",
    "        \"\"\"Compute L2-regularization cost\"\"\"\n",
    "        # only compute for non-bias terms\n",
    "        return (lambda_) * np.sqrt(np.mean(W1**2) + np.mean(W2**2))\n",
    "\n",
    "    def _cost(self, A3, Y_enc, W1, W2):\n",
    "        \"\"\"Get the objective function value\"\"\"\n",
    "        cost = np.mean((Y_enc - A3) ** 2)\n",
    "        L2_term = self._L2_reg(self.l2_regularization, W1, W2)\n",
    "        return cost + L2_term"
   ]
  },
  {
   "cell_type": "code",
   "execution_count": 19,
   "id": "8a2da552",
   "metadata": {},
   "outputs": [],
   "source": [
    "class TwoLayerPerceptron(TwoLayerPerceptronBase):\n",
    "    def _feedforward(self, X, W1, W2, b1, b2):\n",
    "        \"\"\"Compute feedforward step\n",
    "        -----------\n",
    "        X : Input layer with original features.\n",
    "        W1: Weight matrix for input layer -> hidden layer.\n",
    "        W2: Weight matrix for hidden layer -> output layer.\n",
    "        ----------\n",
    "        a1-a3 : activations into layer (or output layer)\n",
    "        z1-z2 : layer inputs\n",
    "\n",
    "        \"\"\"\n",
    "        A1 = X.T\n",
    "        Z1 = W1 @ A1 + b1\n",
    "        A2 = self._sigmoid(Z1)\n",
    "        Z2 = W2 @ A2 + b2\n",
    "        A3 = self._sigmoid(Z2)\n",
    "        return A1, Z1, A2, Z2, A3\n",
    "\n",
    "    def _get_gradient(self, A1, A2, A3, Z1, Z2, Y_enc, W1, W2):\n",
    "        \"\"\"Compute gradient step using backpropagation.\"\"\"\n",
    "        # need to vectorize this computation!\n",
    "        # See additional code and derivation below!\n",
    "        pass\n",
    "\n",
    "    def predict(self, X):\n",
    "        \"\"\"Predict class labels\"\"\"\n",
    "        _, _, _, _, A3 = self._feedforward(\n",
    "            X, self.W1, self.W2, self.b1, self.b2\n",
    "        )\n",
    "        y_pred = np.argmax(A3, axis=0)\n",
    "        return y_pred\n",
    "\n",
    "    def fit(self, X, y, print_progress=False):\n",
    "        \"\"\"Learn weights from training data.\"\"\"\n",
    "\n",
    "        X_data, y_data = X.copy(), y.copy()\n",
    "        Y_enc = self._encode_labels(y)\n",
    "\n",
    "        # init weights and setup matrices\n",
    "        self.n_features_ = X_data.shape[1]\n",
    "        self.n_output_ = Y_enc.shape[0]\n",
    "        self.W1, self.W2, self.b1, self.b2 = self._initialize_weights()\n",
    "\n",
    "        self.cost_ = []\n",
    "        for i in range(self.epochs):\n",
    "\n",
    "            if print_progress > 0 and (i + 1) % print_progress == 0:\n",
    "                sys.stderr.write(\"\\rEpoch: %d/%d\" % (i + 1, self.epochs))\n",
    "                sys.stderr.flush()\n",
    "\n",
    "            # feedforward all instances\n",
    "            A1, Z1, A2, Z2, A3 = self._feedforward(\n",
    "                X_data, self.W1, self.W2, self.b1, self.b2\n",
    "            )\n",
    "\n",
    "            cost = self._cost(A3, Y_enc, self.W1, self.W2)\n",
    "            self.cost_.append(cost)\n",
    "\n",
    "            # compute gradient via backpropagation\n",
    "            gradW1, gradW2, gradb1, gradb2 = self._get_gradient(\n",
    "                A1    = A1,\n",
    "                A2    = A2,\n",
    "                A3    = A3,\n",
    "                Z1    = Z1,\n",
    "                Z2    = Z2,\n",
    "                Y_enc = Y_enc,\n",
    "                W1    = self.W1,\n",
    "                W2    = self.W2,\n",
    "            )\n",
    "\n",
    "            self.W1 -= self.learning_rate * gradW1\n",
    "            self.W2 -= self.learning_rate * gradW2\n",
    "            self.b1 -= self.learning_rate * gradb1\n",
    "            self.b2 -= self.learning_rate * gradb2\n",
    "\n",
    "        return self"
   ]
  },
  {
   "cell_type": "code",
   "execution_count": 20,
   "id": "87bbd9e8",
   "metadata": {},
   "outputs": [],
   "source": [
    "class TwoLayerPerceptronVectorized(TwoLayerPerceptron):\n",
    "    # just need a different gradient calculation\n",
    "    def _get_gradient(self, A1, A2, A3, Z1, Z2, Y_enc, W1, W2):\n",
    "        \"\"\"Compute gradient step using backpropagation.\"\"\"\n",
    "        # vectorized backpropagation\n",
    "        V2 = -2 * (Y_enc - A3) * A3 * (1 - A3)\n",
    "        V1 = A2 * (1 - A2) * (W2.T @ V2)\n",
    "\n",
    "        gradW2 = V2 @ A2.T\n",
    "        gradW1 = V1 @ A1.T\n",
    "\n",
    "        gradb2 = np.sum(V2, axis=1).reshape((-1, 1))\n",
    "        gradb1 = np.sum(V1, axis=1).reshape((-1, 1))\n",
    "\n",
    "        # regularize weights that are not bias terms\n",
    "        gradW1 += W1 * self.l2_regularization * 2\n",
    "        gradW2 += W2 * self.l2_regularization * 2\n",
    "\n",
    "        return gradW1, gradW2, gradb1, gradb2"
   ]
  },
  {
   "cell_type": "code",
   "execution_count": 36,
   "id": "c1e3c6e9",
   "metadata": {},
   "outputs": [
    {
     "data": {
      "image/png": "[encoded data removed]",
      "text/plain": [
       "<Figure size 640x480 with 1 Axes>"
      ]
     },
     "metadata": {},
     "output_type": "display_data"
    }
   ],
   "source": [
    "vectorized_gradient_tlp_model = TwoLayerPerceptronVectorized(\n",
    "    n_hidden                 = 50,\n",
    "    regularization_parameter = 0.1,\n",
    "    epochs                   = 30,\n",
    "    learning_rate            = 1e-4,\n",
    "    random_state             = 123,\n",
    ")\n",
    "vectorized_gradient_tlp_model.fit(x_train.to_numpy(), y_train.to_numpy())\n",
    "y_prediction = vectorized_gradient_tlp_model.predict(x_test.to_numpy())\n",
    "\n",
    "plt.plot(\n",
    "    range(len(vectorized_gradient_tlp_model.cost_)), vectorized_gradient_tlp_model.cost_\n",
    ")\n",
    "plt.ylabel(\"Cost\")\n",
    "plt.xlabel(\"Epochs\")\n",
    "plt.tight_layout()\n",
    "plt.title(f\"Accuracy: {accuracy_score(y_test, y_prediction) * 100:.4f}%\")\n",
    "plt.show()"
   ]
  },
  {
   "cell_type": "markdown",
   "id": "0ad0aacf",
   "metadata": {},
   "source": [
    "As shown in the graph above, the initial accuracy score of our two-layered perceptron was only 33%. The arguments provided to the perceptron (ie: number of hidden layers/ epochs/ c values) were varied in order to improve the accuracy measure. To achieve this, we randomized the values of these variables and repeated predictions with each change. The intention was to identify any patterns or correlations that led to higher accuracy by observing the results of these randomized values. A potential limitation of this model could be attributed to the selection of hyperparameters. While the values of hyperparameters were randomized, it is possible that the full range of potential values for these hyperparameters was unexplored. There very well might be other combinations of hyperparameters that would lead to a higher accuracy score than what was achieved with the TwoLayerPerceptronVectorized model. Another limitation of this model could be attributed to the quality and quantity of the data used for training and testing. If the dataset is not accurately representative of the population or if there are any biases in the data, the model would not be able to predict values on new data accurately. Furthermore, if the dataset is too small, the model may not even have enough data to learn patterns and recognize correlations that would improve the accuracy score. Lastly, it is crucial to consider the generalizability of the model. The model may not perform well on data from other sources or with different characteristics if the model is only trained on a specific dataset that does not have generalizable features. Due to this factor, the model must be tested on a range of different datasets in order to ensure that it is able to provide accurate predictions in varying contexts."
   ]
  },
  {
   "cell_type": "code",
   "execution_count": 37,
   "id": "c731b476",
   "metadata": {},
   "outputs": [],
   "source": [
    "#  This code tests how adjusting certain values of the model will affect the accuracy of its predictions.\n",
    "def test_optimizer_accuracy(key, value, model):\n",
    "    base_config = dict(\n",
    "        n_hidden                 = 30,\n",
    "        regularization_parameter = 0.1,\n",
    "        epochs                   = 30,\n",
    "        learning_rate            = 0.001,\n",
    "        random_state             = 123,\n",
    "    )\n",
    "    base_config[key] = value\n",
    "    lr_model = model(**base_config)\n",
    "    lr_model.fit(x_train.to_numpy(), y_train.to_numpy())\n",
    "    y_prediction = lr_model.predict(x_test.to_numpy())\n",
    "    accuracy = accuracy_score(y_prediction, y_test)\n",
    "    return accuracy\n",
    "\n",
    "\n",
    "def evenly_split_steps(start: int, stop: int, n_steps: int) -> list:\n",
    "    \"\"\"\n",
    "    Example: 20 evenly-spaced steps from 0.001 to 0.1\n",
    "    evenly_split_steps(0.001, 0.1, 20)\n",
    "    \"\"\"\n",
    "    assert stop > start\n",
    "    step = (stop - start) / (n_steps - 1)\n",
    "    return [start + i * step for i in range(n_steps)]"
   ]
  },
  {
   "cell_type": "code",
   "execution_count": 62,
   "id": "18ccad25",
   "metadata": {},
   "outputs": [
    {
     "name": "stdout",
     "output_type": "stream",
     "text": [
      "Test 1: learning_rate=0.00001 accuracy=33.38%\n",
      "Test 2: learning_rate=0.00043 accuracy=33.55%\n",
      "Test 3: learning_rate=0.00084 accuracy=33.55%\n",
      "Test 4: learning_rate=0.00126 accuracy=33.55%\n",
      "Test 5: learning_rate=0.00168 accuracy=33.55%\n",
      "Test 6: learning_rate=0.00209 accuracy=33.55%\n",
      "Test 7: learning_rate=0.00251 accuracy=33.55%\n",
      "Test 8: learning_rate=0.00292 accuracy=33.55%\n",
      "Test 9: learning_rate=0.00334 accuracy=33.55%\n",
      "Test 10: learning_rate=0.00376 accuracy=33.55%\n",
      "Test 11: learning_rate=0.00417 accuracy=33.55%\n",
      "Test 12: learning_rate=0.00459 accuracy=0.00%\n",
      "Test 13: learning_rate=0.00500 accuracy=0.00%\n",
      "Test 14: learning_rate=0.00542 accuracy=0.00%\n"
     ]
    }
   ],
   "source": [
    "# Displays the accuracy predictions for the different step values of learning rates.\n",
    "learning_rates = evenly_split_steps(1e-5, 1e-2, 25)\n",
    "max_strikes = 3\n",
    "strikes = 0\n",
    "if run_additional_tests:\n",
    "    for test_no, test_param in enumerate(learning_rates):\n",
    "        accuracy = test_optimizer_accuracy(\n",
    "            \"learning_rate\", test_param, TwoLayerPerceptronVectorized\n",
    "        )\n",
    "        if accuracy == 0:\n",
    "            if strikes == max_strikes:\n",
    "                break\n",
    "            strikes += 1\n",
    "        print(\n",
    "            f\"Test {test_no + 1}: learning_rate={test_param:.5f} accuracy={accuracy * 100:.2f}%\"\n",
    "        )"
   ]
  },
  {
   "cell_type": "markdown",
   "id": "6939ebd8",
   "metadata": {},
   "source": [
    "Changing the learning rate in the specified range of .00001 to .0001 did not significantly impact the accuracy of the model. However, the values of .00474, .00527, and .00579 led to an accuracy score of 0%. This may be a result of overfitting, where the model may have become too accurate during the training phase but is now falling short during the testing phase. Looking at the available information, 14 tests with different learning rates were conducted, and 3 of them had an accuracy of 0% which triggered the test halter. A maximum accuracy of 33.55% was achieved with the tested learning rates."
   ]
  },
  {
   "cell_type": "code",
   "execution_count": 63,
   "id": "90403b78",
   "metadata": {},
   "outputs": [
    {
     "name": "stdout",
     "output_type": "stream",
     "text": [
      "Test 1: regularization_parameter=0.00010 accuracy=33.55%\n",
      "Test 2: regularization_parameter=0.08343 accuracy=33.55%\n",
      "Test 3: regularization_parameter=0.16676 accuracy=33.55%\n",
      "Test 4: regularization_parameter=0.25009 accuracy=33.55%\n",
      "Test 5: regularization_parameter=0.33342 accuracy=33.55%\n",
      "Test 6: regularization_parameter=0.41675 accuracy=33.55%\n",
      "Test 7: regularization_parameter=0.50007 accuracy=33.55%\n",
      "Test 8: regularization_parameter=0.58340 accuracy=33.55%\n",
      "Test 9: regularization_parameter=0.66673 accuracy=33.55%\n",
      "Test 10: regularization_parameter=0.75006 accuracy=33.55%\n",
      "Test 11: regularization_parameter=0.83339 accuracy=33.55%\n",
      "Test 12: regularization_parameter=0.91672 accuracy=33.55%\n",
      "Test 13: regularization_parameter=1.00005 accuracy=33.55%\n",
      "Test 14: regularization_parameter=1.08338 accuracy=33.55%\n",
      "Test 15: regularization_parameter=1.16671 accuracy=33.55%\n",
      "Test 16: regularization_parameter=1.25004 accuracy=33.55%\n",
      "Test 17: regularization_parameter=1.33337 accuracy=33.55%\n",
      "Test 18: regularization_parameter=1.41670 accuracy=33.55%\n",
      "Test 19: regularization_parameter=1.50002 accuracy=33.55%\n",
      "Test 20: regularization_parameter=1.58335 accuracy=33.55%\n",
      "Test 21: regularization_parameter=1.66668 accuracy=33.55%\n",
      "Test 22: regularization_parameter=1.75001 accuracy=33.55%\n",
      "Test 23: regularization_parameter=1.83334 accuracy=33.55%\n",
      "Test 24: regularization_parameter=1.91667 accuracy=33.55%\n",
      "Test 25: regularization_parameter=2.00000 accuracy=33.55%\n"
     ]
    }
   ],
   "source": [
    "regularization_parameters = evenly_split_steps(1e-4, 2, 25)\n",
    "max_strikes = 3\n",
    "strikes = 0\n",
    "if run_additional_tests:\n",
    "    for test_no, test_param in enumerate(regularization_parameters):\n",
    "        accuracy = test_optimizer_accuracy(\n",
    "            \"regularization_parameter\", test_param, TwoLayerPerceptronVectorized\n",
    "        )\n",
    "        if accuracy == 0:\n",
    "            if strikes == max_strikes:\n",
    "                break\n",
    "            strikes += 1\n",
    "        print(\n",
    "            f\"Test {test_no + 1}: regularization_parameter={test_param:.5f} accuracy={accuracy * 100:.2f}%\"\n",
    "        )"
   ]
  },
  {
   "cell_type": "markdown",
   "id": "646cb906",
   "metadata": {},
   "source": [
    "The changes made to the regularization parameter within the range of .0001 to 2 have absolutely no impact on the accuracy. This observation leads to a number of possible explanations. All of the tests yielded the same accuracy of 33.55%, regardless of the regularization parameter value used. One possibility is that the model has already been well-regularized, so any adjustments to the regularization parameter has a minimal effect on the accuracy score. Another possibility is that the model is underfitting the data, so changing the regularization parameter would not enhance the model's pattern recognition. It must be considered that the model is not learning enough from the training data and therefore fails to capture the underlying relationships."
   ]
  },
  {
   "cell_type": "code",
   "execution_count": 64,
   "id": "c072bddb",
   "metadata": {},
   "outputs": [
    {
     "name": "stdout",
     "output_type": "stream",
     "text": [
      "Test 1: epochs=50 accuracy=33.55%\n",
      "Test 2: epochs=100 accuracy=33.55%\n",
      "Test 3: epochs=150 accuracy=33.55%\n",
      "Test 4: epochs=200 accuracy=33.55%\n",
      "Test 5: epochs=250 accuracy=33.55%\n"
     ]
    }
   ],
   "source": [
    "epochs = evenly_split_steps(50, 250, 5)\n",
    "max_strikes = 3\n",
    "strikes = 0\n",
    "if run_additional_tests:\n",
    "    for test_no, test_param in enumerate(epochs):\n",
    "        accuracy = test_optimizer_accuracy(\n",
    "            \"epochs\", int(test_param), TwoLayerPerceptronVectorized\n",
    "        )\n",
    "        if accuracy == 0:\n",
    "            if strikes == max_strikes:\n",
    "                break\n",
    "            strikes += 1\n",
    "        print(\n",
    "            f\"Test {test_no + 1}: epochs={int(test_param)} accuracy={accuracy * 100:.2f}%\"\n",
    "        )"
   ]
  },
  {
   "cell_type": "markdown",
   "id": "65765d0b",
   "metadata": {},
   "source": [
    "The epoch changes in the specified range of 50 to 250 do not appear to have any effect on the accuracy. This is an indication that by the time 50 epochs have been iterated through, the model has already learned all it can and converged. Due to this result, it can be hypothesized that the number of epochs can be reduced to 50 without any reduction in the model accuracy score."
   ]
  },
  {
   "cell_type": "markdown",
   "id": "15a3f562",
   "metadata": {},
   "source": [
    "## Mini-Batching"
   ]
  },
  {
   "cell_type": "code",
   "execution_count": 65,
   "id": "8dcb09b2",
   "metadata": {},
   "outputs": [],
   "source": [
    "# Divide the entire dataset into small, non-overlapping subsets (minibatches)\n",
    "class TwoLayerPerceptronMiniBatch(TwoLayerPerceptronVectorized):\n",
    "    def __init__(\n",
    "        self,\n",
    "        alpha          = 0.0,\n",
    "        decrease_const = 0.1,\n",
    "        decrease_iter  = 10,\n",
    "        shuffle        = True,\n",
    "        minibatches    = 1,\n",
    "        **kwds\n",
    "    ):\n",
    "        # add to the original initializer but keep other keywords\n",
    "        self.alpha          = alpha\n",
    "        self.decrease_const = decrease_const\n",
    "        self.decrease_iter  = decrease_iter\n",
    "        self.shuffle        = shuffle\n",
    "        self.minibatches    = minibatches\n",
    "        super().__init__(**kwds)\n",
    "\n",
    "    def fit(self, X, y, print_progress=False, XY_test=None):\n",
    "        \"\"\"Learn weights from training data. With mini-batch\"\"\"\n",
    "        X_data, y_data = X.copy(), y.copy()\n",
    "        Y_enc = self._encode_labels(y)\n",
    "\n",
    "        # init weights and setup matrices\n",
    "        self.n_features_ = X_data.shape[1]\n",
    "        self.n_output_ = Y_enc.shape[0]\n",
    "        self.W1, self.W2, self.b1, self.b2 = self._initialize_weights()\n",
    "\n",
    "        # start momentum at zero for previous updates\n",
    "        rho_W1_prev = np.zeros(self.W1.shape)  # for momentum\n",
    "        rho_W2_prev = np.zeros(self.W2.shape)  # for momentum\n",
    "\n",
    "        self.cost_ = []\n",
    "        self.score_ = []\n",
    "        # get starting acc\n",
    "        self.score_.append(accuracy_score(y_data, self.predict(X_data)))\n",
    "        # keep track of validation, if given\n",
    "        if XY_test is not None:\n",
    "            X_test = XY_test[0].copy()\n",
    "            y_test = XY_test[1].copy()\n",
    "            self.val_score_ = []\n",
    "            self.val_score_.append(accuracy_score(y_test, self.predict(X_test)))\n",
    "            self.val_cost_ = []\n",
    "\n",
    "        for i in range(self.epochs):\n",
    "            # adaptive learning rate\n",
    "            # decrease at certain epochs\n",
    "            learning_rate = self.learning_rate * self.decrease_const ** (np.floor(i / self.decrease_iter))\n",
    "\n",
    "            if print_progress > 0 and (i + 1) % print_progress == 0:\n",
    "                sys.stderr.write(\"\\rEpoch: %d/%d\" % (i + 1, self.epochs))\n",
    "                sys.stderr.flush()\n",
    "\n",
    "            if self.shuffle:\n",
    "                idx_shuffle = np.random.permutation(y_data.shape[0])\n",
    "                X_data, Y_enc, y_data = (\n",
    "                    X_data[idx_shuffle],\n",
    "                    Y_enc[:, idx_shuffle],\n",
    "                    y_data[idx_shuffle],\n",
    "                )\n",
    "\n",
    "            mini = np.array_split(range(y_data.shape[0]), self.minibatches)\n",
    "            mini_cost = []\n",
    "            for idx in mini:\n",
    "\n",
    "                # feedforward\n",
    "                A1, Z1, A2, Z2, A3 = self._feedforward(\n",
    "                    X_data[idx], self.W1, self.W2, self.b1, self.b2\n",
    "                )\n",
    "\n",
    "                cost = self._cost(A3, Y_enc[:, idx], self.W1, self.W2)\n",
    "                mini_cost.append(cost)  # this appends cost of mini-batch only\n",
    "\n",
    "                # compute gradient via backpropagation\n",
    "                gradW1, gradW2, gradb1, gradb2 = self._get_gradient(\n",
    "                    A1    = A1,\n",
    "                    A2    = A2,\n",
    "                    A3    = A3,\n",
    "                    Z1    = Z1,\n",
    "                    Z2    = Z2,\n",
    "                    Y_enc = Y_enc[:, idx],\n",
    "                    W1    = self.W1,\n",
    "                    W2    = self.W2,\n",
    "                )\n",
    "\n",
    "                # momentum calculations\n",
    "                rho_W1, rho_W2 = learning_rate * gradW1, learning_rate * gradW2\n",
    "                self.W1 -= rho_W1 + (self.alpha * rho_W1_prev)  # update with momentum\n",
    "                self.W2 -= rho_W2 + (self.alpha * rho_W2_prev)  # update with momentum\n",
    "                self.b1 -= learning_rate * gradb1\n",
    "                self.b2 -= learning_rate * gradb2\n",
    "                rho_W1_prev, rho_W2_prev = rho_W1, rho_W2\n",
    "\n",
    "            self.cost_.append(np.mean(mini_cost))\n",
    "            self.score_.append(accuracy_score(y_data, self.predict(X_data)))\n",
    "            if XY_test is not None:\n",
    "                yhat = self.predict(X_test)\n",
    "                self.val_score_.append(accuracy_score(y_test, yhat))\n",
    "\n",
    "        return self"
   ]
  },
  {
   "cell_type": "code",
   "execution_count": 66,
   "id": "0f7fae8c",
   "metadata": {},
   "outputs": [
    {
     "data": {
      "image/png": "[encoded data removed]",
      "text/plain": [
       "<Figure size 640x480 with 1 Axes>"
      ]
     },
     "metadata": {},
     "output_type": "display_data"
    }
   ],
   "source": [
    "mini_batch_tlp_model = TwoLayerPerceptronMiniBatch(\n",
    "    n_hidden                 = 50,\n",
    "    regularization_parameter = 0.8,\n",
    "    epochs                   = 25,\n",
    "    learning_rate            = 1e-5,\n",
    "    alpha                    = 0.001,\n",
    "    decrease_const           = 0.01,\n",
    "    decrease_iter            = 15,\n",
    "    minibatches              = 60,\n",
    "    shuffle                  = True,\n",
    "    random_state             = 123,\n",
    ")\n",
    "mini_batch_tlp_model.fit(\n",
    "    x_train.to_numpy(),\n",
    "    y_train.to_numpy(),\n",
    "    XY_test=(x_test.to_numpy(), y_test.to_numpy()),\n",
    ")\n",
    "y_prediction = mini_batch_tlp_model.predict(x_test.to_numpy())\n",
    "\n",
    "plt.plot(range(len(mini_batch_tlp_model.cost_)), mini_batch_tlp_model.cost_)\n",
    "plt.ylabel(\"Cost\")\n",
    "plt.xlabel(\"Epochs\")\n",
    "plt.tight_layout()\n",
    "plt.title(f\"Accuracy: {accuracy_score(y_test, y_prediction) * 100:.4f}%\")\n",
    "plt.show()"
   ]
  },
  {
   "cell_type": "markdown",
   "id": "5353df05",
   "metadata": {},
   "source": [
    "The mini-batch model used in this analysis was a TwoLayerPerceptronMiniBatch, which had 50 hidden layers and a regularization parameter of 0.8. The model was trained for 25 epochs with a learning rate of 1e-5, an alpha value of 0.001, and a decrease constant of 0.01. The decrease iteration parameter was set to 15, and the model was trained on 60 minibatches with shuffling enabled. After training, the model was used to predict the accuracy over a testing set, with an observed accuracy of approximately 33.38%. This was a slight decrease compared to the previous vectorized approach. This might be due to the fact that mini-batching could have been thrown off by a possible data bias. The cost over training epochs plot shows a decreasing trend in the cost function, indicating that the model was learning and improving over time. Overall, the mini-batch approach was not successful in improving the accuracy of the two-layer perceptron model of this dataset."
   ]
  },
  {
   "cell_type": "code",
   "execution_count": 67,
   "id": "759d8bac",
   "metadata": {},
   "outputs": [],
   "source": [
    "def print_result(model, x_train, y_train, x_test, y_test, title=\"\", color=\"red\"):\n",
    "\n",
    "    print(\"--------------------\")\n",
    "    print(title, \":\")\n",
    "    y_predict = model.predict(x_train)\n",
    "    print(\"Resubstitution Accuracy:\", accuracy_score(y_train, y_predict))\n",
    "\n",
    "    y_predict = model.predict(x_test)\n",
    "    print(\"Validation Accuracy:\", accuracy_score(y_test, y_predict))\n",
    "\n",
    "    if hasattr(model, \"val_score_\"):\n",
    "        plt.plot(\n",
    "            range(len(model.val_score_)), model.val_score_, color=color, label=title\n",
    "        )\n",
    "        plt.ylabel(\"Validation Accuracy\")\n",
    "    else:\n",
    "        plt.plot(range(len(model.score_)), model.score_, color=color, label=title)\n",
    "        plt.ylabel(\"Resub Accuracy\")\n",
    "\n",
    "    plt.xlabel(\"Epochs\")\n",
    "    plt.tight_layout()\n",
    "    plt.legend(loc=\"best\")\n",
    "    plt.grid(True)"
   ]
  },
  {
   "cell_type": "code",
   "execution_count": 68,
   "id": "cb9bf2e2",
   "metadata": {
    "scrolled": false
   },
   "outputs": [
    {
     "name": "stdout",
     "output_type": "stream",
     "text": [
      "--------------------\n",
      "MSE Loss :\n",
      "Resubstitution Accuracy: 0.3337917282634854\n",
      "Validation Accuracy: 0.3338146314631463\n"
     ]
    },
    {
     "data": {
      "image/png": "[encoded data removed]",
      "text/plain": [
       "<Figure size 640x480 with 1 Axes>"
      ]
     },
     "metadata": {},
     "output_type": "display_data"
    }
   ],
   "source": [
    "print_result(\n",
    "    mini_batch_tlp_model,\n",
    "    x_train.to_numpy(),\n",
    "    y_train.to_numpy(),\n",
    "    x_test.to_numpy(),\n",
    "    y_test.to_numpy(),\n",
    "    title=\"MSE Loss\",\n",
    "    color=\"blue\",\n",
    ")\n",
    "\n",
    "plt.show()"
   ]
  },
  {
   "cell_type": "markdown",
   "id": "f538ecd9",
   "metadata": {},
   "source": [
    "The graph displays the mean squared error loss function for the mini-batch model plotted against the number of epochs. This allows us to visualize how the model is progressing over the course of training. Initially, the loss function is high, but it sharply decreases at around 10 epochs. This could potentially mean that the model is no longer able to generalize what it has learned from training to new test data beyond this point. Further analysis shows that the resubstitution accuracy of the model is 0.3337917282634854, while the validation accuracy of the model is 0.3338146314631463. The value of these metrics indicate that the model is not performing better than random guessing. Overall, the model's accuracy is relatively low which suggests that it is not performing very well on the given dataset."
   ]
  },
  {
   "cell_type": "code",
   "execution_count": 69,
   "id": "5167aacd",
   "metadata": {},
   "outputs": [],
   "source": [
    "# Varying parameters to see how they impact the accuracy of the mini-batch model.\n",
    "def test_optimizer_accuracy_2(key, value, model):\n",
    "    base_config = dict(\n",
    "        n_hidden                 = 30,\n",
    "        regularization_parameter = 0.1,\n",
    "        epochs                   = 30,\n",
    "        learning_rate            = 0.001,\n",
    "        alpha                    = 0.001,\n",
    "        decrease_const           = 0.01,\n",
    "        decrease_iter            = 18,\n",
    "        minibatches              = 50,\n",
    "        shuffle                  = True,\n",
    "        random_state             = 123,\n",
    "    )\n",
    "    base_config[key] = value\n",
    "    lr_model = model(**base_config)\n",
    "    lr_model.fit(x_train.to_numpy(), y_train.to_numpy())\n",
    "    y_prediction = lr_model.predict(x_test.to_numpy())\n",
    "    accuracy = accuracy_score(y_prediction, y_test)\n",
    "    \n",
    "    return accuracy"
   ]
  },
  {
   "cell_type": "code",
   "execution_count": 71,
   "id": "c089a0b9",
   "metadata": {},
   "outputs": [
    {
     "name": "stdout",
     "output_type": "stream",
     "text": [
      "Test 1: learning_rate=0.00001 accuracy=33.38%\n",
      "Test 2: learning_rate=0.00043 accuracy=33.38%\n",
      "Test 3: learning_rate=0.00084 accuracy=33.38%\n",
      "Test 4: learning_rate=0.00126 accuracy=33.38%\n",
      "Test 5: learning_rate=0.00168 accuracy=33.38%\n",
      "Test 6: learning_rate=0.00209 accuracy=33.38%\n",
      "Test 7: learning_rate=0.00251 accuracy=33.38%\n",
      "Test 8: learning_rate=0.00292 accuracy=33.38%\n",
      "Test 9: learning_rate=0.00334 accuracy=33.55%\n",
      "Test 10: learning_rate=0.00376 accuracy=0.00%\n",
      "Test 11: learning_rate=0.00417 accuracy=33.55%\n",
      "Test 12: learning_rate=0.00459 accuracy=33.38%\n",
      "Test 13: learning_rate=0.00500 accuracy=33.38%\n",
      "Test 14: learning_rate=0.00542 accuracy=0.00%\n",
      "Test 15: learning_rate=0.00584 accuracy=33.38%\n",
      "Test 16: learning_rate=0.00625 accuracy=0.00%\n",
      "Test 17: learning_rate=0.00667 accuracy=33.55%\n"
     ]
    }
   ],
   "source": [
    "learning_rates = evenly_split_steps(1e-5, 1e-2, 25)\n",
    "max_strikes = 3\n",
    "strikes = 0\n",
    "if run_additional_tests:\n",
    "    for test_no, test_param in enumerate(learning_rates):\n",
    "        accuracy = test_optimizer_accuracy_2('learning_rate', test_param, TwoLayerPerceptronMiniBatch)\n",
    "        if accuracy == 0:\n",
    "            if strikes == max_strikes:\n",
    "                break\n",
    "            strikes += 1\n",
    "        print(f\"Test {test_no + 1}: learning_rate={test_param:.5f} accuracy={accuracy * 100:.2f}%\")"
   ]
  },
  {
   "cell_type": "markdown",
   "id": "e0c7d33d",
   "metadata": {},
   "source": [
    "The test_optimizer_accuracy_2 function takes in a specific parameter and its value, and then trains a model with those parameters using the model argument. The function then returns the accuracy of the model on the test data. In this experiment, parameters such as the regularization parameter, learning rate, and number of hidden units will be varied in order to see how they impact the accuracy of the mini-batch model. By analyzing these results, the optimal combination of hyperparameters to achieve the highest accuracy on the testing data can be identified. The results indicate that a learning rate of 0.00316, 0.00334, 0.00417, and 0.00667 provided the highest accuracy score of 33.55%, while the learning rates of 0.00376, 0.00542, and 0.00625 provided 0% accuracy. Out of the 17 tests conducted, 3 yeilded 0% accuracy which triggered our max_strikes counter and testing ceased before a fourth test could present with 0% accuracy."
   ]
  },
  {
   "cell_type": "code",
   "execution_count": 72,
   "id": "bd4d9640",
   "metadata": {},
   "outputs": [
    {
     "name": "stdout",
     "output_type": "stream",
     "text": [
      "Test 1: regularization_parameter=0.00010 accuracy=33.38%\n",
      "Test 2: regularization_parameter=0.08343 accuracy=33.38%\n",
      "Test 3: regularization_parameter=0.16676 accuracy=33.38%\n",
      "Test 4: regularization_parameter=0.25009 accuracy=33.38%\n",
      "Test 5: regularization_parameter=0.33342 accuracy=33.38%\n",
      "Test 6: regularization_parameter=0.41675 accuracy=33.38%\n",
      "Test 7: regularization_parameter=0.50007 accuracy=33.38%\n",
      "Test 8: regularization_parameter=0.58340 accuracy=33.38%\n",
      "Test 9: regularization_parameter=0.66673 accuracy=33.38%\n",
      "Test 10: regularization_parameter=0.75006 accuracy=33.38%\n",
      "Test 11: regularization_parameter=0.83339 accuracy=33.38%\n",
      "Test 12: regularization_parameter=0.91672 accuracy=33.38%\n",
      "Test 13: regularization_parameter=1.00005 accuracy=33.38%\n",
      "Test 14: regularization_parameter=1.08338 accuracy=33.38%\n",
      "Test 15: regularization_parameter=1.16671 accuracy=33.38%\n",
      "Test 16: regularization_parameter=1.25004 accuracy=33.38%\n",
      "Test 17: regularization_parameter=1.33337 accuracy=33.38%\n",
      "Test 18: regularization_parameter=1.41670 accuracy=33.38%\n",
      "Test 19: regularization_parameter=1.50002 accuracy=33.38%\n",
      "Test 20: regularization_parameter=1.58335 accuracy=33.38%\n",
      "Test 21: regularization_parameter=1.66668 accuracy=33.38%\n",
      "Test 22: regularization_parameter=1.75001 accuracy=33.38%\n",
      "Test 23: regularization_parameter=1.83334 accuracy=33.38%\n",
      "Test 24: regularization_parameter=1.91667 accuracy=33.38%\n",
      "Test 25: regularization_parameter=2.00000 accuracy=33.38%\n"
     ]
    }
   ],
   "source": [
    "regularization_parameters = evenly_split_steps(1e-4, 2, 25)\n",
    "max_strikes = 3\n",
    "strikes = 0\n",
    "if run_additional_tests:\n",
    "    for test_no, test_param in enumerate(regularization_parameters):\n",
    "        accuracy = test_optimizer_accuracy_2('regularization_parameter', test_param, TwoLayerPerceptronMiniBatch)\n",
    "        if accuracy == 0:\n",
    "            if strikes == max_strikes:\n",
    "                break\n",
    "            strikes += 1\n",
    "        print(f\"Test {test_no + 1}: regularization_parameter={test_param:.5f} accuracy={accuracy * 100:.2f}%\")"
   ]
  },
  {
   "cell_type": "markdown",
   "id": "f74e78c2",
   "metadata": {},
   "source": [
    "In this particular instance, the accuracy remains consistently at 33.38% for all the tested values of the regularization parameter. This suggests that the model is...\n",
    "\n",
    "# *****FORTIFY DESCRIPTION!!!!!*****"
   ]
  },
  {
   "cell_type": "code",
   "execution_count": 58,
   "id": "aed1bed7",
   "metadata": {},
   "outputs": [
    {
     "name": "stdout",
     "output_type": "stream",
     "text": [
      "Test 1: epochs=50 accuracy=33.38%\n",
      "Test 2: epochs=100 accuracy=33.38%\n",
      "Test 3: epochs=150 accuracy=33.38%\n",
      "Test 4: epochs=200 accuracy=33.38%\n",
      "Test 5: epochs=250 accuracy=33.38%\n"
     ]
    }
   ],
   "source": [
    "epochs = evenly_split_steps(50, 250, 5)\n",
    "max_strikes = 3\n",
    "strikes = 0\n",
    "if run_additional_tests:\n",
    "    for test_no, test_param in enumerate(epochs):\n",
    "        accuracy = test_optimizer_accuracy_2('epochs', int(test_param), TwoLayerPerceptronMiniBatch)\n",
    "        if accuracy == 0:\n",
    "            if strikes == max_strikes:\n",
    "                break\n",
    "            strikes += 1\n",
    "        print(f\"Test {test_no + 1}: epochs={int(test_param)} accuracy={accuracy * 100:.2f}%\")"
   ]
  },
  {
   "cell_type": "markdown",
   "id": "24b80786",
   "metadata": {},
   "source": [
    "Based on the accuracy predictions for the different epoch values, the model's accuracy percentage is a consistent 33.38% for all epoch values. \n",
    "\n",
    "# *****THIS MEANS THAT:::::*****\n",
    "\n",
    "Furthermore, a mechanism to monitor and avoid overfitting has been implemented. This mechanism sets a maximum number of 3 strikes, where if the accuracy of the model is equal to 0%, we increment the strikes counter because it indicates that the model is not learning anything new. If the strikes counter reaches the maximum number of strikes, the testing process is stopped and the assumption that the model has overfit is confirmed."
   ]
  },
  {
   "cell_type": "code",
   "execution_count": 73,
   "id": "7135ede4",
   "metadata": {},
   "outputs": [
    {
     "name": "stdout",
     "output_type": "stream",
     "text": [
      "Test 1: alpha=0.00010 accuracy=33.38%\n",
      "Test 2: alpha=0.08343 accuracy=33.38%\n",
      "Test 3: alpha=0.16676 accuracy=33.38%\n",
      "Test 4: alpha=0.25009 accuracy=33.38%\n",
      "Test 5: alpha=0.33342 accuracy=33.38%\n",
      "Test 6: alpha=0.41675 accuracy=33.38%\n",
      "Test 7: alpha=0.50007 accuracy=33.38%\n",
      "Test 8: alpha=0.58340 accuracy=33.38%\n",
      "Test 9: alpha=0.66673 accuracy=33.38%\n",
      "Test 10: alpha=0.75006 accuracy=33.38%\n",
      "Test 11: alpha=0.83339 accuracy=33.38%\n",
      "Test 12: alpha=0.91672 accuracy=33.38%\n",
      "Test 13: alpha=1.00005 accuracy=33.38%\n",
      "Test 14: alpha=1.08338 accuracy=33.38%\n",
      "Test 15: alpha=1.16671 accuracy=33.38%\n",
      "Test 16: alpha=1.25004 accuracy=33.38%\n",
      "Test 17: alpha=1.33337 accuracy=33.38%\n",
      "Test 18: alpha=1.41670 accuracy=33.38%\n",
      "Test 19: alpha=1.50002 accuracy=33.38%\n",
      "Test 20: alpha=1.58335 accuracy=33.38%\n",
      "Test 21: alpha=1.66668 accuracy=33.38%\n",
      "Test 22: alpha=1.75001 accuracy=0.00%\n",
      "Test 23: alpha=1.83334 accuracy=0.00%\n",
      "Test 24: alpha=1.91667 accuracy=0.00%\n",
      "Test 25: alpha=2.00000 accuracy=33.55%\n"
     ]
    }
   ],
   "source": [
    "alphas = evenly_split_steps(1e-4, 2, 25)\n",
    "max_strikes = 3\n",
    "strikes = 0\n",
    "if run_additional_tests:\n",
    "    for test_no, test_param in enumerate(alphas):\n",
    "        accuracy = test_optimizer_accuracy_2('alpha', test_param, TwoLayerPerceptronMiniBatch)\n",
    "        if accuracy == 0:\n",
    "            if strikes == max_strikes:\n",
    "                break\n",
    "            strikes += 1\n",
    "        print(f\"Test {test_no + 1}: alpha={test_param:.5f} accuracy={accuracy * 100:.2f}%\")"
   ]
  },
  {
   "cell_type": "markdown",
   "id": "efff0819",
   "metadata": {},
   "source": [
    "For this test, the relationship between the alpha parameter and the learning rate parameter was analyzed. The tests showed that for alpha values 1.75001, 1.83334, and 1.91667 the accuracy was 0% while all others maintained an accuracy score of 33.38% except for the alpha value 2.00000 that had a correlated accuracy score of 33.55%. From this, it can be assumed that for the alpha values of 1.75001, 1.83334, and 1.91667, the learning rate starts to cause overfitting. As described previosuly, if the accuracy was 0%, a strike was recorded, and if three strikes were to occur, testing would stop. These results suggest that when the alpha value reaches 1.75001, 1.83334, and 1.91667, overfitting occurs and the model becomes less accurate."
   ]
  },
  {
   "cell_type": "code",
   "execution_count": 74,
   "id": "364a2195",
   "metadata": {},
   "outputs": [
    {
     "name": "stdout",
     "output_type": "stream",
     "text": [
      "Test 1: decrease_const=0.00010 accuracy=33.38%\n",
      "Test 2: decrease_const=0.08343 accuracy=0.00%\n",
      "Test 3: decrease_const=0.16676 accuracy=0.00%\n",
      "Test 4: decrease_const=0.25009 accuracy=0.00%\n"
     ]
    }
   ],
   "source": [
    "decrease_consts = evenly_split_steps(1e-4, 2, 25)\n",
    "max_strikes = 3\n",
    "strikes = 0\n",
    "if run_additional_tests:\n",
    "    for test_no, test_param in enumerate(decrease_consts):\n",
    "        accuracy = test_optimizer_accuracy_2('decrease_const', test_param, TwoLayerPerceptronMiniBatch)\n",
    "        if accuracy == 0:\n",
    "            if strikes == max_strikes:\n",
    "                break\n",
    "            strikes += 1\n",
    "        print(f\"Test {test_no + 1}: decrease_const={test_param:.5f} accuracy={accuracy * 100:.2f}%\")"
   ]
  },
  {
   "cell_type": "markdown",
   "id": "6fe70ed8",
   "metadata": {},
   "source": [
    "Above are the accuracy predictions for varying values of the decrease_const parameter, which is used to control the rate at which the \"alpha\" parameter decreases during the training process. For this instance, the accuracy score decreases from 33.38% to 0% once the decrease_const parameter is increased to a value of 0.08343, and then remains at 0% accuracy for all preceeding tests until the max_strike count is reached.\n",
    "\n",
    "# *****THIS SUGGESTS THAT:::::*****\n",
    "\n",
    "In summary, the observations of this test suggest that setting the value of the decrease_const parameter within a certain threshold can lead to overfitting and loss of accuracy in the model."
   ]
  },
  {
   "cell_type": "code",
   "execution_count": 61,
   "id": "8c433cd7",
   "metadata": {},
   "outputs": [
    {
     "name": "stdout",
     "output_type": "stream",
     "text": [
      "Test 1: decrease_iter=30.00000 accuracy=33.55%\n",
      "Test 2: decrease_iter=32.00000 accuracy=33.55%\n",
      "Test 3: decrease_iter=34.00000 accuracy=33.55%\n",
      "Test 4: decrease_iter=36.00000 accuracy=33.55%\n",
      "Test 5: decrease_iter=38.00000 accuracy=33.55%\n",
      "Test 6: decrease_iter=40.00000 accuracy=33.55%\n",
      "Test 7: decrease_iter=42.00000 accuracy=33.55%\n",
      "Test 8: decrease_iter=44.00000 accuracy=33.55%\n",
      "Test 9: decrease_iter=46.00000 accuracy=33.55%\n",
      "Test 10: decrease_iter=48.00000 accuracy=33.55%\n",
      "Test 11: decrease_iter=50.00000 accuracy=33.55%\n",
      "Test 12: decrease_iter=52.00000 accuracy=33.55%\n",
      "Test 13: decrease_iter=54.00000 accuracy=33.55%\n",
      "Test 14: decrease_iter=56.00000 accuracy=33.55%\n",
      "Test 15: decrease_iter=58.00000 accuracy=33.55%\n",
      "Test 16: decrease_iter=60.00000 accuracy=33.55%\n"
     ]
    }
   ],
   "source": [
    "decrease_iters = evenly_split_steps(30, 60, 16)\n",
    "max_strikes = 3\n",
    "strikes = 0\n",
    "if run_additional_tests:\n",
    "    for test_no, test_param in enumerate(decrease_iters):\n",
    "        accuracy = test_optimizer_accuracy_2('decrease_iter', test_param, TwoLayerPerceptronMiniBatch)\n",
    "        if accuracy == 0:\n",
    "            if strikes == max_strikes:\n",
    "                break\n",
    "            strikes += 1\n",
    "        print(f\"Test {test_no + 1}: decrease_iter={test_param:.5f} accuracy={accuracy * 100:.2f}%\")"
   ]
  },
  {
   "cell_type": "markdown",
   "id": "85e8bbf5",
   "metadata": {},
   "source": [
    "The accuracy predictions for the varying step values of the decrease_iters parameter is used in conjunction with the decrease_const parameter to alter the \"alpha\" parameter throughout the model training process. The accuracy value remains constant at 33.55% as the value of decrease_iter is increased. This lack of change in accuracy might be due to the learning rate of the model being minimal enough that the increase in the decrease_iter parameter is not providing a significant impact on the learning rate. "
   ]
  },
  {
   "cell_type": "markdown",
   "id": "05a431d2",
   "metadata": {},
   "source": [
    "Overall, the mini-batch model training approach provides a powerful and effective means of training the model quickly. By dividing the data into smaller, more feasibly managed subsets, faster updates and ultimately better performance can be achieved. Some limitations of mini-batch training should be considered:\n",
    "\n",
    "- Mini-batching might lead to slower convergence, meaning that it may take more iterations for the algorithm to converge to an optimal solution due to the fact that mini-batch updates are noisy from being computed on small subsets of data.\n",
    "\n",
    "- Choosing the mini-batch size can be a challenge because the updates will be too noisy and convergence will be slow if the batch size of the data is too small. \n",
    "\n",
    "- Mini-batch training can be sensitive to hyperparameters such as the learning rate, mini-batch size, and others which can have a powerful impact on the overall training performance of the model. \n",
    "\n",
    "- Mini-batch training can be far less stable than regular batch training since the updates can be more sensitive to noise in the small subsets of the data,"
   ]
  },
  {
   "cell_type": "markdown",
   "id": "7efe9882",
   "metadata": {},
   "source": [
    "## Cross Entropy"
   ]
  },
  {
   "cell_type": "code",
   "execution_count": 75,
   "id": "4d87de1d",
   "metadata": {},
   "outputs": [],
   "source": [
    "class TwoLayerPerceptronMiniBatchCrossEntropy(TwoLayerPerceptronMiniBatch):\n",
    "    def _cost(self, A3, Y_enc, W1, W2):\n",
    "        \"\"\"Get the objective function value\"\"\"\n",
    "        cost = -np.mean(\n",
    "            np.nan_to_num((Y_enc * np.log(A3) + (1 - Y_enc) * np.log(1 - A3)))\n",
    "        )\n",
    "        L2_term = self._L2_reg(self.l2_regularization, W1, W2)\n",
    "        return cost + L2_term\n",
    "\n",
    "    def _get_gradient(self, A1, A2, A3, Z1, Z2, Y_enc, W1, W2):\n",
    "        \"\"\"Compute gradient step using backpropagation.\"\"\"\n",
    "        # vectorized backpropagation\n",
    "        V2 = A3 - Y_enc  # <- this is only line that changed\n",
    "        V1 = A2 * (1 - A2) * (W2.T @ V2)\n",
    "\n",
    "        gradW2 = V2 @ A2.T\n",
    "        gradW1 = V1 @ A1.T\n",
    "\n",
    "        gradb2 = np.sum(V2, axis=1).reshape((-1, 1))\n",
    "        gradb1 = np.sum(V1, axis=1).reshape((-1, 1))\n",
    "\n",
    "        # regularize weights that are not bias terms\n",
    "        gradW1 += W1 * self.l2_regularization\n",
    "        gradW2 += W2 * self.l2_regularization\n",
    "\n",
    "        return gradW1, gradW2, gradb1, gradb2"
   ]
  },
  {
   "cell_type": "markdown",
   "id": "b5431559",
   "metadata": {},
   "source": []
  },
  {
   "cell_type": "code",
   "execution_count": 76,
   "id": "1ae18cf7",
   "metadata": {},
   "outputs": [
    {
     "data": {
      "image/png": "[encoded data removed]",
      "text/plain": [
       "<Figure size 640x480 with 1 Axes>"
      ]
     },
     "metadata": {},
     "output_type": "display_data"
    }
   ],
   "source": [
    "cross_entropy_tlp_model = TwoLayerPerceptronMiniBatchCrossEntropy(\n",
    "    n_hidden                 = 50,\n",
    "    regularization_parameter = 0.8,\n",
    "    epochs                   = 25,\n",
    "    learning_rate            = 1e-5,\n",
    "    alpha                    = 0.001,\n",
    "    decrease_const           = 0.01,\n",
    "    decrease_iter            = 15,\n",
    "    minibatches              = 60,\n",
    "    shuffle                  = True,\n",
    "    random_state             = 123,\n",
    ")\n",
    "cross_entropy_tlp_model.fit(\n",
    "    x_train.to_numpy(),\n",
    "    y_train.to_numpy(),\n",
    "    XY_test=(x_test.to_numpy(), y_test.to_numpy()),\n",
    ")\n",
    "y_prediction = cross_entropy_tlp_model.predict(x_test.to_numpy())\n",
    "\n",
    "plt.plot(range(len(cross_entropy_tlp_model.cost_)), cross_entropy_tlp_model.cost_)\n",
    "plt.ylabel(\"Cost\")\n",
    "plt.xlabel(\"Epochs\")\n",
    "plt.tight_layout()\n",
    "plt.title(f\"Accuracy: {accuracy_score(y_test, y_prediction) * 100:.4f}%\")\n",
    "plt.show()"
   ]
  },
  {
   "cell_type": "markdown",
   "id": "6f08ff02",
   "metadata": {},
   "source": []
  },
  {
   "cell_type": "code",
   "execution_count": 77,
   "id": "0e0b9bfa",
   "metadata": {},
   "outputs": [
    {
     "name": "stdout",
     "output_type": "stream",
     "text": [
      "--------------------\n",
      "MSE Loss :\n",
      "Resubstitution Accuracy: 0.3337917282634854\n",
      "Validation Accuracy: 0.3338146314631463\n",
      "--------------------\n",
      "Cross Entropy Loss :\n",
      "Resubstitution Accuracy: 0.3337917282634854\n",
      "Validation Accuracy: 0.3338146314631463\n"
     ]
    },
    {
     "data": {
      "image/png": "[encoded data removed]",
      "text/plain": [
       "<Figure size 640x480 with 1 Axes>"
      ]
     },
     "metadata": {},
     "output_type": "display_data"
    }
   ],
   "source": [
    "print_result(\n",
    "    mini_batch_tlp_model,\n",
    "    x_train.to_numpy(),\n",
    "    y_train.to_numpy(),\n",
    "    x_test.to_numpy(),\n",
    "    y_test.to_numpy(),\n",
    "    title=\"MSE Loss\",\n",
    "    color=\"red\",\n",
    ")\n",
    "\n",
    "print_result(\n",
    "    cross_entropy_tlp_model,\n",
    "    x_train.to_numpy(),\n",
    "    y_train.to_numpy(),\n",
    "    x_test.to_numpy(),\n",
    "    y_test.to_numpy(),\n",
    "    title=\"Cross Entropy Loss\",\n",
    "    color=\"green\",\n",
    ")\n",
    "\n",
    "plt.show()"
   ]
  },
  {
   "cell_type": "markdown",
   "id": "4e806e6c",
   "metadata": {},
   "source": []
  },
  {
   "cell_type": "code",
   "execution_count": 78,
   "id": "5121d9cd",
   "metadata": {},
   "outputs": [
    {
     "name": "stdout",
     "output_type": "stream",
     "text": [
      "Test 1: learning_rate=0.00001 accuracy=33.38%\n",
      "Test 2: learning_rate=0.00043 accuracy=33.38%\n",
      "Test 3: learning_rate=0.00084 accuracy=33.38%\n",
      "Test 4: learning_rate=0.00126 accuracy=0.00%\n",
      "Test 5: learning_rate=0.00168 accuracy=0.00%\n",
      "Test 6: learning_rate=0.00209 accuracy=0.00%\n"
     ]
    }
   ],
   "source": [
    "learning_rates = evenly_split_steps(1e-5, 1e-2, 25)\n",
    "max_strikes = 3\n",
    "strikes = 0\n",
    "if run_additional_tests:\n",
    "    for test_no, test_param in enumerate(learning_rates):\n",
    "        accuracy = test_optimizer_accuracy_2(\n",
    "            \"learning_rate\", test_param, TwoLayerPerceptronMiniBatchCrossEntropy\n",
    "        )\n",
    "        if accuracy == 0:\n",
    "            if strikes == max_strikes:\n",
    "                break\n",
    "            strikes += 1\n",
    "        print(\n",
    "            f\"Test {test_no + 1}: learning_rate={test_param:.5f} accuracy={accuracy * 100:.2f}%\"\n",
    "        )"
   ]
  },
  {
   "cell_type": "markdown",
   "id": "55ab7c16",
   "metadata": {},
   "source": []
  },
  {
   "cell_type": "code",
   "execution_count": 79,
   "id": "71760b93",
   "metadata": {},
   "outputs": [
    {
     "name": "stdout",
     "output_type": "stream",
     "text": [
      "Test 1: regularization_parameter=0.00010 accuracy=33.38%\n",
      "Test 2: regularization_parameter=0.08343 accuracy=33.38%\n",
      "Test 3: regularization_parameter=0.16676 accuracy=33.38%\n",
      "Test 4: regularization_parameter=0.25009 accuracy=33.38%\n",
      "Test 5: regularization_parameter=0.33342 accuracy=33.38%\n",
      "Test 6: regularization_parameter=0.41675 accuracy=33.38%\n",
      "Test 7: regularization_parameter=0.50007 accuracy=33.38%\n",
      "Test 8: regularization_parameter=0.58340 accuracy=33.38%\n",
      "Test 9: regularization_parameter=0.66673 accuracy=33.38%\n",
      "Test 10: regularization_parameter=0.75006 accuracy=33.38%\n",
      "Test 11: regularization_parameter=0.83339 accuracy=33.38%\n",
      "Test 12: regularization_parameter=0.91672 accuracy=33.38%\n",
      "Test 13: regularization_parameter=1.00005 accuracy=33.38%\n",
      "Test 14: regularization_parameter=1.08338 accuracy=33.38%\n",
      "Test 15: regularization_parameter=1.16671 accuracy=33.38%\n",
      "Test 16: regularization_parameter=1.25004 accuracy=33.38%\n",
      "Test 17: regularization_parameter=1.33337 accuracy=33.38%\n",
      "Test 18: regularization_parameter=1.41670 accuracy=33.38%\n",
      "Test 19: regularization_parameter=1.50002 accuracy=33.38%\n",
      "Test 20: regularization_parameter=1.58335 accuracy=33.38%\n",
      "Test 21: regularization_parameter=1.66668 accuracy=33.38%\n",
      "Test 22: regularization_parameter=1.75001 accuracy=33.38%\n",
      "Test 23: regularization_parameter=1.83334 accuracy=33.38%\n",
      "Test 24: regularization_parameter=1.91667 accuracy=33.38%\n",
      "Test 25: regularization_parameter=2.00000 accuracy=33.38%\n"
     ]
    }
   ],
   "source": [
    "regularization_parameters = evenly_split_steps(1e-4, 2, 25)\n",
    "max_strikes = 3\n",
    "strikes = 0\n",
    "if run_additional_tests:\n",
    "    for test_no, test_param in enumerate(regularization_parameters):\n",
    "        accuracy = test_optimizer_accuracy_2(\n",
    "            \"regularization_parameter\", test_param, TwoLayerPerceptronMiniBatchCrossEntropy\n",
    "        )\n",
    "        if accuracy == 0:\n",
    "            if strikes == max_strikes:\n",
    "                break\n",
    "            strikes += 1\n",
    "        print(\n",
    "            f\"Test {test_no + 1}: regularization_parameter={test_param:.5f} accuracy={accuracy * 100:.2f}%\"\n",
    "        )"
   ]
  },
  {
   "cell_type": "markdown",
   "id": "73fdd33d",
   "metadata": {},
   "source": []
  },
  {
   "cell_type": "code",
   "execution_count": 80,
   "id": "30fe67f8",
   "metadata": {},
   "outputs": [
    {
     "name": "stdout",
     "output_type": "stream",
     "text": [
      "Test 1: epochs=50 accuracy=33.38%\n",
      "Test 2: epochs=100 accuracy=33.38%\n",
      "Test 3: epochs=150 accuracy=33.38%\n",
      "Test 4: epochs=200 accuracy=33.38%\n",
      "Test 5: epochs=250 accuracy=33.38%\n"
     ]
    }
   ],
   "source": [
    "epochs = evenly_split_steps(50, 250, 5)\n",
    "max_strikes = 3\n",
    "strikes = 0\n",
    "if run_additional_tests:\n",
    "    for test_no, test_param in enumerate(epochs):\n",
    "        accuracy = test_optimizer_accuracy_2('epochs', int(test_param), TwoLayerPerceptronMiniBatchCrossEntropy)\n",
    "        if accuracy == 0:\n",
    "            if strikes == max_strikes:\n",
    "                break\n",
    "            strikes += 1\n",
    "        print(f\"Test {test_no + 1}: epochs={int(test_param)} accuracy={accuracy * 100:.2f}%\")"
   ]
  },
  {
   "cell_type": "markdown",
   "id": "a626eba5",
   "metadata": {},
   "source": []
  },
  {
   "cell_type": "code",
   "execution_count": 81,
   "id": "41d31b78",
   "metadata": {},
   "outputs": [
    {
     "name": "stdout",
     "output_type": "stream",
     "text": [
      "Test 1: alpha=0.00010 accuracy=33.38%\n",
      "Test 2: alpha=0.08343 accuracy=33.38%\n",
      "Test 3: alpha=0.16676 accuracy=33.38%\n",
      "Test 4: alpha=0.25009 accuracy=0.00%\n",
      "Test 5: alpha=0.33342 accuracy=0.00%\n",
      "Test 6: alpha=0.41675 accuracy=0.00%\n"
     ]
    }
   ],
   "source": [
    "alphas = evenly_split_steps(1e-4, 2, 25)\n",
    "max_strikes = 3\n",
    "strikes = 0\n",
    "if run_additional_tests:\n",
    "    for test_no, test_param in enumerate(alphas):\n",
    "        accuracy = test_optimizer_accuracy_2(\n",
    "            \"alpha\", test_param, TwoLayerPerceptronMiniBatchCrossEntropy\n",
    "        )\n",
    "        if accuracy == 0:\n",
    "            if strikes == max_strikes:\n",
    "                break\n",
    "            strikes += 1\n",
    "        print(f\"Test {test_no + 1}: alpha={test_param:.5f} accuracy={accuracy * 100:.2f}%\")"
   ]
  },
  {
   "cell_type": "markdown",
   "id": "32295bd2",
   "metadata": {},
   "source": []
  },
  {
   "cell_type": "code",
   "execution_count": 82,
   "id": "23df080b",
   "metadata": {},
   "outputs": [
    {
     "name": "stdout",
     "output_type": "stream",
     "text": [
      "Test 1: decrease_const=0.00010 accuracy=33.55%\n",
      "Test 2: decrease_const=0.08343 accuracy=0.00%\n",
      "Test 3: decrease_const=0.16676 accuracy=33.55%\n",
      "Test 4: decrease_const=0.25009 accuracy=33.55%\n",
      "Test 5: decrease_const=0.33342 accuracy=33.55%\n",
      "Test 6: decrease_const=0.41675 accuracy=33.55%\n",
      "Test 7: decrease_const=0.50007 accuracy=33.38%\n",
      "Test 8: decrease_const=0.58340 accuracy=33.38%\n",
      "Test 9: decrease_const=0.66673 accuracy=33.55%\n",
      "Test 10: decrease_const=0.75006 accuracy=0.00%\n",
      "Test 11: decrease_const=0.83339 accuracy=33.38%\n",
      "Test 12: decrease_const=0.91672 accuracy=33.38%\n",
      "Test 13: decrease_const=1.00005 accuracy=33.38%\n",
      "Test 14: decrease_const=1.08338 accuracy=33.38%\n",
      "Test 15: decrease_const=1.16671 accuracy=0.00%\n"
     ]
    }
   ],
   "source": [
    "decrease_consts = evenly_split_steps(1e-4, 2, 25)\n",
    "max_strikes = 3\n",
    "strikes = 0\n",
    "if run_additional_tests:\n",
    "    for test_no, test_param in enumerate(decrease_consts):\n",
    "        accuracy = test_optimizer_accuracy_2(\n",
    "            \"decrease_const\", test_param, TwoLayerPerceptronMiniBatchCrossEntropy\n",
    "        )\n",
    "        if accuracy == 0:\n",
    "            if strikes == max_strikes:\n",
    "                break\n",
    "            strikes += 1\n",
    "        print(\n",
    "            f\"Test {test_no + 1}: decrease_const={test_param:.5f} accuracy={accuracy * 100:.2f}%\"\n",
    "        )"
   ]
  },
  {
   "cell_type": "markdown",
   "id": "79b243f2",
   "metadata": {},
   "source": []
  },
  {
   "cell_type": "markdown",
   "id": "d5ebf266",
   "metadata": {},
   "source": [
    "## Glorot Initialization"
   ]
  },
  {
   "cell_type": "code",
   "execution_count": null,
   "id": "157870ae",
   "metadata": {},
   "outputs": [],
   "source": []
  },
  {
   "cell_type": "markdown",
   "id": "1212a938",
   "metadata": {},
   "source": [
    "## Vectorized Gradient (After Normalization and One-Hot Encoding)"
   ]
  },
  {
   "cell_type": "code",
   "execution_count": null,
   "id": "134a56c1",
   "metadata": {},
   "outputs": [],
   "source": []
  },
  {
   "cell_type": "markdown",
   "id": "bb0c376e",
   "metadata": {},
   "source": [
    "## Mini Batch (After Normalization and One-Hot Encoding)"
   ]
  },
  {
   "cell_type": "code",
   "execution_count": null,
   "id": "5a4f6c9a",
   "metadata": {},
   "outputs": [],
   "source": []
  },
  {
   "cell_type": "markdown",
   "id": "b38d7619",
   "metadata": {},
   "source": [
    "## Cross Entropy (After Normalization and One-Hot Encoding)"
   ]
  },
  {
   "cell_type": "code",
   "execution_count": null,
   "id": "ef2abd75",
   "metadata": {},
   "outputs": [],
   "source": []
  },
  {
   "cell_type": "markdown",
   "id": "55fb8cca",
   "metadata": {},
   "source": [
    "## Glorot (After Normalization and One-Hot Encoding)"
   ]
  },
  {
   "cell_type": "code",
   "execution_count": null,
   "id": "a9a0db97",
   "metadata": {},
   "outputs": [],
   "source": []
  },
  {
   "cell_type": "markdown",
   "id": "8c88518f",
   "metadata": {},
   "source": [
    "## Implement Adaptive Momentum (AdaM)"
   ]
  },
  {
   "cell_type": "code",
   "execution_count": null,
   "id": "30a7fafa",
   "metadata": {},
   "outputs": [],
   "source": []
  },
  {
   "cell_type": "markdown",
   "id": "58109638",
   "metadata": {},
   "source": [
    "## Conclusion"
   ]
  }
 ],
 "metadata": {
  "kernelspec": {
   "display_name": "Python 3 (ipykernel)",
   "language": "python",
   "name": "python3"
  },
  "language_info": {
   "codemirror_mode": {
    "name": "ipython",
    "version": 3
   },
   "file_extension": ".py",
   "mimetype": "text/x-python",
   "name": "python",
   "nbconvert_exporter": "python",
   "pygments_lexer": "ipython3",
   "version": "3.9.13"
  }
 },
 "nbformat": 4,
 "nbformat_minor": 5
}
