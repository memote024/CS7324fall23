{
 "cells": [
  {
   "cell_type": "markdown",
   "id": "2c790553",
   "metadata": {},
   "source": [
    "# Lab 1 - Exploring Table Data\n",
    "\n",
    "## Catherine Magee, Morgan Mote, Luv Patel\n",
    "\n",
    "### We are using the following database: tx_census_data.csv"
   ]
  },
  {
   "cell_type": "markdown",
   "id": "2d7e5437",
   "metadata": {},
   "source": [
    "### Buisness Understanding \n",
    "\n",
    "This exploratory analysis focuses on COVID 19 data pulled from the Google Cloud Public Datasets Program. More Specifically, this dataset focuses on a census report in Texas that was collected during the pandemic in 2021. The purpose of this dataset is to discover which counties in Texas are at highest risk for positive COVID 19 cases. \n",
    "\n",
    "This analysis is essential to flattening the curve or slowing the spread of postive COVID 19 cases because it surfaces not only the counties that are at the highest risk but also which demographic in that county needs the most assistance. Therefore this analysis can provide useful information to third parties such as hospitals in their distribution of personal protective equipment (PPE) such as masks. \n",
    "\n",
    "\n",
    " ***************Answer this when further along in project ************************************************************         \n",
    "Once you begin modeling, how well would your prediction algorithm need to perform to be considered useful to these third parties?\n",
    "Be specific and use your own words to describe the aspects of the data."
   ]
  },
  {
   "cell_type": "markdown",
   "id": "98332bcb",
   "metadata": {},
   "source": [
    "### Data Understanding \n",
    "\n",
    "#### Loading the Dataset"
   ]
  },
  {
   "cell_type": "code",
   "execution_count": 2,
   "id": "49cd77e9",
   "metadata": {},
   "outputs": [],
   "source": [
    "import pandas as pd\n",
    "\n",
    "# Here we removed the first column as it provided no relevant data to our analysis. \n",
    "dataset = pd.read_csv(\"tx_census_data.csv\", usecols=['county_name', 'date', 'confirmed_cases', \n",
    "                                                     'deaths', 'total_pop', 'male_pop', 'female_pop', 'median_income', \n",
    "                                                     'median_rent', 'poverty', 'employed_pop', 'unemployed_pop', \n",
    "                                                     'worked_at_home', 'walked_to_work'])"
   ]
  },
  {
   "cell_type": "markdown",
   "id": "768cac92",
   "metadata": {},
   "source": [
    "### Data Types \n",
    "\n",
    " In order to decide the correct types for our features it was important to first divide them into qualitative (categorical) and quantitative (numerical).                                                                                          \n",
    "\n",
    "The quantitative features are \"confirmed_cases\", \"deaths\", \"total_pop\", \"male_pop\", \"female_pop\", \"median_income\", \"median_rent\", \"poverty\", \"employed_pop\", \"unemployed_pop\", \"worked_at_home\", \"walked to work\". The qualitative features are \"county_name\" and \"date\". \n",
    "    \n",
    "Next we decided to divide the values into discrete vs continuous for the quantitative features and nominal vs ordinal for the qualitative features.  In doing this we ensure that we select the best data types for our datasets features. \n",
    "    \n",
    "For the quantitative features in our dataset we decided that \"confirmed_cases\", \"deaths\" were discrete counts. Next we decided that \"total_pop\", \"male_pop\", \"female_pop\", \"median_income\", \"median_rent\", \"poverty\", \"employed_pop\", \"unemployed_pop\", \"worked_at_home\", \"walked_to_work\" are continous to support their float formatting in the original dataset. Lastly, for the qualitative features in our dataset we decided \"county_name\" is nominal and \"date\" is ordinal. \n",
    "\n"
   ]
  },
  {
   "cell_type": "markdown",
   "id": "7a887ab9",
   "metadata": {},
   "source": [
    "##### Below you can see the data types for each column in the dataset we will be exploring. "
   ]
  },
  {
   "cell_type": "code",
   "execution_count": 8,
   "id": "f053d4d7",
   "metadata": {},
   "outputs": [
    {
     "name": "stdout",
     "output_type": "stream",
     "text": [
      "county_fips_code      int64\n",
      "county_name          object\n",
      "date                 object\n",
      "confirmed_cases       int64\n",
      "deaths                int64\n",
      "total_pop           float64\n",
      "male_pop            float64\n",
      "female_pop          float64\n",
      "median_income       float64\n",
      "median_rent         float64\n",
      "poverty             float64\n",
      "employed_pop        float64\n",
      "unemployed_pop      float64\n",
      "worked_at_home      float64\n",
      "walked_to_work      float64\n",
      "dtype: object\n"
     ]
    }
   ],
   "source": [
    "dataset[\"date\"] = pd.to_datetime(dataset[\"date\"])\n",
    "\n",
    "print(dataset.dtypes)"
   ]
  },
  {
   "cell_type": "markdown",
   "id": "09d32a75",
   "metadata": {},
   "source": [
    "##### Below you can see a table of the relevant features in the dataset and their explanation. \n"
   ]
  },
  {
   "cell_type": "markdown",
   "id": "652dde1a",
   "metadata": {},
   "source": [
    "|Feature|Description|\n",
    "|-------|-----------|\n",
    "|county_name|Name of each county|\n",
    "|date|Date the data was collected|\n",
    "|confirmed_cases|Total confirmed COVID 19 cases in the county|\n",
    "|deaths|Total deaths by COVID 19 in the county|\n",
    "|total_pop|Total population in the county|\n",
    "|female_pop| Total female population in the county|\n",
    "|male_pop| Total male population in the county|\n",
    "|median_income|Middle income value of the county|\n",
    "|median_rent| Middle rent value for the county|\n",
    "|poverty|Total county citizens living below the poverty line|\n",
    "|employed_pop|Total population reported to be employed at the time of data collection|\n",
    "|unemployed_pop|Total population reported to be unemployed at the time of data collection|\n",
    "|worked_at_home|Total population reported to work from home at the time of data collection|\n",
    "|walked_to_work|Total population reported to walk to work at the time of data collection|"
   ]
  },
  {
   "cell_type": "markdown",
   "id": "aa88b0dc",
   "metadata": {},
   "source": [
    "#### Verifying Data Quality"
   ]
  },
  {
   "cell_type": "markdown",
   "id": "b840c78c",
   "metadata": {},
   "source": [
    "##### Is there any missing data? "
   ]
  },
  {
   "cell_type": "code",
   "execution_count": 10,
   "id": "d612d354",
   "metadata": {},
   "outputs": [
    {
     "name": "stdout",
     "output_type": "stream",
     "text": [
      "These are the columns with missing data![]\n"
     ]
    }
   ],
   "source": [
    "print(\"These are the columns with missing data!\" + str(dataset.columns[dataset.isnull().any()].tolist()))"
   ]
  },
  {
   "cell_type": "code",
   "execution_count": null,
   "id": "2ecb306a",
   "metadata": {},
   "outputs": [],
   "source": []
  }
 ],
 "metadata": {
  "kernelspec": {
   "display_name": "Python 3 (ipykernel)",
   "language": "python",
   "name": "python3"
  },
  "language_info": {
   "codemirror_mode": {
    "name": "ipython",
    "version": 3
   },
   "file_extension": ".py",
   "mimetype": "text/x-python",
   "name": "python",
   "nbconvert_exporter": "python",
   "pygments_lexer": "ipython3",
   "version": "3.10.9"
  }
 },
 "nbformat": 4,
 "nbformat_minor": 5
}
